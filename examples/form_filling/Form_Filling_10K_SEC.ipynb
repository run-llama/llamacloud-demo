{
 "cells": [
  {
   "cell_type": "markdown",
   "metadata": {},
   "source": [
    "<a href=\"https://colab.research.google.com/github/run-llama/llamacloud-demo/blob/main/examples/form_filling/Form_Filling_10K_SEC.ipynb\" target=\"_parent\"><img src=\"https://colab.research.google.com/assets/colab-badge.svg\" alt=\"Open In Colab\"/></a>"
   ]
  },
  {
   "cell_type": "markdown",
   "metadata": {
    "id": "ekwt1OowP1tY"
   },
   "source": [
    "# Form Filling using LlamaCloud and LlamaParse\n",
    "\n",
    "Form filling is a common use case we frequently encounter while working with our customers.\n",
    "\n",
    "Our customers often index documents on our enterprise platform, LlamaCloud, and want to fill in details within a document based on the information from the indexed documents.\n",
    "\n",
    "To demonstrate this use case, we’ve indexed MSFT, AMZN, APPL 10K SEC filings 2021, and 2022. Using this indexed data, the next step is to fill the necessary details in excel file `sec_10k_analysis_form_filling.xlsx`.\n",
    "\n",
    "**NOTE**: Before proceeding further, you need to create an index using the 10-K SEC filings for Microsoft (MST), Amazon (AMZN), and Apple (APPL) from the years 2021 and 2022 on [LlamaCloud](https://cloud.llamaindex.ai/)."
   ]
  },
  {
   "cell_type": "markdown",
   "metadata": {
    "id": "8hvFVJbaQB6F"
   },
   "source": [
    "### Installation"
   ]
  },
  {
   "cell_type": "code",
   "execution_count": null,
   "metadata": {
    "id": "MGVelKh0PRyk"
   },
   "outputs": [],
   "source": [
    "# !pip install llama-index llama-parse llama-index-indices-managed-llama-cloud"
   ]
  },
  {
   "cell_type": "code",
   "execution_count": 1,
   "metadata": {
    "id": "lPpL2tckOubb"
   },
   "outputs": [],
   "source": [
    "from typing import List\n",
    "from pydantic import BaseModel\n",
    "import os\n",
    "import json\n",
    "import csv\n",
    "\n",
    "from llama_parse import LlamaParse\n",
    "from llama_index.core.schema import Document\n",
    "from llama_index.llms.openai import OpenAI\n",
    "\n",
    "import nest_asyncio\n",
    "\n",
    "nest_asyncio.apply()"
   ]
  },
  {
   "cell_type": "markdown",
   "metadata": {
    "id": "poJ-43_jQE8e"
   },
   "source": [
    "### Setup API Keys"
   ]
  },
  {
   "cell_type": "code",
   "execution_count": null,
   "metadata": {
    "id": "vTTIAsrcOubc"
   },
   "outputs": [],
   "source": [
    "os.environ['LLAMA_CLOUD_API_KEY'] = 'llx-...' # Get it from https://cloud.llamaindex.ai/api-key\n",
    "\n",
    "os.environ['OPENAI_API_KEY'] = 'sk-...' # Get it from https://platform.openai.com/api-keys"
   ]
  },
  {
   "cell_type": "markdown",
   "metadata": {
    "id": "eDXH6D26QHq6"
   },
   "source": [
    "### Setup LLM"
   ]
  },
  {
   "cell_type": "code",
   "execution_count": 2,
   "metadata": {
    "id": "wu7KKoBYOubd"
   },
   "outputs": [],
   "source": [
    "llm = OpenAI(model='gpt-4o-mini')"
   ]
  },
  {
   "cell_type": "markdown",
   "metadata": {
    "id": "-eE8k3jSQJJb"
   },
   "source": [
    "### Parse the Form Filling File"
   ]
  },
  {
   "cell_type": "code",
   "execution_count": 3,
   "metadata": {
    "id": "MZP0DaG4Oubd"
   },
   "outputs": [],
   "source": [
    "def parse_file(file_path: str) -> List[Document]:\n",
    "    llama_parse = LlamaParse(\n",
    "        api_key=os.environ['LLAMA_CLOUD_API_KEY'],\n",
    "        result_type='markdown',\n",
    "    )\n",
    "\n",
    "    result = llama_parse.load_data(\n",
    "        file_path,\n",
    "    )\n",
    "    return result"
   ]
  },
  {
   "cell_type": "code",
   "execution_count": 5,
   "metadata": {
    "colab": {
     "base_uri": "https://localhost:8080/"
    },
    "id": "VnrYoT17Oubd",
    "outputId": "8d7ebac6-fc8e-4524-c422-daa3a259bd41"
   },
   "outputs": [
    {
     "name": "stdout",
     "output_type": "stream",
     "text": [
      "Started parsing the file under job_id ba44b8f0-5fed-461a-a117-88f0a786dc11\n"
     ]
    }
   ],
   "source": [
    "documents = parse_file('data/sec_10k_analysis_form_filling.xlsx')"
   ]
  },
  {
   "cell_type": "code",
   "execution_count": 6,
   "metadata": {
    "colab": {
     "base_uri": "https://localhost:8080/"
    },
    "id": "wpgQJfXeOube",
    "outputId": "79cf23a4-d638-4be0-aba6-67228d687113"
   },
   "outputs": [
    {
     "name": "stdout",
     "output_type": "stream",
     "text": [
      "|Parameter                            |2021         |                |            |2022         |                |            |\n",
      "|-------------------------------------|-------------|----------------|------------|-------------|----------------|------------|\n",
      "|                                     |Amazon (AMZN)|Microsoft (MSFT)|Apple (AAPL)|Amazon (AMZN)|Microsoft (MSFT)|Apple (AAPL)|\n",
      "|1. Revenue                           |             |                |            |             |                |            |\n",
      "|2. Net Income                        |             |                |            |             |                |            |\n",
      "|3. Earnings Per Share (EPS)          |             |                |            |             |                |            |\n",
      "|4. EBITDA                            |             |                |            |             |                |            |\n",
      "|5. Free Cash Flow                    |             |                |            |             |                |            |\n",
      "|6. Return on Equity (ROE)            |             |                |            |             |                |            |\n",
      "|7. Return on Assets (ROA)            |             |                |            |             |                |            |\n",
      "|8. Debt-to-Equity Ratio              |             |                |            |             |                |            |\n",
      "|9. Current Ratio                     |             |                |            |             |                |            |\n",
      "|10. Gross Margin                     |             |                |            |             |                |            |\n",
      "|11. Operating Margin                 |             |                |            |             |                |            |\n",
      "|12. Net Profit Margin                |             |                |            |             |                |            |\n",
      "|13. Inventory Turnover               |             |                |            |             |                |            |\n",
      "|14. Accounts Receivable Turnover     |             |                |            |             |                |            |\n",
      "|15. Capital Expenditures             |             |                |            |             |                |            |\n",
      "|16. Research and Development Expenses|             |                |            |             |                |            |\n",
      "|17. Market Cap                       |             |                |            |             |                |            |\n",
      "|18. Price-to-Earnings (P/E) Ratio    |             |                |            |             |                |            |\n",
      "|19. Dividend Yield                   |             |                |            |             |                |            |\n",
      "|20. Year-over-Year Growth Rate       |             |                |            |             |                |            |\n",
      "\n"
     ]
    }
   ],
   "source": [
    "print(documents[0].text)"
   ]
  },
  {
   "cell_type": "code",
   "execution_count": 7,
   "metadata": {
    "id": "1FISgTZdOube"
   },
   "outputs": [],
   "source": [
    "text = documents[0].text"
   ]
  },
  {
   "cell_type": "markdown",
   "metadata": {
    "id": "sFFuIJmsQrUI"
   },
   "source": [
    "### Structured Extraction"
   ]
  },
  {
   "cell_type": "code",
   "execution_count": 8,
   "metadata": {
    "id": "m_Ovr3jmOube"
   },
   "outputs": [],
   "source": [
    "prompt = f\"\"\"\n",
    "You are an AI assistant specializing in financial analysis. You've been given an Excel spreadsheet containing financial data for multiple companies. Your task is to extract and structure this information in a clear, organized format.\n",
    "\n",
    "The Excel sheet contains the following:\n",
    "1. Multiple companies (rows)\n",
    "2. Year (columns)\n",
    "3. Various financial parameters (sub-columns)\n",
    "\n",
    "Input Excel data:\n",
    "{text}\n",
    "\n",
    "Please present the extracted and structured information in a clear, easy-to-read format.\n",
    "\"\"\""
   ]
  },
  {
   "cell_type": "code",
   "execution_count": 9,
   "metadata": {
    "id": "AhXHCFBYOubf"
   },
   "outputs": [],
   "source": [
    "class CompanyParameters(BaseModel):\n",
    "    \"\"\"Data model for an sec filing analysis.\"\"\"\n",
    "\n",
    "    Companies: List[str]\n",
    "    FinancialParameters: List[str]\n",
    "    Years: List[str]"
   ]
  },
  {
   "cell_type": "code",
   "execution_count": 10,
   "metadata": {
    "id": "rjW7uHI3Oubf"
   },
   "outputs": [],
   "source": [
    "from llama_index.core.llms import ChatMessage\n",
    "\n",
    "sllm = llm.as_structured_llm(output_cls=CompanyParameters)\n",
    "input_msg = ChatMessage.from_str(prompt)"
   ]
  },
  {
   "cell_type": "code",
   "execution_count": 11,
   "metadata": {
    "id": "LnYMyMpJOubf"
   },
   "outputs": [],
   "source": [
    "output = sllm.chat([input_msg])"
   ]
  },
  {
   "cell_type": "code",
   "execution_count": 12,
   "metadata": {
    "id": "5ATeOurwOubf"
   },
   "outputs": [],
   "source": [
    "output_obj = output.raw"
   ]
  },
  {
   "cell_type": "code",
   "execution_count": 13,
   "metadata": {
    "colab": {
     "base_uri": "https://localhost:8080/"
    },
    "id": "g_IzwVE7Oubg",
    "outputId": "cb701344-092d-4dda-a7d8-d8750f33d4a3"
   },
   "outputs": [
    {
     "data": {
      "text/plain": [
       "CompanyParameters(Companies=['Amazon (AMZN)', 'Microsoft (MSFT)', 'Apple (AAPL)'], FinancialParameters=['Revenue', 'Net Income', 'Earnings Per Share (EPS)', 'EBITDA', 'Free Cash Flow', 'Return on Equity (ROE)', 'Return on Assets (ROA)', 'Debt-to-Equity Ratio', 'Current Ratio', 'Gross Margin', 'Operating Margin', 'Net Profit Margin', 'Inventory Turnover', 'Accounts Receivable Turnover', 'Capital Expenditures', 'Research and Development Expenses', 'Market Cap', 'Price-to-Earnings (P/E) Ratio', 'Dividend Yield', 'Year-over-Year Growth Rate'], Years=['2021', '2022'])"
      ]
     },
     "execution_count": 13,
     "metadata": {},
     "output_type": "execute_result"
    }
   ],
   "source": [
    "output_obj"
   ]
  },
  {
   "cell_type": "markdown",
   "metadata": {
    "id": "VChYP0uUQweE"
   },
   "source": [
    "You can check list of companies, financial parameters and years in the structured format."
   ]
  },
  {
   "cell_type": "markdown",
   "metadata": {
    "id": "kQ_hNb6gQ4Ec"
   },
   "source": [
    "### Connect To LlamaCloud Index."
   ]
  },
  {
   "cell_type": "code",
   "execution_count": null,
   "metadata": {
    "id": "CoLU09TVOubg"
   },
   "outputs": [],
   "source": [
    "from llama_index.indices.managed.llama_cloud import LlamaCloudIndex\n",
    "\n",
    "index = LlamaCloudIndex(\n",
    "  name=\"AMZN_MSFT_APPL_2021_2022\",\n",
    "  project_name=\"Default\",\n",
    "  organization_id=\"c2086254-1398-4ee0-acb4-a6ae35d8d947\",\n",
    "  api_key=os.environ['LLAMA_CLOUD_API_KEY'],\n",
    ")"
   ]
  },
  {
   "cell_type": "code",
   "execution_count": null,
   "metadata": {
    "id": "CT87ymfJOubg"
   },
   "outputs": [],
   "source": [
    "query_engine = index.as_query_engine(\n",
    "    dense_similarity_top_k=10,\n",
    "    sparse_similarity_top_k=10,\n",
    "    alpha=0.5,\n",
    "    enable_reranking=True,\n",
    "    rerank_top_n=5,\n",
    ")"
   ]
  },
  {
   "cell_type": "markdown",
   "metadata": {
    "id": "nr57Qd2xQ8JV"
   },
   "source": [
    "### Generate Answers\n",
    "\n",
    "for all financial parameters, companies and years."
   ]
  },
  {
   "cell_type": "code",
   "execution_count": null,
   "metadata": {
    "id": "cBHPAr9OOubg"
   },
   "outputs": [],
   "source": [
    "from tqdm import tqdm\n",
    "def generate_answers(companies: List[str], financial_parameters: List[str], years: List[str]) -> List[str]:\n",
    "    companies_financial_parameters_answers = {}\n",
    "\n",
    "    for year in years:\n",
    "        companies_financial_parameters_answers[year] = {}\n",
    "        for company in companies:\n",
    "            companies_financial_parameters_answers[year][company] = {}\n",
    "            for financial_parameter in tqdm(financial_parameters):\n",
    "                query = f\"what is the {financial_parameter} of {company} for the year {year}?. Don't be verbose. Provide 1-5 words answers for mathematical values. If you are unable to provide answer, output as NA.\"\n",
    "                answer = str(query_engine.query(query))\n",
    "                companies_financial_parameters_answers[year][company][financial_parameter] = answer\n",
    "\n",
    "    return companies_financial_parameters_answers"
   ]
  },
  {
   "cell_type": "code",
   "execution_count": null,
   "metadata": {
    "id": "fW6c6MhNOubg"
   },
   "outputs": [],
   "source": [
    "companies = output_obj.Companies\n",
    "financial_parameters = output_obj.FinancialParameters\n",
    "years = output_obj.Years"
   ]
  },
  {
   "cell_type": "code",
   "execution_count": null,
   "metadata": {
    "colab": {
     "base_uri": "https://localhost:8080/"
    },
    "id": "Ij9AlfpGOubg",
    "outputId": "d7e2f16b-3e6f-46d0-e12c-3669e8c61577"
   },
   "outputs": [
    {
     "name": "stderr",
     "output_type": "stream",
     "text": [
      "100%|██████████| 20/20 [00:32<00:00,  1.61s/it]\n",
      "100%|██████████| 20/20 [00:26<00:00,  1.34s/it]\n",
      "100%|██████████| 20/20 [00:27<00:00,  1.40s/it]\n",
      "100%|██████████| 20/20 [00:36<00:00,  1.85s/it]\n",
      "100%|██████████| 20/20 [00:27<00:00,  1.36s/it]\n",
      "100%|██████████| 20/20 [00:26<00:00,  1.32s/it]\n"
     ]
    }
   ],
   "source": [
    "answers = generate_answers(companies, financial_parameters, years)"
   ]
  },
  {
   "cell_type": "code",
   "execution_count": null,
   "metadata": {
    "colab": {
     "base_uri": "https://localhost:8080/"
    },
    "id": "MMLkJpx9Oubg",
    "outputId": "d6814af4-bc82-4898-a1ee-dedd8267fa8d"
   },
   "outputs": [
    {
     "data": {
      "text/plain": [
       "{'2021': {'Amazon (AMZN)': {'Revenue': '469,822 million',\n",
       "   'Net Income': '33,364',\n",
       "   'Earnings Per Share (EPS)': '64.81',\n",
       "   'EBITDA': '24,879',\n",
       "   'Free Cash Flow': '-$11,569',\n",
       "   'Return on Equity (ROE)': '22.9%',\n",
       "   'Return on Assets (ROA)': '5.9%',\n",
       "   'Debt-to-Equity Ratio': '0.63',\n",
       "   'Current Ratio': '1.02',\n",
       "   'Gross Margin': '41.0%',\n",
       "   'Operating Margin': '13.7%',\n",
       "   'Net Profit Margin': '6.8%',\n",
       "   'Inventory Turnover': '4.8 times',\n",
       "   'Accounts Receivable Turnover': '5.6 times',\n",
       "   'Capital Expenditures': '58.3 billion',\n",
       "   'Research and Development Expenses': 'Not significant',\n",
       "   'Market Cap': '$1.66 trillion',\n",
       "   'Price-to-Earnings (P/E) Ratio': '73.6',\n",
       "   'Dividend Yield': 'NA',\n",
       "   'Year-over-Year Growth Rate': '22%'},\n",
       "  'Microsoft (MSFT)': {'Revenue': '$168,088 million',\n",
       "   'Net Income': '$61,271 million',\n",
       "   'Earnings Per Share (EPS)': '8.05',\n",
       "   'EBITDA': '$ 76,632 million',\n",
       "   'Free Cash Flow': '28.7 billion',\n",
       "   'Return on Equity (ROE)': '27.4%',\n",
       "   'Return on Assets (ROA)': '10.9%',\n",
       "   'Debt-to-Equity Ratio': '0.30',\n",
       "   'Current Ratio': '1.79',\n",
       "   'Gross Margin': '$115.9 billion',\n",
       "   'Operating Margin': '32%',\n",
       "   'Net Profit Margin': '19.7%',\n",
       "   'Inventory Turnover': '2.5 times',\n",
       "   'Accounts Receivable Turnover': '7.5 times',\n",
       "   'Capital Expenditures': '$9.5 billion',\n",
       "   'Research and Development Expenses': '20,716 million',\n",
       "   'Market Cap': '$2.5 trillion',\n",
       "   'Price-to-Earnings (P/E) Ratio': '34.5',\n",
       "   'Dividend Yield': '1. 0.8%',\n",
       "   'Year-over-Year Growth Rate': '18%'},\n",
       "  'Apple (AAPL)': {'Revenue': '$365.817 billion',\n",
       "   'Net Income': '94,680 million',\n",
       "   'Earnings Per Share (EPS)': '5.61',\n",
       "   'EBITDA': '19,863',\n",
       "   'Free Cash Flow': '$ 73,000',\n",
       "   'Return on Equity (ROE)': '21.9%',\n",
       "   'Return on Assets (ROA)': '5.1%',\n",
       "   'Debt-to-Equity Ratio': '0.93',\n",
       "   'Current Ratio': '1.12',\n",
       "   'Gross Margin': '$152,836 million',\n",
       "   'Operating Margin': '44.7%',\n",
       "   'Net Profit Margin': '21.7%',\n",
       "   'Inventory Turnover': 'Not available',\n",
       "   'Accounts Receivable Turnover': '6.2 times',\n",
       "   'Capital Expenditures': '$9,000 million',\n",
       "   'Research and Development Expenses': '$21,914 million',\n",
       "   'Market Cap': '$2.46 trillion',\n",
       "   'Price-to-Earnings (P/E) Ratio': '28.11',\n",
       "   'Dividend Yield': '1. 0.0065',\n",
       "   'Year-over-Year Growth Rate': '33%'}},\n",
       " '2022': {'Amazon (AMZN)': {'Revenue': '513,983',\n",
       "   'Net Income': '(2,722)',\n",
       "   'Earnings Per Share (EPS)': '9.70',\n",
       "   'EBITDA': '$15,432 million',\n",
       "   'Free Cash Flow': '$-11,569 million',\n",
       "   'Return on Equity (ROE)': '8.4%',\n",
       "   'Return on Assets (ROA)': '6.9%',\n",
       "   'Debt-to-Equity Ratio': '1.39',\n",
       "   'Current Ratio': '1.1',\n",
       "   'Gross Margin': 'NA',\n",
       "   'Operating Margin': '16.9%',\n",
       "   'Net Profit Margin': 'NA',\n",
       "   'Inventory Turnover': 'NA',\n",
       "   'Accounts Receivable Turnover': '6.4 times',\n",
       "   'Capital Expenditures': '$58.3 billion',\n",
       "   'Research and Development Expenses': '$73,213 million',\n",
       "   'Market Cap': '$1.47 trillion',\n",
       "   'Price-to-Earnings (P/E) Ratio': 'NA',\n",
       "   'Dividend Yield': 'NA',\n",
       "   'Year-over-Year Growth Rate': '13%'},\n",
       "  'Microsoft (MSFT)': {'Revenue': '$198,270 million',\n",
       "   'Net Income': '72,738',\n",
       "   'Earnings Per Share (EPS)': '9.65',\n",
       "   'EBITDA': '$107.895 billion',\n",
       "   'Free Cash Flow': '$58.7 billion',\n",
       "   'Return on Equity (ROE)': '38.7%',\n",
       "   'Return on Assets (ROA)': '9.99%',\n",
       "   'Debt-to-Equity Ratio': '0.59',\n",
       "   'Current Ratio': '1.78',\n",
       "   'Gross Margin': '$135.620 billion',\n",
       "   'Operating Margin': '19%',\n",
       "   'Net Profit Margin': '19%',\n",
       "   'Inventory Turnover': '3.4 times',\n",
       "   'Accounts Receivable Turnover': '6.1 times',\n",
       "   'Capital Expenditures': '$8.5 billion',\n",
       "   'Research and Development Expenses': '$24,512 million',\n",
       "   'Market Cap': '$1.87 trillion',\n",
       "   'Price-to-Earnings (P/E) Ratio': '38.6',\n",
       "   'Dividend Yield': '2.0%',\n",
       "   'Year-over-Year Growth Rate': '18%'},\n",
       "  'Apple (AAPL)': {'Revenue': '394,328 million',\n",
       "   'Net Income': '99,803',\n",
       "   'Earnings Per Share (EPS)': '6.15',\n",
       "   'EBITDA': '$145,787 million',\n",
       "   'Free Cash Flow': '$ 88,531',\n",
       "   'Return on Equity (ROE)': '13.15%',\n",
       "   'Return on Assets (ROA)': '6.7%',\n",
       "   'Debt-to-Equity Ratio': '0.68',\n",
       "   'Current Ratio': '2.78',\n",
       "   'Gross Margin': '$170,782 million',\n",
       "   'Operating Margin': '37.9%',\n",
       "   'Net Profit Margin': '21.9%',\n",
       "   'Inventory Turnover': '1. 6.87',\n",
       "   'Accounts Receivable Turnover': '6.0 times',\n",
       "   'Capital Expenditures': '$42,117 million',\n",
       "   'Research and Development Expenses': '$26,251 million',\n",
       "   'Market Cap': '$2.9 trillion',\n",
       "   'Price-to-Earnings (P/E) Ratio': '24.6',\n",
       "   'Dividend Yield': '0.0054',\n",
       "   'Year-over-Year Growth Rate': '8%'}}}"
      ]
     },
     "execution_count": 22,
     "metadata": {},
     "output_type": "execute_result"
    }
   ],
   "source": [
    "answers"
   ]
  },
  {
   "cell_type": "code",
   "execution_count": 15,
   "metadata": {},
   "outputs": [],
   "source": [
    "answers = json.loads(\"\"\"\\\n",
    "{'2021': {'Amazon (AMZN)': {'Revenue': '469,822 million',\n",
    "   'Net Income': '33,364',\n",
    "   'Earnings Per Share (EPS)': '64.81',\n",
    "   'EBITDA': '24,879',\n",
    "   'Free Cash Flow': '-$11,569',\n",
    "   'Return on Equity (ROE)': '22.9%',\n",
    "   'Return on Assets (ROA)': '5.9%',\n",
    "   'Debt-to-Equity Ratio': '0.63',\n",
    "   'Current Ratio': '1.02',\n",
    "   'Gross Margin': '41.0%',\n",
    "   'Operating Margin': '13.7%',\n",
    "   'Net Profit Margin': '6.8%',\n",
    "   'Inventory Turnover': '4.8 times',\n",
    "   'Accounts Receivable Turnover': '5.6 times',\n",
    "   'Capital Expenditures': '58.3 billion',\n",
    "   'Research and Development Expenses': 'Not significant',\n",
    "   'Market Cap': '$1.66 trillion',\n",
    "   'Price-to-Earnings (P/E) Ratio': '73.6',\n",
    "   'Dividend Yield': 'NA',\n",
    "   'Year-over-Year Growth Rate': '22%'},\n",
    "  'Microsoft (MSFT)': {'Revenue': '$168,088 million',\n",
    "   'Net Income': '$61,271 million',\n",
    "   'Earnings Per Share (EPS)': '8.05',\n",
    "   'EBITDA': '$ 76,632 million',\n",
    "   'Free Cash Flow': '28.7 billion',\n",
    "   'Return on Equity (ROE)': '27.4%',\n",
    "   'Return on Assets (ROA)': '10.9%',\n",
    "   'Debt-to-Equity Ratio': '0.30',\n",
    "   'Current Ratio': '1.79',\n",
    "   'Gross Margin': '$115.9 billion',\n",
    "   'Operating Margin': '32%',\n",
    "   'Net Profit Margin': '19.7%',\n",
    "   'Inventory Turnover': '2.5 times',\n",
    "   'Accounts Receivable Turnover': '7.5 times',\n",
    "   'Capital Expenditures': '$9.5 billion',\n",
    "   'Research and Development Expenses': '20,716 million',\n",
    "   'Market Cap': '$2.5 trillion',\n",
    "   'Price-to-Earnings (P/E) Ratio': '34.5',\n",
    "   'Dividend Yield': '1. 0.8%',\n",
    "   'Year-over-Year Growth Rate': '18%'},\n",
    "  'Apple (AAPL)': {'Revenue': '$365.817 billion',\n",
    "   'Net Income': '94,680 million',\n",
    "   'Earnings Per Share (EPS)': '5.61',\n",
    "   'EBITDA': '19,863',\n",
    "   'Free Cash Flow': '$ 73,000',\n",
    "   'Return on Equity (ROE)': '21.9%',\n",
    "   'Return on Assets (ROA)': '5.1%',\n",
    "   'Debt-to-Equity Ratio': '0.93',\n",
    "   'Current Ratio': '1.12',\n",
    "   'Gross Margin': '$152,836 million',\n",
    "   'Operating Margin': '44.7%',\n",
    "   'Net Profit Margin': '21.7%',\n",
    "   'Inventory Turnover': 'Not available',\n",
    "   'Accounts Receivable Turnover': '6.2 times',\n",
    "   'Capital Expenditures': '$9,000 million',\n",
    "   'Research and Development Expenses': '$21,914 million',\n",
    "   'Market Cap': '$2.46 trillion',\n",
    "   'Price-to-Earnings (P/E) Ratio': '28.11',\n",
    "   'Dividend Yield': '1. 0.0065',\n",
    "   'Year-over-Year Growth Rate': '33%'}},\n",
    " '2022': {'Amazon (AMZN)': {'Revenue': '513,983',\n",
    "   'Net Income': '(2,722)',\n",
    "   'Earnings Per Share (EPS)': '9.70',\n",
    "   'EBITDA': '$15,432 million',\n",
    "   'Free Cash Flow': '$-11,569 million',\n",
    "   'Return on Equity (ROE)': '8.4%',\n",
    "   'Return on Assets (ROA)': '6.9%',\n",
    "   'Debt-to-Equity Ratio': '1.39',\n",
    "   'Current Ratio': '1.1',\n",
    "   'Gross Margin': 'NA',\n",
    "   'Operating Margin': '16.9%',\n",
    "   'Net Profit Margin': 'NA',\n",
    "   'Inventory Turnover': 'NA',\n",
    "   'Accounts Receivable Turnover': '6.4 times',\n",
    "   'Capital Expenditures': '$58.3 billion',\n",
    "   'Research and Development Expenses': '$73,213 million',\n",
    "   'Market Cap': '$1.47 trillion',\n",
    "   'Price-to-Earnings (P/E) Ratio': 'NA',\n",
    "   'Dividend Yield': 'NA',\n",
    "   'Year-over-Year Growth Rate': '13%'},\n",
    "  'Microsoft (MSFT)': {'Revenue': '$198,270 million',\n",
    "   'Net Income': '72,738',\n",
    "   'Earnings Per Share (EPS)': '9.65',\n",
    "   'EBITDA': '$107.895 billion',\n",
    "   'Free Cash Flow': '$58.7 billion',\n",
    "   'Return on Equity (ROE)': '38.7%',\n",
    "   'Return on Assets (ROA)': '9.99%',\n",
    "   'Debt-to-Equity Ratio': '0.59',\n",
    "   'Current Ratio': '1.78',\n",
    "   'Gross Margin': '$135.620 billion',\n",
    "   'Operating Margin': '19%',\n",
    "   'Net Profit Margin': '19%',\n",
    "   'Inventory Turnover': '3.4 times',\n",
    "   'Accounts Receivable Turnover': '6.1 times',\n",
    "   'Capital Expenditures': '$8.5 billion',\n",
    "   'Research and Development Expenses': '$24,512 million',\n",
    "   'Market Cap': '$1.87 trillion',\n",
    "   'Price-to-Earnings (P/E) Ratio': '38.6',\n",
    "   'Dividend Yield': '2.0%',\n",
    "   'Year-over-Year Growth Rate': '18%'},\n",
    "  'Apple (AAPL)': {'Revenue': '394,328 million',\n",
    "   'Net Income': '99,803',\n",
    "   'Earnings Per Share (EPS)': '6.15',\n",
    "   'EBITDA': '$145,787 million',\n",
    "   'Free Cash Flow': '$ 88,531',\n",
    "   'Return on Equity (ROE)': '13.15%',\n",
    "   'Return on Assets (ROA)': '6.7%',\n",
    "   'Debt-to-Equity Ratio': '0.68',\n",
    "   'Current Ratio': '2.78',\n",
    "   'Gross Margin': '$170,782 million',\n",
    "   'Operating Margin': '37.9%',\n",
    "   'Net Profit Margin': '21.9%',\n",
    "   'Inventory Turnover': '1. 6.87',\n",
    "   'Accounts Receivable Turnover': '6.0 times',\n",
    "   'Capital Expenditures': '$42,117 million',\n",
    "   'Research and Development Expenses': '$26,251 million',\n",
    "   'Market Cap': '$2.9 trillion',\n",
    "   'Price-to-Earnings (P/E) Ratio': '24.6',\n",
    "   'Dividend Yield': '0.0054',\n",
    "   'Year-over-Year Growth Rate': '8%'}}}\n",
    "\"\"\".replace(\"\\'\", \"\\\"\"))"
   ]
  },
  {
   "cell_type": "markdown",
   "metadata": {
    "id": "4VNrAhm4nZHG"
   },
   "source": [
    "### Write data to `csv`"
   ]
  },
  {
   "cell_type": "code",
   "execution_count": 17,
   "metadata": {
    "id": "7iaHR_Tahl5P"
   },
   "outputs": [],
   "source": [
    "def flatten_dict(d, parent_key='', sep='_'):\n",
    "    items = []\n",
    "    for k, v in d.items():\n",
    "        new_key = f\"{parent_key}{sep}{k}\" if parent_key else k\n",
    "        if isinstance(v, dict):\n",
    "            items.extend(flatten_dict(v, new_key, sep=sep).items())\n",
    "        else:\n",
    "            items.append((new_key, v))\n",
    "    return dict(items)\n",
    "\n",
    "# Flatten the nested dictionary\n",
    "flat_data = []\n",
    "for year, companies in answers.items():\n",
    "    for company, metrics in companies.items():\n",
    "        flat_metrics = flatten_dict(metrics)\n",
    "        flat_metrics['Year'] = year\n",
    "        flat_metrics['Company'] = company\n",
    "        flat_data.append(flat_metrics)\n",
    "\n",
    "# Get all unique keys to use as CSV headers\n",
    "headers = set()\n",
    "for item in flat_data:\n",
    "    headers.update(item.keys())\n",
    "\n",
    "# Sort headers to ensure 'Year' and 'Company' come first\n",
    "headers = sorted(headers)\n",
    "headers.insert(0, headers.pop(headers.index('Year')))\n",
    "headers.insert(1, headers.pop(headers.index('Company')))\n",
    "\n",
    "# Write to CSV\n",
    "with open('sec_10k_analysis_form_filling.csv', 'w', newline='', encoding='utf-8') as csvfile:\n",
    "    writer = csv.DictWriter(csvfile, fieldnames=headers)\n",
    "    writer.writeheader()\n",
    "    for row in flat_data:\n",
    "        writer.writerow(row)"
   ]
  },
  {
   "cell_type": "code",
   "execution_count": 34,
   "metadata": {
    "id": "Hug6n26ClhNT"
   },
   "outputs": [],
   "source": [
    "import pandas as pd\n",
    "from IPython.core.display import HTML\n",
    "\n",
    "pd.set_option('display.max_colwidth', 10)\n",
    "\n",
    "out_df = pd.read_csv(\"sec_10k_analysis_form_filling.csv\")"
   ]
  },
  {
   "cell_type": "code",
   "execution_count": 35,
   "metadata": {},
   "outputs": [
    {
     "data": {
      "text/html": [
       "<table border=\"1\" class=\"dataframe\">\n",
       "  <thead>\n",
       "    <tr style=\"text-align: right;\">\n",
       "      <th></th>\n",
       "      <th>Year</th>\n",
       "      <th>Company</th>\n",
       "      <th>Accounts Receivable Turnover</th>\n",
       "      <th>Capital Expenditures</th>\n",
       "      <th>Current Ratio</th>\n",
       "      <th>Debt-to-Equity Ratio</th>\n",
       "      <th>Dividend Yield</th>\n",
       "      <th>EBITDA</th>\n",
       "      <th>Earnings Per Share (EPS)</th>\n",
       "      <th>Free Cash Flow</th>\n",
       "      <th>Gross Margin</th>\n",
       "      <th>Inventory Turnover</th>\n",
       "      <th>Market Cap</th>\n",
       "      <th>Net Income</th>\n",
       "      <th>Net Profit Margin</th>\n",
       "      <th>Operating Margin</th>\n",
       "      <th>Price-to-Earnings (P/E) Ratio</th>\n",
       "      <th>Research and Development Expenses</th>\n",
       "      <th>Return on Assets (ROA)</th>\n",
       "      <th>Return on Equity (ROE)</th>\n",
       "      <th>Revenue</th>\n",
       "      <th>Year-over-Year Growth Rate</th>\n",
       "    </tr>\n",
       "  </thead>\n",
       "  <tbody>\n",
       "    <tr>\n",
       "      <th>0</th>\n",
       "      <td>2021</td>\n",
       "      <td>Amazon (AMZN)</td>\n",
       "      <td>5.6 times</td>\n",
       "      <td>58.3 billion</td>\n",
       "      <td>1.02</td>\n",
       "      <td>0.63</td>\n",
       "      <td>NaN</td>\n",
       "      <td>24,879</td>\n",
       "      <td>64.81</td>\n",
       "      <td>-$11,569</td>\n",
       "      <td>41.0%</td>\n",
       "      <td>4.8 times</td>\n",
       "      <td>$1.66 trillion</td>\n",
       "      <td>33,364</td>\n",
       "      <td>6.8%</td>\n",
       "      <td>13.7%</td>\n",
       "      <td>73.60</td>\n",
       "      <td>Not significant</td>\n",
       "      <td>5.9%</td>\n",
       "      <td>22.9%</td>\n",
       "      <td>469,822 million</td>\n",
       "      <td>22%</td>\n",
       "    </tr>\n",
       "    <tr>\n",
       "      <th>1</th>\n",
       "      <td>2021</td>\n",
       "      <td>Microsoft (MSFT)</td>\n",
       "      <td>7.5 times</td>\n",
       "      <td>$9.5 billion</td>\n",
       "      <td>1.79</td>\n",
       "      <td>0.30</td>\n",
       "      <td>1. 0.8%</td>\n",
       "      <td>$ 76,632 million</td>\n",
       "      <td>8.05</td>\n",
       "      <td>28.7 billion</td>\n",
       "      <td>$115.9 billion</td>\n",
       "      <td>2.5 times</td>\n",
       "      <td>$2.5 trillion</td>\n",
       "      <td>$61,271 million</td>\n",
       "      <td>19.7%</td>\n",
       "      <td>32%</td>\n",
       "      <td>34.50</td>\n",
       "      <td>20,716 million</td>\n",
       "      <td>10.9%</td>\n",
       "      <td>27.4%</td>\n",
       "      <td>$168,088 million</td>\n",
       "      <td>18%</td>\n",
       "    </tr>\n",
       "    <tr>\n",
       "      <th>2</th>\n",
       "      <td>2021</td>\n",
       "      <td>Apple (AAPL)</td>\n",
       "      <td>6.2 times</td>\n",
       "      <td>$9,000 million</td>\n",
       "      <td>1.12</td>\n",
       "      <td>0.93</td>\n",
       "      <td>1. 0.0065</td>\n",
       "      <td>19,863</td>\n",
       "      <td>5.61</td>\n",
       "      <td>$ 73,000</td>\n",
       "      <td>$152,836 million</td>\n",
       "      <td>Not available</td>\n",
       "      <td>$2.46 trillion</td>\n",
       "      <td>94,680 million</td>\n",
       "      <td>21.7%</td>\n",
       "      <td>44.7%</td>\n",
       "      <td>28.11</td>\n",
       "      <td>$21,914 million</td>\n",
       "      <td>5.1%</td>\n",
       "      <td>21.9%</td>\n",
       "      <td>$365.817 billion</td>\n",
       "      <td>33%</td>\n",
       "    </tr>\n",
       "    <tr>\n",
       "      <th>3</th>\n",
       "      <td>2022</td>\n",
       "      <td>Amazon (AMZN)</td>\n",
       "      <td>6.4 times</td>\n",
       "      <td>$58.3 billion</td>\n",
       "      <td>1.10</td>\n",
       "      <td>1.39</td>\n",
       "      <td>NaN</td>\n",
       "      <td>$15,432 million</td>\n",
       "      <td>9.70</td>\n",
       "      <td>$-11,569 million</td>\n",
       "      <td>NaN</td>\n",
       "      <td>NaN</td>\n",
       "      <td>$1.47 trillion</td>\n",
       "      <td>(2,722)</td>\n",
       "      <td>NaN</td>\n",
       "      <td>16.9%</td>\n",
       "      <td>NaN</td>\n",
       "      <td>$73,213 million</td>\n",
       "      <td>6.9%</td>\n",
       "      <td>8.4%</td>\n",
       "      <td>513,983</td>\n",
       "      <td>13%</td>\n",
       "    </tr>\n",
       "    <tr>\n",
       "      <th>4</th>\n",
       "      <td>2022</td>\n",
       "      <td>Microsoft (MSFT)</td>\n",
       "      <td>6.1 times</td>\n",
       "      <td>$8.5 billion</td>\n",
       "      <td>1.78</td>\n",
       "      <td>0.59</td>\n",
       "      <td>2.0%</td>\n",
       "      <td>$107.895 billion</td>\n",
       "      <td>9.65</td>\n",
       "      <td>$58.7 billion</td>\n",
       "      <td>$135.620 billion</td>\n",
       "      <td>3.4 times</td>\n",
       "      <td>$1.87 trillion</td>\n",
       "      <td>72,738</td>\n",
       "      <td>19%</td>\n",
       "      <td>19%</td>\n",
       "      <td>38.60</td>\n",
       "      <td>$24,512 million</td>\n",
       "      <td>9.99%</td>\n",
       "      <td>38.7%</td>\n",
       "      <td>$198,270 million</td>\n",
       "      <td>18%</td>\n",
       "    </tr>\n",
       "    <tr>\n",
       "      <th>5</th>\n",
       "      <td>2022</td>\n",
       "      <td>Apple (AAPL)</td>\n",
       "      <td>6.0 times</td>\n",
       "      <td>$42,117 million</td>\n",
       "      <td>2.78</td>\n",
       "      <td>0.68</td>\n",
       "      <td>0.0054</td>\n",
       "      <td>$145,787 million</td>\n",
       "      <td>6.15</td>\n",
       "      <td>$ 88,531</td>\n",
       "      <td>$170,782 million</td>\n",
       "      <td>1. 6.87</td>\n",
       "      <td>$2.9 trillion</td>\n",
       "      <td>99,803</td>\n",
       "      <td>21.9%</td>\n",
       "      <td>37.9%</td>\n",
       "      <td>24.60</td>\n",
       "      <td>$26,251 million</td>\n",
       "      <td>6.7%</td>\n",
       "      <td>13.15%</td>\n",
       "      <td>394,328 million</td>\n",
       "      <td>8%</td>\n",
       "    </tr>\n",
       "  </tbody>\n",
       "</table>"
      ],
      "text/plain": [
       "<IPython.core.display.HTML object>"
      ]
     },
     "execution_count": 35,
     "metadata": {},
     "output_type": "execute_result"
    }
   ],
   "source": [
    "html = out_df.to_html()\n",
    "HTML(html)"
   ]
  },
  {
   "cell_type": "code",
   "execution_count": null,
   "metadata": {},
   "outputs": [],
   "source": []
  }
 ],
 "metadata": {
  "colab": {
   "provenance": []
  },
  "kernelspec": {
   "display_name": "llamacloud-demo",
   "language": "python",
   "name": "llamacloud-demo"
  },
  "language_info": {
   "codemirror_mode": {
    "name": "ipython",
    "version": 3
   },
   "file_extension": ".py",
   "mimetype": "text/x-python",
   "name": "python",
   "nbconvert_exporter": "python",
   "pygments_lexer": "ipython3",
   "version": "3.10.8"
  }
 },
 "nbformat": 4,
 "nbformat_minor": 4
}
