{
 "cells": [
  {
   "cell_type": "markdown",
   "id": "99cea58c-48bc-4af6-8358-df9695659983",
   "metadata": {},
   "source": [
    "# Getting Started: Building Agents over LlamaCloud RAG Pipelines\n",
    "\n",
    "<a href=\"https://colab.research.google.com/github/run-llama/llamacloud-demo/blob/main/examples/getting_started_agent.ipynb\" target=\"_parent\"><img src=\"https://colab.research.google.com/assets/colab-badge.svg\" alt=\"Open In Colab\"/></a>\n",
    "\n",
    "In this notebook we show you how to build a function calling agent (powered by Claude) over RAG pipelines built with LlamaCloud.\n",
    "\n",
    "Adding an agentic layer to RAG allows you to build in a layer of query planning and state management that allows you to ask multi-part complex questions over existing RAG pipelines and get back answers in a conversational manner.\n"
   ]
  },
  {
   "cell_type": "markdown",
   "id": "54b7bc2e-606f-411a-9490-fcfab9236dfc",
   "metadata": {},
   "source": [
    "## Initial Setup "
   ]
  },
  {
   "cell_type": "markdown",
   "id": "23e80e5b-aaee-4f23-b338-7ae62b08141f",
   "metadata": {},
   "source": [
    "Let's start by importing some simple building blocks.  \n",
    "\n",
    "The main thing we need is:\n",
    "1. the Anthropic API (using our own `llama_index` LLM class)\n",
    "2. a place to keep conversation history \n",
    "3. a definition for tools that our agent can use."
   ]
  },
  {
   "cell_type": "markdown",
   "id": "41101795",
   "metadata": {},
   "source": [
    "If you're opening this Notebook on colab, you will probably need to install LlamaIndex 🦙.\n"
   ]
  },
  {
   "cell_type": "code",
   "execution_count": null,
   "id": "4985c578",
   "metadata": {},
   "outputs": [],
   "source": [
    "%pip install llama-index-llms-anthropic\n",
    "%pip install llama-index-indices-llama-cloud\n",
    "%pip install llama-index"
   ]
  },
  {
   "cell_type": "code",
   "execution_count": 1,
   "id": "9d47283b-025e-4874-88ed-76245b22f82e",
   "metadata": {},
   "outputs": [],
   "source": [
    "import nest_asyncio\n",
    "nest_asyncio.apply()"
   ]
  },
  {
   "cell_type": "markdown",
   "id": "eeac7d4c-58fd-42a5-9da9-c258375c61a0",
   "metadata": {},
   "source": [
    "Make sure your ANTHROPIC_API_KEY is set. Otherwise explicitly specify the `api_key` parameter."
   ]
  },
  {
   "cell_type": "code",
   "execution_count": 2,
   "id": "4becf171-6632-42e5-bdec-918a00934696",
   "metadata": {},
   "outputs": [],
   "source": [
    "from llama_index.llms.anthropic import Anthropic\n",
    "\n",
    "llm = Anthropic(model=\"claude-3-opus-20240229\")"
   ]
  },
  {
   "cell_type": "markdown",
   "id": "51dff7d4-07cf-472f-bb35-e231c5874f1b",
   "metadata": {},
   "source": [
    "## Build Two LlamaCloud Indexes\n",
    "\n",
    "Our data sources are the 2021 Lyft and Uber 10K documents.\n",
    "\n",
    "In contrast to the other getting started examples, in this notebook we will build **two** RAG pipelines: one for Uber and one for Lyft. This is for the sake of example; we can plug in both RAG pipelines as tools for the agent to reason over.\n",
    "\n",
    "To create each index, follow the instructions:\n",
    "1. You can download them here ([Uber 10K](https://www.dropbox.com/s/te0a2w227v27iag/uber_2021.pdf?dl=1), [Lyft 10K](https://www.dropbox.com/s/qctkz6nxhm0y5qe/lyft_2021.pdf?dl=1))\n",
    "2. Follow instructions on `https://cloud.llamaindex.ai/` to signup for an account. Create a pipeline by uploading these documents."
   ]
  },
  {
   "cell_type": "code",
   "execution_count": 3,
   "id": "3aac2202-5346-4fe5-a0b5-cbac64003fbc",
   "metadata": {},
   "outputs": [],
   "source": [
    "from llama_index.indices.managed.llama_cloud import LlamaCloudIndex\n",
    "\n",
    "index_uber = LlamaCloudIndex(\n",
    "  name=\"<index_uber>\", \n",
    "  project_name=\"<project_name>\",\n",
    "  api_key=\"llx-\"\n",
    ")\n",
    "index_lyft = LlamaCloudIndex(\n",
    "  name=\"<index_lyft>\", \n",
    "  project_name=\"<project_name>\",\n",
    "  api_key=\"llx-\"\n",
    ")"
   ]
  },
  {
   "cell_type": "markdown",
   "id": "a747e287-16e0-4ca6-8580-3d2e1a0b6e6c",
   "metadata": {},
   "source": [
    "For each index, get a query engine from the index, which gives us an out-of-the-box RAG pipeline."
   ]
  },
  {
   "cell_type": "code",
   "execution_count": 4,
   "id": "7c352324-8112-43f1-ad97-d02e581bf282",
   "metadata": {},
   "outputs": [],
   "source": [
    "query_engine_uber = index_uber.as_query_engine(llm=llm)\n",
    "query_engine_lyft = index_lyft.as_query_engine(llm=llm)"
   ]
  },
  {
   "cell_type": "markdown",
   "id": "cabfdf01-8d63-43ff-b06e-a3059ede2ddf",
   "metadata": {},
   "source": [
    "## Anthropic Agent over LlamaCloud RAG Pipelines\n",
    "\n",
    "We convert both query engines to tools and pass it to a function calling Anthropic Opus agent."
   ]
  },
  {
   "cell_type": "code",
   "execution_count": 5,
   "id": "48c0cf98-3f10-4599-8437-d88dc89cefad",
   "metadata": {},
   "outputs": [],
   "source": [
    "from llama_index.core.tools import QueryEngineTool, ToolMetadata\n",
    "\n",
    "tool_uber = QueryEngineTool(\n",
    "    query_engine=query_engine_uber,\n",
    "    metadata=ToolMetadata(\n",
    "        name=\"uber_10k\",\n",
    "        description=(\n",
    "            \"Provides information about Uber financials for year 2021. \"\n",
    "            \"Use a detailed plain text question as input to the tool.\"\n",
    "        ),\n",
    "    ),\n",
    ")\n",
    "tool_lyft = QueryEngineTool(\n",
    "    query_engine=query_engine_lyft,\n",
    "    metadata=ToolMetadata(\n",
    "        name=\"lyft_10k\",\n",
    "        description=(\n",
    "            \"Provides information about Lyft financials for year 2021. \"\n",
    "            \"Use a detailed plain text question as input to the tool.\"\n",
    "        ),\n",
    "    ),\n",
    ")"
   ]
  },
  {
   "cell_type": "code",
   "execution_count": 8,
   "id": "ebfdaf80-e5e1-4c60-b556-20558da3d5e3",
   "metadata": {},
   "outputs": [],
   "source": [
    "from llama_index.core.agent import FunctionCallingAgentWorker\n",
    "from llama_index.core.agent import AgentRunner\n",
    "\n",
    "agent_worker = FunctionCallingAgentWorker.from_tools(\n",
    "    [tool_uber, tool_lyft], llm=llm, verbose=True\n",
    ")\n",
    "agent = AgentRunner(agent_worker)"
   ]
  },
  {
   "cell_type": "code",
   "execution_count": 9,
   "id": "58c53f2a-0a3f-4abe-b8b6-97a974ec7546",
   "metadata": {},
   "outputs": [
    {
     "name": "stdout",
     "output_type": "stream",
     "text": [
      "Added user message to memory: Tell me both the tailwinds for Uber and Lyft?\n",
      "=== LLM Response ===\n",
      "<thinking>\n",
      "To answer this question about tailwinds for both Uber and Lyft, I will need to query information from both the uber_10k and lyft_10k tools. The input parameter should be a question asking about tailwinds or positive factors mentioned in the 10-K filings.\n",
      "</thinking>\n",
      "=== Calling Function ===\n",
      "Calling function: uber_10k with args: {\"input\": \"What were some of the tailwinds or positive factors mentioned for Uber's business in 2021?\"}\n",
      "=== Function Output ===\n",
      "Based on the context provided, a few positive factors for Uber's business in 2021 were:\n",
      "\n",
      "1. Uber experienced less seasonality in 2021 as a result of the COVID-19 pandemic and related restrictions, which accelerated the growth of Uber's Delivery business as cities imposed various dining restrictions. \n",
      "\n",
      "2. Uber's Delivery offering was attracting new consumers to their platform. Over 60% of first-time Delivery consumers in Q4 2021 were new to Uber's platform overall.\n",
      "\n",
      "3. Consumers who used both Uber's Mobility and Delivery offerings generated significantly more trips per month on average (12.6) compared to consumers who only used a single offering (5.0) in cities where both were available. This cross-platform usage was beneficial for engagement.\n",
      "\n",
      "4. Uber launched Uber One in the U.S. in November 2021, a membership program providing benefits across its rides, delivery and grocery offerings, to make using Uber's suite of products a seamless experience for consumers. Uber exited 2021 with over 6 million members across its various membership programs.\n",
      "=== Calling Function ===\n",
      "Calling function: lyft_10k with args: {\"input\": \"What were some of the tailwinds or positive factors mentioned for Lyft's business in 2021?\"}\n",
      "=== Function Output ===\n",
      "Based on the information provided, a few positive factors for Lyft's business in 2021 were:\n",
      "\n",
      "1. Lyft continued to invest in the future through organic growth and acquisitions of complementary businesses, even with the impact of COVID-19. This included expanding their network of light vehicles (bikes and scooters) and investing in Lyft Autonomous to deploy and scale third-party self-driving technology.\n",
      "\n",
      "2. Lyft believes their brand, values and focus on customer experience are key differentiators. As demand recovers from the pandemic, they are confident more people will choose Lyft for the convenience, experience and affordability. \n",
      "\n",
      "3. In the second quarter of 2021, Lyft began generating new revenue streams from licensing and data access agreements, primarily with third-party autonomous vehicle companies.\n",
      "\n",
      "4. Lyft launched an autonomous rideshare service in Miami in December 2021 with Ford and Argo AI, delivering on their commitment to deploy autonomous vehicles on the Lyft network.\n",
      "\n",
      "So while still impacted by the pandemic in 2021, Lyft saw some positive developments in terms of strategic investments, brand strength, new revenue sources, and progress with autonomous vehicle deployments on their platform.\n",
      "=== LLM Response ===\n",
      "In summary, some of the key tailwinds mentioned for Uber and Lyft in 2021 were:\n",
      "\n",
      "Uber:\n",
      "- Less seasonality and accelerated growth of Delivery business due to COVID restrictions\n",
      "- Delivery attracting new consumers to Uber's overall platform \n",
      "- Higher engagement from consumers using both Mobility and Delivery offerings\n",
      "- Launch of Uber One membership program\n",
      "\n",
      "Lyft:\n",
      "- Continued investment in organic growth and acquisitions despite pandemic impact\n",
      "- Differentiated brand, values and customer experience \n",
      "- New revenue streams from licensing and data access agreements\n",
      "- Launch of autonomous rideshare service in Miami with partners\n",
      "\n",
      "Both companies saw some positives despite ongoing pandemic challenges, including growth opportunities, product innovations, and progress on strategic initiatives. The accelerated adoption of delivery services was a particular tailwind for Uber.\n",
      "assistant: In summary, some of the key tailwinds mentioned for Uber and Lyft in 2021 were:\n",
      "\n",
      "Uber:\n",
      "- Less seasonality and accelerated growth of Delivery business due to COVID restrictions\n",
      "- Delivery attracting new consumers to Uber's overall platform \n",
      "- Higher engagement from consumers using both Mobility and Delivery offerings\n",
      "- Launch of Uber One membership program\n",
      "\n",
      "Lyft:\n",
      "- Continued investment in organic growth and acquisitions despite pandemic impact\n",
      "- Differentiated brand, values and customer experience \n",
      "- New revenue streams from licensing and data access agreements\n",
      "- Launch of autonomous rideshare service in Miami with partners\n",
      "\n",
      "Both companies saw some positives despite ongoing pandemic challenges, including growth opportunities, product innovations, and progress on strategic initiatives. The accelerated adoption of delivery services was a particular tailwind for Uber.\n"
     ]
    }
   ],
   "source": [
    "response = agent.chat(\"Tell me both the tailwinds for Uber and Lyft?\")\n",
    "print(str(response))"
   ]
  },
  {
   "cell_type": "code",
   "execution_count": null,
   "id": "cb682e18-2538-4da7-9bed-5c585d971735",
   "metadata": {},
   "outputs": [],
   "source": []
  }
 ],
 "metadata": {
  "kernelspec": {
   "display_name": "Python 3 (ipykernel)",
   "language": "python",
   "name": "python3"
  },
  "language_info": {
   "codemirror_mode": {
    "name": "ipython",
    "version": 3
   },
   "file_extension": ".py",
   "mimetype": "text/x-python",
   "name": "python",
   "nbconvert_exporter": "python",
   "pygments_lexer": "ipython3",
   "version": "3.10.8"
  }
 },
 "nbformat": 4,
 "nbformat_minor": 5
}
