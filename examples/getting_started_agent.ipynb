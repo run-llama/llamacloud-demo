{
  "cells": [
    {
      "cell_type": "markdown",
      "metadata": {},
      "source": [
        "# ⚠️ Important Notice\n\nThis notebook (and repository) is deprecated.\n\nFor the latest python examples, please refer to the `llama-cloud-services` repository examples: \nhttps://github.com/run-llama/llama_cloud_services/tree/main/examples\n\n---"
      ]
    },
    {
      "cell_type": "markdown",
      "id": "99cea58c-48bc-4af6-8358-df9695659983",
      "metadata": {},
      "source": [
        "# Getting Started: Building Agents over LlamaCloud RAG Pipelines\n",
        "\n",
        "<a href=\"https://colab.research.google.com/github/run-llama/llamacloud-demo/blob/main/examples/getting_started_agent.ipynb\" target=\"_parent\"><img src=\"https://colab.research.google.com/assets/colab-badge.svg\" alt=\"Open In Colab\"/></a>\n",
        "\n",
        "In this notebook we show you how to build a function calling agent (powered by OpenAI) over RAG pipelines built with LlamaCloud.\n",
        "\n",
        "Adding an agentic layer to RAG allows you to build in a layer of query planning and state management that allows you to ask multi-part complex questions over existing RAG pipelines and get back answers in a conversational manner.\n"
      ]
    },
    {
      "cell_type": "markdown",
      "id": "54b7bc2e-606f-411a-9490-fcfab9236dfc",
      "metadata": {},
      "source": [
        "## Initial Setup "
      ]
    },
    {
      "cell_type": "markdown",
      "id": "23e80e5b-aaee-4f23-b338-7ae62b08141f",
      "metadata": {},
      "source": [
        "Let's start by importing some simple building blocks.  \n",
        "\n",
        "The main thing we need is:\n",
        "1. the OpenAI API (using our own `llama_index` LLM class)\n",
        "2. a place to keep conversation history \n",
        "3. a definition for tools that our agent can use."
      ]
    },
    {
      "cell_type": "markdown",
      "id": "41101795",
      "metadata": {},
      "source": [
        "If you're opening this Notebook on colab, you will probably need to install LlamaIndex 🦙.\n"
      ]
    },
    {
      "cell_type": "code",
      "execution_count": null,
      "id": "4985c578",
      "metadata": {},
      "outputs": [],
      "source": [
        "%pip install -U llama-index-indices-managed-llama-cloud\n",
        "%pip install -U llama-index\n",
        "%pip install -U llama-index-core"
      ]
    },
    {
      "cell_type": "code",
      "execution_count": 39,
      "id": "9d47283b-025e-4874-88ed-76245b22f82e",
      "metadata": {},
      "outputs": [],
      "source": [
        "import nest_asyncio\n",
        "nest_asyncio.apply()\n",
        "\n",
        "from IPython.display import Markdown, display"
      ]
    },
    {
      "cell_type": "markdown",
      "id": "eeac7d4c-58fd-42a5-9da9-c258375c61a0",
      "metadata": {},
      "source": [
        "Make sure your OPENAI_API_KEY is set. Otherwise explicitly specify the `api_key` parameter."
      ]
    },
    {
      "cell_type": "code",
      "execution_count": 40,
      "id": "4becf171-6632-42e5-bdec-918a00934696",
      "metadata": {},
      "outputs": [],
      "source": [
        "from llama_index.llms.openai import OpenAI\n",
        "import os\n",
        "\n",
        "os.environ[\"OPENAI_API_KEY\"] = \"<openai_api_key>\"\n",
        "\n",
        "llm = OpenAI(model=\"gpt-4.1\")"
      ]
    },
    {
      "cell_type": "markdown",
      "id": "51dff7d4-07cf-472f-bb35-e231c5874f1b",
      "metadata": {},
      "source": [
        "## Build Two LlamaCloud Indexes\n",
        "\n",
        "Our data sources are the 2021 Lyft and Uber 10K documents.\n",
        "\n",
        "In contrast to the other getting started examples, in this notebook we will build **two** RAG pipelines: one for Uber and one for Lyft. This is for the sake of example; we can plug in both RAG pipelines as tools for the agent to reason over.\n",
        "\n",
        "To create each index, follow the instructions:\n",
        "1. You can download them here ([Uber 10K](https://www.dropbox.com/s/te0a2w227v27iag/uber_2021.pdf?dl=1), [Lyft 10K](https://www.dropbox.com/s/qctkz6nxhm0y5qe/lyft_2021.pdf?dl=1))\n",
        "2. Follow instructions on `https://cloud.llamaindex.ai/` to signup for an account. Create a pipeline by uploading these documents."
      ]
    },
    {
      "cell_type": "code",
      "execution_count": null,
      "id": "3aac2202-5346-4fe5-a0b5-cbac64003fbc",
      "metadata": {},
      "outputs": [],
      "source": [
        "from llama_index.indices.managed.llama_cloud import LlamaCloudIndex\n",
        "\n",
        "index_uber = LlamaCloudIndex(\n",
        "  name=\"<index_uber>\", \n",
        "  api_key=\"<api_key>\"\n",
        ")\n",
        "index_lyft = LlamaCloudIndex(\n",
        "  name=\"<index_lyft>\", \n",
        "  api_key=\"<api_key>\"\n",
        ")"
      ]
    },
    {
      "cell_type": "markdown",
      "id": "a747e287-16e0-4ca6-8580-3d2e1a0b6e6c",
      "metadata": {},
      "source": [
        "For each index, get a query engine from the index, which gives us an out-of-the-box RAG pipeline."
      ]
    },
    {
      "cell_type": "code",
      "execution_count": 42,
      "id": "7c352324-8112-43f1-ad97-d02e581bf282",
      "metadata": {},
      "outputs": [],
      "source": [
        "query_engine_uber = index_uber.as_query_engine(llm=llm)\n",
        "query_engine_lyft = index_lyft.as_query_engine(llm=llm)"
      ]
    },
    {
      "cell_type": "markdown",
      "id": "cabfdf01-8d63-43ff-b06e-a3059ede2ddf",
      "metadata": {},
      "source": [
        "## OpenAI Agent over LlamaCloud RAG Pipelines\n",
        "\n",
        "We convert both query engines to tools and pass it to a function calling OpenAI agent."
      ]
    },
    {
      "cell_type": "code",
      "execution_count": 43,
      "id": "48c0cf98-3f10-4599-8437-d88dc89cefad",
      "metadata": {},
      "outputs": [],
      "source": [
        "from llama_index.core.tools import QueryEngineTool, ToolMetadata\n",
        "\n",
        "tool_uber = QueryEngineTool(\n",
        "    query_engine=query_engine_uber,\n",
        "    metadata=ToolMetadata(\n",
        "        name=\"uber_10k\",\n",
        "        description=(\n",
        "            \"Provides information about Uber financials for year 2021. \"\n",
        "            \"Use a detailed plain text question as input to the tool.\"\n",
        "        ),\n",
        "    ),\n",
        ")\n",
        "tool_lyft = QueryEngineTool(\n",
        "    query_engine=query_engine_lyft,\n",
        "    metadata=ToolMetadata(\n",
        "        name=\"lyft_10k\",\n",
        "        description=(\n",
        "            \"Provides information about Lyft financials for year 2021. \"\n",
        "            \"Use a detailed plain text question as input to the tool.\"\n",
        "        ),\n",
        "    ),\n",
        ")"
      ]
    },
    {
      "cell_type": "code",
      "execution_count": 44,
      "id": "ebfdaf80-e5e1-4c60-b556-20558da3d5e3",
      "metadata": {},
      "outputs": [],
      "source": [
        "from llama_index.core.agent.workflow import FunctionAgent\n",
        "\n",
        "agent = FunctionAgent(\n",
        "    tools=[tool_uber, tool_lyft],\n",
        "    llm=llm,\n",
        "    system_prompt=\"You are a helpful assistant that can answer questions about Uber and Lyft.\",\n",
        "    verbose=True,\n",
        ")"
      ]
    },
    {
      "cell_type": "code",
      "execution_count": 45,
      "id": "58c53f2a-0a3f-4abe-b8b6-97a974ec7546",
      "metadata": {},
      "outputs": [
        {
          "name": "stdout",
          "output_type": "stream",
          "text": [
            "Running step init_run\n",
            "Step init_run produced event AgentInput\n",
            "Running step setup_agent\n",
            "Step setup_agent produced event AgentSetup\n",
            "Running step run_agent_step\n",
            "Step run_agent_step produced event AgentOutput\n",
            "Running step parse_agent_output\n",
            "Step parse_agent_output produced no event\n",
            "Running step call_tool\n",
            "Running step call_tool\n",
            "Step call_tool produced event ToolCallResult\n",
            "Running step aggregate_tool_results\n",
            "Step aggregate_tool_results produced no event\n",
            "Step call_tool produced event ToolCallResult\n",
            "Running step aggregate_tool_results\n",
            "Step aggregate_tool_results produced event AgentInput\n",
            "Running step setup_agent\n",
            "Step setup_agent produced event AgentSetup\n",
            "Running step run_agent_step\n",
            "Step run_agent_step produced event AgentOutput\n",
            "Running step parse_agent_output\n",
            "Step parse_agent_output produced event StopEvent\n"
          ]
        }
      ],
      "source": [
        "response = await agent.run(user_msg=\"Tell me both the tailwinds for Uber and Lyft?\")"
      ]
    },
    {
      "cell_type": "code",
      "execution_count": 46,
      "id": "cb682e18-2538-4da7-9bed-5c585d971735",
      "metadata": {},
      "outputs": [
        {
          "data": {
            "text/markdown": [
              "Here are the main tailwinds for both Uber and Lyft in 2021:\n",
              "\n",
              "Uber:\n",
              "- Significant increase in Gross Bookings (up 56% year-over-year), driven by strong growth in both Delivery and Mobility segments.\n",
              "- Delivery segment saw substantial growth due to increased food delivery orders, higher basket sizes (influenced by stay-at-home demand from COVID-19), and expansion in U.S. and international markets.\n",
              "- Mobility segment rebounded as trip volumes recovered from pandemic lows.\n",
              "- Revenue increased by 57% year-over-year, with additional contributions from the Freight segment (especially after acquiring Transplace).\n",
              "- Operational improvements, such as reduced fixed costs and increased efficiency, led to a significant reduction in net loss.\n",
              "- Gains from the sale of the autonomous vehicle business and positive impacts from equity investments.\n",
              "- Expansion of offerings through acquisitions (e.g., Cornershop and Drizly) added grocery and alcohol delivery capabilities.\n",
              "- Growth in Monthly Active Platform Consumers and trip volumes.\n",
              "\n",
              "Lyft:\n",
              "- Widespread COVID-19 vaccine distribution and community reopenings led to a strong recovery in revenue and active riders.\n",
              "- Revenue increased by 36% compared to the prior year.\n",
              "- Active riders grew by 49.2% in Q4 2021 compared to Q4 2020.\n",
              "- Achieved first annual Adjusted EBITDA profitability in 2021.\n",
              "- Maintained a strong liquidity position ($2.3 billion in unrestricted cash, cash equivalents, and short-term investments at year-end).\n",
              "- These factors supported Lyft’s ongoing recovery and expansion efforts.\n",
              "\n",
              "In summary, both companies benefited from pandemic recovery, increased demand, and operational improvements, with Uber also seeing strong growth in its Delivery and Freight segments, and Lyft achieving profitability and maintaining strong liquidity."
            ],
            "text/plain": [
              "<IPython.core.display.Markdown object>"
            ]
          },
          "metadata": {},
          "output_type": "display_data"
        }
      ],
      "source": [
        "display(Markdown(f\"{response}\"))"
      ]
    },
    {
      "cell_type": "code",
      "execution_count": 47,
      "id": "1b3b5915",
      "metadata": {},
      "outputs": [
        {
          "name": "stdout",
          "output_type": "stream",
          "text": [
            "Running step init_run\n",
            "Step init_run produced event AgentInput\n",
            "Running step setup_agent\n",
            "Step setup_agent produced event AgentSetup\n",
            "Running step run_agent_step\n",
            "Step run_agent_step produced event AgentOutput\n",
            "Running step parse_agent_output\n",
            "Step parse_agent_output produced no event\n",
            "Running step call_tool\n",
            "Step call_tool produced event ToolCallResult\n",
            "Running step aggregate_tool_results\n",
            "Step aggregate_tool_results produced event AgentInput\n",
            "Running step setup_agent\n",
            "Step setup_agent produced event AgentSetup\n",
            "Running step run_agent_step\n",
            "Step run_agent_step produced event AgentOutput\n",
            "Running step parse_agent_output\n",
            "Step parse_agent_output produced event StopEvent\n"
          ]
        }
      ],
      "source": [
        "response = await agent.run(user_msg=\"What are the investments made by Uber?\")"
      ]
    },
    {
      "cell_type": "code",
      "execution_count": 48,
      "id": "305abd8d",
      "metadata": {},
      "outputs": [
        {
          "data": {
            "text/markdown": [
              "In 2021, Uber made several notable investments and acquisitions, as detailed in their annual report:\n",
              "\n",
              "**Acquisitions:**\n",
              "- Transplace: Uber acquired 100% of Transplace, a major logistics and transportation management provider, to expand its Uber Freight business.\n",
              "- Cornershop: Uber completed the acquisition of the remaining stake in Cornershop, a grocery delivery platform, making it a wholly owned subsidiary.\n",
              "- Drizly: Uber acquired Drizly, an on-demand alcohol marketplace, to enhance its Delivery segment.\n",
              "\n",
              "**Equity Investments and Stakes:**\n",
              "- Aurora: Uber sold its autonomous vehicle unit (ATG) to Aurora Innovation, receiving Aurora stock in return. After Aurora’s public listing, Uber’s stake was valued at $3.4 billion at year-end.\n",
              "- Moove: Uber invested in Moove, a Spanish vehicle fleet operator, acquiring a 30% minority interest and providing a $213 million loan, with an option to buy more shares.\n",
              "- Didi: Uber’s investment in Didi became publicly traded shares after Didi’s IPO.\n",
              "- Zomato: Uber’s investment in Zomato also became publicly traded after Zomato’s IPO, valued at $1.1 billion at year-end.\n",
              "\n",
              "**Divestitures and Related Investments:**\n",
              "- Yandex Joint Ventures: Uber sold its stakes in Yandex’s self-driving and delivery businesses, as well as part of its interest in MLU B.V., to Yandex.\n",
              "- ATG Business: Uber divested its ATG business to Aurora, receiving equity in Aurora as consideration.\n",
              "\n",
              "**Other Financial Developments:**\n",
              "- Uber issued $1.5 billion in senior notes in 2021.\n",
              "- Uber’s investments in Grab and Zomato resulted in significant unrealized gains, while its Didi investment saw a substantial unrealized loss.\n",
              "\n",
              "These investments reflect Uber’s strategy to expand its logistics, delivery, and mobility services, while also restructuring and monetizing its stakes in global technology and mobility companies."
            ],
            "text/plain": [
              "<IPython.core.display.Markdown object>"
            ]
          },
          "metadata": {},
          "output_type": "display_data"
        }
      ],
      "source": [
        "display(Markdown(f\"{response}\"))"
      ]
    },
    {
      "cell_type": "code",
      "execution_count": 49,
      "id": "d45fd026",
      "metadata": {},
      "outputs": [
        {
          "name": "stdout",
          "output_type": "stream",
          "text": [
            "Running step init_run\n",
            "Step init_run produced event AgentInput\n",
            "Running step setup_agent\n",
            "Step setup_agent produced event AgentSetup\n",
            "Running step run_agent_step\n",
            "Step run_agent_step produced event AgentOutput\n",
            "Running step parse_agent_output\n",
            "Step parse_agent_output produced no event\n",
            "Running step call_tool\n",
            "Running step call_tool\n",
            "Step call_tool produced event ToolCallResult\n",
            "Running step aggregate_tool_results\n",
            "Step aggregate_tool_results produced no event\n",
            "Step call_tool produced event ToolCallResult\n",
            "Running step aggregate_tool_results\n",
            "Step aggregate_tool_results produced event AgentInput\n",
            "Running step setup_agent\n",
            "Step setup_agent produced event AgentSetup\n",
            "Running step run_agent_step\n",
            "Step run_agent_step produced event AgentOutput\n",
            "Running step parse_agent_output\n",
            "Step parse_agent_output produced event StopEvent\n"
          ]
        }
      ],
      "source": [
        "response = await agent.run(user_msg=\"Compare the investments made by Uber and lyft?\")"
      ]
    },
    {
      "cell_type": "code",
      "execution_count": 50,
      "id": "69a165e2",
      "metadata": {},
      "outputs": [
        {
          "data": {
            "text/markdown": [
              "Here is a comparison of the investments made by Uber and Lyft in 2021:\n",
              "\n",
              "Uber\n",
              "\n",
              "- Acquisitions: Uber acquired Cornershop (grocery delivery), Drizly (alcohol delivery), and Transplace (logistics), and consolidated CS-Mexico.\n",
              "- Divestitures & Equity Investments: Sold its autonomous vehicle unit (ATG) to Aurora Innovation in exchange for equity, and restructured/sold interests in Yandex-related ventures.\n",
              "- Technology & Partnerships: Invested in Moove (vehicle fleet operator in Spain), with a minority equity stake, a $213 million loan, and a commercial partnership. Continued capital expenditures on technology, including assets from Postmates, Transplace, Drizly, and Cornershop.\n",
              "- Capital Expenditures: Issued $1.5 billion in senior notes for additional capital, and entered a reinsurance agreement for legacy auto insurance liabilities, resulting in a $1 billion cash inflow.\n",
              "- Strategy: Focused on expanding core businesses, enhancing technology, and strengthening market position through acquisitions and partnerships.\n",
              "\n",
              "Lyft\n",
              "\n",
              "- Acquisitions & Technology: Invested heavily in R&D, completed strategic acquisitions, and expanded its network of shared bikes and scooters. Developed third-party self-driving technology through Lyft Autonomous.\n",
              "- Divestitures: Sold its Level 5 self-driving vehicle division, shifting to licensing and data access agreements with autonomous vehicle companies.\n",
              "- Partnerships & Innovation: Invested in sales/marketing, expanded Lyft Rentals, and supported the Express Drive vehicle leasing program. Received a $64 million non-marketable equity security as part of a licensing agreement.\n",
              "- Capital Expenditures: Included real estate leases (81 locations), finance leases for Flexdrive, and other long-term commitments.\n",
              "- Sustainability: Invested in environmental initiatives, aiming for 100% electric vehicles by 2030 and compliance with California’s Clean Miles Standard.\n",
              "- Strategy: Focused on technological innovation, multimodal transportation, strategic partnerships, operational infrastructure, and sustainability.\n",
              "\n",
              "Summary\n",
              "\n",
              "- Uber’s investments were more acquisition-heavy, targeting expansion in delivery, logistics, and international markets, with significant capital raised and deployed for these purposes.\n",
              "- Lyft’s investments focused on technology, multimodal transportation (bikes, scooters, rentals), partnerships, and sustainability, with fewer large acquisitions but significant R&D and operational investments.\n",
              "\n",
              "Both companies made strategic divestitures in autonomous vehicle technology, but Uber retained equity in Aurora, while Lyft shifted to a partnership/licensing model. Uber’s investments were broader in scope and scale, while Lyft’s were more focused on platform innovation and sustainability."
            ],
            "text/plain": [
              "<IPython.core.display.Markdown object>"
            ]
          },
          "metadata": {},
          "output_type": "display_data"
        }
      ],
      "source": [
        "display(Markdown(f\"{response}\"))"
      ]
    },
    {
      "cell_type": "code",
      "execution_count": null,
      "id": "0ed1bdd1-de8b-43ed-8bcc-2bbe29d12c9c",
      "metadata": {},
      "outputs": [],
      "source": []
    },
    {
      "cell_type": "code",
      "execution_count": null,
      "id": "8cef4431-a73e-4377-8edd-af1df3540204",
      "metadata": {},
      "outputs": [],
      "source": []
    }
  ],
  "metadata": {
    "kernelspec": {
      "display_name": "Python 3 (ipykernel)",
      "language": "python",
      "name": "python3"
    },
    "language_info": {
      "codemirror_mode": {
        "name": "ipython",
        "version": 3
      },
      "file_extension": ".py",
      "mimetype": "text/x-python",
      "name": "python",
      "nbconvert_exporter": "python",
      "pygments_lexer": "ipython3",
      "version": "3.12.8"
    }
  },
  "nbformat": 4,
  "nbformat_minor": 5
}