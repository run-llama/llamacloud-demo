{
 "cells": [
  {
   "cell_type": "markdown",
   "id": "99cea58c-48bc-4af6-8358-df9695659983",
   "metadata": {},
   "source": [
    "# Getting Started: Building Agents over LlamaCloud RAG Pipelines\n",
    "\n",
    "<a href=\"https://colab.research.google.com/github/run-llama/llamacloud-demo/blob/main/examples/getting_started_agent.ipynb\" target=\"_parent\"><img src=\"https://colab.research.google.com/assets/colab-badge.svg\" alt=\"Open In Colab\"/></a>\n",
    "\n",
    "In this notebook we show you how to build a function calling agent (powered by OpenAI) over RAG pipelines built with LlamaCloud.\n",
    "\n",
    "Adding an agentic layer to RAG allows you to build in a layer of query planning and state management that allows you to ask multi-part complex questions over existing RAG pipelines and get back answers in a conversational manner.\n"
   ]
  },
  {
   "cell_type": "markdown",
   "id": "54b7bc2e-606f-411a-9490-fcfab9236dfc",
   "metadata": {},
   "source": [
    "## Initial Setup "
   ]
  },
  {
   "cell_type": "markdown",
   "id": "23e80e5b-aaee-4f23-b338-7ae62b08141f",
   "metadata": {},
   "source": [
    "Let's start by importing some simple building blocks.  \n",
    "\n",
    "The main thing we need is:\n",
    "1. the OpenAI API (using our own `llama_index` LLM class)\n",
    "2. a place to keep conversation history \n",
    "3. a definition for tools that our agent can use."
   ]
  },
  {
   "cell_type": "markdown",
   "id": "41101795",
   "metadata": {},
   "source": [
    "If you're opening this Notebook on colab, you will probably need to install LlamaIndex 🦙.\n"
   ]
  },
  {
   "cell_type": "code",
   "execution_count": null,
   "id": "4985c578",
   "metadata": {},
   "outputs": [],
   "source": [
    "%pip install llama-index-indices-llama-cloud\n",
    "%pip install llama-index"
   ]
  },
  {
   "cell_type": "code",
   "execution_count": 1,
   "id": "9d47283b-025e-4874-88ed-76245b22f82e",
   "metadata": {},
   "outputs": [],
   "source": [
    "import nest_asyncio\n",
    "nest_asyncio.apply()\n",
    "\n",
    "from IPython.display import Markdown, display"
   ]
  },
  {
   "cell_type": "markdown",
   "id": "eeac7d4c-58fd-42a5-9da9-c258375c61a0",
   "metadata": {},
   "source": [
    "Make sure your OPENAI_API_KEY is set. Otherwise explicitly specify the `api_key` parameter."
   ]
  },
  {
   "cell_type": "code",
   "execution_count": 2,
   "id": "4becf171-6632-42e5-bdec-918a00934696",
   "metadata": {},
   "outputs": [],
   "source": [
    "from llama_index.llms.openai import OpenAI\n",
    "\n",
    "llm = OpenAI(model=\"gpt-4\")"
   ]
  },
  {
   "cell_type": "markdown",
   "id": "51dff7d4-07cf-472f-bb35-e231c5874f1b",
   "metadata": {},
   "source": [
    "## Build Two LlamaCloud Indexes\n",
    "\n",
    "Our data sources are the 2021 Lyft and Uber 10K documents.\n",
    "\n",
    "In contrast to the other getting started examples, in this notebook we will build **two** RAG pipelines: one for Uber and one for Lyft. This is for the sake of example; we can plug in both RAG pipelines as tools for the agent to reason over.\n",
    "\n",
    "To create each index, follow the instructions:\n",
    "1. You can download them here ([Uber 10K](https://www.dropbox.com/s/te0a2w227v27iag/uber_2021.pdf?dl=1), [Lyft 10K](https://www.dropbox.com/s/qctkz6nxhm0y5qe/lyft_2021.pdf?dl=1))\n",
    "2. Follow instructions on `https://cloud.llamaindex.ai/` to signup for an account. Create a pipeline by uploading these documents."
   ]
  },
  {
   "cell_type": "code",
   "execution_count": 3,
   "id": "3aac2202-5346-4fe5-a0b5-cbac64003fbc",
   "metadata": {},
   "outputs": [],
   "source": [
    "from llama_index.indices.managed.llama_cloud import LlamaCloudIndex\n",
    "\n",
    "index_uber = LlamaCloudIndex(\n",
    "  name=\"<index_uber>\", \n",
    "  project_name=\"<project_name>\",\n",
    "  api_key=\"llx-\"\n",
    ")\n",
    "index_lyft = LlamaCloudIndex(\n",
    "  name=\"<index_lyft>\", \n",
    "  project_name=\"<project_name>\",\n",
    "  api_key=\"llx-\"\n",
    ")"
   ]
  },
  {
   "cell_type": "markdown",
   "id": "a747e287-16e0-4ca6-8580-3d2e1a0b6e6c",
   "metadata": {},
   "source": [
    "For each index, get a query engine from the index, which gives us an out-of-the-box RAG pipeline."
   ]
  },
  {
   "cell_type": "code",
   "execution_count": 5,
   "id": "7c352324-8112-43f1-ad97-d02e581bf282",
   "metadata": {},
   "outputs": [],
   "source": [
    "query_engine_uber = index_uber.as_query_engine(llm=llm)\n",
    "query_engine_lyft = index_lyft.as_query_engine(llm=llm)"
   ]
  },
  {
   "cell_type": "markdown",
   "id": "cabfdf01-8d63-43ff-b06e-a3059ede2ddf",
   "metadata": {},
   "source": [
    "## OpenAI Agent over LlamaCloud RAG Pipelines\n",
    "\n",
    "We convert both query engines to tools and pass it to a function calling OpenAI agent."
   ]
  },
  {
   "cell_type": "code",
   "execution_count": 6,
   "id": "48c0cf98-3f10-4599-8437-d88dc89cefad",
   "metadata": {},
   "outputs": [],
   "source": [
    "from llama_index.core.tools import QueryEngineTool, ToolMetadata\n",
    "\n",
    "tool_uber = QueryEngineTool(\n",
    "    query_engine=query_engine_uber,\n",
    "    metadata=ToolMetadata(\n",
    "        name=\"uber_10k\",\n",
    "        description=(\n",
    "            \"Provides information about Uber financials for year 2021. \"\n",
    "            \"Use a detailed plain text question as input to the tool.\"\n",
    "        ),\n",
    "    ),\n",
    ")\n",
    "tool_lyft = QueryEngineTool(\n",
    "    query_engine=query_engine_lyft,\n",
    "    metadata=ToolMetadata(\n",
    "        name=\"lyft_10k\",\n",
    "        description=(\n",
    "            \"Provides information about Lyft financials for year 2021. \"\n",
    "            \"Use a detailed plain text question as input to the tool.\"\n",
    "        ),\n",
    "    ),\n",
    ")"
   ]
  },
  {
   "cell_type": "code",
   "execution_count": 7,
   "id": "ebfdaf80-e5e1-4c60-b556-20558da3d5e3",
   "metadata": {},
   "outputs": [],
   "source": [
    "from llama_index.core.agent import FunctionCallingAgentWorker\n",
    "from llama_index.core.agent import AgentRunner\n",
    "\n",
    "agent_worker = FunctionCallingAgentWorker.from_tools(\n",
    "    [tool_uber, tool_lyft], llm=llm, verbose=True\n",
    ")\n",
    "agent = AgentRunner(agent_worker)"
   ]
  },
  {
   "cell_type": "code",
   "execution_count": 8,
   "id": "58c53f2a-0a3f-4abe-b8b6-97a974ec7546",
   "metadata": {},
   "outputs": [
    {
     "name": "stdout",
     "output_type": "stream",
     "text": [
      "Added user message to memory: Tell me both the tailwinds for Uber and Lyft?\n",
      "=== Calling Function ===\n",
      "Calling function: uber_10k with args: {\"input\": \"What were the tailwinds for Uber in 2021?\"}\n",
      "=== Function Output ===\n",
      "In 2021, Uber experienced several positive factors. The company's revenue increased by $6.3 billion, or 57%, primarily due to a 56% increase in Gross Bookings. This was largely driven by a 71% increase in Delivery Gross Bookings, as a result of increased food delivery orders and higher basket sizes due to stay-at-home orders related to COVID-19. The company also saw growth in Mobility Gross Bookings by 38%, due to increases in Trip volumes as the business recovers from the impacts of COVID-19. Additionally, there was an increase in Delivery revenue resulting from an increase in certain Courier payments and incentives. The growth of Delivery was accelerated in 2021 due to COVID-19 related restrictions. The company also launched new services or expanded existing ones, particularly those related to food and goods delivery, in response to the pandemic.\n",
      "=== Calling Function ===\n",
      "Calling function: lyft_10k with args: {\"input\": \"What were the tailwinds for Lyft in 2021?\"}\n",
      "=== Function Output ===\n",
      "In 2021, Lyft saw several positive developments. The distribution of vaccines and reopening of communities led to a recovery in demand for their platform. This resulted in a 36% increase in revenue compared to the previous year and a 49.2% increase in the number of Active Riders in the fourth quarter of 2021 compared to the same period in 2020. The company also saw a decrease in net loss by $743.5 million, or 42%, from 2020. Additionally, Lyft completed a transaction with Woven Planet, a subsidiary of Toyota Motor Corporation, which resulted in a pre-tax gain of $119.3 million. The company also achieved its first annual Adjusted EBITDA profitability in 2021.\n",
      "=== LLM Response ===\n",
      "In 2021, both Uber and Lyft experienced several tailwinds:\n",
      "\n",
      "For Uber:\n",
      "1. The company's revenue increased by $6.3 billion, or 57%, primarily due to a 56% increase in Gross Bookings. \n",
      "2. There was a 71% increase in Delivery Gross Bookings, as a result of increased food delivery orders and higher basket sizes due to stay-at-home orders related to COVID-19. \n",
      "3. Uber saw growth in Mobility Gross Bookings by 38%, due to increases in Trip volumes as the business recovers from the impacts of COVID-19. \n",
      "4. There was an increase in Delivery revenue resulting from an increase in certain Courier payments and incentives. \n",
      "5. The growth of Delivery was accelerated in 2021 due to COVID-19 related restrictions. \n",
      "6. The company also launched new services or expanded existing ones, particularly those related to food and goods delivery, in response to the pandemic.\n",
      "\n",
      "For Lyft:\n",
      "1. The distribution of vaccines and reopening of communities led to a recovery in demand for their platform. \n",
      "2. This resulted in a 36% increase in revenue compared to the previous year and a 49.2% increase in the number of Active Riders in the fourth quarter of 2021 compared to the same period in 2020. \n",
      "3. The company saw a decrease in net loss by $743.5 million, or 42%, from 2020. \n",
      "4. Lyft completed a transaction with Woven Planet, a subsidiary of Toyota Motor Corporation, which resulted in a pre-tax gain of $119.3 million. \n",
      "5. The company also achieved its first annual Adjusted EBITDA profitability in 2021.\n"
     ]
    }
   ],
   "source": [
    "response = agent.chat(\"Tell me both the tailwinds for Uber and Lyft?\")"
   ]
  },
  {
   "cell_type": "code",
   "execution_count": 9,
   "id": "cb682e18-2538-4da7-9bed-5c585d971735",
   "metadata": {},
   "outputs": [
    {
     "data": {
      "text/markdown": [
       "In 2021, both Uber and Lyft experienced several tailwinds:\n",
       "\n",
       "For Uber:\n",
       "1. The company's revenue increased by $6.3 billion, or 57%, primarily due to a 56% increase in Gross Bookings. \n",
       "2. There was a 71% increase in Delivery Gross Bookings, as a result of increased food delivery orders and higher basket sizes due to stay-at-home orders related to COVID-19. \n",
       "3. Uber saw growth in Mobility Gross Bookings by 38%, due to increases in Trip volumes as the business recovers from the impacts of COVID-19. \n",
       "4. There was an increase in Delivery revenue resulting from an increase in certain Courier payments and incentives. \n",
       "5. The growth of Delivery was accelerated in 2021 due to COVID-19 related restrictions. \n",
       "6. The company also launched new services or expanded existing ones, particularly those related to food and goods delivery, in response to the pandemic.\n",
       "\n",
       "For Lyft:\n",
       "1. The distribution of vaccines and reopening of communities led to a recovery in demand for their platform. \n",
       "2. This resulted in a 36% increase in revenue compared to the previous year and a 49.2% increase in the number of Active Riders in the fourth quarter of 2021 compared to the same period in 2020. \n",
       "3. The company saw a decrease in net loss by $743.5 million, or 42%, from 2020. \n",
       "4. Lyft completed a transaction with Woven Planet, a subsidiary of Toyota Motor Corporation, which resulted in a pre-tax gain of $119.3 million. \n",
       "5. The company also achieved its first annual Adjusted EBITDA profitability in 2021."
      ],
      "text/plain": [
       "<IPython.core.display.Markdown object>"
      ]
     },
     "metadata": {},
     "output_type": "display_data"
    }
   ],
   "source": [
    "display(Markdown(f\"{response}\"))"
   ]
  },
  {
   "cell_type": "code",
   "execution_count": 10,
   "id": "1b3b5915",
   "metadata": {},
   "outputs": [
    {
     "name": "stdout",
     "output_type": "stream",
     "text": [
      "Added user message to memory: What are the investments made by Uber?\n",
      "=== Calling Function ===\n",
      "Calling function: uber_10k with args: {\"input\": \"What were the investments made by Uber in 2021?\"}\n",
      "=== Function Output ===\n",
      "In 2021, Uber made strategic investments in Grab and Aurora, which became publicly listed within the year. These investments have been classified as marketable equity securities with a readily determinable fair value. Uber also continued to invest in new platform offerings to strengthen their platform and existing offerings.\n",
      "=== LLM Response ===\n",
      "In 2021, Uber made the following investments:\n",
      "\n",
      "1. Strategic investments in Grab and Aurora, which became publicly listed within the year. These investments have been classified as marketable equity securities with a readily determinable fair value.\n",
      "2. The company also continued to invest in new platform offerings to strengthen their platform and existing offerings.\n"
     ]
    }
   ],
   "source": [
    "response = agent.chat(\"What are the investments made by Uber?\")"
   ]
  },
  {
   "cell_type": "code",
   "execution_count": 11,
   "id": "305abd8d",
   "metadata": {},
   "outputs": [
    {
     "data": {
      "text/markdown": [
       "In 2021, Uber made the following investments:\n",
       "\n",
       "1. Strategic investments in Grab and Aurora, which became publicly listed within the year. These investments have been classified as marketable equity securities with a readily determinable fair value.\n",
       "2. The company also continued to invest in new platform offerings to strengthen their platform and existing offerings."
      ],
      "text/plain": [
       "<IPython.core.display.Markdown object>"
      ]
     },
     "metadata": {},
     "output_type": "display_data"
    }
   ],
   "source": [
    "display(Markdown(f\"{response}\"))"
   ]
  },
  {
   "cell_type": "code",
   "execution_count": 12,
   "id": "d45fd026",
   "metadata": {},
   "outputs": [
    {
     "name": "stdout",
     "output_type": "stream",
     "text": [
      "Added user message to memory: Compare the investments made by Uber and lyft?\n",
      "=== Calling Function ===\n",
      "Calling function: lyft_10k with args: {\"input\": \"What were the investments made by Lyft in 2021?\"}\n",
      "=== Function Output ===\n",
      "In 2021, Lyft made several investments. They continued to invest in their mission, including research and development, strategic acquisitions, sales, and marketing. They also invested in the expansion of their network of Light Vehicles and Lyft Autonomous, focusing on the deployment and scaling of third-party self-driving technology. They made payments in excess of $300 million under an amended arrangement with AWS. They also invested in the bikeshare program for the New York metro area, with investments totaling $87.1 million as of December 31, 2021. Additionally, they made payments totaling $23.1 million and investments totaling $23.5 million as part of a noncancelable arrangement with the City of Chicago for the Divvy bike share program. They also continued to invest in their data privacy and security foundation and their intellectual property, holding 343 issued U.S. patents and 310 U.S. patent applications pending as of the end of 2021.\n",
      "=== LLM Response ===\n",
      "In 2021, both Uber and Lyft made several investments:\n",
      "\n",
      "For Uber:\n",
      "1. Uber made strategic investments in Grab and Aurora, which became publicly listed within the year. These investments have been classified as marketable equity securities with a readily determinable fair value.\n",
      "2. The company also continued to invest in new platform offerings to strengthen their platform and existing offerings.\n",
      "\n",
      "For Lyft:\n",
      "1. Lyft continued to invest in their mission, including research and development, strategic acquisitions, sales, and marketing.\n",
      "2. They invested in the expansion of their network of Light Vehicles and Lyft Autonomous, focusing on the deployment and scaling of third-party self-driving technology.\n",
      "3. They made payments in excess of $300 million under an amended arrangement with AWS.\n",
      "4. Lyft invested in the bikeshare program for the New York metro area, with investments totaling $87.1 million as of December 31, 2021.\n",
      "5. They made payments totaling $23.1 million and investments totaling $23.5 million as part of a noncancelable arrangement with the City of Chicago for the Divvy bike share program.\n",
      "6. They also continued to invest in their data privacy and security foundation and their intellectual property, holding 343 issued U.S. patents and 310 U.S. patent applications pending as of the end of 2021.\n"
     ]
    }
   ],
   "source": [
    "response = agent.chat(\"Compare the investments made by Uber and lyft?\")"
   ]
  },
  {
   "cell_type": "code",
   "execution_count": 13,
   "id": "69a165e2",
   "metadata": {},
   "outputs": [
    {
     "data": {
      "text/markdown": [
       "In 2021, both Uber and Lyft made several investments:\n",
       "\n",
       "For Uber:\n",
       "1. Uber made strategic investments in Grab and Aurora, which became publicly listed within the year. These investments have been classified as marketable equity securities with a readily determinable fair value.\n",
       "2. The company also continued to invest in new platform offerings to strengthen their platform and existing offerings.\n",
       "\n",
       "For Lyft:\n",
       "1. Lyft continued to invest in their mission, including research and development, strategic acquisitions, sales, and marketing.\n",
       "2. They invested in the expansion of their network of Light Vehicles and Lyft Autonomous, focusing on the deployment and scaling of third-party self-driving technology.\n",
       "3. They made payments in excess of $300 million under an amended arrangement with AWS.\n",
       "4. Lyft invested in the bikeshare program for the New York metro area, with investments totaling $87.1 million as of December 31, 2021.\n",
       "5. They made payments totaling $23.1 million and investments totaling $23.5 million as part of a noncancelable arrangement with the City of Chicago for the Divvy bike share program.\n",
       "6. They also continued to invest in their data privacy and security foundation and their intellectual property, holding 343 issued U.S. patents and 310 U.S. patent applications pending as of the end of 2021."
      ],
      "text/plain": [
       "<IPython.core.display.Markdown object>"
      ]
     },
     "metadata": {},
     "output_type": "display_data"
    }
   ],
   "source": [
    "display(Markdown(f\"{response}\"))"
   ]
  },
  {
   "cell_type": "code",
   "execution_count": null,
   "id": "ce65a49f",
   "metadata": {},
   "outputs": [],
   "source": []
  }
 ],
 "metadata": {
  "kernelspec": {
   "display_name": "llamaindex",
   "language": "python",
   "name": "llamaindex"
  },
  "language_info": {
   "codemirror_mode": {
    "name": "ipython",
    "version": 3
   },
   "file_extension": ".py",
   "mimetype": "text/x-python",
   "name": "python",
   "nbconvert_exporter": "python",
   "pygments_lexer": "ipython3",
   "version": "3.9.6"
  }
 },
 "nbformat": 4,
 "nbformat_minor": 5
}
