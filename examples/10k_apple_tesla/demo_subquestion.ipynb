{
 "cells": [
  {
   "cell_type": "markdown",
   "metadata": {},
   "source": [
    "# Building a Sub-Question Query Engine with LlamaCloud\n",
    "\n",
    "<a href=\"https://colab.research.google.com/github/run-llama/llamacloud-demo/blob/main/examples/10k_apple_tesla/demo_subquestion.ipynb\" target=\"_parent\"><img src=\"https://colab.research.google.com/assets/colab-badge.svg\" alt=\"Open In Colab\"/></a>\n",
    "\n",
    "In this notebook we build an advanced RAG pipeline with LlamaCloud + LlamaIndex over ten SEC 10K Filings (5 Apple 10K Filings from 2019-2023 and 5 Tesla 10K Filings from 2019-2023). We plug a default LlamaCloud query engine into the sub-question query engine (available on open-source) to do query decomposition on complex questions."
   ]
  },
  {
   "cell_type": "markdown",
   "metadata": {},
   "source": [
    "## Setup\n",
    "\n",
    "Install core packages, download files, parse documents."
   ]
  },
  {
   "cell_type": "code",
   "execution_count": null,
   "metadata": {},
   "outputs": [],
   "source": [
    "!pip install llama-index\n",
    "!pip install llama-index-core\n",
    "!pip install llama-index-embeddings-openai\n",
    "!pip install llama-index-question-gen-openai\n",
    "!pip install llama-index-postprocessor-flag-embedding-reranker\n",
    "!pip install git+https://github.com/FlagOpen/FlagEmbedding.git\n",
    "!pip install llama-parse"
   ]
  },
  {
   "cell_type": "code",
   "execution_count": null,
   "metadata": {},
   "outputs": [],
   "source": [
    "# download Apple \n",
    "!wget \"https://s2.q4cdn.com/470004039/files/doc_earnings/2023/q4/filing/_10-K-Q4-2023-As-Filed.pdf\" -O data/apple_2023.pdf\n",
    "!wget \"https://s2.q4cdn.com/470004039/files/doc_financials/2022/q4/_10-K-2022-(As-Filed).pdf\" -O data/apple_2022.pdf\n",
    "!wget \"https://s2.q4cdn.com/470004039/files/doc_financials/2021/q4/_10-K-2021-(As-Filed).pdf\" -O data/apple_2021.pdf\n",
    "!wget \"https://s2.q4cdn.com/470004039/files/doc_financials/2020/ar/_10-K-2020-(As-Filed).pdf\" -O data/apple_2020.pdf\n",
    "!wget \"https://www.dropbox.com/scl/fi/i6vk884ggtq382mu3whfz/apple_2019_10k.pdf?rlkey=eudxh3muxh7kop43ov4bgaj5i&dl=1\" -O data/apple_2019.pdf\n",
    "\n",
    "# download Tesla\n",
    "!wget \"https://ir.tesla.com/_flysystem/s3/sec/000162828024002390/tsla-20231231-gen.pdf\" -O data/tesla_2023.pdf\n",
    "!wget \"https://ir.tesla.com/_flysystem/s3/sec/000095017023001409/tsla-20221231-gen.pdf\" -O data/tesla_2022.pdf\n",
    "!wget \"https://www.dropbox.com/scl/fi/ptk83fmye7lqr7pz9r6dm/tesla_2021_10k.pdf?rlkey=24kxixeajbw9nru1sd6tg3bye&dl=1\" -O data/tesla_2021.pdf\n",
    "!wget \"https://ir.tesla.com/_flysystem/s3/sec/000156459021004599/tsla-10k_20201231-gen.pdf\" -O data/tesla_2020.pdf\n",
    "!wget \"https://ir.tesla.com/_flysystem/s3/sec/000156459020004475/tsla-10k_20191231-gen_0.pdf\" -O data/tesla_2019.pdf"
   ]
  },
  {
   "cell_type": "markdown",
   "metadata": {},
   "source": [
    "Some OpenAI and LlamaParse details. The OpenAI LLM is used for response synthesis."
   ]
  },
  {
   "cell_type": "code",
   "execution_count": 1,
   "metadata": {},
   "outputs": [],
   "source": [
    "# llama-parse is async-first, running the async code in a notebook requires the use of nest_asyncio\n",
    "import nest_asyncio\n",
    "nest_asyncio.apply()"
   ]
  },
  {
   "cell_type": "code",
   "execution_count": 2,
   "metadata": {},
   "outputs": [],
   "source": [
    "import os\n",
    "# API access to llama-cloud\n",
    "os.environ[\"LLAMA_CLOUD_API_KEY\"] = \"llx-\""
   ]
  },
  {
   "cell_type": "code",
   "execution_count": 3,
   "metadata": {},
   "outputs": [],
   "source": [
    "# Using OpenAI API for embeddings/llms\n",
    "os.environ[\"OPENAI_API_KEY\"] = \"sk-\""
   ]
  },
  {
   "cell_type": "code",
   "execution_count": 3,
   "metadata": {},
   "outputs": [],
   "source": [
    "from llama_index.llms.openai import OpenAI\n",
    "from llama_index.core import VectorStoreIndex, Settings\n",
    "\n",
    "llm = OpenAI(model=\"gpt-4-0125-preview\", temperature=0)\n",
    "\n",
    "Settings.llm = llm"
   ]
  },
  {
   "cell_type": "markdown",
   "metadata": {
    "tags": []
   },
   "source": [
    "## Load Documents into LlamaCloud\n",
    "\n",
    "The first order of business is to download the 5 Apple and Tesla 10Ks and upload them into LlamaCloud.\n",
    "\n",
    "You can easily do this by creating a pipeline and uploading docs via the \"Files\" mode.\n",
    "\n",
    "After this is done, proceed to the next section."
   ]
  },
  {
   "cell_type": "markdown",
   "metadata": {},
   "source": [
    "## Define LlamaCloud Retriever over Documents\n",
    "\n",
    "In this section we define a LlamaCloud Retriever over these SEC 10K Filings. \n",
    "\n",
    "LlamaCloud natively uses LlamaParse + integrated table parsing + indexing to give back a retrieval endpoint over these documents.\n",
    "\n",
    "We primarily use the default settings, without modification."
   ]
  },
  {
   "cell_type": "code",
   "execution_count": 6,
   "metadata": {
    "tags": []
   },
   "outputs": [],
   "source": [
    "from llama_index.indices.managed.llama_cloud import LlamaCloudIndex\n",
    "\n",
    "index = LlamaCloudIndex(\n",
    "  name=\"<index_name>\",\n",
    "  project_name=\"<project_name>\",\n",
    "  api_key=\"llx-\"\n",
    ")"
   ]
  },
  {
   "cell_type": "code",
   "execution_count": 7,
   "metadata": {
    "tags": []
   },
   "outputs": [],
   "source": [
    "query_engine = index.as_query_engine()"
   ]
  },
  {
   "cell_type": "code",
   "execution_count": 9,
   "metadata": {
    "tags": []
   },
   "outputs": [],
   "source": [
    "response = query_engine.query(\"What are risk factors for tesla in 2022\")"
   ]
  },
  {
   "cell_type": "code",
   "execution_count": 10,
   "metadata": {
    "tags": []
   },
   "outputs": [
    {
     "name": "stdout",
     "output_type": "stream",
     "text": [
      "The risk factors for Tesla in 2022 include potential product liability claims that could lead to lawsuits, substantial monetary damages, product recalls or redesign efforts, and the need to defend against even meritless claims, all of which could generate negative publicity and be expensive and time-consuming. Additionally, maintaining public credibility and confidence in Tesla's long-term business prospects is crucial for its success. Challenges also arise from the need to effectively grow and manage the compliance, residual value, financing, and credit risks related to Tesla's various financing programs.\n"
     ]
    }
   ],
   "source": [
    "print(str(response))"
   ]
  },
  {
   "cell_type": "markdown",
   "metadata": {
    "tags": []
   },
   "source": [
    "## Define Custom Sub-Question Query Engine\n",
    "\n",
    "Define a custom query engine with tool retrieval enabled."
   ]
  },
  {
   "cell_type": "code",
   "execution_count": 11,
   "metadata": {
    "tags": []
   },
   "outputs": [],
   "source": [
    "from llama_index.core.query_engine import CustomQueryEngine, SubQuestionQueryEngine\n",
    "from llama_index.core.tools import QueryEngineTool, ToolMetadata"
   ]
  },
  {
   "cell_type": "code",
   "execution_count": 12,
   "metadata": {
    "tags": []
   },
   "outputs": [],
   "source": [
    "query_engine_tool = QueryEngineTool(\n",
    "    query_engine=query_engine,\n",
    "    metadata=ToolMetadata(\n",
    "        name=f\"query_tool\",\n",
    "        description=(\n",
    "            f\"Search tool for Apple or Tesla financials for any year (please specify)\"\n",
    "        )\n",
    "    )\n",
    ")\n",
    "\n",
    "rag_query_engine = SubQuestionQueryEngine.from_defaults(\n",
    "    query_engine_tools=[query_engine_tool],\n",
    "    use_async=True\n",
    ")"
   ]
  },
  {
   "cell_type": "code",
   "execution_count": 13,
   "metadata": {
    "tags": []
   },
   "outputs": [
    {
     "name": "stdout",
     "output_type": "stream",
     "text": [
      "Generated 1 sub questions.\n",
      "\u001b[1;3;38;2;237;90;200m[query_tool] Q: Get Property, plant and equipment assets for Tesla in 2022\n",
      "\u001b[0m\u001b[1;3;38;2;237;90;200m[query_tool] A: The value of Property, Plant, and Equipment assets for Tesla as of December 31, 2022, was $23,548 million.\n",
      "\u001b[0m"
     ]
    }
   ],
   "source": [
    "response = rag_query_engine.query(\n",
    "    \"Get Property, plant and equipment assets for Tesla in 2022\"\n",
    ")"
   ]
  },
  {
   "cell_type": "code",
   "execution_count": 14,
   "metadata": {
    "tags": []
   },
   "outputs": [
    {
     "name": "stdout",
     "output_type": "stream",
     "text": [
      "table_df: {'Assets': {0: 'Current assets', 1: 'Cash and cash equivalents', 2: 'Short-term investments', 3: 'Accounts receivable, net', 4: 'Inventory', 5: 'Prepaid expenses and other current assets', 6: 'Total current assets', 7: 'Operating lease vehicles, net', 8: 'Solar energy systems, net', 9: 'Property, plant and equipment, net', 10: 'Operating lease right-of-use assets', 11: 'Digital assets, net', 12: 'Intangible assets, net', 13: 'Goodwill', 14: 'Deferred tax assets', 15: 'Other non-current assets', 16: 'Total assets'}, 'December 31, 2023': {0: ' ', 1: '$16,398', 2: '$12,696', 3: '$3,508', 4: '$13,626', 5: '$3,388', 6: '$49,616', 7: '$5,989', 8: '$5,229', 9: '$29,725', 10: '$4,180', 11: '$184', 12: '$178', 13: '$253', 14: '$6,733', 15: '$4,531', 16: '$106,618'}, 'December 31, 2022': {0: ' ', 1: '$16,253', 2: '$5,932', 3: '$2,952', 4: '$12,839', 5: '$2,941', 6: '$40,917', 7: '$5,035', 8: '$5,489', 9: '$23,548', 10: '$2,563', 11: '$184', 12: '$215', 13: '$194', 14: '$328', 15: '$3,865', 16: '$82,338'}}\n",
      "table_summary: This table provides a breakdown of the company's assets as of December 31, 2023 and December 31, 2022.,\n",
      "with the following table title:\n",
      "Assets Comparison for December 31, 2023 and December 31, 2022,\n",
      "with the following columns:\n",
      "- Assets: Different categories of assets\n",
      "- December 31, 2023: Values of assets as of December 31, 2023\n",
      "- December 31, 2022: Values of assets as of December 31, 2022\n",
      "\n",
      "file_name: tesla_2023 (1).pdf\n",
      "file_path: tesla_2023 (1).pdf\n",
      "file_type: application/pdf\n",
      "file_size: 984581\n",
      "llx_platform_pipeline_id: 4b11e38b-ba86-4b7a-87ac-936a563fb084\n",
      "llx_platform_loaded_file_id: 2fabeca4-77b4-4cfc-9de8-f84010e5ff0b\n",
      "pipeline_id: 4b11e38b-ba86-4b7a-87ac-936a563fb084\n",
      "\n",
      "This table provides a breakdown of the company's **assets** as of December 31, 2023 and December 31, **2022**.,\n",
      "with the following table title:\n",
      "**Assets** Comparison for December 31, 2023 and December 31, **2022**,\n",
      "with the following columns:\n",
      "- **Assets**: Different categories of **assets**\n",
      "- December 31, 2023: Values of **assets** as of December 31, 2023\n",
      "- December 31, **2022**: Values of **assets** as of December 31, **2022**\n",
      "\n",
      "|**Assets**|December 31, 2023|December 31, **2022**|\n",
      "|---|---|---|\n",
      "|Current **assets**| | |\n",
      "|Cash and cash equivalents|$16,398|$16,253|\n",
      "|Short-term investments|$12,696|$5,932|\n",
      "|Accounts receivable, net|$3,508|$2,952|\n",
      "|Inventory|$13,626|$12,839|\n",
      "|Prepaid expenses and other current **assets**|$3,388|$2,941|\n",
      "|Total current **assets**|$49,616|$40,917|\n",
      "|Operating lease vehicles, net|$5,989|$5,035|\n",
      "|Solar energy systems, net|$5,229|$5,489|\n",
      "|Property, **plant** and **equipment**, net|$29,725|$23,548|\n",
      "|Operating lease right-of-use **assets**|$4,180|$2,563|\n",
      "|Digital **assets**, net|$184|$184|\n",
      "|Intangible **assets**, net|$178|$215|\n",
      "|Goodwill|$253|$194|\n",
      "|Deferred tax **assets**|$6,733|$328|\n",
      "|Other non-current **assets**|$4,531|$3,865|\n",
      "|Total **assets**|$106,618|$82,338|\n"
     ]
    }
   ],
   "source": [
    "print(response.source_nodes[3].get_content(metadata_mode=\"all\"))"
   ]
  },
  {
   "cell_type": "code",
   "execution_count": 15,
   "metadata": {
    "tags": []
   },
   "outputs": [
    {
     "name": "stdout",
     "output_type": "stream",
     "text": [
      "Sub question: Get Property, plant and equipment assets for Tesla in 2022\n",
      "Response: The value of Property, Plant, and Equipment assets for Tesla as of December 31, 2022, was $23,548 million.\n"
     ]
    }
   ],
   "source": [
    "# print(str(response))\n",
    "print(response.source_nodes[0].get_content(metadata_mode=\"all\"))"
   ]
  },
  {
   "cell_type": "code",
   "execution_count": 16,
   "metadata": {
    "tags": []
   },
   "outputs": [
    {
     "name": "stdout",
     "output_type": "stream",
     "text": [
      "The value of Property, Plant, and Equipment assets for Tesla as of December 31, 2022, was $23,548 million.\n"
     ]
    }
   ],
   "source": [
    "print(str(response))"
   ]
  },
  {
   "cell_type": "markdown",
   "metadata": {},
   "source": [
    "## Define Baseline \n",
    "\n",
    "Here we define a baseline index and naive RAG pipeline over these documents.\n",
    "\n",
    "Documents are stored in ChromaDB - after they're indexed they can be loaded directly from Chroma instead of re-indexing/re-embedding all the documents.\n",
    "\n",
    "We retrieve from the index using a standard top-k dense retrieval + generation approach."
   ]
  },
  {
   "cell_type": "markdown",
   "metadata": {},
   "source": [
    "#### Load in Documents using a Baseline Parser\n",
    "\n",
    "Here we load in documents using PyPDF."
   ]
  },
  {
   "cell_type": "code",
   "execution_count": 17,
   "metadata": {
    "tags": []
   },
   "outputs": [
    {
     "name": "stdout",
     "output_type": "stream",
     "text": [
      "('apple', 2019)\n",
      "('apple', 2020)\n",
      "('apple', 2021)\n",
      "('apple', 2022)\n",
      "('apple', 2023)\n",
      "('tesla', 2019)\n",
      "('tesla', 2020)\n",
      "('tesla', 2021)\n",
      "('tesla', 2022)\n",
      "('tesla', 2023)\n"
     ]
    }
   ],
   "source": [
    "from llama_index.core import SimpleDirectoryReader\n",
    "from collections import defaultdict\n",
    "\n",
    "companies = [\"apple\", \"tesla\"]\n",
    "years = list(range(2019, 2024))\n",
    "\n",
    "all_docs_base = defaultdict(dict)\n",
    "for company in companies:\n",
    "    for year in years:\n",
    "        print((company, year))\n",
    "        reader = SimpleDirectoryReader(input_files=[f\"./data/{company}_{year}.pdf\"])\n",
    "        all_docs_base[company][year] = reader.load_data()"
   ]
  },
  {
   "cell_type": "markdown",
   "metadata": {},
   "source": [
    "#### Save Documents to Disk\n",
    "\n",
    "TO save compute time, we define functions to save the parsed docs to disk."
   ]
  },
  {
   "cell_type": "code",
   "execution_count": 17,
   "metadata": {
    "tags": []
   },
   "outputs": [],
   "source": [
    "# save to disk\n",
    "import json\n",
    "\n",
    "def save_docs(save_dir, all_docs, companies, years):\n",
    "    for company in companies:\n",
    "        for year in years:\n",
    "            docs_list = [d.dict() for d in all_docs[company][year]]\n",
    "            json_str = json.dumps(docs_list)\n",
    "            with open(f\"parsed_docs/{company}_{year}.json\", \"w\") as fp:\n",
    "                fp.write(json_str)"
   ]
  },
  {
   "cell_type": "code",
   "execution_count": 19,
   "metadata": {
    "tags": []
   },
   "outputs": [],
   "source": [
    "# load from disk\n",
    "from llama_index.core import Document\n",
    "import json\n",
    "\n",
    "def load_docs(save_dir, companies, years):\n",
    "    tmp_all_docs = defaultdict(dict)\n",
    "    for company in companies:\n",
    "        for year in years:\n",
    "            docs_list = json.load(open(f\"parsed_docs/{company}_{year}.json\", \"r\"))\n",
    "            docs = [Document.parse_obj(d) for d in docs_list]\n",
    "            tmp_all_docs[company][year] = docs\n",
    "    return tmp_all_docs"
   ]
  },
  {
   "cell_type": "code",
   "execution_count": 27,
   "metadata": {
    "tags": []
   },
   "outputs": [],
   "source": [
    "# save to disk\n",
    "save_docs(\"parsed_docs_base\", all_docs_base, companies, years)"
   ]
  },
  {
   "cell_type": "code",
   "execution_count": null,
   "metadata": {},
   "outputs": [],
   "source": [
    "# load from disk\n",
    "all_docs_base = load_docs(\"parsed_docs_base\", companies, years)"
   ]
  },
  {
   "cell_type": "code",
   "execution_count": null,
   "metadata": {},
   "outputs": [],
   "source": [
    "all_docs_base_list = []\n",
    "\n",
    "for company in companies:\n",
    "    for year in years:\n",
    "        all_docs_base_list.extend(all_docs_base[company][year])"
   ]
  },
  {
   "cell_type": "markdown",
   "metadata": {},
   "source": [
    "#### Index via ChromaDB\n",
    "\n",
    "We process the documents through a naive RAG pipeline and put into a local Chroma instance."
   ]
  },
  {
   "cell_type": "code",
   "execution_count": 21,
   "metadata": {
    "tags": []
   },
   "outputs": [],
   "source": [
    "import chromadb\n",
    "from llama_index.vector_stores.chroma import ChromaVectorStore\n",
    "from llama_index.core import StorageContext, VectorStoreIndex"
   ]
  },
  {
   "cell_type": "code",
   "execution_count": null,
   "metadata": {
    "tags": []
   },
   "outputs": [],
   "source": [
    "## Option 1: Run this cell if you haven't loaded documents into Chroma yet.\n",
    "db = chromadb.PersistentClient(path=\"./chroma_db\")\n",
    "chroma_collection = db.get_or_create_collection(\"quickstart\")\n",
    "vector_store = ChromaVectorStore(chroma_collection=chroma_collection)\n",
    "storage_context = StorageContext.from_defaults(vector_store=vector_store)\n",
    "\n",
    "index = VectorStoreIndex.from_documents(\n",
    "    all_docs_base_list, storage_context=storage_context, show_progress=True\n",
    ")"
   ]
  },
  {
   "cell_type": "code",
   "execution_count": null,
   "metadata": {},
   "outputs": [],
   "source": [
    "## Option 2: Run this cell if you want to load an index from an existing populated Chroma index.\n",
    "db2 = chromadb.PersistentClient(path=\"./chroma_db\")\n",
    "chroma_collection = db2.get_or_create_collection(\"quickstart\")\n",
    "vector_store = ChromaVectorStore(chroma_collection=chroma_collection)\n",
    "index = VectorStoreIndex.from_vector_store(\n",
    "    vector_store,\n",
    ")"
   ]
  },
  {
   "cell_type": "code",
   "execution_count": 23,
   "metadata": {
    "tags": []
   },
   "outputs": [],
   "source": [
    "base_query_engine = index.as_query_engine(similarity_top_k=5)"
   ]
  },
  {
   "cell_type": "code",
   "execution_count": 24,
   "metadata": {
    "tags": []
   },
   "outputs": [
    {
     "name": "stdout",
     "output_type": "stream",
     "text": [
      "The information provided does not include data on Tesla's property, plant, and equipment assets for 2021.\n"
     ]
    }
   ],
   "source": [
    "response = base_query_engine.query(\"Get Property, plant and equipment assets for Tesla in 2021\")\n",
    "print(str(response))"
   ]
  },
  {
   "cell_type": "markdown",
   "metadata": {},
   "source": [
    "## Try out Some Comparisons\n",
    "\n",
    "We're now ready to try out some comparison queries. We compare our sub-question + LlamaCloud query engine against the baseline query engine.\n",
    "\n",
    "We show that our advanced query engine outperforms on questions over single documents (which doesn't leverage the sub-question query engine but relies on the parsing/retrieval capability of the LlamaCloud index), as well as over multi-documents (which does rely on the sub-question query engine to break down questions)."
   ]
  },
  {
   "cell_type": "code",
   "execution_count": 25,
   "metadata": {
    "tags": []
   },
   "outputs": [],
   "source": [
    "questions = [\n",
    "    \"Get Property, plant and equipment assets for Tesla in 2022\",\n",
    "    \"What are the excess tax benefits from equity awards in 2023 for Apple and Tesla\", \n",
    "    \"Payments for acquisition of property, plant and equipment for Apple in 2020?\",\n",
    "    \"Get cash / cash equivalents for 2021 and 2023 for Tesla\",\n",
    "    \"Tell me risk factors for both Tesla and Apple in 2023\"\n",
    "]"
   ]
  },
  {
   "cell_type": "code",
   "execution_count": 26,
   "metadata": {},
   "outputs": [
    {
     "name": "stdout",
     "output_type": "stream",
     "text": [
      "Question: Get Property, plant and equipment assets for Tesla in 2022\n",
      "Generated 1 sub questions.\n",
      "\u001b[1;3;38;2;237;90;200m[query_tool] Q: Get Property, plant and equipment assets for Tesla in 2022\n",
      "\u001b[0m\u001b[1;3;38;2;237;90;200m[query_tool] A: The value of Property, Plant, and Equipment assets for Tesla as of December 31, 2022, was $23,548 million.\n",
      "\u001b[0mResponse: The value of Property, Plant, and Equipment assets for Tesla as of December 31, 2022, was $23,548 million.\n",
      "Base Response: The information provided does not include data on Tesla's property, plant, and equipment assets for 2022.\n",
      "Question: What are the excess tax benefits from equity awards in 2023 for Apple and Tesla\n",
      "Generated 2 sub questions.\n",
      "\u001b[1;3;38;2;237;90;200m[query_tool] Q: What are the excess tax benefits from equity awards in 2023 for Apple?\n",
      "\u001b[0m\u001b[1;3;38;2;90;149;237m[query_tool] Q: What are the excess tax benefits from equity awards in 2023 for Tesla?\n",
      "\u001b[0m\u001b[1;3;38;2;237;90;200m[query_tool] A: The excess tax benefits from equity awards in 2023 for Apple were ($1,120) million.\n",
      "\u001b[0m\u001b[1;3;38;2;90;149;237m[query_tool] A: The excess tax benefits from equity awards for Tesla in 2023 were $326 million.\n",
      "\u001b[0mResponse: The excess tax benefits from equity awards in 2023 for Apple were ($1,120) million, and for Tesla, they were $326 million.\n",
      "Base Response: The provided context information does not include details about the excess tax benefits from equity awards for either Apple or Tesla in 2023.\n",
      "Question: Payments for acquisition of property, plant and equipment for Apple in 2020?\n",
      "Generated 1 sub questions.\n",
      "\u001b[1;3;38;2;237;90;200m[query_tool] Q: Payments for acquisition of property, plant and equipment for Apple in 2020?\n",
      "\u001b[0m\u001b[1;3;38;2;237;90;200m[query_tool] A: The payments for the acquisition of property, plant, and equipment for Apple in 2020 were $7.3 billion.\n",
      "\u001b[0mResponse: The payments for the acquisition of property, plant, and equipment for Apple in 2020 were $7.3 billion.\n",
      "Base Response: The information provided does not include data on payments for the acquisition of property, plant, and equipment for Apple in 2020.\n",
      "Question: Get cash / cash equivalents for 2021 and 2023 for Tesla\n",
      "Generated 2 sub questions.\n",
      "\u001b[1;3;38;2;237;90;200m[query_tool] Q: Get cash / cash equivalents for 2021 for Tesla\n",
      "\u001b[0m\u001b[1;3;38;2;90;149;237m[query_tool] Q: Get cash / cash equivalents for 2023 for Tesla\n",
      "\u001b[0m\u001b[1;3;38;2;90;149;237m[query_tool] A: As of December 31, 2023, Tesla had $16.40 billion in cash and cash equivalents.\n",
      "\u001b[0m\u001b[1;3;38;2;237;90;200m[query_tool] A: As of December 31, 2021, Tesla had $17.58 billion of cash and cash equivalents.\n",
      "\u001b[0mResponse: As of December 31, 2021, Tesla had $17.58 billion of cash and cash equivalents. By December 31, 2023, this amount had changed to $16.40 billion in cash and cash equivalents.\n",
      "Base Response: The information provided does not include cash or cash equivalents data for Tesla for 2021 or 2023.\n",
      "Question: Tell me risk factors for both Tesla and Apple in 2023\n",
      "Generated 2 sub questions.\n",
      "\u001b[1;3;38;2;237;90;200m[query_tool] Q: What are the financial risk factors for Tesla in 2023?\n",
      "\u001b[0m\u001b[1;3;38;2;90;149;237m[query_tool] Q: What are the financial risk factors for Apple in 2023?\n",
      "\u001b[0m\u001b[1;3;38;2;237;90;200m[query_tool] A: In 2023, Tesla faces several financial risk factors, including:\n",
      "\n",
      "1. Resale Value Guarantees: Tesla has provided resale value guarantees to vehicle customers and partners for certain financing programs. If the actual resale values of vehicles resold or returned to Tesla under these programs are materially lower than the pre-determined amounts, Tesla's financial condition and operating results could be adversely affected.\n",
      "\n",
      "2. Customer Credit Risk: Tesla's vehicle and solar energy system financing programs, as well as its energy storage sales programs, expose the company to customer credit risk. In the event of a widespread economic downturn or other catastrophic event, customers may be unable or unwilling to fulfill their payment obligations, potentially leading to substantial credit losses and/or impairment charges for Tesla.\n",
      "\n",
      "3. Obligations under Agreements: Tesla must manage ongoing obligations under its agreement with the Research Foundation for the State University of New York relating to Gigafactory New York. Failure to meet future obligations under this agreement could result in significant financial penalties, termination of the lease at Gigafactory New York, and/or adjustments to operations, all of which could harm Tesla's business and financial condition.\n",
      "\n",
      "4. Employee Retention and Compensation: Tesla's ability to attract, hire, and retain key employees and qualified personnel is crucial for its competitiveness. The loss of key employees, inability to attract and retain a skilled workforce, or failure to obtain stockholder approvals for future increases in equity awards could negatively impact Tesla's financial condition and operating results.\n",
      "\n",
      "5. External Factors: Events outside of Tesla's control, such as natural disasters, wars, health epidemics, and government laws and regulations, could adversely affect its operations, production facilities, supply chains, and financial condition. These include the impact of natural disasters on Tesla's factories, the global COVID-19 pandemic, geopolitical conflicts, and changes in government and economic incentives for electric vehicles and renewable energy products.\n",
      "\n",
      "These risk factors highlight the challenges Tesla may face in maintaining its financial stability and growth prospects in 2023.\n",
      "\u001b[0m\u001b[1;3;38;2;90;149;237m[query_tool] A: In 2023, Apple Inc. faces several financial risk factors that could materially adversely affect its business, reputation, results of operations, and financial condition. These risks include:\n",
      "\n",
      "1. **Fluctuations in Quarterly Net Sales and Operations**: Apple expects its quarterly net sales and results of operations to fluctuate due to various factors such as product mix, geographic, currency or channel mix changes, supply shortages, and the cost of components.\n",
      "\n",
      "2. **Foreign Exchange Rate Fluctuations**: The company's financial performance is subject to risks associated with changes in the value of the U.S. dollar relative to local currencies. This exposure could materially adversely affect gross margins and the U.S. dollar value of the company's foreign currency–denominated sales and earnings.\n",
      "\n",
      "3. **Credit Risk and Investment Portfolio Fluctuations**: Apple is exposed to credit risk and fluctuations in the values of its investment portfolio, which can be negatively affected by changes in liquidity, credit deterioration, market and economic conditions, political risk, sovereign risk, and interest rate fluctuations.\n",
      "\n",
      "4. **Credit Risk on Trade Accounts Receivable and Vendor Non-Trade Receivables**: The company faces credit risk on its trade accounts receivable, vendor non-trade receivables, and prepayments related to long-term supply agreements, especially during periods of worsening economic conditions.\n",
      "\n",
      "5. **Tax Rate Changes and New Tax Legislation**: Apple is subject to changes in tax rates, the adoption of new U.S. or international tax legislation, and exposure to additional tax liabilities, which could materially adversely affect its business and financial condition.\n",
      "\n",
      "6. **Product and Service Design and Manufacturing Defects**: The company's products and services may be affected by design and manufacturing defects, which could result in harm to Apple's reputation and lead to significant warranty and other expenses.\n",
      "\n",
      "7. **Inventory and Asset Write-Downs**: Apple is at risk of write-downs on the value of its inventory and other assets, in addition to purchase commitment cancellation risk, which could result from rapid and unpredictable product obsolescence.\n",
      "\n",
      "8. **Manufacturing Purchase Obligations**: The volatile, competitive, and rapidly changing nature of Apple's markets poses a risk of forecasting incorrectly and ordering or producing excess or insufficient amounts of components or products.\n",
      "\n",
      "9. **Reliance on Third-Party Intellectual Property**: Apple relies on access to third-party intellectual property, which may not be available on commercially reasonable terms or at all, potentially affecting the company's ability to offer certain products or services.\n",
      "\n",
      "These financial risk factors highlight the challenges Apple Inc. may face in maintaining its financial stability and growth in 2023.\n",
      "\u001b[0mResponse: In 2023, Tesla and Apple both face a variety of financial risk factors that could impact their operations and financial health.\n",
      "\n",
      "For Tesla, the key financial risk factors include:\n",
      "1. The potential for lower-than-expected resale values of vehicles, which could negatively affect the company's financial condition and operating results.\n",
      "2. Exposure to customer credit risk through its vehicle and solar energy system financing programs, as well as its energy storage sales programs, which could lead to credit losses and impairment charges.\n",
      "3. Obligations under its agreement with the Research Foundation for the State University of New York related to Gigafactory New York, where failure to meet obligations could result in financial penalties or operational adjustments.\n",
      "4. Challenges in employee retention and compensation, which are crucial for maintaining competitiveness and operational success.\n",
      "5. External factors such as natural disasters, wars, health epidemics, and changes in government laws and regulations, which could disrupt operations, production facilities, supply chains, and financial condition.\n",
      "\n",
      "For Apple, the financial risk factors include:\n",
      "1. Fluctuations in quarterly net sales and operations due to factors like product mix changes, supply shortages, and component costs.\n",
      "2. Risks associated with foreign exchange rate fluctuations, which could affect gross margins and the value of foreign currency–denominated sales and earnings.\n",
      "3. Credit risk and investment portfolio fluctuations, influenced by market conditions, political risk, and interest rate changes.\n",
      "4. Credit risk on trade accounts receivable and vendor non-trade receivables, particularly during economic downturns.\n",
      "5. Potential impacts of tax rate changes, new tax legislation, and exposure to additional tax liabilities.\n",
      "6. Risks related to product and service design and manufacturing defects, which could harm the company's reputation and lead to significant expenses.\n",
      "7. The possibility of inventory and asset write-downs due to product obsolescence.\n",
      "8. Manufacturing purchase obligations risks, stemming from the volatile and rapidly changing market.\n",
      "9. Reliance on third-party intellectual property, which may not always be available on favorable terms.\n",
      "\n",
      "These factors highlight the financial challenges and uncertainties that both Tesla and Apple may encounter throughout 2023.\n",
      "Base Response: The risk factors for Apple in 2023 include macroeconomic and industry risks, such as adverse global and regional economic conditions that could materially affect the company's business, results of operations, and financial condition. The company's international operations and complex global supply chain, with a majority of supplier facilities located outside the U.S., make it significantly dependent on global and regional economic conditions. Adverse macroeconomic conditions like slow growth, recession, high unemployment, inflation, tighter credit, higher interest rates, and currency fluctuations could adversely impact consumer confidence and spending, thereby affecting demand for Apple's products and services. Additionally, uncertainty or decline in global or regional economic conditions could impact the company's suppliers, contract manufacturers, logistics providers, distributors, cellular network carriers, and other channel partners, potentially leading to financial instability, inability to obtain credit, and insolvency.\n",
      "\n",
      "Apple also faces risks from political events, trade and international disputes, war, terrorism, natural disasters, public health issues, industrial accidents, and other business interruptions that could harm or disrupt international commerce and the global economy. The company's exposure to credit risk on its trade accounts receivable and vendor non-trade receivables is heightened during periods when economic conditions worsen, posing a risk to its financial stability.\n",
      "\n",
      "The company operates in highly competitive global markets subject to rapid technological change, which could challenge its ability to compete effectively. Apple's ability to maintain its competitive edge depends heavily on the timely introduction of innovative new products, services, and technologies. Significant investments in research and development are required, with no assurance of expected returns. The company's financial performance is also subject to changes in tax rates, the adoption of new U.S. or international tax legislation, and exposure to additional tax liabilities.\n",
      "\n",
      "Lastly, the price of Apple's stock is subject to volatility, which could materially impact investor confidence and employee retention. These factors, among others, represent significant risks that could materially and adversely affect Apple's business, reputation, results of operations, financial condition, and stock price.\n",
      "\n",
      "For Tesla, the query does not provide specific information, so I cannot provide details on Tesla's risk factors for 2023.\n"
     ]
    }
   ],
   "source": [
    "responses = []\n",
    "base_responses = []\n",
    "for question in questions:\n",
    "    print(f\"Question: {question}\")\n",
    "    response = rag_query_engine.query(question) \n",
    "    print(f\"Response: {str(response)}\")\n",
    "    base_response = base_query_engine.query(question)\n",
    "    print(f\"Base Response: {str(base_response)}\")\n",
    "    responses.append(response)\n",
    "    base_responses.append(base_response)"
   ]
  },
  {
   "cell_type": "code",
   "execution_count": null,
   "metadata": {},
   "outputs": [],
   "source": []
  }
 ],
 "metadata": {
  "kernelspec": {
   "display_name": "llama_index_v3",
   "language": "python",
   "name": "llama_index_v3"
  },
  "language_info": {
   "codemirror_mode": {
    "name": "ipython",
    "version": 3
   },
   "file_extension": ".py",
   "mimetype": "text/x-python",
   "name": "python",
   "nbconvert_exporter": "python",
   "pygments_lexer": "ipython3",
   "version": "3.10.8"
  }
 },
 "nbformat": 4,
 "nbformat_minor": 4
}
