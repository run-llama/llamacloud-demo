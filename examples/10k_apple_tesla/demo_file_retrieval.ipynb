{
 "cells": [
  {
   "cell_type": "markdown",
   "metadata": {},
   "source": [
    "# File-level Retrieval with LlamaCloud\n",
    "\n",
    "<a href=\"https://colab.research.google.com/github/run-llama/llamacloud-demo/blob/main/examples/10k_apple_tesla/demo_file_retrieval.ipynb\" target=\"_parent\"><img src=\"https://colab.research.google.com/assets/colab-badge.svg\" alt=\"Open In Colab\"/></a>\n",
    "\n",
    "In this notebook we show you how to perform file-level retrieval with LlamaCloud. File-level retrieval is useful for handling user questions that require the entire document context to properly answer the question. We first show you how to build a file-level and chunk-level retriever / query engine. \n",
    "\n",
    "Since only doing file-level retrieval can be slow + expensive, we also show you how to build an agent that can dynamically decide whether to do file-level or chunk-level retrieval! "
   ]
  },
  {
   "cell_type": "markdown",
   "metadata": {},
   "source": [
    "## Setup\n",
    "\n",
    "Install core packages, download files. You will need to upload these documents to LlamaCloud."
   ]
  },
  {
   "cell_type": "code",
   "execution_count": null,
   "metadata": {},
   "outputs": [],
   "source": [
    "!pip install llama-index\n",
    "!pip install llama-index-core\n",
    "!pip install llama-index-embeddings-openai\n",
    "!pip install llama-index-question-gen-openai\n",
    "!pip install llama-index-postprocessor-flag-embedding-reranker\n",
    "!pip install git+https://github.com/FlagOpen/FlagEmbedding.git\n",
    "!pip install llama-parse"
   ]
  },
  {
   "cell_type": "code",
   "execution_count": null,
   "metadata": {},
   "outputs": [],
   "source": [
    "# download Apple \n",
    "!wget \"https://s2.q4cdn.com/470004039/files/doc_earnings/2023/q4/filing/_10-K-Q4-2023-As-Filed.pdf\" -O data/apple_2023.pdf\n",
    "!wget \"https://s2.q4cdn.com/470004039/files/doc_financials/2022/q4/_10-K-2022-(As-Filed).pdf\" -O data/apple_2022.pdf\n",
    "!wget \"https://s2.q4cdn.com/470004039/files/doc_financials/2021/q4/_10-K-2021-(As-Filed).pdf\" -O data/apple_2021.pdf\n",
    "!wget \"https://s2.q4cdn.com/470004039/files/doc_financials/2020/ar/_10-K-2020-(As-Filed).pdf\" -O data/apple_2020.pdf\n",
    "!wget \"https://www.dropbox.com/scl/fi/i6vk884ggtq382mu3whfz/apple_2019_10k.pdf?rlkey=eudxh3muxh7kop43ov4bgaj5i&dl=1\" -O data/apple_2019.pdf\n",
    "\n",
    "# download Tesla\n",
    "!wget \"https://ir.tesla.com/_flysystem/s3/sec/000162828024002390/tsla-20231231-gen.pdf\" -O data/tesla_2023.pdf\n",
    "!wget \"https://ir.tesla.com/_flysystem/s3/sec/000095017023001409/tsla-20221231-gen.pdf\" -O data/tesla_2022.pdf\n",
    "!wget \"https://www.dropbox.com/scl/fi/ptk83fmye7lqr7pz9r6dm/tesla_2021_10k.pdf?rlkey=24kxixeajbw9nru1sd6tg3bye&dl=1\" -O data/tesla_2021.pdf\n",
    "!wget \"https://ir.tesla.com/_flysystem/s3/sec/000156459021004599/tsla-10k_20201231-gen.pdf\" -O data/tesla_2020.pdf\n",
    "!wget \"https://ir.tesla.com/_flysystem/s3/sec/000156459020004475/tsla-10k_20191231-gen_0.pdf\" -O data/tesla_2019.pdf"
   ]
  },
  {
   "cell_type": "markdown",
   "metadata": {},
   "source": [
    "Some OpenAI and LlamaParse details. The OpenAI LLM is used for response synthesis."
   ]
  },
  {
   "cell_type": "code",
   "execution_count": 1,
   "metadata": {},
   "outputs": [],
   "source": [
    "# llama-parse is async-first, running the async code in a notebook requires the use of nest_asyncio\n",
    "import nest_asyncio\n",
    "nest_asyncio.apply()"
   ]
  },
  {
   "cell_type": "code",
   "execution_count": 2,
   "metadata": {},
   "outputs": [],
   "source": [
    "import os\n",
    "# API access to llama-cloud\n",
    "os.environ[\"LLAMA_CLOUD_API_KEY\"] = \"llx-\""
   ]
  },
  {
   "cell_type": "code",
   "execution_count": 3,
   "metadata": {},
   "outputs": [],
   "source": [
    "# Using OpenAI API for embeddings/llms\n",
    "os.environ[\"OPENAI_API_KEY\"] = \"sk-\""
   ]
  },
  {
   "cell_type": "markdown",
   "metadata": {
    "tags": []
   },
   "source": [
    "## Load Documents into LlamaCloud\n",
    "\n",
    "The first order of business is to download the 5 Apple and Tesla 10Ks and upload them into LlamaCloud.\n",
    "\n",
    "You can easily do this by creating a pipeline and uploading docs via the \"Files\" mode.\n",
    "\n",
    "After this is done, proceed to the next section."
   ]
  },
  {
   "cell_type": "markdown",
   "metadata": {},
   "source": [
    "## Define LlamaCloud File/Chunk Retriever over Documents\n",
    "\n",
    "In this section we define both a file-level and chunk-level LlamaCloud Retriever over these documents.\n",
    "\n",
    "The file-level LlamaCloud retriever returns entire documents with a `files_top_k`. There are two retrieval modes:\n",
    "- `files_via_content`: Retrieve top-k chunks, dereference into source files. Use a weighted average heuristic to determine the top files to return.\n",
    "- `files_via_metadata`: Use an LLM to analyze the metadata of each file, and determine the top files that are most relevant to the query.\n",
    "\n",
    "The chunk-level LlamaCloud retriever is our default retriever that returns chunks via hybrid search + reranking."
   ]
  },
  {
   "cell_type": "code",
   "execution_count": 3,
   "metadata": {
    "tags": []
   },
   "outputs": [],
   "source": [
    "from llama_index.indices.managed.llama_cloud import LlamaCloudIndex\n",
    "import os\n",
    "\n",
    "index = LlamaCloudIndex(\n",
    "  name=\"apple_tesla_demo_base\",\n",
    "  project_name=\"llamacloud_demo\",\n",
    "  api_key=os.environ[\"LLAMA_CLOUD_API_KEY\"]\n",
    ")"
   ]
  },
  {
   "cell_type": "markdown",
   "metadata": {},
   "source": [
    "#### Define File Retriever\n",
    "\n",
    "In this section we define the file-level retriever. By default we use `retrieval_mode=\"files_via_content\"`, but you can also change it to `files_via_metadata`."
   ]
  },
  {
   "cell_type": "code",
   "execution_count": 4,
   "metadata": {},
   "outputs": [],
   "source": [
    "doc_retriever = index.as_retriever(\n",
    "    retrieval_mode=\"files_via_content\",\n",
    "    # retrieval_mode=\"files_via_metadata\",\n",
    "    files_top_k=1\n",
    ")"
   ]
  },
  {
   "cell_type": "code",
   "execution_count": 5,
   "metadata": {},
   "outputs": [],
   "source": [
    "nodes = doc_retriever.retrieve(\"Give me a summary of Tesla in 2019\") "
   ]
  },
  {
   "cell_type": "code",
   "execution_count": null,
   "metadata": {
    "scrolled": true
   },
   "outputs": [],
   "source": [
    "print(len(nodes))\n",
    "print(nodes[0].get_content(metadata_mode=\"all\"))"
   ]
  },
  {
   "cell_type": "code",
   "execution_count": 13,
   "metadata": {
    "tags": []
   },
   "outputs": [],
   "source": [
    "from llama_index.core.query_engine import RetrieverQueryEngine\n",
    "from llama_index.llms.openai import OpenAI\n",
    "\n",
    "llm = OpenAI(model=\"gpt-4o-mini\")\n",
    "query_engine_doc = RetrieverQueryEngine.from_args(\n",
    "    doc_retriever, \n",
    "    llm=llm,\n",
    "    response_mode=\"tree_summarize\"\n",
    ")"
   ]
  },
  {
   "cell_type": "code",
   "execution_count": 9,
   "metadata": {},
   "outputs": [
    {
     "name": "stdout",
     "output_type": "stream",
     "text": [
      "In 2019, Tesla, Inc. made significant strides in its mission to promote sustainable energy through the production of electric vehicles, solar energy systems, and energy storage solutions. The company achieved record vehicle deliveries and production, with 367,656 vehicles delivered and 365,232 produced. Key developments included the start of Model 3 production at Gigafactory Shanghai, preparations for Model Y production, and the unveiling of the Cybertruck. Enhancements to Autopilot and Full Self-Driving features improved user experience.\n",
      "\n",
      "In the energy sector, Tesla saw a 48% increase in solar deployments in the latter half of the year and deployed 1.65 GWh of energy storage. Notable products launched included the third generation of the Solar Roof and the Megapack for utility-scale energy storage.\n",
      "\n",
      "Financially, Tesla reported revenues of $24.58 billion, a 15% increase from the previous year, although it faced a net loss of $862 million, an improvement from the prior year's loss. The gross margin for automotive sales decreased slightly due to lower selling prices and a higher proportion of Model 3 sales.\n",
      "\n",
      "Tesla's governance included a classified board of directors and measures to deter hostile takeovers. The company also secured a RMB 9 billion loan for its Gigafactory in Shanghai, reflecting its strategic partnerships for funding. Overall, 2019 was a year of growth and innovation for Tesla, positioning it for further expansion in the electric vehicle and renewable energy markets.\n"
     ]
    }
   ],
   "source": [
    "response = query_engine_doc.query(\"Give me a summary of Tesla in 2019\")\n",
    "print(str(response))"
   ]
  },
  {
   "cell_type": "markdown",
   "metadata": {},
   "source": [
    "#### Define chunk retriever\n",
    "\n",
    "The chunk-level retriever does vector search with a final reranked set of `rerank_top_n=5`."
   ]
  },
  {
   "cell_type": "code",
   "execution_count": 14,
   "metadata": {},
   "outputs": [],
   "source": [
    "chunk_retriever = index.as_retriever(\n",
    "    retrieval_mode=\"chunks\",\n",
    "    rerank_top_n=5\n",
    ")\n",
    "\n",
    "llm = OpenAI(model=\"gpt-4o-mini\")\n",
    "query_engine_chunk = RetrieverQueryEngine.from_args(\n",
    "    chunk_retriever, \n",
    "    llm=llm,\n",
    "    response_mode=\"tree_summarize\"\n",
    ")"
   ]
  },
  {
   "cell_type": "markdown",
   "metadata": {},
   "source": [
    "## Build an Agent\n",
    "\n",
    "In this section we build an agent that takes in both file-level and chunk-level query engines as tools. It decides which query engine to call depending on the nature of this question."
   ]
  },
  {
   "cell_type": "code",
   "execution_count": 15,
   "metadata": {},
   "outputs": [],
   "source": [
    "from llama_index.core.tools import FunctionTool, ToolMetadata, QueryEngineTool\n",
    "\n",
    "\n",
    "# this variable tells the agent specific properties about your document.\n",
    "doc_metadata_extra_str = \"\"\"\\\n",
    "Each document represents a complete 10K report for a given year (e.g. Apple in 2019). \n",
    "Here's an example of relevant documents:\n",
    "1. apple_2019.pdf\n",
    "2. tesla_2020.pdf\n",
    "\"\"\"\n",
    "\n",
    "tool_doc_description = f\"\"\"\\\n",
    "Synthesizes an answer to your question by feeding in an entire relevant document as context. Best used for higher-level summarization questions.\n",
    "Do NOT use if the answer can be found in a specific chunk of a given document. Use the chunk_query_engine instead for that purpose.\n",
    "\n",
    "Below we give details on the format of each document:\n",
    "{doc_metadata_extra_str}\n",
    "\n",
    "\"\"\"\n",
    "\n",
    "tool_chunk_description = f\"\"\"\\\n",
    "Synthesizes an answer to your question by feeding in a relevant chunk as context. Best used for questions that are more pointed in nature.\n",
    "Do NOT use if the question asks seems to require a general summary of any given document. Use the doc_query_engine instead for that purpose.\n",
    "\n",
    "Below we give details on the format of each document:\n",
    "{doc_metadata_extra_str}\n",
    "\"\"\"\n",
    "\n",
    "tool_doc = QueryEngineTool(\n",
    "    query_engine=query_engine_doc,\n",
    "    metadata=ToolMetadata(\n",
    "        name=\"doc_query_engine\",\n",
    "        description=tool_doc_description\n",
    "    ),\n",
    ")\n",
    "tool_chunk = QueryEngineTool(\n",
    "    query_engine=query_engine_chunk,\n",
    "    metadata=ToolMetadata(\n",
    "        name=\"chunk_query_engine\",\n",
    "        description=tool_chunk_description\n",
    "    ),\n",
    ")"
   ]
  },
  {
   "cell_type": "code",
   "execution_count": 18,
   "metadata": {
    "tags": []
   },
   "outputs": [],
   "source": [
    "from llama_index.core.agent import FunctionCallingAgentWorker\n",
    "from llama_index.core.agent import AgentRunner\n",
    "from llama_index.llms.openai import OpenAI\n",
    "\n",
    "llm_agent = OpenAI(model=\"gpt-4o\")\n",
    "agent = FunctionCallingAgentWorker.from_tools(\n",
    "    [tool_doc, tool_chunk], llm=llm_agent, verbose=True\n",
    ").as_agent()"
   ]
  },
  {
   "cell_type": "code",
   "execution_count": 19,
   "metadata": {},
   "outputs": [
    {
     "name": "stdout",
     "output_type": "stream",
     "text": [
      "Added user message to memory: Tell me the revenue for Apple and Tesla in 2021?\n",
      "=== Calling Function ===\n",
      "Calling function: chunk_query_engine with args: {\"input\": \"What was Apple's revenue in 2021?\"}\n",
      "=== Function Output ===\n",
      "Apple's revenue in 2021 was $365.8 billion, which includes net sales from various regions and product categories.\n",
      "=== Calling Function ===\n",
      "Calling function: chunk_query_engine with args: {\"input\": \"What was Tesla's revenue in 2021?\"}\n",
      "=== Function Output ===\n",
      "Tesla's total revenue in 2021 was $53,823 million.\n",
      "=== LLM Response ===\n",
      "In 2021, Apple's revenue was $365.8 billion, while Tesla's revenue was $53.823 billion.\n"
     ]
    }
   ],
   "source": [
    "response = agent.chat(\"Tell me the revenue for Apple and Tesla in 2021?\")"
   ]
  },
  {
   "cell_type": "code",
   "execution_count": 20,
   "metadata": {},
   "outputs": [
    {
     "name": "stdout",
     "output_type": "stream",
     "text": [
      "Added user message to memory: Tell me the tailwinds for Apple and Tesla in 2021?\n",
      "=== Calling Function ===\n",
      "Calling function: chunk_query_engine with args: {\"input\": \"What were the tailwinds for Apple in 2021?\"}\n",
      "=== Function Output ===\n",
      "In 2021, Apple experienced several positive factors contributing to its growth. Key tailwinds included increased net sales of iPhone, Services, and Mac across various regions, including the Americas, Europe, Greater China, Japan, and the Rest of Asia Pacific. Additionally, favorable currency movements, particularly the strength of the Chinese renminbi and the impact of foreign currencies in Europe and the Rest of Asia Pacific, positively influenced net sales. The successful launch of new iPhone models and a favorable mix of iPhone sales also played a significant role in driving revenue growth.\n",
      "=== Calling Function ===\n",
      "Calling function: chunk_query_engine with args: {\"input\": \"What were the tailwinds for Tesla in 2021?\"}\n",
      "=== Function Output ===\n",
      "In 2021, Tesla experienced several tailwinds that contributed to its growth and success. Key factors included:\n",
      "\n",
      "1. **Increased Vehicle Production and Deliveries**: Tesla produced 930,422 vehicles and delivered 936,222, reflecting a strong ramp-up in production capacity and operational efficiency.\n",
      "\n",
      "2. **Revenue Growth**: The company recognized total revenues of $53.82 billion, a 71% increase compared to the previous year, driven by higher vehicle deliveries and expanding operations.\n",
      "\n",
      "3. **Focus on Affordability and Cost Reduction**: Efforts to reduce production costs and localize procurement allowed Tesla to competitively price its vehicles, particularly in key markets like China.\n",
      "\n",
      "4. **Expansion of Manufacturing Capacity**: The construction and ramping of new factories, including Gigafactory Berlin and Gigafactory Texas, positioned Tesla to meet growing demand and enhance production capabilities.\n",
      "\n",
      "5. **Growing Demand for Electric Vehicles**: The ongoing electrification of the automotive sector and increasing environmental awareness among consumers contributed to heightened demand for Tesla's electric vehicles.\n",
      "\n",
      "6. **Energy Products Growth**: Tesla deployed significant amounts of energy storage products and solar energy systems, indicating strong demand in its energy generation and storage segment.\n",
      "\n",
      "7. **Technological Advancements**: Continuous improvements in battery technology and vehicle functionality, including advancements in Autopilot and Full Self-Driving (FSD) capabilities, enhanced the appeal of Tesla's offerings.\n",
      "\n",
      "8. **Positive Cash Flow**: The company generated cash flow from operations that exceeded its capital expenditures, allowing for reinvestment in growth initiatives.\n",
      "\n",
      "These factors collectively supported Tesla's performance and strategic objectives throughout 2021.\n",
      "=== LLM Response ===\n",
      "### Apple Tailwinds in 2021:\n",
      "1. **Increased Net Sales**: Significant growth in net sales of iPhone, Services, and Mac across various regions, including the Americas, Europe, Greater China, Japan, and the Rest of Asia Pacific.\n",
      "2. **Favorable Currency Movements**: Positive impact from the strength of the Chinese renminbi and favorable foreign currency movements in Europe and the Rest of Asia Pacific.\n",
      "3. **Successful Product Launches**: The successful launch of new iPhone models and a favorable mix of iPhone sales contributed to revenue growth.\n",
      "\n",
      "### Tesla Tailwinds in 2021:\n",
      "1. **Increased Vehicle Production and Deliveries**: Produced 930,422 vehicles and delivered 936,222, reflecting strong ramp-up in production capacity and operational efficiency.\n",
      "2. **Revenue Growth**: Total revenues of $53.82 billion, a 71% increase compared to the previous year, driven by higher vehicle deliveries and expanding operations.\n",
      "3. **Focus on Affordability and Cost Reduction**: Efforts to reduce production costs and localize procurement allowed competitive pricing, especially in key markets like China.\n",
      "4. **Expansion of Manufacturing Capacity**: Construction and ramping of new factories, including Gigafactory Berlin and Gigafactory Texas, to meet growing demand and enhance production capabilities.\n",
      "5. **Growing Demand for Electric Vehicles**: Increased environmental awareness and the ongoing electrification of the automotive sector boosted demand for Tesla's electric vehicles.\n",
      "6. **Energy Products Growth**: Significant deployment of energy storage products and solar energy systems, indicating strong demand in the energy generation and storage segment.\n",
      "7. **Technological Advancements**: Continuous improvements in battery technology and vehicle functionality, including advancements in Autopilot and Full Self-Driving (FSD) capabilities.\n",
      "8. **Positive Cash Flow**: Generated cash flow from operations that exceeded capital expenditures, allowing for reinvestment in growth initiatives.\n",
      "\n",
      "These tailwinds collectively supported the growth and strategic objectives of both Apple and Tesla in 2021.\n"
     ]
    }
   ],
   "source": [
    "response = agent.chat(\"Tell me the tailwinds for Apple and Tesla in 2021?\")"
   ]
  },
  {
   "cell_type": "code",
   "execution_count": 21,
   "metadata": {},
   "outputs": [
    {
     "name": "stdout",
     "output_type": "stream",
     "text": [
      "Added user message to memory: How was apple doing generally in 2019?\n",
      "=== Calling Function ===\n",
      "Calling function: doc_query_engine with args: {\"input\": \"How was Apple doing generally in 2019?\"}\n",
      "=== Function Output ===\n",
      "In 2019, Apple experienced a slight decline in total net sales, reporting $260.2 billion compared to $265.6 billion in 2018. The decrease was primarily driven by a significant drop in iPhone sales, which fell by 14% to $142.4 billion. However, other product categories showed growth; iPad sales increased by 16%, and the Wearables, Home and Accessories segment saw a substantial rise of 41%. Additionally, services revenue grew by 16%, reaching $46.3 billion, reflecting strong performance in digital content and subscription services.\n",
      "\n",
      "Despite the overall decline in net sales, Apple maintained a solid net income of $55.3 billion, although this was lower than the previous year's $59.5 billion. The company also continued to invest heavily in research and development, with expenses rising by 14% to $16.2 billion, indicating a commitment to innovation and future growth.\n",
      "\n",
      "Apple's gross margin for the year was approximately $98.4 billion, with a gross margin percentage of 37.8%. The company faced challenges such as competitive pressures and fluctuations in foreign currency exchange rates, which impacted its financial performance. Nonetheless, Apple remained a strong player in the technology market, with a significant focus on expanding its services and product offerings.\n",
      "=== LLM Response ===\n",
      "In 2019, Apple experienced a mixed performance:\n",
      "\n",
      "### Financial Performance:\n",
      "- **Total Net Sales**: $260.2 billion, a slight decline from $265.6 billion in 2018.\n",
      "- **Net Income**: $55.3 billion, down from $59.5 billion in the previous year.\n",
      "- **Gross Margin**: Approximately $98.4 billion, with a gross margin percentage of 37.8%.\n",
      "\n",
      "### Product and Service Segments:\n",
      "- **iPhone Sales**: Declined by 14% to $142.4 billion.\n",
      "- **iPad Sales**: Increased by 16%.\n",
      "- **Wearables, Home and Accessories**: Saw substantial growth of 41%.\n",
      "- **Services Revenue**: Grew by 16% to $46.3 billion, driven by strong performance in digital content and subscription services.\n",
      "\n",
      "### Investments and Challenges:\n",
      "- **Research and Development**: Expenses rose by 14% to $16.2 billion, indicating a strong commitment to innovation.\n",
      "- **Challenges**: Faced competitive pressures and fluctuations in foreign currency exchange rates, impacting financial performance.\n",
      "\n",
      "Despite the decline in net sales and net income, Apple remained a strong player in the technology market, focusing on expanding its services and product offerings. The company showed resilience through growth in non-iPhone product categories and services, maintaining a solid financial foundation and continuing to invest in future growth.\n"
     ]
    }
   ],
   "source": [
    "response = agent.chat(\"How was apple doing generally in 2019?\")"
   ]
  },
  {
   "cell_type": "markdown",
   "metadata": {},
   "source": [
    "## [Advanced] Setup Auto-Retrieval for Files\n",
    "\n",
    "We make our file-level retrieval more sophisticated by allowing the LLM to infer a set of metadata filters, based on some relevant example documents. This allows document-level retrieval to be more precise, since it allows the LLM to narrow down search results via metadata filters and not just top-k.\n",
    "\n",
    "We do some advanced things to make this happen\n",
    "- Define a custom prompt to generate metadata filters\n",
    "- Dynamically include few-shot examples of metadata as context to infer the set of metadata filters. These initial few-shot examples of metadata are obtained through vector search."
   ]
  },
  {
   "cell_type": "code",
   "execution_count": 44,
   "metadata": {},
   "outputs": [],
   "source": [
    "from llama_index.llms.openai import OpenAI\n",
    "\n",
    "llm = OpenAI(model=\"gpt-4o\")"
   ]
  },
  {
   "cell_type": "markdown",
   "metadata": {},
   "source": [
    "A lot of the code below is lifted from our **VectorIndexAutoRetriever** module, which provides an out of the box way to do auto-retrieval against a vector index.\n",
    "\n",
    "Since we are adding some customizations like adding few-shot examples, we re-use prompt pieces and implement auto-retrieval from scratch. "
   ]
  },
  {
   "cell_type": "code",
   "execution_count": 55,
   "metadata": {},
   "outputs": [],
   "source": [
    "from llama_index.core.prompts import ChatPromptTemplate\n",
    "from llama_index.core.vector_stores.types import VectorStoreInfo, VectorStoreQuerySpec, MetadataInfo\n",
    "from llama_index.core.tools import FunctionTool\n",
    "import json\n",
    "\n",
    "SYS_PROMPT = \"\"\"\\\n",
    "Your goal is to structure the user's query to match the request schema provided below.\n",
    "\n",
    "<< Structured Request Schema >>\n",
    "When responding use a markdown code snippet with a JSON object formatted in the \\\n",
    "following schema:\n",
    "\n",
    "{schema_str}\n",
    "\n",
    "The query string should contain only text that is expected to match the contents of \\\n",
    "documents. Any conditions in the filter should not be mentioned in the query as well.\n",
    "\n",
    "Make sure that filters only refer to attributes that exist in the data source.\n",
    "Make sure that filters take into account the descriptions of attributes.\n",
    "Make sure that filters are only used as needed. If there are no filters that should be \\\n",
    "applied return [] for the filter value.\\\n",
    "\n",
    "If the user's query explicitly mentions number of documents to retrieve, set top_k to \\\n",
    "that number, otherwise do not set top_k.\n",
    "\n",
    "The schema of the metadata filters in the vector db table is listed below, along with some example metadata dictionaries from relevant rows.\n",
    "The user will send the input query string.\n",
    "\n",
    "Data Source:\n",
    "```json\n",
    "{info_str}\n",
    "```\n",
    "\n",
    "Example metadata from relevant chunks:\n",
    "{example_rows}\n",
    "\n",
    "\"\"\"\n",
    "\n",
    "example_rows_retriever = index.as_retriever(\n",
    "    retrieval_mode=\"chunks\",\n",
    "    rerank_top_n=4\n",
    ")\n",
    "\n",
    "def get_example_rows_fn(**kwargs):\n",
    "    \"\"\"Retrieve relevant few-shot examples.\"\"\"\n",
    "    query_str = kwargs[\"query_str\"]\n",
    "    nodes = example_rows_retriever.retrieve(query_str)\n",
    "    # get the metadata, join them\n",
    "    metadata_list = [n.metadata for n in nodes]\n",
    "\n",
    "    return \"\\n\".join([json.dumps(m) for m in metadata_list])\n",
    "        \n",
    "    \n",
    "\n",
    "# TODO: define function mapping for `example_rows`.\n",
    "chat_prompt_tmpl = ChatPromptTemplate.from_messages(\n",
    "    [\n",
    "        (\"system\", SYS_PROMPT),\n",
    "        (\"user\", \"{query_str}\"),\n",
    "    ],\n",
    "    function_mappings={\n",
    "        \"example_rows\": get_example_rows_fn\n",
    "    }\n",
    ")\n",
    "\n",
    "\n",
    "## TODO: define query schema and VectorStoreInfo\n",
    "vector_store_info = VectorStoreInfo(\n",
    "    content_info=\"document chunks around Apple and Tesla 10K documents\",\n",
    "    metadata_info=[\n",
    "        MetadataInfo(\n",
    "            name=\"file_name\",\n",
    "            type=\"str\",\n",
    "            description=\"Name of the source file\",\n",
    "        ),\n",
    "    ],\n",
    ")\n",
    "\n",
    "def auto_doc_query_fn(query: str) -> str:\n",
    "    \"\"\"Synthesizes an answer to your question by feeding in an entire relevant document as context.\"\"\"\n",
    "\n",
    "    # Use structured predict to infer the metadata filters and query string.\n",
    "    query_spec = llm.structured_predict(\n",
    "        VectorStoreQuerySpec,\n",
    "        chat_prompt_tmpl,\n",
    "        info_str=vector_store_info.json(indent=4),\n",
    "        schema_str=VectorStoreQuerySpec.schema_json(indent=4),\n",
    "        query_str=query\n",
    "    )\n",
    "    # build retriever and query engine\n",
    "    filters = MetadataFilters(filters=query_spec.filters) if len(query_spec.filters) > 0 else None\n",
    "    print(f\"> Using query string: {query_spec.query}\")\n",
    "    if filters:\n",
    "        print(f\"> Using filters: {filters.json()}\")\n",
    "    retriever = index.as_retriever(\n",
    "        retrieval_mode=\"files_via_content\",\n",
    "        files_top_k=1,\n",
    "        filters=filters\n",
    "    )\n",
    "    query_engine = RetrieverQueryEngine.from_args(\n",
    "        retriever, \n",
    "        llm=llm,\n",
    "        response_mode=\"tree_summarize\"\n",
    "    )\n",
    "    # run query\n",
    "    response = query_engine.query(query_spec.query)\n",
    "    return str(response)\n",
    "\n",
    "\n",
    "# modify the docstring to include the full context.\n",
    "auto_doc_query_fn.__doc__ = tool_doc_description\n",
    "\n",
    "auto_doc_query_tool = FunctionTool.from_defaults(\n",
    "    auto_doc_query_fn,\n",
    "    name=\"doc_query_engine\",\n",
    ")\n"
   ]
  },
  {
   "cell_type": "code",
   "execution_count": 53,
   "metadata": {},
   "outputs": [],
   "source": [
    "from llama_index.core.agent import FunctionCallingAgentWorker\n",
    "from llama_index.core.agent import AgentRunner\n",
    "from llama_index.llms.openai import OpenAI\n",
    "\n",
    "llm_agent = OpenAI(model=\"gpt-4o\")\n",
    "agent = FunctionCallingAgentWorker.from_tools(\n",
    "    [auto_doc_query_tool, tool_chunk], llm=llm_agent, verbose=True\n",
    ").as_agent()"
   ]
  },
  {
   "cell_type": "code",
   "execution_count": 54,
   "metadata": {},
   "outputs": [
    {
     "name": "stdout",
     "output_type": "stream",
     "text": [
      "Added user message to memory: How was Tesla doing generally in 2021 and 2022?\n",
      "=== Calling Function ===\n",
      "Calling function: doc_query_engine with args: {\"query\": \"How was Tesla doing generally in 2021?\"}\n",
      "> Using query string: Tesla performance in 2021\n",
      "> Using filters: {\"filters\": [{\"key\": \"file_name\", \"value\": \"tesla_2021.pdf\", \"operator\": \"==\"}], \"condition\": \"and\"}\n",
      "=== Function Output ===\n",
      "In 2021, Tesla produced 930,422 vehicles and delivered 936,222 vehicles. The company recognized total revenues of $53.82 billion, representing a 71% increase compared to the prior year. Tesla's net income attributable to common stockholders was $5.52 billion, a favorable change of $4.80 billion compared to the prior year. The company ended 2021 with $17.58 billion in cash and cash equivalents, a decrease of $1.81 billion from the end of 2020. Cash flows provided by operating activities during 2021 were $11.50 billion, an increase of $5.55 billion compared to $5.94 billion during 2020, and capital expenditures amounted to $6.48 billion during 2021, compared to $3.16 billion during 2020.\n",
      "=== Calling Function ===\n",
      "Calling function: doc_query_engine with args: {\"query\": \"How was Tesla doing generally in 2022?\"}\n",
      "> Using query string: Tesla performance in 2022\n",
      "> Using filters: {\"filters\": [{\"key\": \"file_name\", \"value\": \"tesla_2022.pdf\", \"operator\": \"==\"}], \"condition\": \"and\"}\n",
      "=== Function Output ===\n",
      "In 2022, Tesla produced 1,369,611 consumer vehicles and delivered 1,313,851 consumer vehicles despite facing supply chain and logistics challenges and factory shutdowns. The company achieved total revenues of $81.46 billion, an increase of $27.64 billion from the previous year. Tesla's net income attributable to common stockholders was $12.56 billion, reflecting a favorable change of $7.04 billion compared to the prior year. The company ended the year with $22.19 billion in cash and cash equivalents and investments, an increase of $4.48 billion from the end of 2021. Additionally, Tesla deployed 6.5 GWh of energy storage products and 348 megawatts of solar energy systems. The financial statements were audited and certified, confirming the reliability of Tesla's financial reporting and compliance with internal controls.\n",
      "=== LLM Response ===\n",
      "### Tesla's Performance in 2021\n",
      "\n",
      "- **Vehicle Production and Deliveries**: Tesla produced 930,422 vehicles and delivered 936,222 vehicles.\n",
      "- **Revenue**: The company recognized total revenues of $53.82 billion, representing a 71% increase compared to the prior year.\n",
      "- **Net Income**: Tesla's net income attributable to common stockholders was $5.52 billion, a favorable change of $4.80 billion compared to the prior year.\n",
      "- **Cash and Cash Equivalents**: Tesla ended 2021 with $17.58 billion in cash and cash equivalents, a decrease of $1.81 billion from the end of 2020.\n",
      "- **Cash Flows**: Cash flows provided by operating activities during 2021 were $11.50 billion, an increase of $5.55 billion compared to $5.94 billion during 2020.\n",
      "- **Capital Expenditures**: Capital expenditures amounted to $6.48 billion during 2021, compared to $3.16 billion during 2020.\n",
      "\n",
      "### Tesla's Performance in 2022\n",
      "\n",
      "- **Vehicle Production and Deliveries**: Tesla produced 1,369,611 consumer vehicles and delivered 1,313,851 consumer vehicles despite facing supply chain and logistics challenges and factory shutdowns.\n",
      "- **Revenue**: The company achieved total revenues of $81.46 billion, an increase of $27.64 billion from the previous year.\n",
      "- **Net Income**: Tesla's net income attributable to common stockholders was $12.56 billion, reflecting a favorable change of $7.04 billion compared to the prior year.\n",
      "- **Cash and Cash Equivalents**: Tesla ended the year with $22.19 billion in cash and cash equivalents and investments, an increase of $4.48 billion from the end of 2021.\n",
      "- **Energy Products**: Tesla deployed 6.5 GWh of energy storage products and 348 megawatts of solar energy systems.\n",
      "- **Financial Reporting**: The financial statements were audited and certified, confirming the reliability of Tesla's financial reporting and compliance with internal controls.\n",
      "\n",
      "Overall, Tesla showed significant growth in both years, with substantial increases in vehicle production, deliveries, revenue, and net income. The company also made notable advancements in its energy products and maintained strong cash positions.\n"
     ]
    }
   ],
   "source": [
    "response = agent.chat(\"How was Tesla doing generally in 2021 and 2022?\")"
   ]
  }
 ],
 "metadata": {
  "kernelspec": {
   "display_name": "llama_index_v3",
   "language": "python",
   "name": "llama_index_v3"
  },
  "language_info": {
   "codemirror_mode": {
    "name": "ipython",
    "version": 3
   },
   "file_extension": ".py",
   "mimetype": "text/x-python",
   "name": "python",
   "nbconvert_exporter": "python",
   "pygments_lexer": "ipython3",
   "version": "3.10.8"
  }
 },
 "nbformat": 4,
 "nbformat_minor": 4
}
