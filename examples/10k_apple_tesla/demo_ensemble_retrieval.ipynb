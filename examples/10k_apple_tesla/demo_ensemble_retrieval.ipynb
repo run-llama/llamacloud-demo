{
 "cells": [
  {
   "cell_type": "markdown",
   "id": "8c1348d3-4c0e-450f-8faf-19503f61b7b2",
   "metadata": {},
   "source": [
    "# LlamaCloud Demo - Ensemble Retrieval w/ Jira and Confluence\n",
    "\n",
    "On this demo we will show how to use the LlamaCloud API to perform an ensemble retrieval from both Confluence and Jira.\n",
    "\n",
    "The data source is previously setup on LlamaCloud and we will use the following data:\n",
    "\n",
    "\n",
    "| ![image](./assets/confluence.png) | ![image](./assets/jira.png) |\n",
    "|----------------------|----------------------|\n",
    "| (Confluence)            | (Jira)            |"
   ]
  },
  {
   "cell_type": "markdown",
   "id": "57082f55-66e0-44e1-8072-2450405c21d1",
   "metadata": {},
   "source": [
    "## Step 0: Setup environment config for LlamaCloud\n",
    "Credentials can be get [here](\"https://cloud.llamaindex.ai/\")."
   ]
  },
  {
   "cell_type": "code",
   "execution_count": 2,
   "id": "e83a35ec-8e6c-475c-827c-20f46c4a3c43",
   "metadata": {},
   "outputs": [],
   "source": [
    "import nest_asyncio\n",
    "nest_asyncio.apply()"
   ]
  },
  {
   "cell_type": "code",
   "execution_count": 10,
   "id": "013c59e6-34b2-4685-b8c3-10b9e9afc3a8",
   "metadata": {},
   "outputs": [],
   "source": [
    "import os\n",
    "\n",
    "os.environ[\"LLAMA_CLOUD_API_KEY\"] = \"llx-\"\n",
    "os.environ[\"OPENAI_API_KEY\"] = \"sk-\""
   ]
  },
  {
   "cell_type": "markdown",
   "id": "c25b8955-b6f7-43c2-8ba4-33a07fca0e2c",
   "metadata": {},
   "source": [
    "## Step 1: Initialize cloud indexes\n",
    "We are defining one index per data source (Jira and Confluence) which will be used to retrieve from both."
   ]
  },
  {
   "cell_type": "code",
   "execution_count": 3,
   "id": "ba1896de-c850-44d2-8e79-cb75a04d669c",
   "metadata": {},
   "outputs": [],
   "source": [
    "from llama_index.indices.managed.llama_cloud import LlamaCloudIndex"
   ]
  },
  {
   "cell_type": "code",
   "execution_count": 33,
   "id": "5d879e25-3ffc-4b90-9858-f9f3f6c83851",
   "metadata": {},
   "outputs": [],
   "source": [
    "confluence_index = LlamaCloudIndex(\n",
    "    name='confluence',\n",
    "    organization_id='49639377-3688-400a-ab41-54ff0f57a70d'\n",
    ")\n",
    "\n",
    "jira_index = LlamaCloudIndex(\n",
    "    name='jira',\n",
    "    organization_id='49639377-3688-400a-ab41-54ff0f57a70d'\n",
    ")\n",
    "\n",
    "vector_indices = [confluence_index, jira_index]"
   ]
  },
  {
   "cell_type": "markdown",
   "id": "8375bb94-3386-4a21-9f6e-a31c7ff55e5b",
   "metadata": {},
   "source": [
    "## Step 3: Define Ensemble Retriever\n",
    "The goal here is to be able to retrieve from both indexes at same time."
   ]
  },
  {
   "cell_type": "code",
   "execution_count": 34,
   "id": "d9c8f82e-d0ea-4ff1-9bbb-fe142116fd9e",
   "metadata": {},
   "outputs": [],
   "source": [
    "from llama_index.core.selectors import PydanticMultiSelector\n",
    "from llama_index.core.retrievers import RecursiveRetriever\n",
    "from llama_index.core import SummaryIndex\n",
    "from llama_index.core.schema import IndexNode"
   ]
  },
  {
   "cell_type": "code",
   "execution_count": 78,
   "id": "df510141-13be-4285-9fab-1906c56dc71c",
   "metadata": {},
   "outputs": [],
   "source": [
    "retriever_dict = {}\n",
    "retriever_nodes = []\n",
    "\n",
    "confluence_node = IndexNode(\n",
    "    text=(\"Retrieves relevant context from the apple 10k documents\"),\n",
    "    index_id=\"confluence\"\n",
    ")\n",
    "\n",
    "jira_node = IndexNode(\n",
    "    text=(\"Retrieves relevant context from the apple 10k jira tasks\"),\n",
    "    index_id=\"jira\"\n",
    ")\n",
    "\n",
    "retriever_nodes = [confluence_node, jira_node]\n",
    "retriever_dict = {\n",
    "   \"confluence\": confluence_index.as_retriever(\n",
    "        similarity_top_k=15,\n",
    "        rerank_top_n=15\n",
    "    ),\n",
    "   \"jira\": jira_index.as_retriever(\n",
    "        similarity_top_k=15,\n",
    "        rerank_top_n=15\n",
    "    ),\n",
    "}"
   ]
  },
  {
   "cell_type": "markdown",
   "id": "f3c33dc1-a261-4ce5-99ed-1853c97ee86b",
   "metadata": {},
   "source": [
    "## Step 4: Define Recursive Retriever"
   ]
  },
  {
   "cell_type": "code",
   "execution_count": 79,
   "id": "8bf910e4-8f10-47a0-b729-7563a490b9c5",
   "metadata": {},
   "outputs": [],
   "source": [
    "# the derived retriever will just retrieve all nodes\n",
    "summary_index = SummaryIndex(retriever_nodes)\n",
    "\n",
    "retriever = RecursiveRetriever(\n",
    "    root_id=\"root\",\n",
    "    retriever_dict={\"root\": summary_index.as_retriever(), **retriever_dict},\n",
    ")"
   ]
  },
  {
   "cell_type": "markdown",
   "id": "2f4bb8be-2356-415d-9076-7c102c9607d9",
   "metadata": {},
   "source": [
    "## Testing it"
   ]
  },
  {
   "cell_type": "code",
   "execution_count": 80,
   "id": "3b5aeb14-9ad3-4812-bbe8-cbc0241a6d1e",
   "metadata": {
    "scrolled": true
   },
   "outputs": [
    {
     "name": "stdout",
     "output_type": "stream",
     "text": [
      "Number of nodes: 20\n",
      "Risk Factors\n",
      "\n",
      "The Company is exposed to the risk of write-downs on the value of its\n",
      "inventory and other assets, in addition to purchase commitment cancellation\n",
      "risk.\n",
      "\n",
      "The Company records a write-down for product and component inventories that\n",
      "have become obsolete or exceed anticipated demand, or for which cost exceeds\n",
      "net realizable value. The Company also accrues necessary cancellation fee\n",
      "reserves for orders of excess products and components. The Company reviews\n",
      "long-lived assets, including capital assets held at its suppliers’ facilities\n",
      "and inventory prepayments, for impairment whenever events or circumstances\n",
      "indicate the assets may not be recoverable. If the Company determines that an\n",
      "impairment has occurred, it records a write-down equal to the amount by which\n",
      "the carrying value of the asset exceeds its fair value. Although the Company\n",
      "believes its inventory, capital assets, inventory prepayments and other assets\n",
      "and purchase commitments are currently recoverable, there can be no assurance\n",
      "the Company will not incur write-downs, fees, impairments and other charges\n",
      "given the rapid and unpredictable pace of product obsolescence in the\n",
      "industries in which the Company competes.\n",
      "\n",
      "The Company orders components for its products and builds inventory in advance\n",
      "of product announcements and shipments. Manufacturing purchase obligations\n",
      "cover the Company’s forecasted component and manufacturing requirements,\n",
      "typically for periods up to 150 days. Because the Company’s markets are\n",
      "volatile, competitive and subject to rapid technology and price changes, there\n",
      "is a risk the Company will forecast incorrectly and order or produce excess or\n",
      "insufficient amounts of components or products, or not fully utilize firm\n",
      "purchase commitments.\n",
      "\n",
      "The Company relies on access to third-party intellectual property, which may\n",
      "not be available to the Company on commercially reasonable terms or at all.\n",
      "The Company’s products and services are designed to include intellectual\n",
      "property owned by third parties, which requires licenses from those third\n",
      "parties. In addition, because of technological changes in the industries in\n",
      "which the Company currently competes or in the future may compete, current\n",
      "extensive patent coverage and the rapid rate of issuance of new patents, the\n",
      "Company’s products and services can unknowingly infringe existing patents or\n",
      "intellectual property rights of others. From time to time, the Company has\n",
      "been notified that it may be infringing certain patents or other intellectual\n",
      "property rights of third parties. Based on experience and industry practice,\n",
      "the Company believes licenses to such third-party intellectual property can\n",
      "generally be obtained on commercially reasonable terms. However, there can be\n",
      "no assurance the necessary licenses can be obtained on commercially reasonable\n",
      "terms or at all. Failure to obtain the right to use third-party intellectual\n",
      "property, or to use such intellectual property on commercially reasonable\n",
      "terms, can preclude the Company from selling certain products or services, or\n",
      "otherwise have a material adverse impact on the Company’s business, results of\n",
      "operations and financial condition.\n",
      "\n",
      "The Company’s future performance depends in part on support from third-party\n",
      "software developers. The Company believes decisions by customers to purchase\n",
      "its hardware products depend in part on the availability of third-party\n",
      "software applications and services. There can be no assurance third-party\n",
      "developers will continue to develop and maintain software applications and\n",
      "services for the Company’s products. If third-party software applications and\n",
      "services cease to be developed and maintained for the Company’s products,\n",
      "customers may choose not to buy the Company’s products.\n",
      "\n",
      "The Company believes the availability of third-party software applications and\n",
      "services for its products depends in part on the developers’ perception and\n",
      "analysis of the relative benefits of developing, maintaining and upgrading\n",
      "such software and services for the Company’s products compared to competitors’\n",
      "platforms, such as Android for smartphones and tablets, Windows for personal\n",
      "computers and tablets, and PlayStation, Nintendo and Xbox for gaming\n",
      "platforms. This analysis may be based on factors such as the market position\n",
      "of the Company and its products, the anticipated revenue that may be\n",
      "generated, expected future growth of product sales, and the costs of\n",
      "developing such applications and services.\n",
      "\n",
      "The Company’s minority market share in the global smartphone, personal\n",
      "computer and tablet markets can make developers less inclined to develop or\n",
      "upgrade software for the Company’s products and more inclined to devote their\n",
      "resources to developing and upgrading software for competitors’ products with\n",
      "larger market share.\n",
      "Many of the Company’s operations and facilities, as well as critical\n",
      "business operations of the Company’s suppliers and contract manufacturers, are\n",
      "in locations that are prone to earthquakes and other natural disasters. In\n",
      "addition, such operations and facilities are subject to the risk of\n",
      "interruption by fire, power shortages, nuclear power plant accidents and other\n",
      "industrial accidents, terrorist attacks and other hostile acts, ransomware and\n",
      "other cybersecurity attacks, labor disputes, public health issues, including\n",
      "pandemics such as the COVID-19 pandemic, and other events beyond the Company’s\n",
      "control. Global climate change is resulting in certain types of natural\n",
      "disasters occurring more frequently or with more intense effects. Such events\n",
      "can make it difficult or impossible for the Company to manufacture and deliver\n",
      "products to its customers, create delays and inefficiencies in the Company’s\n",
      "supply and manufacturing chain, and result in slowdowns and outages to the\n",
      "Company’s service offerings. Following an interruption to its business, the\n",
      "Company can require substantial recovery time, experience significant\n",
      "expenditures to resume operations, and lose significant sales. Because the\n",
      "Company relies on single or limited sources for the supply and manufacture of\n",
      "many critical components, a business interruption affecting such sources would\n",
      "exacerbate any negative consequences to the Company.\n",
      "Risk Factors\n",
      "\n",
      "The Company experiences malicious attacks and other attempts to gain\n",
      "unauthorized access to its systems on a regular basis. These attacks seek to\n",
      "compromise the confidentiality, integrity or availability of confidential\n",
      "information or disrupt normal business operations, and could, among other\n",
      "things, impair the Company’s ability to attract and retain customers for its\n",
      "products and services, impact the Company’s stock price, materially damage\n",
      "commercial relationships, and expose the Company to litigation or government\n",
      "investigations, which could result in penalties, fines or judgments against\n",
      "the Company. Globally, attacks are expected to continue accelerating in both\n",
      "frequency and sophistication with increasing use by actors of tools and\n",
      "techniques that are designed to circumvent controls, avoid detection, and\n",
      "remove or obfuscate forensic evidence, all of which hinders the Company’s\n",
      "ability to identify, investigate and recover from incidents. In addition,\n",
      "attacks against the Company and its customers can escalate during periods of\n",
      "severe diplomatic or armed conflict.\n",
      "\n",
      "Although malicious attacks perpetrated to gain access to confidential\n",
      "information, including personal information, affect many companies across\n",
      "various industries, the Company is at a relatively greater risk of being\n",
      "targeted because of its high profile and the value of the confidential\n",
      "information it creates, owns, manages, stores and processes.\n",
      "\n",
      "The Company has implemented systems and processes intended to secure its\n",
      "information technology systems and prevent unauthorized access to or loss of\n",
      "sensitive data, and mitigate the impact of unauthorized access, including\n",
      "through the use of encryption and authentication technologies. As with all\n",
      "companies, these security measures may not be sufficient for all eventualities\n",
      "and may be vulnerable to hacking, ransomware attacks, employee error,\n",
      "malfeasance, system error, faulty password management or other irregularities.\n",
      "For example, third parties can fraudulently induce the Company’s or its\n",
      "vendors’ employees or customers into disclosing user names, passwords or other\n",
      "sensitive information, which can, in turn, be used for unauthorized access to\n",
      "the Company’s or its vendors’ systems and services. To help protect customers\n",
      "and the Company, the Company deploys and makes available technologies like\n",
      "multifactor authentication, monitors its services and systems for unusual\n",
      "activity and may freeze accounts under suspicious circumstances, which, among\n",
      "other things, can result in the delay or loss of customer orders or impede\n",
      "customer access to the Company’s products and services.\n",
      "\n",
      "While the Company maintains insurance coverage that is intended to address\n",
      "certain aspects of data security risks, such insurance coverage may be\n",
      "insufficient to cover all losses or all types of claims that may arise.\n",
      "\n",
      "Investment in new business strategies and acquisitions could disrupt the\n",
      "Company’s ongoing business, present risks not originally contemplated and\n",
      "materially adversely affect the Company’s business, reputation, results of\n",
      "operations and financial condition. The Company has invested, and in the\n",
      "future may invest, in new business strategies or acquisitions. Such endeavors\n",
      "may involve significant risks and uncertainties, including distraction of\n",
      "management from current operations, greater-than-expected liabilities and\n",
      "expenses, economic, political, legal and regulatory challenges associated with\n",
      "operating in new businesses, regions or countries, inadequate return on\n",
      "capital, potential impairment of tangible and intangible assets, and\n",
      "significant write-offs. Investment and acquisition transactions are exposed to\n",
      "additional risks, including failing to obtain required regulatory approvals on\n",
      "a timely basis or at all, or the imposition of onerous conditions that could\n",
      "delay or prevent the Company from completing a transaction or otherwise limit\n",
      "the Company’s ability to fully realize the anticipated benefits of a\n",
      "transaction. These new ventures are inherently risky and may not be\n",
      "successful. The failure of any significant investment could materially\n",
      "adversely affect the Company’s business, reputation, results of operations and\n",
      "financial condition.\n",
      "\n",
      "The Company’s retail stores have required and will continue to require a\n",
      "substantial investment and commitment of resources and are subject to numerous\n",
      "risks and uncertainties. The Company’s retail stores have required substantial\n",
      "investment in equipment and leasehold improvements, information systems,\n",
      "inventory and personnel. The Company also has entered into substantial lease\n",
      "commitments for retail space. Certain stores have been designed and built to\n",
      "serve as high-profile venues to promote brand awareness. Because of their\n",
      "unique design elements, locations and size, these stores require substantially\n",
      "more investment than the Company’s more typical retail stores.\n",
      "Risk Factors\n",
      "\n",
      "The Company continues to monitor the situation and take appropriate actions in\n",
      "accordance with the recommendations and requirements of relevant authorities.\n",
      "The extent to which the COVID-19 pandemic may impact the Company’s operational\n",
      "and financial performance remains uncertain and will depend on many factors\n",
      "outside the Company’s control, including the timing, extent, trajectory and\n",
      "duration of the pandemic, the emergence of new variants, the development,\n",
      "availability, distribution and effectiveness of vaccines and treatments, the\n",
      "imposition of protective public safety measures, and the impact of the\n",
      "pandemic on the global economy and demand for consumer products and services.\n",
      "Additional future impacts on the Company may include material adverse effects\n",
      "on demand for the Company’s products and services, the Company’s supply chain\n",
      "and sales and distribution channels, the Company’s ability to execute its\n",
      "strategic plans, and the Company’s profitability and cost structure.\n",
      "\n",
      "To the extent the COVID-19 pandemic adversely affects the Company’s business,\n",
      "results of operations, financial condition and stock price, it may also have\n",
      "the effect of heightening many of the other risks described in this Part I,\n",
      "Item 1A of this Form 10-K.\n",
      "\n",
      "The Company’s business can be impacted by political events, trade and other\n",
      "international disputes, war, terrorism, natural disasters, public health\n",
      "issues, industrial accidents and other business interruptions. Political\n",
      "events, trade and other international disputes, war, terrorism, natural\n",
      "disasters, public health issues, industrial accidents and other business\n",
      "interruptions can harm or disrupt international commerce and the global\n",
      "economy, and could have a material adverse effect on the Company and its\n",
      "customers, suppliers, contract manufacturers, logistics providers,\n",
      "distributors, cellular network carriers and other channel partners.\n",
      "\n",
      "The Company has a large, global business with sales outside the U.S.\n",
      "representing a majority of the Company’s total net sales, and the Company\n",
      "believes that it generally benefits from growth in international trade.\n",
      "Substantially all of the Company’s manufacturing is performed in whole or in\n",
      "part by outsourcing partners located primarily in Asia, including China\n",
      "mainland, India, Japan, South Korea, Taiwan and Vietnam. Trade policies and\n",
      "disputes and other international conflicts can result in tariffs, sanctions\n",
      "and other measures that restrict international trade, and can materially\n",
      "adversely affect the Company’s business, particularly if these measures occur\n",
      "in regions where the Company derives a significant portion of its revenues\n",
      "and/or has significant supply chain operations. For example, tensions between\n",
      "the U.S. and China have led to a series of tariffs being imposed by the U.S.\n",
      "on imports from China mainland, as well as other business restrictions.\n",
      "Tariffs increase the cost of the Company’s products and the components and raw\n",
      "materials that go into making them. These increased costs can adversely impact\n",
      "the gross margin that the Company earns on its products. Tariffs can also make\n",
      "the Company’s products more expensive for customers, which could make the\n",
      "Company’s products less competitive and reduce consumer demand. Countries may\n",
      "also adopt other measures, such as controls on imports or exports of goods,\n",
      "technology or data, that could adversely impact the Company’s operations and\n",
      "supply chain and limit the Company’s ability to offer its products and\n",
      "services as designed. These measures can require the Company to take various\n",
      "actions, including changing suppliers, restructuring business relationships,\n",
      "and ceasing to offer third-party applications on its platforms. Changing the\n",
      "Company’s operations in accordance with new or changed trade restrictions can\n",
      "be expensive, time-consuming and disruptive to the Company’s operations. Such\n",
      "restrictions can be announced with little or no advance notice and the Company\n",
      "may not be able to effectively mitigate all adverse impacts from such\n",
      "measures. If disputes and conflicts further escalate in the future, actions by\n",
      "governments in response could be significantly more severe and restrictive and\n",
      "could materially adversely affect the Company’s business. Political\n",
      "uncertainty surrounding trade and other international disputes could also have\n",
      "a negative effect on consumer confidence and spending, which could adversely\n",
      "affect the Company’s business.\n",
      "These new ventures are inherently risky and may not be\n",
      "successful. The failure of any significant investment could materially\n",
      "adversely affect the Company’s business, reputation, results of operations and\n",
      "financial condition.\n",
      "\n",
      "The Company’s retail stores have required and will continue to require a\n",
      "substantial investment and commitment of resources and are subject to numerous\n",
      "risks and uncertainties. The Company’s retail stores have required substantial\n",
      "investment in equipment and leasehold improvements, information systems,\n",
      "inventory and personnel. The Company also has entered into substantial lease\n",
      "commitments for retail space. Certain stores have been designed and built to\n",
      "serve as high-profile venues to promote brand awareness. Because of their\n",
      "unique design elements, locations and size, these stores require substantially\n",
      "more investment than the Company’s more typical retail stores. Due to the high\n",
      "cost structure associated with the Company’s retail stores, a decline in sales\n",
      "or the closure or poor performance of an individual store or multiple stores,\n",
      "including as a result of protective public safety measures in response to the\n",
      "COVID-19 pandemic, could result in significant lease termination costs, write-\n",
      "offs of equipment and leasehold improvements and severance costs.\n",
      "\n",
      "The Company’s retail operations are subject to many factors that pose risks\n",
      "and uncertainties and could adversely impact the Company’s business, results\n",
      "of operations and financial condition, including macro-economic factors that\n",
      "could have an adverse effect on general retail activity. Other factors include\n",
      "the Company’s ability to: manage costs associated with retail store\n",
      "construction and operation; manage relationships with existing retail\n",
      "partners; manage costs associated with fluctuations in the value of retail\n",
      "inventory; and obtain and renew leases in quality retail locations at a\n",
      "reasonable cost.\n",
      "Macroeconomic and Industry Risks\n",
      "\n",
      "The Company’s operations and performance depend significantly on global and\n",
      "regional economic conditions and adverse economic conditions can materially\n",
      "adversely affect the Company’s business, results of operations and financial\n",
      "condition.\n",
      "\n",
      "The Company has international operations with sales outside the U.S.\n",
      "representing a majority of the Company’s total net sales. In addition, the\n",
      "Company’s global supply chain is large and complex and a majority of the\n",
      "Company’s supplier facilities, including manufacturing and assembly sites, are\n",
      "located outside the U.S. As a result, the Company’s operations and performance\n",
      "depend significantly on global and regional economic conditions.\n",
      "\n",
      "Adverse macroeconomic conditions, including slow growth or recession, high\n",
      "unemployment, inflation, tighter credit, higher interest rates, and currency\n",
      "fluctuations, can adversely impact consumer confidence and spending and\n",
      "materially adversely affect demand for the Company’s products and services. In\n",
      "addition, consumer confidence and spending can be materially adversely\n",
      "affected in response to changes in fiscal and monetary policy, financial\n",
      "market volatility, declines in income or asset values, and other economic\n",
      "factors.\n",
      "\n",
      "In addition to an adverse impact on demand for the Company’s products and\n",
      "services, uncertainty about, or a decline in, global or regional economic\n",
      "conditions can have a significant impact on the Company’s suppliers, contract\n",
      "manufacturers, logistics providers, distributors, cellular network carriers\n",
      "and other channel partners, and developers. Potential outcomes include\n",
      "financial instability; inability to obtain credit to finance business\n",
      "operations; and insolvency.\n",
      "\n",
      "Adverse economic conditions can also lead to increased credit and\n",
      "collectibility risk on the Company’s trade receivables; the failure of\n",
      "derivative counterparties and other financial institutions; limitations on the\n",
      "Company’s ability to issue new debt; reduced liquidity; and declines in the\n",
      "fair values of the Company’s financial instruments. These and other impacts\n",
      "can materially adversely affect the Company’s business, results of operations,\n",
      "financial condition and stock price.\n",
      "\n",
      "The Company’s business can be impacted by political events, trade and other\n",
      "international disputes, war, terrorism, natural disasters, public health\n",
      "issues, industrial accidents and other business interruptions.\n",
      "\n",
      "Political events, trade and other international disputes, war, terrorism,\n",
      "natural disasters, public health issues, industrial accidents and other\n",
      "business interruptions can harm or disrupt international commerce and the\n",
      "global economy, and could have a material adverse effect on the Company and\n",
      "its customers, suppliers, contract manufacturers, logistics providers,\n",
      "distributors, cellular network carriers and other channel partners.\n",
      "These and other factors could have a materially\n",
      "adverse impact on the Company’s results of operations and financial condition.\n",
      "\n",
      "The Company has historically experienced higher net sales in its first quarter\n",
      "compared to other quarters in its fiscal year due in part to seasonal holiday\n",
      "demand. Additionally, new product and service introductions can significantly\n",
      "impact net sales, cost of sales, and operating expenses. Further, the Company\n",
      "generates a significant portion of its net sales from a single product and a\n",
      "decline in demand for that product could significantly impact quarterly net\n",
      "sales. The Company could also be subject to unexpected developments, such as\n",
      "lower-than-anticipated demand for the Company’s products or services, issues\n",
      "with new product or service introductions, information technology system\n",
      "failures or network disruptions, or failure of one of the Company’s logistics,\n",
      "components supply, or manufacturing partners.\n",
      "\n",
      "The Company’s financial performance is subject to risks associated with\n",
      "changes in the value of the U.S. dollar relative to local currencies.\n",
      "\n",
      "The Company’s primary exposure to movements in foreign currency exchange rates\n",
      "relates to non–U.S. dollar–denominated sales, cost of sales, and operating\n",
      "expenses worldwide. Gross margins on the Company’s products in foreign\n",
      "countries and on products that include components obtained from foreign\n",
      "suppliers could be materially adversely affected by foreign currency exchange\n",
      "rate fluctuations.\n",
      "Macroeconomic and Industry Risks\n",
      "\n",
      "The Company’s operations and performance depend significantly on global and\n",
      "regional economic conditions and adverse economic conditions can materially\n",
      "adversely affect the Company’s business, results of operations and financial\n",
      "condition.\n",
      "\n",
      "The Company has international operations with sales outside the U.S.\n",
      "representing a majority of the Company’s total net sales. In addition, the\n",
      "Company’s global supply chain is large and complex and a majority of the\n",
      "Company’s supplier facilities, including manufacturing and assembly sites, are\n",
      "located outside the U.S. As a result, the Company’s operations and performance\n",
      "depend significantly on global and regional economic conditions.\n",
      "\n",
      "Adverse macroeconomic conditions, including inflation, slower growth or\n",
      "recession, new or increased tariffs and other barriers to trade, changes to\n",
      "fiscal and monetary policy, tighter credit, higher interest rates, high\n",
      "unemployment and currency fluctuations can adversely impact consumer\n",
      "confidence and spending and materially adversely affect demand for the\n",
      "Company’s products and services. In addition, consumer confidence and spending\n",
      "can be materially adversely affected in response to financial market\n",
      "volatility, negative financial news, conditions in the real estate and\n",
      "mortgage markets, declines in income or asset values, energy shortages and\n",
      "cost increases, labor and healthcare costs and other economic factors.\n",
      "\n",
      "In addition to an adverse impact on demand for the Company’s products,\n",
      "uncertainty about, or a decline in, global or regional economic conditions can\n",
      "have a significant impact on the Company’s suppliers, contract manufacturers,\n",
      "logistics providers, distributors, cellular network carriers and other channel\n",
      "partners. Potential effects include financial instability; inability to obtain\n",
      "credit to finance operations and purchases of the Company’s products; and\n",
      "insolvency.\n",
      "\n",
      "A downturn in the economic environment can also lead to increased credit and\n",
      "collectibility risk on the Company’s trade receivables; the failure of\n",
      "derivative counterparties and other financial institutions; limitations on the\n",
      "Company’s ability to issue new debt; reduced liquidity; and declines in the\n",
      "fair value of the Company’s financial instruments. These and other economic\n",
      "factors can materially adversely affect the Company’s business, results of\n",
      "operations, financial condition and stock price.\n",
      "\n",
      "The Company’s business, results of operations, financial condition and stock\n",
      "price have been adversely affected and could in the future be materially\n",
      "adversely affected by the COVID-19 pandemic.\n",
      "\n",
      "COVID-19 has had, and continues to have, a significant impact around the\n",
      "world, prompting governments and businesses to take unprecedented measures in\n",
      "response. Such measures have included restrictions on travel and business\n",
      "operations, temporary closures of businesses, and quarantine and shelter-in-\n",
      "place orders. The COVID-19 pandemic has at times significantly curtailed\n",
      "global economic activity and caused significant volatility and disruption in\n",
      "global financial markets.\n",
      "\n",
      "The COVID-19 pandemic and the measures taken by many countries in response\n",
      "have adversely affected and could in the future materially adversely impact\n",
      "the Company’s business, results of operations, financial condition and stock\n",
      "price. During the course of the pandemic, certain of the Company’s component\n",
      "suppliers and manufacturing and logistical service providers have experienced\n",
      "disruptions, resulting in supply shortages that affected sales worldwide, and\n",
      "similar disruptions could occur in the future. Public safety measures can also\n",
      "adversely impact consumer demand for the Company’s products and services in\n",
      "affected areas.\n",
      "Item 1A. Risk Factors\n",
      "\n",
      "The Company’s business, reputation, results of operations and financial\n",
      "condition, as well as the price of the Company’s stock, can be affected by a\n",
      "number of factors, whether currently known or unknown, including those\n",
      "described below. When any one or more of these risks materialize from time to\n",
      "time, the Company’s business, reputation, results of operations and financial\n",
      "condition, as well as the price of the Company’s stock, can be materially and\n",
      "adversely affected.\n",
      "\n",
      "Because of the following factors, as well as other factors affecting the\n",
      "Company’s results of operations and financial condition, past financial\n",
      "performance should not be considered to be a reliable indicator of future\n",
      "performance, and investors should not use historical trends to anticipate\n",
      "results or trends in future periods. This discussion of risk factors contains\n",
      "forward-looking statements.\n",
      "\n",
      "This section should be read in conjunction with Part II, Item 7, “Management’s\n",
      "Discussion and Analysis of Financial Condition and Results of Operations” and\n",
      "the consolidated financial statements and accompanying notes in Part II, Item\n",
      "8, “Financial Statements and Supplementary Data” of this Form 10-K.\n",
      "Macroeconomic and Industry Risks\n",
      "\n",
      "The Company’s operations and performance depend significantly on global and\n",
      "regional economic conditions and adverse economic conditions can materially\n",
      "adversely affect the Company’s business, results of operations and financial\n",
      "condition. The Company has international operations with sales outside the\n",
      "U.S. representing a majority of the Company’s total net sales. In addition,\n",
      "the Company’s global supply chain is large and complex and a majority of the\n",
      "Company’s supplier facilities, including manufacturing and assembly sites, are\n",
      "located outside the U.S. As a result, the Company’s operations and performance\n",
      "depend significantly on global and regional economic conditions.\n",
      "\n",
      "Adverse macroeconomic conditions, including inflation, slower growth or\n",
      "recession, new or increased tariffs and other barriers to trade, changes to\n",
      "fiscal and monetary policy, tighter credit, higher interest rates, high\n",
      "unemployment and currency fluctuations can materially adversely affect demand\n",
      "for the Company’s products and services. In addition, consumer confidence and\n",
      "spending can be adversely affected in response to financial market volatility,\n",
      "negative financial news, conditions in the real estate and mortgage markets,\n",
      "declines in income or asset values, changes to fuel and other energy costs,\n",
      "labor and healthcare costs and other economic factors.\n",
      "Item 1A. Risk Factors\n",
      "\n",
      "The Company’s business, reputation, results of operations, financial condition\n",
      "and stock price can be affected by a number of factors, whether currently\n",
      "known or unknown, including those described below. When any one or more of\n",
      "these risks materialize from time to time, the Company’s business, reputation,\n",
      "results of operations, financial condition and stock price can be materially\n",
      "and adversely affected.\n",
      "\n",
      "Because of the following factors, as well as other factors affecting the\n",
      "Company’s results of operations and financial condition, past financial\n",
      "performance should not be considered to be a reliable indicator of future\n",
      "performance, and investors should not use historical trends to anticipate\n",
      "results or trends in future periods. This discussion of risk factors contains\n",
      "forward-looking statements.\n",
      "\n",
      "This section should be read in conjunction with Part II, Item 7, “Management’s\n",
      "Discussion and Analysis of Financial Condition and Results of Operations” and\n",
      "the consolidated financial statements and accompanying notes in Part II, Item\n",
      "8, “Financial Statements and Supplementary Data” of this Form 10-K.\n",
      "Financial Risks\n",
      "\n",
      "The Company expects its quarterly net sales and results of operations to\n",
      "fluctuate. The Company’s profit margins vary across its products, services,\n",
      "geographic segments and distribution channels. For example, the gross margins\n",
      "on the Company’s products and services vary significantly and can change over\n",
      "time. The Company’s gross margins are subject to volatility and downward\n",
      "pressure due to a variety of factors, including: continued industry-wide\n",
      "global product pricing pressures and product pricing actions that the Company\n",
      "may take in response to such pressures; increased competition; the Company’s\n",
      "ability to effectively stimulate demand for certain of its products and\n",
      "services; compressed product life cycles; supply shortages; potential\n",
      "increases in the cost of components, outside manufacturing services, and\n",
      "developing, acquiring and delivering content for the Company’s services; the\n",
      "Company’s ability to manage product quality and warranty costs effectively;\n",
      "shifts in the mix of products and services, or in the geographic, currency or\n",
      "channel mix, including to the extent that regulatory changes require the\n",
      "Company to modify its product and service offerings; fluctuations in foreign\n",
      "exchange rates; inflation and other macroeconomic pressures; and the\n",
      "introduction of new products or services, including new products or services\n",
      "with higher cost structures. These and other factors could have a materially\n",
      "adverse impact on the Company’s results of operations and financial condition.\n",
      "\n",
      "The Company has historically experienced higher net sales in its first quarter\n",
      "compared to other quarters in its fiscal year due in part to seasonal holiday\n",
      "demand. Additionally, new product and service introductions can significantly\n",
      "impact net sales, cost of sales and operating expenses. Further, the Company\n",
      "generates a significant portion of its net sales from a single product and a\n",
      "decline in demand for that product could significantly impact quarterly net\n",
      "sales. The Company could also be subject to unexpected developments, such as\n",
      "lower-than-anticipated demand for the Company’s products or services, issues\n",
      "with new product or service introductions, information technology system\n",
      "failures or network disruptions, or failure of one of the Company’s logistics,\n",
      "components supply, or manufacturing partners.\n",
      "\n",
      "The Company’s financial performance is subject to risks associated with\n",
      "changes in the value of the U.S. dollar relative to local currencies. The\n",
      "Company’s primary exposure to movements in foreign exchange rates relates to\n",
      "non–U.S. dollar–denominated sales, cost of sales and operating expenses\n",
      "worldwide. Gross margins on the Company’s products in foreign countries and on\n",
      "products that include components obtained from foreign suppliers have in the\n",
      "past been adversely affected and could in the future be materially adversely\n",
      "affected by foreign exchange rate fluctuations.\n",
      "\n",
      "The weakening of foreign currencies relative to the U.S. dollar adversely\n",
      "affects the U.S. dollar value of the Company’s foreign currency–denominated\n",
      "sales and earnings, and generally leads the Company to raise international\n",
      "pricing, potentially reducing demand for the Company’s products. In some\n",
      "circumstances, for competitive or other reasons, the Company may decide not to\n",
      "raise international pricing to offset the U.S. dollar’s strengthening, which\n",
      "would adversely affect the U.S. dollar value of the gross margins the Company\n",
      "earns on foreign currency–denominated sales.\n",
      "\n",
      "Conversely, a strengthening of foreign currencies relative to the U.S. dollar,\n",
      "while generally beneficial to the Company’s foreign currency–denominated sales\n",
      "and earnings, could cause the Company to reduce international pricing or incur\n",
      "losses on its foreign currency derivative instruments, thereby limiting the\n",
      "benefit. Additionally, strengthening of foreign currencies may increase the\n",
      "Company’s cost of product components denominated in those currencies, thus\n",
      "adversely affecting gross margins.\n",
      "\n",
      "The Company uses derivative instruments, such as foreign currency forward and\n",
      "option contracts, to hedge certain exposures to fluctuations in foreign\n",
      "exchange rates. The use of such hedging activities may not be effective to\n",
      "offset any, or more than a portion, of the adverse financial effects of\n",
      "unfavorable movements in foreign exchange rates over the limited time the\n",
      "hedges are in place.\n",
      "\n",
      "The Company is exposed to credit risk and fluctuations in the values of its\n",
      "investment portfolio. The Company’s investments can be negatively affected by\n",
      "changes in liquidity, credit deterioration, financial results, market and\n",
      "economic conditions, political risk, sovereign risk, interest rate\n",
      "fluctuations or other factors.\n",
      "The Company believes the availability of third-party software applications and\n",
      "services for its products depends in part on the developers’ perception and\n",
      "analysis of the relative benefits of developing, maintaining and upgrading\n",
      "such software and services for the Company’s products compared to competitors’\n",
      "platforms, such as Android for smartphones and tablets, Windows for personal\n",
      "computers and tablets, and PlayStation, Nintendo and Xbox for gaming\n",
      "platforms. This analysis may be based on factors such as the market position\n",
      "of the Company and its products, the anticipated revenue that may be\n",
      "generated, expected future growth of product sales, and the costs of\n",
      "developing such applications and services.\n",
      "\n",
      "The Company’s minority market share in the global smartphone, personal\n",
      "computer and tablet markets can make developers less inclined to develop or\n",
      "upgrade software for the Company’s products and more inclined to devote their\n",
      "resources to developing and upgrading software for competitors’ products with\n",
      "larger market share. When developers focus their efforts on these competing\n",
      "platforms, the availability and quality of applications for the Company’s\n",
      "devices can suffer.\n",
      "\n",
      "The Company relies on the continued availability and development of compelling\n",
      "and innovative software applications for its products. The Company’s products\n",
      "and operating systems are subject to rapid technological change, and when\n",
      "third-party developers are unable to or choose not to keep up with this pace\n",
      "of change, their applications can fail to take advantage of these changes to\n",
      "deliver improved customer experiences, can operate incorrectly, and can result\n",
      "in dissatisfied customers and lower customer demand for the Company’s\n",
      "products.\n",
      "Additionally, strengthening of foreign currencies may increase the\n",
      "Company’s cost of product components denominated in those currencies, thus\n",
      "adversely affecting gross margins.\n",
      "\n",
      "The Company uses derivative instruments, such as foreign currency forward and\n",
      "option contracts, to hedge certain exposures to fluctuations in foreign\n",
      "exchange rates. The use of such hedging activities may not be effective to\n",
      "offset any, or more than a portion, of the adverse financial effects of\n",
      "unfavorable movements in foreign exchange rates over the limited time the\n",
      "hedges are in place.\n",
      "\n",
      "The Company is exposed to credit risk and fluctuations in the values of its\n",
      "investment portfolio. The Company’s investments can be negatively affected by\n",
      "changes in liquidity, credit deterioration, financial results, market and\n",
      "economic conditions, political risk, sovereign risk, interest rate\n",
      "fluctuations or other factors. As a result, the value and liquidity of the\n",
      "Company’s cash, cash equivalents and marketable securities may fluctuate\n",
      "substantially. Therefore, although the Company has not realized any\n",
      "significant losses on its cash, cash equivalents and marketable securities,\n",
      "future fluctuations in their value could result in significant losses and\n",
      "could have a material adverse impact on the Company’s results of operations\n",
      "and financial condition.\n",
      "Many of the Company’s operations and facilities, as well as critical business\n",
      "operations of the Company’s suppliers and contract manufacturers, are in\n",
      "locations that are prone to earthquakes and other natural disasters. In\n",
      "addition, such operations and facilities are subject to the risk of\n",
      "interruption by fire, power shortages, nuclear power plant accidents and other\n",
      "industrial accidents, terrorist attacks and other hostile acts, ransomware and\n",
      "other cybersecurity attacks, labor disputes, public health issues, including\n",
      "pandemics such as the COVID-19 pandemic, and other events beyond the Company’s\n",
      "control. Global climate change is resulting in certain types of natural\n",
      "disasters occurring more frequently or with more intense effects. Such events\n",
      "can make it difficult or impossible for the Company to manufacture and deliver\n",
      "products to its customers, create delays and inefficiencies in the Company’s\n",
      "supply and manufacturing chain, and result in slowdowns and outages to the\n",
      "Company’s service offerings. Following an interruption to its business, the\n",
      "Company can require substantial recovery time, experience significant\n",
      "expenditures to resume operations, and lose significant sales. Because the\n",
      "Company relies on single or limited sources for the supply and manufacture of\n",
      "many critical components, a business interruption affecting such sources would\n",
      "exacerbate any negative consequences to the Company.\n",
      "\n",
      "The Company’s operations are also subject to the risks of industrial accidents\n",
      "at its suppliers and contract manufacturers. While the Company’s suppliers are\n",
      "required to maintain safe working environments and operations, an industrial\n",
      "accident could occur and could result in disruption to the Company’s business\n",
      "and harm to the Company’s reputation. Major public health issues, including\n",
      "pandemics such as the COVID-19 pandemic, have adversely affected, and could in\n",
      "the future adversely affect, the Company due to their impact on the global\n",
      "economy and demand for consumer products; the imposition of protective public\n",
      "safety measures, such as stringent employee travel restrictions and\n",
      "limitations on freight services and the movement of products between regions;\n",
      "and disruptions in the Company’s supply chain and sales and distribution\n",
      "channels, resulting in interruptions of the supply of current products and\n",
      "delays in production ramps of new products.\n",
      "\n",
      "While the Company maintains insurance coverage for certain types of losses,\n",
      "such insurance coverage may be insufficient to cover all losses that may\n",
      "arise.\n",
      "Analyze Apple Risk Factors \n",
      " Identify and document risks related to Apple such as market volatility, competition, supply chain issues, and regulatory challenges.\n",
      "Apple Stock Price Analysis and Apple-Tesla Risk Assessment \n",
      " Collect historical stock price data for Apple over the last 5 years, including daily closing prices, volume, and any relevant financial indicators.\n",
      "Perform Apple Stock Price Trend Analysis \n",
      " Analyze Apple’s stock price trends, including identifying key support and resistance levels, trend lines, and significant price movements.\n",
      "Conduct Financial Ratio Analysis for Apple \n",
      " Evaluate key financial ratios for Apple, such as P/E ratio, debt-to-equity ratio, and ROI, to assess financial health and market valuation.\n",
      "Gather Historical Stock Data for Appl \n",
      " None\n"
     ]
    }
   ],
   "source": [
    "nodes = await retriever.aretrieve(\n",
    "    \"What are the risk factors for Apple?\"\n",
    ")\n",
    "print(f\"Number of nodes: {len(nodes)}\")\n",
    "for node in nodes:\n",
    "    print(node.node.get_text())"
   ]
  },
  {
   "cell_type": "markdown",
   "id": "6c65dfa3-01ac-4cd7-8b09-5d36c6e8fe24",
   "metadata": {},
   "source": [
    "## Step 5: Define the Reranker and RetrieverQueryEngine\n",
    "Given that we are retrieving from both indexes now we setup a reranker + a retriever query engine."
   ]
  },
  {
   "cell_type": "code",
   "execution_count": null,
   "id": "e2b4728c-8729-4426-b570-48f979b6f819",
   "metadata": {},
   "outputs": [],
   "source": [
    "%pip install llama-index-postprocessor-cohere-rerank\n",
    "%pip install matplotlib"
   ]
  },
  {
   "cell_type": "code",
   "execution_count": null,
   "id": "d045cc2e-8d8e-4c8d-a3b7-571192bcebcc",
   "metadata": {},
   "outputs": [],
   "source": [
    "os.environ[\"COHERE_API_KEY\"] = \"\""
   ]
  },
  {
   "cell_type": "code",
   "execution_count": 111,
   "id": "f8fca772-216c-433d-9c44-867d321e84cf",
   "metadata": {},
   "outputs": [],
   "source": [
    "from llama_index.core.postprocessor import LLMRerank, SentenceTransformerRerank\n",
    "from llama_index.postprocessor.cohere_rerank import CohereRerank\n",
    "\n",
    "# reranker = LLMRerank()\n",
    "# reranker = SentenceTransformerRerank(top_n=10)\n",
    "reranker = CohereRerank(top_n=20)"
   ]
  },
  {
   "cell_type": "code",
   "execution_count": 112,
   "id": "0698ac9c-10ef-40ee-85ff-eeee393ae13d",
   "metadata": {},
   "outputs": [],
   "source": [
    "# define RetrieverQueryEngine\n",
    "from llama_index.core.query_engine import RetrieverQueryEngine\n",
    "\n",
    "query_engine = RetrieverQueryEngine(retriever, node_postprocessors=[reranker])"
   ]
  },
  {
   "cell_type": "markdown",
   "id": "05af1bea-5078-4707-8c7c-0a112260537c",
   "metadata": {},
   "source": [
    "## Query it"
   ]
  },
  {
   "cell_type": "code",
   "execution_count": null,
   "id": "dee9aabf-ef6c-4383-ade0-6fe667e1749b",
   "metadata": {},
   "outputs": [],
   "source": [
    "from llama_index.core.response.notebook_utils import display_response"
   ]
  },
  {
   "cell_type": "code",
   "execution_count": 113,
   "id": "cb0be2ed-313a-4e9f-8d2a-664d068403c8",
   "metadata": {},
   "outputs": [],
   "source": [
    "response = query_engine.query(\n",
    "    \"What are the risk factors for Apple 2021? also include in the final answer: who's assigned to analyze it and task description\"\n",
    ")"
   ]
  },
  {
   "cell_type": "code",
   "execution_count": 115,
   "id": "ee68eac5-87bd-4c03-a5aa-1439b1aaed5b",
   "metadata": {
    "scrolled": true
   },
   "outputs": [
    {
     "data": {
      "text/markdown": [
       "**`Final Response:`** The risk factors for Apple in 2021 include challenges related to business risks, macroeconomic and industry risks, risks associated with foreign currency exchange rates, political events, trade disputes, natural disasters, public health issues, and industrial accidents. These factors could impact the company's results of operations and financial condition. Emanuel Ferreira is assigned to analyze the risk factors for Apple 2021 as part of the task titled \"Analyze Apple Risk Factors.\""
      ],
      "text/plain": [
       "<IPython.core.display.Markdown object>"
      ]
     },
     "metadata": {},
     "output_type": "display_data"
    },
    {
     "data": {
      "text/markdown": [
       "---"
      ],
      "text/plain": [
       "<IPython.core.display.Markdown object>"
      ]
     },
     "metadata": {},
     "output_type": "display_data"
    },
    {
     "data": {
      "text/markdown": [
       "**`Source Node 1/20`**"
      ],
      "text/plain": [
       "<IPython.core.display.Markdown object>"
      ]
     },
     "metadata": {},
     "output_type": "display_data"
    },
    {
     "data": {
      "text/markdown": [
       "**Node ID:** dd60d844-f467-4ab5-9018-309d49c877b4<br>**Similarity:** 0.9978342<br>**Text:** These and other factors could have a materially\n",
       "adverse impact on the Company’s results of operations and financial condition.\n",
       "\n",
       "The Company has historically experienced higher net sales in its first quarter\n",
       "compared to other quarters in its fiscal year due in part to seasonal holiday\n",
       "demand. Additionally, new product and service introductions can significantly\n",
       "impact net sales, cost of sales, and operating expenses. Further, the Company\n",
       "generates a significant portion of its net sales from a ...<br>**Metadata:** {'title': 'Apple 2021', 'page_id': '393217', 'status': 'current', 'url': 'https://ext-runllama.atlassian.net//spaces/~71202027022399ab9743fe859a981d4daa4245/pages/393217/Apple+2021', 'pipeline_id': '74ada4b3-17ca-4126-87b7-6446ce5170a7', 'document_9_page_label': 1, 'Header_1': 'Business Risks', 'Header_2': 'Apple Inc. | 2021 Form 10-K | 14'}<br>"
      ],
      "text/plain": [
       "<IPython.core.display.Markdown object>"
      ]
     },
     "metadata": {},
     "output_type": "display_data"
    },
    {
     "data": {
      "text/markdown": [
       "---"
      ],
      "text/plain": [
       "<IPython.core.display.Markdown object>"
      ]
     },
     "metadata": {},
     "output_type": "display_data"
    },
    {
     "data": {
      "text/markdown": [
       "**`Source Node 2/20`**"
      ],
      "text/plain": [
       "<IPython.core.display.Markdown object>"
      ]
     },
     "metadata": {},
     "output_type": "display_data"
    },
    {
     "data": {
      "text/markdown": [
       "**Node ID:** 23948d98-eb3c-4ab6-879e-9875602f599a<br>**Similarity:** 0.9978173<br>**Text:** Apple Inc. | 2021 Form 10-K | 6\n",
       "\n",
       "In addition to an adverse impact on demand for the Company’s products,\n",
       "uncertainty about, or a decline in, global or regional economic conditions can\n",
       "have a significant impact on the Company’s suppliers, contract manufacturers,\n",
       "logistics providers, distributors, cellular network carriers and other channel\n",
       "partners. Potential effects include financial instability; inability to obtain\n",
       "credit to finance operations and purchases of the Company’s products; and\n",
       "inso...<br>**Metadata:** {'title': 'Apple 2021', 'page_id': '393217', 'status': 'current', 'url': 'https://ext-runllama.atlassian.net//spaces/~71202027022399ab9743fe859a981d4daa4245/pages/393217/Apple+2021', 'pipeline_id': '74ada4b3-17ca-4126-87b7-6446ce5170a7', 'document_9_page_label': 1, 'Header_1': 'Macroeconomic and Industry Risks', 'Header_2': 'Apple Inc. | 2021 Form 10-K | 6'}<br>"
      ],
      "text/plain": [
       "<IPython.core.display.Markdown object>"
      ]
     },
     "metadata": {},
     "output_type": "display_data"
    },
    {
     "data": {
      "text/markdown": [
       "---"
      ],
      "text/plain": [
       "<IPython.core.display.Markdown object>"
      ]
     },
     "metadata": {},
     "output_type": "display_data"
    },
    {
     "data": {
      "text/markdown": [
       "**`Source Node 3/20`**"
      ],
      "text/plain": [
       "<IPython.core.display.Markdown object>"
      ]
     },
     "metadata": {},
     "output_type": "display_data"
    },
    {
     "data": {
      "text/markdown": [
       "**Node ID:** 67b0191a-25c0-419e-91e1-b04c6512dd98<br>**Similarity:** 0.99698395<br>**Text:** Macroeconomic and Industry Risks\n",
       "\n",
       "The Company’s operations and performance depend significantly on global and\n",
       "regional economic conditions and adverse economic conditions can materially\n",
       "adversely affect the Company’s business, results of operations and financial\n",
       "condition. The Company has international operations with sales outside the\n",
       "U.S. representing a majority of the Company’s total net sales. In addition,\n",
       "the Company’s global supply chain is large and complex and a majority of the\n",
       "Compan...<br>**Metadata:** {'title': 'Apple 2021', 'page_id': '393217', 'status': 'current', 'url': 'https://ext-runllama.atlassian.net//spaces/~71202027022399ab9743fe859a981d4daa4245/pages/393217/Apple+2021', 'pipeline_id': '74ada4b3-17ca-4126-87b7-6446ce5170a7', 'document_9_page_label': 1, 'Header_1': 'Macroeconomic and Industry Risks'}<br>"
      ],
      "text/plain": [
       "<IPython.core.display.Markdown object>"
      ]
     },
     "metadata": {},
     "output_type": "display_data"
    },
    {
     "data": {
      "text/markdown": [
       "---"
      ],
      "text/plain": [
       "<IPython.core.display.Markdown object>"
      ]
     },
     "metadata": {},
     "output_type": "display_data"
    },
    {
     "data": {
      "text/markdown": [
       "**`Source Node 4/20`**"
      ],
      "text/plain": [
       "<IPython.core.display.Markdown object>"
      ]
     },
     "metadata": {},
     "output_type": "display_data"
    },
    {
     "data": {
      "text/markdown": [
       "**Node ID:** 9641633c-f285-43f7-a8f6-555c08139529<br>**Similarity:** 0.9959457<br>**Text:** Business Risks\n",
       "\n",
       "To remain competitive and stimulate customer demand, the Company must\n",
       "successfully manage frequent introductions and transitions of products and\n",
       "services.\n",
       "\n",
       "Due to the highly volatile and competitive nature of the industries in which\n",
       "the Company competes, the Company must continually introduce new products,\n",
       "services and technologies, enhance existing products and services, effectively\n",
       "stimulate customer demand for new and upgraded products and services, and\n",
       "successfully manage ...<br>**Metadata:** {'title': 'Apple 2021', 'page_id': '393217', 'status': 'current', 'url': 'https://ext-runllama.atlassian.net//spaces/~71202027022399ab9743fe859a981d4daa4245/pages/393217/Apple+2021', 'pipeline_id': '74ada4b3-17ca-4126-87b7-6446ce5170a7', 'document_9_page_label': 1, 'Header_1': 'Business Risks'}<br>"
      ],
      "text/plain": [
       "<IPython.core.display.Markdown object>"
      ]
     },
     "metadata": {},
     "output_type": "display_data"
    },
    {
     "data": {
      "text/markdown": [
       "---"
      ],
      "text/plain": [
       "<IPython.core.display.Markdown object>"
      ]
     },
     "metadata": {},
     "output_type": "display_data"
    },
    {
     "data": {
      "text/markdown": [
       "**`Source Node 5/20`**"
      ],
      "text/plain": [
       "<IPython.core.display.Markdown object>"
      ]
     },
     "metadata": {},
     "output_type": "display_data"
    },
    {
     "data": {
      "text/markdown": [
       "**Node ID:** a262cd03-80cf-4b3d-ae28-bd8ea1cf5200<br>**Similarity:** 0.9955316<br>**Text:** Item 1A. Risk Factors\n",
       "\n",
       "The Company’s business, reputation, results of operations and financial\n",
       "condition, as well as the price of the Company’s stock, can be affected by a\n",
       "number of factors, whether currently known or unknown, including those\n",
       "described below. When any one or more of these risks materialize from time to\n",
       "time, the Company’s business, reputation, results of operations and financial\n",
       "condition, as well as the price of the Company’s stock, can be materially and\n",
       "adversely affected.\n",
       "...<br>**Metadata:** {'title': 'Apple 2021', 'page_id': '393217', 'status': 'current', 'url': 'https://ext-runllama.atlassian.net//spaces/~71202027022399ab9743fe859a981d4daa4245/pages/393217/Apple+2021', 'pipeline_id': '74ada4b3-17ca-4126-87b7-6446ce5170a7', 'document_9_page_label': 1, 'Header_1': 'Item 1A. Risk Factors'}<br>"
      ],
      "text/plain": [
       "<IPython.core.display.Markdown object>"
      ]
     },
     "metadata": {},
     "output_type": "display_data"
    },
    {
     "data": {
      "text/markdown": [
       "---"
      ],
      "text/plain": [
       "<IPython.core.display.Markdown object>"
      ]
     },
     "metadata": {},
     "output_type": "display_data"
    },
    {
     "data": {
      "text/markdown": [
       "**`Source Node 6/20`**"
      ],
      "text/plain": [
       "<IPython.core.display.Markdown object>"
      ]
     },
     "metadata": {},
     "output_type": "display_data"
    },
    {
     "data": {
      "text/markdown": [
       "**Node ID:** fa57ad60-7012-4808-bbf7-fe8a6ad81edd<br>**Similarity:** 0.99507546<br>**Text:** Many of the Company’s operations and facilities, as well as critical business\n",
       "operations of the Company’s suppliers and contract manufacturers, are in\n",
       "locations that are prone to earthquakes and other natural disasters. In\n",
       "addition, such operations and facilities are subject to the risk of\n",
       "interruption by fire, power shortages, nuclear power plant accidents and other\n",
       "industrial accidents, terrorist attacks and other hostile acts, ransomware and\n",
       "other cybersecurity attacks, labor disputes, pub...<br>**Metadata:** {'title': 'Apple 2021', 'page_id': '393217', 'status': 'current', 'url': 'https://ext-runllama.atlassian.net//spaces/~71202027022399ab9743fe859a981d4daa4245/pages/393217/Apple+2021', 'pipeline_id': '74ada4b3-17ca-4126-87b7-6446ce5170a7', 'document_9_page_label': 1, 'Header_1': 'Macroeconomic and Industry Risks', 'Header_2': 'Apple Inc. | 2021 Form 10-K | 6'}<br>"
      ],
      "text/plain": [
       "<IPython.core.display.Markdown object>"
      ]
     },
     "metadata": {},
     "output_type": "display_data"
    },
    {
     "data": {
      "text/markdown": [
       "---"
      ],
      "text/plain": [
       "<IPython.core.display.Markdown object>"
      ]
     },
     "metadata": {},
     "output_type": "display_data"
    },
    {
     "data": {
      "text/markdown": [
       "**`Source Node 7/20`**"
      ],
      "text/plain": [
       "<IPython.core.display.Markdown object>"
      ]
     },
     "metadata": {},
     "output_type": "display_data"
    },
    {
     "data": {
      "text/markdown": [
       "**Node ID:** e4bb9732-938f-4ac8-bf7d-ecaf29f258f1<br>**Similarity:** 0.9948404<br>**Text:** Apple Inc. | 2021 Form 10-K | 15\n",
       "\n",
       "The weakening of foreign currencies relative to the U.S. dollar adversely\n",
       "affects the U.S. dollar value of the Company’s foreign currency–denominated\n",
       "sales and earnings, and generally leads the Company to raise international\n",
       "pricing, potentially reducing demand for the Company’s products. In some\n",
       "circumstances, for competitive or other reasons, the Company may decide not to\n",
       "raise international pricing to offset the U.S. dollar’s strengthening, which\n",
       "would adv...<br>**Metadata:** {'title': 'Apple 2021', 'page_id': '393217', 'status': 'current', 'url': 'https://ext-runllama.atlassian.net//spaces/~71202027022399ab9743fe859a981d4daa4245/pages/393217/Apple+2021', 'pipeline_id': '74ada4b3-17ca-4126-87b7-6446ce5170a7', 'document_9_page_label': 1, 'Header_1': 'Business Risks', 'Header_2': 'Apple Inc. | 2021 Form 10-K | 15'}<br>"
      ],
      "text/plain": [
       "<IPython.core.display.Markdown object>"
      ]
     },
     "metadata": {},
     "output_type": "display_data"
    },
    {
     "data": {
      "text/markdown": [
       "---"
      ],
      "text/plain": [
       "<IPython.core.display.Markdown object>"
      ]
     },
     "metadata": {},
     "output_type": "display_data"
    },
    {
     "data": {
      "text/markdown": [
       "**`Source Node 8/20`**"
      ],
      "text/plain": [
       "<IPython.core.display.Markdown object>"
      ]
     },
     "metadata": {},
     "output_type": "display_data"
    },
    {
     "data": {
      "text/markdown": [
       "**Node ID:** a779ea23-089e-466e-ac39-b79eeef6e68d<br>**Similarity:** 0.98384714<br>**Text:** Risks Related to COVID-19\n",
       "\n",
       "The Company’s business, results of operations and financial condition, as well\n",
       "as the price of the Company’s stock, have been adversely affected and could in\n",
       "the future be materially adversely affected by the COVID-19 pandemic. COVID-19\n",
       "has had, and continues to have, a significant impact around the world,\n",
       "prompting governments and businesses to take unprecedented measures in\n",
       "response. Such measures have included restrictions on travel and business\n",
       "operations, tempo...<br>**Metadata:** {'title': 'Apple 2021', 'page_id': '393217', 'status': 'current', 'url': 'https://ext-runllama.atlassian.net//spaces/~71202027022399ab9743fe859a981d4daa4245/pages/393217/Apple+2021', 'pipeline_id': '74ada4b3-17ca-4126-87b7-6446ce5170a7', 'document_9_page_label': 1, 'Header_1': 'Risks Related to COVID-19'}<br>"
      ],
      "text/plain": [
       "<IPython.core.display.Markdown object>"
      ]
     },
     "metadata": {},
     "output_type": "display_data"
    },
    {
     "data": {
      "text/markdown": [
       "---"
      ],
      "text/plain": [
       "<IPython.core.display.Markdown object>"
      ]
     },
     "metadata": {},
     "output_type": "display_data"
    },
    {
     "data": {
      "text/markdown": [
       "**`Source Node 9/20`**"
      ],
      "text/plain": [
       "<IPython.core.display.Markdown object>"
      ]
     },
     "metadata": {},
     "output_type": "display_data"
    },
    {
     "data": {
      "text/markdown": [
       "**Node ID:** 0b63fb17-57fb-4a8e-939a-1395e03a2dca<br>**Similarity:** 0.98166555<br>**Text:** Risk Factors\n",
       "\n",
       "The Company experiences malicious attacks and other attempts to gain\n",
       "unauthorized access to its systems on a regular basis. These attacks seek to\n",
       "compromise the confidentiality, integrity or availability of confidential\n",
       "information or disrupt normal business operations, and could, among other\n",
       "things, impair the Company’s ability to attract and retain customers for its\n",
       "products and services, impact the Company’s stock price, materially damage\n",
       "commercial relationships, and expose ...<br>**Metadata:** {'title': 'Apple 2022', 'page_id': '360465', 'status': 'current', 'url': 'https://ext-runllama.atlassian.net//spaces/~71202027022399ab9743fe859a981d4daa4245/pages/360465/Apple+2022', 'pipeline_id': '74ada4b3-17ca-4126-87b7-6446ce5170a7', 'document_10_page_label': 1, 'Header_1': 'Risk Factors'}<br>"
      ],
      "text/plain": [
       "<IPython.core.display.Markdown object>"
      ]
     },
     "metadata": {},
     "output_type": "display_data"
    },
    {
     "data": {
      "text/markdown": [
       "---"
      ],
      "text/plain": [
       "<IPython.core.display.Markdown object>"
      ]
     },
     "metadata": {},
     "output_type": "display_data"
    },
    {
     "data": {
      "text/markdown": [
       "**`Source Node 10/20`**"
      ],
      "text/plain": [
       "<IPython.core.display.Markdown object>"
      ]
     },
     "metadata": {},
     "output_type": "display_data"
    },
    {
     "data": {
      "text/markdown": [
       "**Node ID:** 9d50bc48-4973-4e3d-b0c1-2a18cf7d5fe6<br>**Similarity:** 0.9759464<br>**Text:** Services Gross Margin\n",
       "\n",
       "Services gross margin increased during 2021 compared to 2020 due primarily to\n",
       "higher Services net sales and a different Services mix. Services gross margin\n",
       "percentage increased during 2021 compared to 2020 due primarily to a different\n",
       "Services mix and improved leverage, partially offset by higher Services costs.\n",
       "\n",
       "The Company’s future gross margins can be impacted by a variety of factors, as\n",
       "discussed in Part I, Item 1A of this Form 10-K under the heading “Risk\n",
       "Factors.”...<br>**Metadata:** {'title': 'Apple 2021', 'page_id': '393217', 'status': 'current', 'url': 'https://ext-runllama.atlassian.net//spaces/~71202027022399ab9743fe859a981d4daa4245/pages/393217/Apple+2021', 'pipeline_id': '74ada4b3-17ca-4126-87b7-6446ce5170a7', 'document_9_page_label': 1, 'Header_1': 'Services Gross Margin'}<br>"
      ],
      "text/plain": [
       "<IPython.core.display.Markdown object>"
      ]
     },
     "metadata": {},
     "output_type": "display_data"
    },
    {
     "data": {
      "text/markdown": [
       "---"
      ],
      "text/plain": [
       "<IPython.core.display.Markdown object>"
      ]
     },
     "metadata": {},
     "output_type": "display_data"
    },
    {
     "data": {
      "text/markdown": [
       "**`Source Node 11/20`**"
      ],
      "text/plain": [
       "<IPython.core.display.Markdown object>"
      ]
     },
     "metadata": {},
     "output_type": "display_data"
    },
    {
     "data": {
      "text/markdown": [
       "**Node ID:** 5ecf9eac-5564-4689-b61b-28529ba752f7<br>**Similarity:** 0.97590053<br>**Text:** Apple Inc. | 2021 Form 10-K | 26\n",
       "\n",
       "To provide an assessment of the foreign currency risk associated with certain\n",
       "of the Company’s foreign currency derivative positions, the Company performed\n",
       "a sensitivity analysis using a value-at-risk (“VAR”) model to assess the\n",
       "potential impact of fluctuations in exchange rates. The VAR model consisted of\n",
       "using a Monte Carlo simulation to generate thousands of random market price\n",
       "paths assuming normal market conditions. The VAR is the maximum expected loss\n",
       "i...<br>**Metadata:** {'title': 'Apple 2021', 'page_id': '393217', 'status': 'current', 'url': 'https://ext-runllama.atlassian.net//spaces/~71202027022399ab9743fe859a981d4daa4245/pages/393217/Apple+2021', 'pipeline_id': '74ada4b3-17ca-4126-87b7-6446ce5170a7', 'document_9_page_label': 1, 'Header_1': 'Item 7A. Quantitative and Qualitative Disclosures About Market Risk', 'Header_2': 'Apple Inc. | 2021 Form 10-K | 26'}<br>"
      ],
      "text/plain": [
       "<IPython.core.display.Markdown object>"
      ]
     },
     "metadata": {},
     "output_type": "display_data"
    },
    {
     "data": {
      "text/markdown": [
       "---"
      ],
      "text/plain": [
       "<IPython.core.display.Markdown object>"
      ]
     },
     "metadata": {},
     "output_type": "display_data"
    },
    {
     "data": {
      "text/markdown": [
       "**`Source Node 12/20`**"
      ],
      "text/plain": [
       "<IPython.core.display.Markdown object>"
      ]
     },
     "metadata": {},
     "output_type": "display_data"
    },
    {
     "data": {
      "text/markdown": [
       "**Node ID:** d540fa92-faa1-40f1-9a67-4be6a8abf5bd<br>**Similarity:** 0.9644556<br>**Text:** Analyze Apple Risk Factors \n",
       " Identify and document risks related to Apple such as market volatility, competition, supply chain issues, and regulatory challenges.<br>**Metadata:** {'id': '10003', 'title': 'Analyze Apple Risk Factors', 'url': 'https://ext-runllama.atlassian.net/browse/KAN-4', 'created_at': '2024-09-04T08:50:58.163-0300', 'updated_at': '2024-09-04T08:52:30.814-0300', 'labels': [], 'status': 'In Progress', 'assignee': 'Emanuel Ferreira', 'reporter': 'Emanuel Ferreira', 'project': 'apple-10k-project', 'issue_type': 'Task', 'priority': 'Medium', 'epic_key': 'KAN-1', 'epic_summary': 'Apple Stock Price Analysis and Apple-Tesla Risk Assessment', 'epic_description': '', 'pipeline_id': 'c025bc86-aa1a-4171-b8dc-5d0db9cb4628'}<br>"
      ],
      "text/plain": [
       "<IPython.core.display.Markdown object>"
      ]
     },
     "metadata": {},
     "output_type": "display_data"
    },
    {
     "data": {
      "text/markdown": [
       "---"
      ],
      "text/plain": [
       "<IPython.core.display.Markdown object>"
      ]
     },
     "metadata": {},
     "output_type": "display_data"
    },
    {
     "data": {
      "text/markdown": [
       "**`Source Node 13/20`**"
      ],
      "text/plain": [
       "<IPython.core.display.Markdown object>"
      ]
     },
     "metadata": {},
     "output_type": "display_data"
    },
    {
     "data": {
      "text/markdown": [
       "**Node ID:** 6b1da806-4116-4735-813c-69907a0ac890<br>**Similarity:** 0.96391606<br>**Text:** Item 1A. Risk Factors\n",
       "\n",
       "The Company’s business, reputation, results of operations, financial condition\n",
       "and stock price can be affected by a number of factors, whether currently\n",
       "known or unknown, including those described below. When any one or more of\n",
       "these risks materialize from time to time, the Company’s business, reputation,\n",
       "results of operations, financial condition and stock price can be materially\n",
       "and adversely affected.\n",
       "\n",
       "Because of the following factors, as well as other factors affect...<br>**Metadata:** {'title': 'Apple 2022', 'page_id': '360465', 'status': 'current', 'url': 'https://ext-runllama.atlassian.net//spaces/~71202027022399ab9743fe859a981d4daa4245/pages/360465/Apple+2022', 'pipeline_id': '74ada4b3-17ca-4126-87b7-6446ce5170a7', 'document_10_page_label': 1, 'Header_1': 'Item 1A. Risk Factors'}<br>"
      ],
      "text/plain": [
       "<IPython.core.display.Markdown object>"
      ]
     },
     "metadata": {},
     "output_type": "display_data"
    },
    {
     "data": {
      "text/markdown": [
       "---"
      ],
      "text/plain": [
       "<IPython.core.display.Markdown object>"
      ]
     },
     "metadata": {},
     "output_type": "display_data"
    },
    {
     "data": {
      "text/markdown": [
       "**`Source Node 14/20`**"
      ],
      "text/plain": [
       "<IPython.core.display.Markdown object>"
      ]
     },
     "metadata": {},
     "output_type": "display_data"
    },
    {
     "data": {
      "text/markdown": [
       "**Node ID:** 2f36ab80-1122-45df-8425-2b2c77c188de<br>**Similarity:** 0.9574373<br>**Text:** These new ventures are inherently risky and may not be\n",
       "successful. The failure of any significant investment could materially\n",
       "adversely affect the Company’s business, reputation, results of operations and\n",
       "financial condition.\n",
       "\n",
       "The Company’s retail stores have required and will continue to require a\n",
       "substantial investment and commitment of resources and are subject to numerous\n",
       "risks and uncertainties. The Company’s retail stores have required substantial\n",
       "investment in equipment and leasehold i...<br>**Metadata:** {'title': 'Apple 2022', 'page_id': '360465', 'status': 'current', 'url': 'https://ext-runllama.atlassian.net//spaces/~71202027022399ab9743fe859a981d4daa4245/pages/360465/Apple+2022', 'pipeline_id': '74ada4b3-17ca-4126-87b7-6446ce5170a7', 'document_10_page_label': 1, 'Header_1': 'Risk Factors'}<br>"
      ],
      "text/plain": [
       "<IPython.core.display.Markdown object>"
      ]
     },
     "metadata": {},
     "output_type": "display_data"
    },
    {
     "data": {
      "text/markdown": [
       "---"
      ],
      "text/plain": [
       "<IPython.core.display.Markdown object>"
      ]
     },
     "metadata": {},
     "output_type": "display_data"
    },
    {
     "data": {
      "text/markdown": [
       "**`Source Node 15/20`**"
      ],
      "text/plain": [
       "<IPython.core.display.Markdown object>"
      ]
     },
     "metadata": {},
     "output_type": "display_data"
    },
    {
     "data": {
      "text/markdown": [
       "**Node ID:** dfbbc869-4ba0-438d-a6a8-52520f2a0ae7<br>**Similarity:** 0.942718<br>**Text:** Risk Factors\n",
       "\n",
       "The Company continues to monitor the situation and take appropriate actions in\n",
       "accordance with the recommendations and requirements of relevant authorities.\n",
       "The extent to which the COVID-19 pandemic may impact the Company’s operational\n",
       "and financial performance remains uncertain and will depend on many factors\n",
       "outside the Company’s control, including the timing, extent, trajectory and\n",
       "duration of the pandemic, the emergence of new variants, the development,\n",
       "availability, distrib...<br>**Metadata:** {'title': 'Apple 2022', 'page_id': '360465', 'status': 'current', 'url': 'https://ext-runllama.atlassian.net//spaces/~71202027022399ab9743fe859a981d4daa4245/pages/360465/Apple+2022', 'pipeline_id': '74ada4b3-17ca-4126-87b7-6446ce5170a7', 'document_10_page_label': 1, 'Header_1': 'Risk Factors'}<br>"
      ],
      "text/plain": [
       "<IPython.core.display.Markdown object>"
      ]
     },
     "metadata": {},
     "output_type": "display_data"
    },
    {
     "data": {
      "text/markdown": [
       "---"
      ],
      "text/plain": [
       "<IPython.core.display.Markdown object>"
      ]
     },
     "metadata": {},
     "output_type": "display_data"
    },
    {
     "data": {
      "text/markdown": [
       "**`Source Node 16/20`**"
      ],
      "text/plain": [
       "<IPython.core.display.Markdown object>"
      ]
     },
     "metadata": {},
     "output_type": "display_data"
    },
    {
     "data": {
      "text/markdown": [
       "**Node ID:** 0d5f1b89-c6e4-4331-bd4a-9c7165d8eaa1<br>**Similarity:** 0.9421884<br>**Text:** Accounts Receivable\n",
       "\n",
       "Trade Receivables\n",
       "\n",
       "The Company has considerable trade receivables outstanding with its third-\n",
       "party cellular network carriers, wholesalers, retailers, resellers, small and\n",
       "mid-sized businesses and education, enterprise and government customers. The\n",
       "Company generally does not require collateral from its customers; however, the\n",
       "Company will require collateral or third-party credit support in certain\n",
       "instances to limit credit risk. In addition, when possible, the Company\n",
       "att...<br>**Metadata:** {'title': 'Apple 2021', 'page_id': '393217', 'status': 'current', 'url': 'https://ext-runllama.atlassian.net//spaces/~71202027022399ab9743fe859a981d4daa4245/pages/393217/Apple+2021', 'pipeline_id': '74ada4b3-17ca-4126-87b7-6446ce5170a7', 'document_9_page_label': 1, 'Header_1': 'Accounts Receivable'}<br>"
      ],
      "text/plain": [
       "<IPython.core.display.Markdown object>"
      ]
     },
     "metadata": {},
     "output_type": "display_data"
    },
    {
     "data": {
      "text/markdown": [
       "---"
      ],
      "text/plain": [
       "<IPython.core.display.Markdown object>"
      ]
     },
     "metadata": {},
     "output_type": "display_data"
    },
    {
     "data": {
      "text/markdown": [
       "**`Source Node 17/20`**"
      ],
      "text/plain": [
       "<IPython.core.display.Markdown object>"
      ]
     },
     "metadata": {},
     "output_type": "display_data"
    },
    {
     "data": {
      "text/markdown": [
       "**Node ID:** 53a8d6ba-e188-4f6b-8be9-7bd4f9f591cf<br>**Similarity:** 0.69222605<br>**Text:** Perform Apple Stock Price Trend Analysis \n",
       " Analyze Apple’s stock price trends, including identifying key support and resistance levels, trend lines, and significant price movements.<br>**Metadata:** {'id': '10002', 'title': 'Perform Apple Stock Price Trend Analysis', 'url': 'https://ext-runllama.atlassian.net/browse/KAN-3', 'created_at': '2024-09-04T08:50:31.722-0300', 'updated_at': '2024-09-04T08:52:26.503-0300', 'labels': [], 'status': 'Done', 'assignee': 'Emanuel Ferreira', 'reporter': 'Emanuel Ferreira', 'project': 'apple-10k-project', 'issue_type': 'Task', 'priority': 'Medium', 'epic_key': 'KAN-1', 'epic_summary': 'Apple Stock Price Analysis and Apple-Tesla Risk Assessment', 'epic_description': '', 'pipeline_id': 'c025bc86-aa1a-4171-b8dc-5d0db9cb4628'}<br>"
      ],
      "text/plain": [
       "<IPython.core.display.Markdown object>"
      ]
     },
     "metadata": {},
     "output_type": "display_data"
    },
    {
     "data": {
      "text/markdown": [
       "---"
      ],
      "text/plain": [
       "<IPython.core.display.Markdown object>"
      ]
     },
     "metadata": {},
     "output_type": "display_data"
    },
    {
     "data": {
      "text/markdown": [
       "**`Source Node 18/20`**"
      ],
      "text/plain": [
       "<IPython.core.display.Markdown object>"
      ]
     },
     "metadata": {},
     "output_type": "display_data"
    },
    {
     "data": {
      "text/markdown": [
       "**Node ID:** d68c9aca-29b2-4f60-967a-218cee0ee3f3<br>**Similarity:** 0.6664968<br>**Text:** Conduct Financial Ratio Analysis for Apple \n",
       " Evaluate key financial ratios for Apple, such as P/E ratio, debt-to-equity ratio, and ROI, to assess financial health and market valuation.<br>**Metadata:** {'id': '10004', 'title': 'Conduct Financial Ratio Analysis for Apple', 'url': 'https://ext-runllama.atlassian.net/browse/KAN-5', 'created_at': '2024-09-04T08:51:17.605-0300', 'updated_at': '2024-09-04T08:51:53.479-0300', 'labels': [], 'status': 'To Do', 'assignee': 'Emanuel Ferreira', 'reporter': 'Emanuel Ferreira', 'project': 'apple-10k-project', 'issue_type': 'Task', 'priority': 'Medium', 'epic_key': 'KAN-1', 'epic_summary': 'Apple Stock Price Analysis and Apple-Tesla Risk Assessment', 'epic_description': '', 'pipeline_id': 'c025bc86-aa1a-4171-b8dc-5d0db9cb4628'}<br>"
      ],
      "text/plain": [
       "<IPython.core.display.Markdown object>"
      ]
     },
     "metadata": {},
     "output_type": "display_data"
    },
    {
     "data": {
      "text/markdown": [
       "---"
      ],
      "text/plain": [
       "<IPython.core.display.Markdown object>"
      ]
     },
     "metadata": {},
     "output_type": "display_data"
    },
    {
     "data": {
      "text/markdown": [
       "**`Source Node 19/20`**"
      ],
      "text/plain": [
       "<IPython.core.display.Markdown object>"
      ]
     },
     "metadata": {},
     "output_type": "display_data"
    },
    {
     "data": {
      "text/markdown": [
       "**Node ID:** d5faaa76-b553-42e4-a92e-64cdedc40a54<br>**Similarity:** 0.524075<br>**Text:** Gather Historical Stock Data for Appl \n",
       " None<br>**Metadata:** {'id': '10001', 'title': 'Gather Historical Stock Data for Appl', 'url': 'https://ext-runllama.atlassian.net/browse/KAN-2', 'created_at': '2024-09-04T08:49:59.976-0300', 'updated_at': '2024-09-04T08:51:57.465-0300', 'labels': [], 'status': 'Done', 'assignee': 'Emanuel Ferreira', 'reporter': 'Emanuel Ferreira', 'project': 'apple-10k-project', 'issue_type': 'Task', 'priority': 'Medium', 'epic_key': 'KAN-1', 'epic_summary': 'Apple Stock Price Analysis and Apple-Tesla Risk Assessment', 'epic_description': '', 'pipeline_id': 'c025bc86-aa1a-4171-b8dc-5d0db9cb4628'}<br>"
      ],
      "text/plain": [
       "<IPython.core.display.Markdown object>"
      ]
     },
     "metadata": {},
     "output_type": "display_data"
    },
    {
     "data": {
      "text/markdown": [
       "---"
      ],
      "text/plain": [
       "<IPython.core.display.Markdown object>"
      ]
     },
     "metadata": {},
     "output_type": "display_data"
    },
    {
     "data": {
      "text/markdown": [
       "**`Source Node 20/20`**"
      ],
      "text/plain": [
       "<IPython.core.display.Markdown object>"
      ]
     },
     "metadata": {},
     "output_type": "display_data"
    },
    {
     "data": {
      "text/markdown": [
       "**Node ID:** 45a64763-f93c-4381-9f5b-2d3281bfbc32<br>**Similarity:** 0.4414322<br>**Text:** Apple Stock Price Analysis and Apple-Tesla Risk Assessment \n",
       " Collect historical stock price data for Apple over the last 5 years, including daily closing prices, volume, and any relevant financial indicators.<br>**Metadata:** {'id': '10000', 'title': 'Apple Stock Price Analysis and Apple-Tesla Risk Assessment', 'url': 'https://ext-runllama.atlassian.net/browse/KAN-1', 'created_at': '2024-09-04T08:48:27.604-0300', 'updated_at': '2024-09-04T08:49:30.823-0300', 'labels': [], 'status': 'To Do', 'assignee': 'Emanuel Ferreira', 'reporter': 'Emanuel Ferreira', 'project': 'apple-10k-project', 'issue_type': 'Epic', 'priority': 'Medium', 'epic_key': 'KAN-1', 'epic_summary': 'Apple Stock Price Analysis and Apple-Tesla Risk Assessment', 'epic_description': '', 'pipeline_id': 'c025bc86-aa1a-4171-b8dc-5d0db9cb4628'}<br>"
      ],
      "text/plain": [
       "<IPython.core.display.Markdown object>"
      ]
     },
     "metadata": {},
     "output_type": "display_data"
    }
   ],
   "source": [
    "display_response(\n",
    "    response, show_source=True, source_length=500, show_source_metadata=True\n",
    ")"
   ]
  },
  {
   "cell_type": "code",
   "execution_count": 119,
   "id": "d81f03a9-93a6-4502-ac7f-7d2cc09dd44e",
   "metadata": {},
   "outputs": [],
   "source": [
    "response = query_engine.query(\n",
    "    \"Which tasks Emanuel Ferreira is working on? give details about the task and the id\"\n",
    ")"
   ]
  },
  {
   "cell_type": "code",
   "execution_count": 120,
   "id": "87a2d1fd-77bf-4132-b8cd-5d848cd9c7c5",
   "metadata": {},
   "outputs": [
    {
     "name": "stdout",
     "output_type": "stream",
     "text": [
      "Emanuel Ferreira is working on the following tasks:\n",
      "1. Analyze Apple Risk Factors (Task ID: 10003) - Identify and document risks related to Apple such as market volatility, competition, supply chain issues, and regulatory challenges.\n",
      "2. Perform Apple Stock Price Trend Analysis (Task ID: 10002) - Analyze Apple’s stock price trends, including identifying key support and resistance levels, trend lines, and significant price movements.\n"
     ]
    }
   ],
   "source": [
    "print(str(response))"
   ]
  }
 ],
 "metadata": {
  "kernelspec": {
   "display_name": "Python 3 (ipykernel)",
   "language": "python",
   "name": "python3"
  },
  "language_info": {
   "codemirror_mode": {
    "name": "ipython",
    "version": 3
   },
   "file_extension": ".py",
   "mimetype": "text/x-python",
   "name": "python",
   "nbconvert_exporter": "python",
   "pygments_lexer": "ipython3",
   "version": "3.12.4"
  }
 },
 "nbformat": 4,
 "nbformat_minor": 5
}
