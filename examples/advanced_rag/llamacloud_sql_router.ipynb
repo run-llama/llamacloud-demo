{
 "cells": [
  {
   "cell_type": "markdown",
   "metadata": {},
   "source": [
    "# Combining RAG and Text-to-SQL in a Single Query Interface\n",
    "\n",
    "<a href=\"https://colab.research.google.com/github/run-llama/llamacloud-demo/blob/main/examples/advanced_rag/llamacloud_sql_router.ipynb\" target=\"_parent\"><img src=\"https://colab.research.google.com/assets/colab-badge.svg\" alt=\"Open In Colab\"/></a>\n",
    "\n",
    "This notebook shows you how to create a custom agent that can query either your LlamaCloud index for RAG-based retrieval or a separate SQL query engine as a tool. In this example, we'll use PDFs of Wikipedia pages of US cities and a SQL database of their populations and states as documents.\n",
    "\n",
    "![](llamacloud_sql_router_img.png)\n",
    "\n",
    "**NOTE**: Any Text-to-SQL application should be aware that executing arbitrary SQL queries can be a security risk. It is recommended to take precautions as needed, such as using restricted roles, read-only databases, sandboxing, etc."
   ]
  },
  {
   "cell_type": "markdown",
   "metadata": {},
   "source": [
    "## Setup\n",
    "\n",
    "Set up your OpenAI API key and `nest_asyncio`."
   ]
  },
  {
   "cell_type": "code",
   "execution_count": 1,
   "metadata": {},
   "outputs": [],
   "source": [
    "import os\n",
    "os.environ[\"OPENAI_API_KEY\"] = \"<Your OpenAI API Key>\""
   ]
  },
  {
   "cell_type": "code",
   "execution_count": 1,
   "metadata": {},
   "outputs": [],
   "source": [
    "import nest_asyncio\n",
    "\n",
    "nest_asyncio.apply()"
   ]
  },
  {
   "cell_type": "markdown",
   "metadata": {},
   "source": [
    "## Load Documents into LlamaCloud\n",
    "\n",
    "Download the following Wikipedia pages into PDFs by either pressing Ctrl-P/Cmd-P or right-clicking and selecting \"Print\" and then \"Save as PDF\" as the destination.\n",
    "- [New York City](https://en.wikipedia.org/wiki/New_York_City)\n",
    "- [Los Angeles](https://en.wikipedia.org/wiki/Los_Angeles)\n",
    "- [Chicago](https://en.wikipedia.org/wiki/Chicago)\n",
    "- [Houston](https://en.wikipedia.org/wiki/Houston)\n",
    "- [Miami](https://en.wikipedia.org/wiki/Miami)\n",
    "- [Seattle](https://en.wikipedia.org/wiki/Seattle)\n",
    "\n",
    "After that, create a new index in LlamaCloud and upload your PDFs.\n"
   ]
  },
  {
   "cell_type": "markdown",
   "metadata": {},
   "source": [
    "## SQL Database\n",
    "\n",
    "The SQL database in this example will be created in memory and will contain three columns: the city name, the city's population, and the state the city is located in. The table creation and the information for each city is shown in the snippets below."
   ]
  },
  {
   "cell_type": "code",
   "execution_count": 2,
   "metadata": {},
   "outputs": [],
   "source": [
    "from llama_index.core import SQLDatabase, Settings\n",
    "from llama_index.llms.openai import OpenAI\n",
    "from sqlalchemy import (\n",
    "    create_engine,\n",
    "    MetaData,\n",
    "    Table,\n",
    "    Column,\n",
    "    String,\n",
    "    Integer,\n",
    ")\n",
    "\n",
    "Settings.llm = OpenAI(\"gpt-3.5-turbo\")\n",
    "\n",
    "\n",
    "engine = create_engine(\"sqlite:///:memory:\", future=True)\n",
    "metadata_obj = MetaData()\n",
    "\n",
    "# create city SQL table\n",
    "table_name = \"city_stats\"\n",
    "city_stats_table = Table(\n",
    "    table_name,\n",
    "    metadata_obj,\n",
    "    Column(\"city_name\", String(16), primary_key=True),\n",
    "    Column(\"population\", Integer),\n",
    "    Column(\"state\", String(16), nullable=False),\n",
    ")\n",
    "\n",
    "metadata_obj.create_all(engine)"
   ]
  },
  {
   "cell_type": "code",
   "execution_count": 3,
   "metadata": {},
   "outputs": [
    {
     "name": "stdout",
     "output_type": "stream",
     "text": [
      "[('New York City', 8336000, 'New York'), ('Los Angeles', 3822000, 'California'), ('Chicago', 2665000, 'Illinois'), ('Houston', 2303000, 'Texas'), ('Miami', 449514, 'Florida'), ('Seattle', 749256, 'Washington')]\n"
     ]
    }
   ],
   "source": [
    "from sqlalchemy import insert\n",
    "\n",
    "rows = [\n",
    "    {\"city_name\": \"New York City\", \"population\": 8336000, \"state\": \"New York\"},\n",
    "    {\"city_name\": \"Los Angeles\", \"population\": 3822000, \"state\": \"California\"},\n",
    "    {\"city_name\": \"Chicago\", \"population\": 2665000, \"state\": \"Illinois\"},\n",
    "    {\"city_name\": \"Houston\", \"population\": 2303000, \"state\": \"Texas\"},\n",
    "    {\"city_name\": \"Miami\", \"population\": 449514, \"state\": \"Florida\"},\n",
    "    {\"city_name\": \"Seattle\", \"population\": 749256, \"state\": \"Washington\"},\n",
    "]\n",
    "for row in rows:\n",
    "    stmt = insert(city_stats_table).values(**row)\n",
    "    with engine.begin() as connection:\n",
    "        cursor = connection.execute(stmt)\n",
    "\n",
    "with engine.connect() as connection:\n",
    "    cursor = connection.exec_driver_sql(\"SELECT * FROM city_stats\")\n",
    "    print(cursor.fetchall())"
   ]
  },
  {
   "cell_type": "markdown",
   "metadata": {},
   "source": [
    "Create a query engine based on SQL database."
   ]
  },
  {
   "cell_type": "code",
   "execution_count": 5,
   "metadata": {},
   "outputs": [],
   "source": [
    "from llama_index.core.query_engine import NLSQLTableQueryEngine\n",
    "\n",
    "sql_database = SQLDatabase(engine, include_tables=[\"city_stats\"])\n",
    "sql_query_engine = NLSQLTableQueryEngine(\n",
    "    sql_database=sql_database,\n",
    "    tables=[\"city_stats\"]\n",
    ")"
   ]
  },
  {
   "cell_type": "markdown",
   "metadata": {},
   "source": [
    "## LlamaCloud Index\n",
    "\n",
    "Create an index and a query engine around the index you've created."
   ]
  },
  {
   "cell_type": "code",
   "execution_count": 16,
   "metadata": {},
   "outputs": [],
   "source": [
    "from llama_index.indices.managed.llama_cloud import LlamaCloudIndex\n",
    "\n",
    "index = LlamaCloudIndex(\n",
    "    name=\"<Your Index Name>\", \n",
    "    project_name=\"<Your Project Name>\",\n",
    "    organization_id=\"<Your Org ID>\",\n",
    "    api_key=\"<Your API Key>\"\n",
    ")\n",
    "\n",
    "llama_cloud_query_engine = index.as_query_engine()"
   ]
  },
  {
   "cell_type": "markdown",
   "metadata": {},
   "source": [
    "Create a query engine tool around these query engines."
   ]
  },
  {
   "cell_type": "code",
   "execution_count": 17,
   "metadata": {},
   "outputs": [],
   "source": [
    "from llama_index.core.tools import QueryEngineTool\n",
    "\n",
    "sql_tool = QueryEngineTool.from_defaults(\n",
    "    query_engine=sql_query_engine,\n",
    "    description=(\n",
    "        \"Useful for translating a natural language query into a SQL query over\"\n",
    "        \" a table containing: city_stats, containing the population/state of\"\n",
    "        \" each city located in the USA.\"\n",
    "    ),\n",
    "    name=\"sql_tool\"\n",
    ")\n",
    "\n",
    "cities = [\"New York City\", \"Los Angeles\", \"Chicago\", \"Houston\", \"Miami\", \"Seattle\"]\n",
    "llama_cloud_tool = QueryEngineTool.from_defaults(\n",
    "    query_engine=llama_cloud_query_engine,\n",
    "    description=(\n",
    "        f\"Useful for answering semantic questions about certain cities in the US.\"\n",
    "    ),\n",
    "    name=\"llama_cloud_tool\"\n",
    ")"
   ]
  },
  {
   "cell_type": "markdown",
   "metadata": {},
   "source": [
    "## Creating an Agent Around the Query Engines\n",
    "\n",
    "We'll create a workflow that acts as an agent around the two query engines. In this workflow, we need four events:\n",
    "1. `GatherToolsEvent`: Gets all tools that need to be called (which is determined by the LLM).\n",
    "2. `ToolCallEvent`: An individual tool call. Multiple of these events will be triggered at the same time.\n",
    "3. `ToolCallEventResult`: Gets result from a tool call.\n",
    "4. `GatherEvent`: Returned from dispatcher that triggers the `ToolCallEvent`.\n",
    "\n",
    "This workflow consists of the following steps:\n",
    "1. `chat()`: Appends the message to the chat history. This chat history is fed into the LLM, along with the given tools, and the LLM determines which tools to call. This returns a `GatherToolsEvent`.\n",
    "2. `dispatch_calls()`: Triggers a `ToolCallEvent` for each tool call given in the `GatherToolsEvent` using `send_event()`. Returns a `GatherEvent` with the number of tool calls.\n",
    "3. `call_tool()`: Calls an individual tool. This step will run multiple times if there is more than one tool call. This step calls the tool and appends the result as a chat message to the chat history. It returns a `ToolCallEventResult` with the result of the tool call.\n",
    "4. `gather()`: Gathers the results from all tool calls using `collect_events()`. Waits for all tool calls to finish, then feeds chat history (following all tool calls) into the LLM. Returns the response from the LLM."
   ]
  },
  {
   "cell_type": "code",
   "execution_count": 27,
   "metadata": {},
   "outputs": [],
   "source": [
    "from typing import Dict, List, Any, Optional\n",
    "\n",
    "from llama_index.core.tools import BaseTool\n",
    "from llama_index.core.llms import ChatMessage\n",
    "from llama_index.core.llms.llm import ToolSelection, LLM\n",
    "from llama_index.core.workflow import (\n",
    "    Workflow,\n",
    "    Event,\n",
    "    StartEvent,\n",
    "    StopEvent,\n",
    "    step,\n",
    ")\n",
    "from llama_index.core.base.response.schema import Response\n",
    "from llama_index.core.tools import FunctionTool\n",
    "\n",
    "\n",
    "class InputEvent(Event):\n",
    "    \"\"\"Input event.\"\"\"\n",
    "\n",
    "class GatherToolsEvent(Event):\n",
    "    \"\"\"Gather Tools Event\"\"\"\n",
    "\n",
    "    tool_calls: Any\n",
    "\n",
    "class ToolCallEvent(Event):\n",
    "    \"\"\"Tool Call event\"\"\"\n",
    "\n",
    "    tool_call: ToolSelection\n",
    "\n",
    "class ToolCallEventResult(Event):\n",
    "    \"\"\"Tool call event result.\"\"\"\n",
    "\n",
    "    msg: ChatMessage\n",
    "\n",
    "class RouterOutputAgentWorkflow(Workflow):\n",
    "    \"\"\"Custom router output agent workflow.\"\"\"\n",
    "\n",
    "    def __init__(self,\n",
    "        tools: List[BaseTool],\n",
    "        timeout: Optional[float] = 10.0,\n",
    "        disable_validation: bool = False,\n",
    "        verbose: bool = False,\n",
    "        llm: Optional[LLM] = None,\n",
    "        chat_history: Optional[List[ChatMessage]] = None,\n",
    "    ):\n",
    "        \"\"\"Constructor.\"\"\"\n",
    "\n",
    "        super().__init__(timeout=timeout, disable_validation=disable_validation, verbose=verbose)\n",
    "\n",
    "        self.tools: List[BaseTool] = tools\n",
    "        self.tools_dict: Optional[Dict[str, BaseTool]] = {tool.metadata.name: tool for tool in self.tools}\n",
    "        self.llm: LLM = llm or OpenAI(temperature=0, model=\"gpt-3.5-turbo\")\n",
    "        self.chat_history: List[ChatMessage] = chat_history or []\n",
    "    \n",
    "\n",
    "    def reset(self) -> None:\n",
    "        \"\"\"Resets Chat History\"\"\"\n",
    "\n",
    "        self.chat_history = []\n",
    "\n",
    "    @step()\n",
    "    async def prepare_chat(self, ev: StartEvent) -> InputEvent:\n",
    "        message = ev.get(\"message\")\n",
    "        if message is None:\n",
    "            raise ValueError(\"'message' field is required.\")\n",
    "        \n",
    "        # add msg to chat history\n",
    "        chat_history = self.chat_history\n",
    "        chat_history.append(ChatMessage(role=\"user\", content=message))\n",
    "        return InputEvent()\n",
    "\n",
    "    @step()\n",
    "    async def chat(self, ev: InputEvent) -> GatherToolsEvent | StopEvent:\n",
    "        \"\"\"Appends msg to chat history, then gets tool calls.\"\"\"\n",
    "\n",
    "        # Put msg into LLM with tools included\n",
    "        chat_res = await self.llm.achat_with_tools(\n",
    "            self.tools,\n",
    "            chat_history=self.chat_history,\n",
    "            verbose=self._verbose,\n",
    "            allow_parallel_tool_calls=True\n",
    "        )\n",
    "        tool_calls = self.llm.get_tool_calls_from_response(chat_res, error_on_no_tool_call=False)\n",
    "        \n",
    "        ai_message = chat_res.message\n",
    "        self.chat_history.append(ai_message)\n",
    "        if self._verbose:\n",
    "            print(f\"Chat message: {ai_message.content}\")\n",
    "\n",
    "        # no tool calls, return chat message.\n",
    "        if not tool_calls:\n",
    "            return StopEvent(result=ai_message.content)\n",
    "\n",
    "        return GatherToolsEvent(tool_calls=tool_calls)\n",
    "\n",
    "    @step(pass_context=True)\n",
    "    async def dispatch_calls(self, ctx: Context, ev: GatherToolsEvent) -> ToolCallEvent:\n",
    "        \"\"\"Dispatches calls.\"\"\"\n",
    "\n",
    "        tool_calls = ev.tool_calls\n",
    "        await ctx.set(\"num_tool_calls\", len(tool_calls))\n",
    "\n",
    "        # trigger tool call events\n",
    "        for tool_call in tool_calls:\n",
    "            ctx.send_event(ToolCallEvent(tool_call=tool_call))\n",
    "        \n",
    "        return None\n",
    "    \n",
    "    @step()\n",
    "    async def call_tool(self, ev: ToolCallEvent) -> ToolCallEventResult:\n",
    "        \"\"\"Calls tool.\"\"\"\n",
    "\n",
    "        tool_call = ev.tool_call\n",
    "\n",
    "        # get tool ID and function call\n",
    "        id_ = tool_call.tool_id\n",
    "\n",
    "        if self._verbose:\n",
    "            print(f\"Calling function {tool_call.tool_name} with msg {tool_call.tool_kwargs}\")\n",
    "\n",
    "        # call function and put result into a chat message\n",
    "        tool = self.tools_dict[tool_call.tool_name]\n",
    "        output = await tool.acall(**tool_call.tool_kwargs)\n",
    "        msg = ChatMessage(\n",
    "            name=tool_call.tool_name,\n",
    "            content=str(output),\n",
    "            role=\"tool\",\n",
    "            additional_kwargs={\n",
    "                \"tool_call_id\": id_,\n",
    "                \"name\": tool_call.tool_name\n",
    "            }\n",
    "        )\n",
    "\n",
    "        return ToolCallEventResult(msg=msg)\n",
    "    \n",
    "    @step(pass_context=True)\n",
    "    async def gather(self, ctx: Context, ev: ToolCallEventResult) -> StopEvent | None:\n",
    "        \"\"\"Gathers tool calls.\"\"\"\n",
    "        # wait for all tool call events to finish.\n",
    "        tool_events = ctx.collect_events(ev, [ToolCallEventResult] * await ctx.get(\"num_tool_calls\"))\n",
    "        if not tool_events:\n",
    "            return None\n",
    "        \n",
    "        for tool_event in tool_events:\n",
    "            # append tool call chat messages to history\n",
    "            self.chat_history.append(tool_event.msg)\n",
    "        \n",
    "        # # after all tool calls finish, pass input event back, restart agent loop\n",
    "        return InputEvent()"
   ]
  },
  {
   "cell_type": "markdown",
   "metadata": {},
   "source": [
    "Create the workflow instance."
   ]
  },
  {
   "cell_type": "code",
   "execution_count": 28,
   "metadata": {},
   "outputs": [],
   "source": [
    "wf = RouterOutputAgentWorkflow(tools=[sql_tool, llama_cloud_tool], verbose=True, timeout=120)"
   ]
  },
  {
   "cell_type": "markdown",
   "metadata": {},
   "source": [
    "#### Visualize Workflow"
   ]
  },
  {
   "cell_type": "code",
   "execution_count": 29,
   "metadata": {},
   "outputs": [
    {
     "name": "stdout",
     "output_type": "stream",
     "text": [
      "workflow_all_flows.html\n"
     ]
    }
   ],
   "source": [
    "from llama_index.utils.workflow import draw_all_possible_flows\n",
    "\n",
    "draw_all_possible_flows(RouterOutputAgentWorkflow)"
   ]
  },
  {
   "cell_type": "markdown",
   "metadata": {},
   "source": [
    "## Example Queries"
   ]
  },
  {
   "cell_type": "code",
   "execution_count": 30,
   "metadata": {},
   "outputs": [
    {
     "name": "stdout",
     "output_type": "stream",
     "text": [
      "Running step prepare_chat\n",
      "Step prepare_chat produced event InputEvent\n",
      "Running step chat\n",
      "Chat message: None\n",
      "Step chat produced event GatherToolsEvent\n",
      "Running step dispatch_calls\n",
      "Step dispatch_calls produced no event\n",
      "Running step call_tool\n",
      "Calling function sql_tool with msg {'input': 'SELECT city FROM city_stats ORDER BY population DESC LIMIT 1'}\n",
      "Step call_tool produced event ToolCallEventResult\n",
      "Running step gather\n",
      "Step gather produced event InputEvent\n",
      "Running step chat\n",
      "Chat message: New York City has the highest population.\n",
      "Step chat produced event StopEvent\n"
     ]
    },
    {
     "data": {
      "text/markdown": [
       "New York City has the highest population."
      ],
      "text/plain": [
       "<IPython.core.display.Markdown object>"
      ]
     },
     "metadata": {},
     "output_type": "display_data"
    }
   ],
   "source": [
    "from IPython.display import display, Markdown\n",
    "\n",
    "result = await wf.run(message=\"Which city has the highest population?\")\n",
    "display(Markdown(result))"
   ]
  },
  {
   "cell_type": "code",
   "execution_count": 31,
   "metadata": {},
   "outputs": [
    {
     "name": "stdout",
     "output_type": "stream",
     "text": [
      "Running step prepare_chat\n",
      "Step prepare_chat produced event InputEvent\n",
      "Running step chat\n",
      "Chat message: None\n",
      "Step chat produced event GatherToolsEvent\n",
      "Running step dispatch_calls\n",
      "Step dispatch_calls produced no event\n",
      "Running step call_tool\n",
      "Calling function llama_cloud_tool with msg {'input': 'What state is Houston located in?'}\n",
      "Step call_tool produced event ToolCallEventResult\n",
      "Running step gather\n",
      "Step gather produced event InputEvent\n",
      "Running step chat\n",
      "Chat message: Houston is located in the state of Texas.\n",
      "Step chat produced event StopEvent\n"
     ]
    },
    {
     "data": {
      "text/markdown": [
       "Houston is located in the state of Texas."
      ],
      "text/plain": [
       "<IPython.core.display.Markdown object>"
      ]
     },
     "metadata": {},
     "output_type": "display_data"
    }
   ],
   "source": [
    "result = await wf.run(message=\"What state is Houston located in?\")\n",
    "display(Markdown(result))"
   ]
  },
  {
   "cell_type": "code",
   "execution_count": 32,
   "metadata": {},
   "outputs": [
    {
     "name": "stdout",
     "output_type": "stream",
     "text": [
      "Running step prepare_chat\n",
      "Step prepare_chat produced event InputEvent\n",
      "Running step chat\n",
      "Chat message: None\n",
      "Step chat produced event GatherToolsEvent\n",
      "Running step dispatch_calls\n",
      "Step dispatch_calls produced no event\n",
      "Running step call_tool\n",
      "Calling function llama_cloud_tool with msg {'input': 'Where is the Space Needle located?'}\n",
      "Step call_tool produced event ToolCallEventResult\n",
      "Running step gather\n",
      "Step gather produced event InputEvent\n",
      "Running step chat\n",
      "Chat message: The Space Needle is located in Seattle, Washington.\n",
      "Step chat produced event StopEvent\n"
     ]
    },
    {
     "data": {
      "text/markdown": [
       "The Space Needle is located in Seattle, Washington."
      ],
      "text/plain": [
       "<IPython.core.display.Markdown object>"
      ]
     },
     "metadata": {},
     "output_type": "display_data"
    }
   ],
   "source": [
    "result = await wf.run(message=\"Where is the Space Needle located?\")\n",
    "display(Markdown(result))"
   ]
  },
  {
   "cell_type": "code",
   "execution_count": 33,
   "metadata": {},
   "outputs": [
    {
     "name": "stdout",
     "output_type": "stream",
     "text": [
      "Running step prepare_chat\n",
      "Step prepare_chat produced event InputEvent\n",
      "Running step chat\n",
      "Chat message: None\n",
      "Step chat produced event GatherToolsEvent\n",
      "Running step dispatch_calls\n",
      "Step dispatch_calls produced no event\n",
      "Running step call_tool\n",
      "Calling function llama_cloud_tool with msg {'input': 'List all of the places to visit in Miami'}\n",
      "Step call_tool produced event ToolCallEventResult\n",
      "Running step gather\n",
      "Step gather produced event InputEvent\n",
      "Running step chat\n",
      "Chat message: Here are some places to visit in Miami:\n",
      "- Beaches and parks\n",
      "- Zoo Miami\n",
      "- Jungle Island\n",
      "- Miami Seaquarium\n",
      "- Botanic Garden\n",
      "- Key Biscayne\n",
      "- South Beach\n",
      "- Lincoln Road\n",
      "- Bayside Marketplace\n",
      "- Downtown Miami\n",
      "- Brickell City Centre\n",
      "- Art Deco District in Miami Beach\n",
      "- Miami Open\n",
      "- Art Basel\n",
      "- Winter Music Conference\n",
      "- South Beach Wine and Food Festival\n",
      "- Mercedes-Benz Fashion Week Miami\n",
      "- Calle Ocho Festival\n",
      "- Adrienne Arsht Center for the Performing Arts\n",
      "- Olympia Theater\n",
      "- Wertheim Performing Arts Center\n",
      "- Fair Expo Center\n",
      "- Tower Theater\n",
      "- Bayfront Park Amphitheater\n",
      "- Miami International Film Festival\n",
      "Step chat produced event StopEvent\n"
     ]
    },
    {
     "data": {
      "text/markdown": [
       "Here are some places to visit in Miami:\n",
       "- Beaches and parks\n",
       "- Zoo Miami\n",
       "- Jungle Island\n",
       "- Miami Seaquarium\n",
       "- Botanic Garden\n",
       "- Key Biscayne\n",
       "- South Beach\n",
       "- Lincoln Road\n",
       "- Bayside Marketplace\n",
       "- Downtown Miami\n",
       "- Brickell City Centre\n",
       "- Art Deco District in Miami Beach\n",
       "- Miami Open\n",
       "- Art Basel\n",
       "- Winter Music Conference\n",
       "- South Beach Wine and Food Festival\n",
       "- Mercedes-Benz Fashion Week Miami\n",
       "- Calle Ocho Festival\n",
       "- Adrienne Arsht Center for the Performing Arts\n",
       "- Olympia Theater\n",
       "- Wertheim Performing Arts Center\n",
       "- Fair Expo Center\n",
       "- Tower Theater\n",
       "- Bayfront Park Amphitheater\n",
       "- Miami International Film Festival"
      ],
      "text/plain": [
       "<IPython.core.display.Markdown object>"
      ]
     },
     "metadata": {},
     "output_type": "display_data"
    }
   ],
   "source": [
    "result = await wf.run(message=\"List all of the places to visit in Miami.\")\n",
    "display(Markdown(result))"
   ]
  },
  {
   "cell_type": "code",
   "execution_count": 34,
   "metadata": {},
   "outputs": [
    {
     "name": "stdout",
     "output_type": "stream",
     "text": [
      "Running step prepare_chat\n",
      "Step prepare_chat produced event InputEvent\n",
      "Running step chat\n",
      "Chat message: None\n",
      "Step chat produced event GatherToolsEvent\n",
      "Running step dispatch_calls\n",
      "Step dispatch_calls produced no event\n",
      "Running step call_tool\n",
      "Calling function llama_cloud_tool with msg {'input': 'How do people in Chicago get around?'}\n",
      "Step call_tool produced event ToolCallEventResult\n",
      "Running step gather\n",
      "Step gather produced event InputEvent\n",
      "Running step chat\n",
      "Chat message: People in Chicago get around using various transportation options such as public transit systems like the Chicago Transit Authority (CTA) buses and trains, Metra commuter rail, and Pace buses. Additionally, Chicago has an extensive network of expressways and highways for those who prefer to drive. The city also offers bike-sharing systems like Divvy and has implemented an E-Scooter pilot program.\n",
      "Step chat produced event StopEvent\n"
     ]
    },
    {
     "data": {
      "text/markdown": [
       "People in Chicago get around using various transportation options such as public transit systems like the Chicago Transit Authority (CTA) buses and trains, Metra commuter rail, and Pace buses. Additionally, Chicago has an extensive network of expressways and highways for those who prefer to drive. The city also offers bike-sharing systems like Divvy and has implemented an E-Scooter pilot program."
      ],
      "text/plain": [
       "<IPython.core.display.Markdown object>"
      ]
     },
     "metadata": {},
     "output_type": "display_data"
    }
   ],
   "source": [
    "result = await wf.run(message=\"How do people in Chicago get around?\")\n",
    "display(Markdown(result))"
   ]
  },
  {
   "cell_type": "code",
   "execution_count": 35,
   "metadata": {},
   "outputs": [
    {
     "name": "stdout",
     "output_type": "stream",
     "text": [
      "Running step prepare_chat\n",
      "Step prepare_chat produced event InputEvent\n",
      "Running step chat\n",
      "Chat message: None\n",
      "Step chat produced event GatherToolsEvent\n",
      "Running step dispatch_calls\n",
      "Step dispatch_calls produced no event\n",
      "Running step call_tool\n",
      "Calling function llama_cloud_tool with msg {'input': 'What is the historical name of Los Angeles?'}\n",
      "Step call_tool produced event ToolCallEventResult\n",
      "Running step gather\n",
      "Step gather produced event InputEvent\n",
      "Running step chat\n",
      "Chat message: The historical name of Los Angeles is El Pueblo de Nuestra Señora la Reina de los Ángeles.\n",
      "Step chat produced event StopEvent\n"
     ]
    },
    {
     "data": {
      "text/markdown": [
       "The historical name of Los Angeles is El Pueblo de Nuestra Señora la Reina de los Ángeles."
      ],
      "text/plain": [
       "<IPython.core.display.Markdown object>"
      ]
     },
     "metadata": {},
     "output_type": "display_data"
    }
   ],
   "source": [
    "result = await wf.run(message=\"What is the historical name of Los Angeles?\")\n",
    "display(Markdown(result))"
   ]
  },
  {
   "cell_type": "code",
   "execution_count": null,
   "metadata": {},
   "outputs": [],
   "source": []
  },
  {
   "cell_type": "code",
   "execution_count": null,
   "metadata": {},
   "outputs": [],
   "source": []
  }
 ],
 "metadata": {
  "kernelspec": {
   "display_name": "llamacloud-demo",
   "language": "python",
   "name": "llamacloud-demo"
  },
  "language_info": {
   "codemirror_mode": {
    "name": "ipython",
    "version": 3
   },
   "file_extension": ".py",
   "mimetype": "text/x-python",
   "name": "python",
   "nbconvert_exporter": "python",
   "pygments_lexer": "ipython3",
   "version": "3.10.8"
  }
 },
 "nbformat": 4,
 "nbformat_minor": 4
}
