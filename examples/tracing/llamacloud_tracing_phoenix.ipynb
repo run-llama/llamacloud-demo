{
 "cells": [
  {
   "cell_type": "markdown",
   "metadata": {},
   "source": [
    "# Instrumenting a LlamaCloud Agent (with Arize Phoenix) \n",
    "\n",
    "<a href=\"https://colab.research.google.com/github/run-llama/llamacloud-demo/blob/main/examples/tracing/llamacloud_tracing_phoenix.ipynb\" target=\"_parent\"><img src=\"https://colab.research.google.com/assets/colab-badge.svg\" alt=\"Open In Colab\"/></a>\n",
    "\n",
    "In this notebook we show you how to use our native integration with LlamaTrace (Arize Phoenix) in order to log full traces from an agent built over LlamaCloud Retrievers.\n",
    "\n",
    "LlamaTrace is a collaboration between Arize and LlamaIndex to deliver hosted observability and evals with native support for LlamaIndex."
   ]
  },
  {
   "cell_type": "markdown",
   "metadata": {},
   "source": [
    "## Setup\n",
    "\n",
    "Install core packages, download files, parse documents."
   ]
  },
  {
   "cell_type": "code",
   "execution_count": null,
   "metadata": {},
   "outputs": [],
   "source": [
    "!pip install llama-index\n",
    "!pip install llama-index-core\n",
    "!pip install llama-index-embeddings-openai\n",
    "!pip install llama-index-question-gen-openai\n",
    "!pip install llama-index-postprocessor-flag-embedding-reranker\n",
    "!pip install git+https://github.com/FlagOpen/FlagEmbedding.git\n",
    "!pip install llama-parse"
   ]
  },
  {
   "cell_type": "code",
   "execution_count": null,
   "metadata": {},
   "outputs": [],
   "source": [
    "# download Apple \n",
    "!wget \"https://s2.q4cdn.com/470004039/files/doc_earnings/2023/q4/filing/_10-K-Q4-2023-As-Filed.pdf\" -O data/apple_2023.pdf\n",
    "!wget \"https://s2.q4cdn.com/470004039/files/doc_financials/2022/q4/_10-K-2022-(As-Filed).pdf\" -O data/apple_2022.pdf\n",
    "!wget \"https://s2.q4cdn.com/470004039/files/doc_financials/2021/q4/_10-K-2021-(As-Filed).pdf\" -O data/apple_2021.pdf\n",
    "!wget \"https://s2.q4cdn.com/470004039/files/doc_financials/2020/ar/_10-K-2020-(As-Filed).pdf\" -O data/apple_2020.pdf\n",
    "!wget \"https://www.dropbox.com/scl/fi/i6vk884ggtq382mu3whfz/apple_2019_10k.pdf?rlkey=eudxh3muxh7kop43ov4bgaj5i&dl=1\" -O data/apple_2019.pdf\n",
    "\n",
    "# download Tesla\n",
    "!wget \"https://ir.tesla.com/_flysystem/s3/sec/000162828024002390/tsla-20231231-gen.pdf\" -O data/tesla_2023.pdf\n",
    "!wget \"https://ir.tesla.com/_flysystem/s3/sec/000095017023001409/tsla-20221231-gen.pdf\" -O data/tesla_2022.pdf\n",
    "!wget \"https://www.dropbox.com/scl/fi/ptk83fmye7lqr7pz9r6dm/tesla_2021_10k.pdf?rlkey=24kxixeajbw9nru1sd6tg3bye&dl=1\" -O data/tesla_2021.pdf\n",
    "!wget \"https://ir.tesla.com/_flysystem/s3/sec/000156459021004599/tsla-10k_20201231-gen.pdf\" -O data/tesla_2020.pdf\n",
    "!wget \"https://ir.tesla.com/_flysystem/s3/sec/000156459020004475/tsla-10k_20191231-gen_0.pdf\" -O data/tesla_2019.pdf"
   ]
  },
  {
   "cell_type": "markdown",
   "metadata": {},
   "source": [
    "Some OpenAI and LlamaParse details. The OpenAI LLM is used for response synthesis."
   ]
  },
  {
   "cell_type": "code",
   "execution_count": 15,
   "metadata": {},
   "outputs": [],
   "source": [
    "# llama-parse is async-first, running the async code in a notebook requires the use of nest_asyncio\n",
    "import nest_asyncio\n",
    "nest_asyncio.apply()"
   ]
  },
  {
   "cell_type": "code",
   "execution_count": 2,
   "metadata": {},
   "outputs": [],
   "source": [
    "import os\n",
    "# API access to llama-cloud\n",
    "os.environ[\"LLAMA_CLOUD_API_KEY\"] = \"llx-\""
   ]
  },
  {
   "cell_type": "code",
   "execution_count": 3,
   "metadata": {},
   "outputs": [],
   "source": [
    "# Using OpenAI API for embeddings/llms\n",
    "os.environ[\"OPENAI_API_KEY\"] = \"sk-\""
   ]
  },
  {
   "cell_type": "code",
   "execution_count": 16,
   "metadata": {},
   "outputs": [],
   "source": [
    "from llama_index.llms.openai import OpenAI\n",
    "from llama_index.core import VectorStoreIndex, Settings\n",
    "\n",
    "llm = OpenAI(model=\"gpt-4o\", temperature=0)\n",
    "\n",
    "Settings.llm = llm"
   ]
  },
  {
   "cell_type": "markdown",
   "metadata": {},
   "source": [
    "### Setup Observability\n",
    "\n",
    "We setup the LlamaTrace integration below.\n",
    "\n",
    "If you haven't already done so, make sure to create an account here: https://llamatrace.com/login. Then create an API key and put it in the `PHOENIX_API_KEY` variable below."
   ]
  },
  {
   "cell_type": "code",
   "execution_count": null,
   "metadata": {
    "scrolled": true
   },
   "outputs": [],
   "source": [
    "!pip install -U llama-index-callbacks-arize-phoenix"
   ]
  },
  {
   "cell_type": "code",
   "execution_count": 3,
   "metadata": {},
   "outputs": [],
   "source": [
    "# setup Arize Phoenix for logging/observability\n",
    "import llama_index.core\n",
    "import os\n",
    "\n",
    "PHOENIX_API_KEY = \"<PHOENIX_API_KEY>\"\n",
    "os.environ[\"OTEL_EXPORTER_OTLP_HEADERS\"] = f\"api_key={PHOENIX_API_KEY}\"\n",
    "llama_index.core.set_global_handler(\n",
    "    \"arize_phoenix\",\n",
    "    endpoint=\"https://llamatrace.com/v1/traces\"\n",
    ")"
   ]
  },
  {
   "cell_type": "markdown",
   "metadata": {
    "tags": []
   },
   "source": [
    "## Load Documents into LlamaCloud\n",
    "\n",
    "The first order of business is to download the 5 Apple and Tesla 10Ks and upload them into LlamaCloud.\n",
    "\n",
    "You can easily do this by creating a pipeline and uploading docs via the \"Files\" mode.\n",
    "\n",
    "After this is done, **note down your index name and project name** and proceed to the next section."
   ]
  },
  {
   "cell_type": "markdown",
   "metadata": {},
   "source": [
    "## Define LlamaCloud Retriever over Documents\n",
    "\n",
    "In this section we define a LlamaCloud Retriever over these SEC 10K Filings. \n",
    "\n",
    "LlamaCloud natively uses LlamaParse + integrated table parsing + indexing to give back a retrieval endpoint over these documents.\n",
    "\n",
    "We primarily use the default settings, without modification."
   ]
  },
  {
   "cell_type": "code",
   "execution_count": 4,
   "metadata": {
    "tags": []
   },
   "outputs": [],
   "source": [
    "from llama_index.indices.managed.llama_cloud import LlamaCloudIndex\n",
    "\n",
    "index = LlamaCloudIndex(\n",
    "  name=\"apple_tesla_demo_base\",  ## TODO: put index name here\n",
    "  project_name=\"llamacloud_demo\",  ## TODO: put project name here\n",
    "  # api_key=\"llx-\"\n",
    ")"
   ]
  },
  {
   "cell_type": "code",
   "execution_count": 5,
   "metadata": {
    "tags": []
   },
   "outputs": [],
   "source": [
    "query_engine = index.as_query_engine(rerank_top_n=5, dense_similarity_top_k=15)"
   ]
  },
  {
   "cell_type": "code",
   "execution_count": 6,
   "metadata": {
    "tags": []
   },
   "outputs": [],
   "source": [
    "response = query_engine.query(\"What are risk factors for tesla in 2022\")"
   ]
  },
  {
   "cell_type": "code",
   "execution_count": 7,
   "metadata": {
    "tags": []
   },
   "outputs": [
    {
     "name": "stdout",
     "output_type": "stream",
     "text": [
      "Tesla faced several risk factors in 2022, including:\n",
      "\n",
      "1. **Competition**: Tesla faced competition in both its automotive and energy generation and storage businesses from established and new manufacturers, developers, installers, and service providers. Decreases in electricity prices from utilities or other renewable sources could make Tesla's products less attractive.\n",
      "\n",
      "2. **Operational Issues**: Potential issues with lithium-ion cells or other components manufactured at Tesla's Gigafactories could harm production and profitability. Bottlenecks in manufacturing lines and the need to ramp up production capacity were also concerns.\n",
      "\n",
      "3. **International Operations**: Tesla faced risks associated with maintaining and expanding international operations, including regulatory, political, economic, tax, and labor conditions in various jurisdictions.\n",
      "\n",
      "4. **Product Performance**: Defects or performance issues in Tesla's products, including software-related problems, could harm the company's reputation and lead to recalls, liability claims, and increased expenses.\n",
      "\n",
      "5. **Stock Volatility**: The trading price of Tesla's common stock was highly volatile, influenced by factors beyond the company's control, including public perception and market conditions.\n",
      "\n",
      "6. **Supply Chain and Raw Materials**: The availability and cost of raw materials like lithium, nickel, and cobalt were critical for battery production. Fluctuations in these materials' prices and supply could impact Tesla's production and profitability.\n",
      "\n",
      "7. **Regulatory and Legal Risks**: Tesla faced potential legal and regulatory challenges, including intellectual property infringement claims and changing government incentives for electric vehicles.\n",
      "\n",
      "8. **Cybersecurity**: The company's information technology systems were vulnerable to cyber-attacks, which could result in data breaches, intellectual property theft, and other adverse consequences.\n",
      "\n",
      "9. **Environmental, Social, and Governance (ESG) Practices**: Increasing scrutiny and changing expectations regarding ESG practices could result in additional costs and impact Tesla's brand and ability to attract and retain employees.\n",
      "\n",
      "10. **External Events**: Natural disasters, wars, health epidemics, and other events outside of Tesla's control could adversely affect operations. For example, the COVID-19 pandemic and the conflict between Russia and Ukraine posed significant risks.\n",
      "\n",
      "11. **Dependence on Key Personnel**: Tesla's success was highly dependent on key employees, particularly Elon Musk. The loss of key personnel or the inability to attract and retain qualified employees could disrupt operations and delay product development.\n",
      "\n",
      "12. **Financial Performance**: Fluctuations in operating costs, production capacity, and market demand could lead to significant variations in financial results from period to period.\n",
      "\n",
      "These risk factors collectively posed challenges to Tesla's business operations, financial condition, and overall growth prospects in 2022.\n"
     ]
    }
   ],
   "source": [
    "print(str(response))"
   ]
  },
  {
   "cell_type": "markdown",
   "metadata": {
    "tags": []
   },
   "source": [
    "## Define Custom Sub-Question Query Engine\n",
    "\n",
    "Define a custom query engine with tool retrieval enabled."
   ]
  },
  {
   "cell_type": "code",
   "execution_count": 8,
   "metadata": {
    "tags": []
   },
   "outputs": [],
   "source": [
    "from llama_index.core.tools import QueryEngineTool, ToolMetadata"
   ]
  },
  {
   "cell_type": "code",
   "execution_count": 9,
   "metadata": {
    "tags": []
   },
   "outputs": [],
   "source": [
    "query_engine_tool = QueryEngineTool(\n",
    "    query_engine=query_engine,\n",
    "    metadata=ToolMetadata(\n",
    "        name=f\"query_tool\",\n",
    "        description=(\n",
    "            f\"Search tool for Apple or Tesla financials for any year (please specify)\"\n",
    "        )\n",
    "    )\n",
    ")"
   ]
  },
  {
   "cell_type": "code",
   "execution_count": 10,
   "metadata": {},
   "outputs": [],
   "source": [
    "from llama_index.core.agent import FunctionCallingAgentWorker\n",
    "\n",
    "agent = FunctionCallingAgentWorker.from_tools(\n",
    "    [query_engine_tool], llm=llm, verbose=True\n",
    ").as_agent()"
   ]
  },
  {
   "cell_type": "code",
   "execution_count": 11,
   "metadata": {
    "tags": []
   },
   "outputs": [
    {
     "name": "stdout",
     "output_type": "stream",
     "text": [
      "Added user message to memory: Get Property, plant and equipment assets for Tesla and Apple in 2022\n",
      "=== Calling Function ===\n",
      "Calling function: query_tool with args: {\"input\": \"Tesla Property, plant and equipment assets 2022\"}\n",
      "=== Function Output ===\n",
      "In 2022, Tesla's property, plant, and equipment assets included ongoing construction projects such as Gigafactory Texas and Gigafactory Berlin-Brandenburg, as well as equipment and tooling related to manufacturing. Completed assets were transferred to their respective asset classes and depreciation began when the assets were ready for use. Depreciation expense for the year was $2.42 billion. Additionally, Tesla capitalized gross costs of $2.01 billion related to production equipment under its arrangement with Panasonic.\n",
      "=== Calling Function ===\n",
      "Calling function: query_tool with args: {\"input\": \"Apple Property, plant and equipment assets 2022\"}\n",
      "=== Function Output ===\n",
      "In 2022, Apple's property, plant, and equipment assets were valued at $42,117 million.\n",
      "=== LLM Response ===\n",
      "In 2022, the property, plant, and equipment assets for Tesla and Apple were as follows:\n",
      "\n",
      "- **Tesla**: Tesla's property, plant, and equipment assets included ongoing construction projects such as Gigafactory Texas and Gigafactory Berlin-Brandenburg, as well as equipment and tooling related to manufacturing. Completed assets were transferred to their respective asset classes, and depreciation began when the assets were ready for use. Depreciation expense for the year was $2.42 billion. Additionally, Tesla capitalized gross costs of $2.01 billion related to production equipment under its arrangement with Panasonic.\n",
      "\n",
      "- **Apple**: Apple's property, plant, and equipment assets were valued at $42,117 million.\n"
     ]
    }
   ],
   "source": [
    "response = agent.query(\n",
    "    \"Get Property, plant and equipment assets for Tesla and Apple in 2022\"\n",
    ")"
   ]
  },
  {
   "cell_type": "code",
   "execution_count": 12,
   "metadata": {
    "tags": []
   },
   "outputs": [
    {
     "name": "stdout",
     "output_type": "stream",
     "text": [
      "file_size: 1650825\n",
      "last_modified_at: 2024-07-10T00:58:22\n",
      "file_path: tesla_2022.pdf\n",
      "file_name: tesla_2022.pdf\n",
      "pipeline_id: c62378b1-92ab-43ca-9e3c-b1fca4c5f73f\n",
      "\n",
      "Leasehold improvements are depreciated on a straight-line basis over the shorter of their estimated useful lives or the terms of the related leases.\n",
      "\n",
      "Upon the retirement or sale of our property, **plant** and **equipment**, the cost and associated accumulated depreciation are removed from the consolidated balance sheet, and the resulting gain or loss is reflected on the consolidated statement of operations. Maintenance and repair expenditures are expensed as incurred while major improvements that increase the functionality, output or expected life of an asset are capitalized and depreciated ratably over the identified useful life.\n",
      "\n",
      "Interest expense on outstanding debt is capitalized during the period of significant capital asset construction. Capitalized interest on construction in progress is included within Property, **plant** and **equipment**, net and is amortized over the life of the related **assets**.\n",
      "---\n",
      " Long-Lived **Assets** Including Acquired Intangible **Assets**\n",
      "\n",
      "We review our property, **plant** and **equipment**, solar energy systems, long-term prepayments and intangible **assets** for impairment whenever events or changes in circumstances indicate that the carrying amount of an asset (or asset group) may not be recoverable. We measure recoverability by comparing the carrying amount to the future undiscounted cash flows that the asset is expected to generate. If the asset is not recoverable, its carrying amount would be adjusted down to its fair value. For the years ended December 31, **2022**, 2021 and 2020, we have recognized no material impairments of our long-lived **assets**.\n",
      "\n",
      "Intangible **assets** with definite lives are amortized on a straight-line basis over their estimated useful lives, which range from three to thirty years.\n",
      "\n",
      " Goodwill\n",
      "\n",
      "We assess goodwill for impairment annually in the fourth quarter, or more frequently if events or changes in circumstances indicate that it might be impaired, by comparing its carrying value to the reporting unit’s fair value. For the years ended December 31, **2022**, 2021, and 2020, we did not recognize any impairment of goodwill.\n",
      "\n",
      " Capitalization of Software Costs\n",
      "\n",
      "We capitalize costs incurred in the development of internal use software, during the application development stage to Property, **plant** and **equipment**, net on the consolidated balance sheets. Costs related to preliminary project activities and post-implementation activities are expensed as incurred. Such costs are amortized on a straight-line basis over its estimated useful life of three years.\n",
      "\n",
      "Software development costs incurred in development of software to be sold, leased, or otherwise marketed, incurred subsequent to the establishment of technological feasibility and prior to the general availability of the software are capitalized when they are expected to become significant. Such costs are amortized over the estimated useful life of the applicable software once it is made generally available to our customers.\n",
      "\n",
      "We evaluate the useful lives of these **assets** on an annual basis, and we test for impairment whenever events or changes in circumstances occur that could impact the recoverability of these **assets**. For the years ended December 31, **2022**, 2021, and 2020, we have recognized no impairments of capitalized software costs.\n",
      "\n",
      " Foreign Currency\n",
      "\n",
      "We determine the functional and reporting currency of each of our international subsidiaries and their operating divisions based on the primary currency in which they operate. In cases where the functional currency is not the U.S. dollar, we recognize a cumulative translation adjustment created by the different rates we apply to current period income or loss and the balance sheet. For each subsidiary, we apply the monthly average functional exchange rate to its monthly income or loss and the month-end functional currency rate to translate the balance sheet.\n",
      "\n",
      "Foreign currency transaction gains and losses are a result of the effect of exchange rate changes on transactions denominated in currencies other than the functional currency. Transaction gains and losses are recognized in Other (expense) income, net, in the consolidated statements of operations. For the years ended December 31, **2022**, 2021 and 2020, we recorded a net foreign currency transaction loss of $89 million, gain of $97 million and loss of $114 million, respectively.\n",
      "---\n",
      " Warranties\n",
      "\n",
      "We provide a manufacturer’s warranty on all new and used vehicles and a warranty on the installation and components of the energy generation and storage systems we sell for periods typically between 10 to 25 years. We accrue a warranty reserve for the products sold by us, which includes our best estimate of the projected costs to repair or replace items under warranties and recalls if identified. These estimates are based on actual claims incurred to date and an estimate of the nature, frequency and costs of future claims. These estimates are inherently uncertain given our relatively short history of sales, and changes to our historical or projected warranty experience may cause material changes to the warranty reserve in the future. The warranty reserve does not include projected warranty costs associated with our vehicles subject to operating lease accounting and our solar energy systems under lease contracts or PPAs, as the costs to repair these warranty claims are expensed as incurred.\n"
     ]
    }
   ],
   "source": [
    "print(response.source_nodes[3].get_content(metadata_mode=\"all\"))"
   ]
  },
  {
   "cell_type": "code",
   "execution_count": 13,
   "metadata": {
    "tags": []
   },
   "outputs": [
    {
     "name": "stdout",
     "output_type": "stream",
     "text": [
      "file_size: 984581\n",
      "last_modified_at: 2024-07-10T00:58:22\n",
      "file_path: tesla_2023.pdf\n",
      "file_name: tesla_2023.pdf\n",
      "pipeline_id: c62378b1-92ab-43ca-9e3c-b1fca4c5f73f\n",
      "\n",
      "Construction in progress is primarily comprised of ongoing construction and expansion of our facilities, and **equipment** and tooling related to the manufacturing of our products. Completed **assets** are transferred to their respective asset classes and depreciation begins when an asset is ready for its intended use.\n",
      "\n",
      "Depreciation expense during the years ended December 31, 2023, **2022** and 2021 was $3.33 billion, $2.42 billion and $1.91 billion, respectively.\n",
      "\n",
      "Panasonic has partnered with us on Gigafactory Nevada with investments in the production **equipment** that it uses to manufacture and supply us with battery cells. Under our arrangement with Panasonic, we plan to purchase the full output from their production **equipment** at negotiated prices. As the terms of the arrangement convey a finance lease under ASC 842, we account for their production **equipment** as leased **assets** when production commences. We account for each lease and any non-lease components associated with that lease as a single lease component for all asset classes, except production **equipment** classes embedded in supply agreements. This results in us recording the cost of their production **equipment** within Property, **plant** and **equipment**, net, on the consolidated balance sheets with a corresponding liability recorded to debt and finance leases. Depreciation on Panasonic production **equipment** is computed using the units-of-production method whereby capitalized costs are amortized over the total estimated productive life of the respective **assets**. As of December 31, 2023 and **2022**, we had cumulatively capitalized gross costs of $2.02 billion and $2.01 billion, respectively, on the consolidated balance sheets in relation to the production **equipment** under our Panasonic arrangement.\n",
      "---\n",
      " Note 9 – Accrued Liabilities and Other\n"
     ]
    }
   ],
   "source": [
    "# print(str(response))\n",
    "print(response.source_nodes[1].get_content(metadata_mode=\"all\"))"
   ]
  },
  {
   "cell_type": "code",
   "execution_count": 14,
   "metadata": {
    "tags": []
   },
   "outputs": [
    {
     "name": "stdout",
     "output_type": "stream",
     "text": [
      "In 2022, the property, plant, and equipment assets for Tesla and Apple were as follows:\n",
      "\n",
      "- **Tesla**: Tesla's property, plant, and equipment assets included ongoing construction projects such as Gigafactory Texas and Gigafactory Berlin-Brandenburg, as well as equipment and tooling related to manufacturing. Completed assets were transferred to their respective asset classes, and depreciation began when the assets were ready for use. Depreciation expense for the year was $2.42 billion. Additionally, Tesla capitalized gross costs of $2.01 billion related to production equipment under its arrangement with Panasonic.\n",
      "\n",
      "- **Apple**: Apple's property, plant, and equipment assets were valued at $42,117 million.\n"
     ]
    }
   ],
   "source": [
    "print(str(response))"
   ]
  },
  {
   "cell_type": "code",
   "execution_count": 33,
   "metadata": {},
   "outputs": [
    {
     "name": "stdout",
     "output_type": "stream",
     "text": [
      "Added user message to memory: Tell me risk factors for both Tesla and Apple in 2023\n",
      "=== Calling Function ===\n",
      "Calling function: query_tool with args: {\"input\": \"Tesla risk factors 2023\"}\n",
      "=== Function Output ===\n",
      "Tesla's risk factors in 2023 include potential increases in costs and management challenges, defects or delays in product performance, product liability claims, maintaining public credibility, delays in production and scaling, supplier issues, financing program risks, union activities, product recalls, warranty reserves, and cybersecurity threats. These risks could impact Tesla's business, financial condition, and operating results.\n",
      "=== Calling Function ===\n",
      "Calling function: query_tool with args: {\"input\": \"Apple risk factors 2023\"}\n",
      "=== Function Output ===\n",
      "Apple's risk factors in 2023 include a variety of financial, macroeconomic, industry, legal, and general risks. Financial risks involve fluctuations in quarterly net sales and profit margins, exposure to foreign exchange rate movements, and credit risks related to trade accounts receivable and investment portfolios. Macroeconomic and industry risks encompass global economic conditions, international trade restrictions, and supply chain complexities. Legal and regulatory compliance risks include potential unfavorable outcomes from legal proceedings and government investigations, as well as changes in tax laws and rates. General risks involve stock price volatility and the impact of new business strategies and acquisitions. Additionally, Apple faces cybersecurity risks due to its high profile and the value of its confidential information.\n",
      "=== LLM Response ===\n",
      "### Tesla's Risk Factors in 2023\n",
      "\n",
      "1. **Cost Increases and Management Challenges**: Potential increases in costs and challenges in managing them.\n",
      "2. **Product Performance Issues**: Defects or delays in product performance.\n",
      "3. **Product Liability Claims**: Risks associated with claims related to product liability.\n",
      "4. **Public Credibility**: Maintaining public credibility is crucial.\n",
      "5. **Production and Scaling Delays**: Delays in production and scaling operations.\n",
      "6. **Supplier Issues**: Problems with suppliers could impact operations.\n",
      "7. **Financing Program Risks**: Risks related to financing programs.\n",
      "8. **Union Activities**: Potential union activities could affect operations.\n",
      "9. **Product Recalls**: Risks associated with product recalls.\n",
      "10. **Warranty Reserves**: Managing warranty reserves effectively.\n",
      "11. **Cybersecurity Threats**: Threats to cybersecurity could impact operations.\n",
      "\n",
      "### Apple's Risk Factors in 2023\n",
      "\n",
      "1. **Financial Risks**:\n",
      "   - Fluctuations in quarterly net sales and profit margins.\n",
      "   - Exposure to foreign exchange rate movements.\n",
      "   - Credit risks related to trade accounts receivable and investment portfolios.\n",
      "\n",
      "2. **Macroeconomic and Industry Risks**:\n",
      "   - Global economic conditions.\n",
      "   - International trade restrictions.\n",
      "   - Supply chain complexities.\n",
      "\n",
      "3. **Legal and Regulatory Compliance Risks**:\n",
      "   - Potential unfavorable outcomes from legal proceedings and government investigations.\n",
      "   - Changes in tax laws and rates.\n",
      "\n",
      "4. **General Risks**:\n",
      "   - Stock price volatility.\n",
      "   - Impact of new business strategies and acquisitions.\n",
      "\n",
      "5. **Cybersecurity Risks**:\n",
      "   - High profile and the value of confidential information make Apple a target for cybersecurity threats.\n"
     ]
    }
   ],
   "source": [
    "response = agent.query(\"Tell me risk factors for both Tesla and Apple in 2023\")"
   ]
  },
  {
   "cell_type": "code",
   "execution_count": 34,
   "metadata": {},
   "outputs": [
    {
     "name": "stdout",
     "output_type": "stream",
     "text": [
      "### Tesla's Risk Factors in 2023\n",
      "\n",
      "1. **Cost Increases and Management Challenges**: Potential increases in costs and challenges in managing them.\n",
      "2. **Product Performance Issues**: Defects or delays in product performance.\n",
      "3. **Product Liability Claims**: Risks associated with claims related to product liability.\n",
      "4. **Public Credibility**: Maintaining public credibility is crucial.\n",
      "5. **Production and Scaling Delays**: Delays in production and scaling operations.\n",
      "6. **Supplier Issues**: Problems with suppliers could impact operations.\n",
      "7. **Financing Program Risks**: Risks related to financing programs.\n",
      "8. **Union Activities**: Potential union activities could affect operations.\n",
      "9. **Product Recalls**: Risks associated with product recalls.\n",
      "10. **Warranty Reserves**: Managing warranty reserves effectively.\n",
      "11. **Cybersecurity Threats**: Threats to cybersecurity could impact operations.\n",
      "\n",
      "### Apple's Risk Factors in 2023\n",
      "\n",
      "1. **Financial Risks**:\n",
      "   - Fluctuations in quarterly net sales and profit margins.\n",
      "   - Exposure to foreign exchange rate movements.\n",
      "   - Credit risks related to trade accounts receivable and investment portfolios.\n",
      "\n",
      "2. **Macroeconomic and Industry Risks**:\n",
      "   - Global economic conditions.\n",
      "   - International trade restrictions.\n",
      "   - Supply chain complexities.\n",
      "\n",
      "3. **Legal and Regulatory Compliance Risks**:\n",
      "   - Potential unfavorable outcomes from legal proceedings and government investigations.\n",
      "   - Changes in tax laws and rates.\n",
      "\n",
      "4. **General Risks**:\n",
      "   - Stock price volatility.\n",
      "   - Impact of new business strategies and acquisitions.\n",
      "\n",
      "5. **Cybersecurity Risks**:\n",
      "   - High profile and the value of confidential information make Apple a target for cybersecurity threats.\n"
     ]
    }
   ],
   "source": [
    "print(str(response))"
   ]
  },
  {
   "cell_type": "code",
   "execution_count": null,
   "metadata": {},
   "outputs": [],
   "source": []
  }
 ],
 "metadata": {
  "kernelspec": {
   "display_name": "llama_index_v3",
   "language": "python",
   "name": "llama_index_v3"
  },
  "language_info": {
   "codemirror_mode": {
    "name": "ipython",
    "version": 3
   },
   "file_extension": ".py",
   "mimetype": "text/x-python",
   "name": "python",
   "nbconvert_exporter": "python",
   "pygments_lexer": "ipython3",
   "version": "3.10.8"
  }
 },
 "nbformat": 4,
 "nbformat_minor": 4
}
