{
 "cells": [
  {
   "cell_type": "markdown",
   "id": "03d9d807-02bc-447c-8890-787aac4c2b74",
   "metadata": {
    "tags": []
   },
   "source": [
    "# Getting Started with LlamaCloud\n",
    "\n",
    "This notebook shows you how to get started with LlamaCloud by building a very simple RAG pipeline, and then querying it."
   ]
  },
  {
   "cell_type": "markdown",
   "id": "c578d22f-53d0-471a-bc1d-bd9b428a3d03",
   "metadata": {},
   "source": [
    "## Build RAG Pipeline from LlamaCloud Index\n",
    "\n",
    "The LlamaCloud index is built over the 2021 Lyft and Uber 10K documents.\n",
    "\n",
    "To create the index, follow the instructions:\n",
    "1. You can download them here ([Uber 10K](https://www.dropbox.com/s/te0a2w227v27iag/uber_2021.pdf?dl=1), [Lyft 10K](https://www.dropbox.com/s/qctkz6nxhm0y5qe/lyft_2021.pdf?dl=1))\n",
    "2. Follow instructions on `https://cloud.llamaindex.ai/` to signup for an account. Create a pipeline by uploading these documents."
   ]
  },
  {
   "cell_type": "code",
   "execution_count": null,
   "id": "1500b200-f7c6-428c-ab7e-07902b3faa4e",
   "metadata": {},
   "outputs": [],
   "source": [
    "!pip install llama-index-indices-llama-cloud"
   ]
  },
  {
   "cell_type": "code",
   "execution_count": 3,
   "id": "281ce14d-1bb9-43f3-a91c-15f83fb89d40",
   "metadata": {
    "tags": []
   },
   "outputs": [],
   "source": [
    "from llama_index.indices.managed.llama_cloud import LlamaCloudIndex\n",
    "\n",
    "index = LlamaCloudIndex(\n",
    "  name=\"<index_name>\", \n",
    "  project_name=\"<project_name>\",\n",
    "  api_key=\"llx-...\"\n",
    ")"
   ]
  },
  {
   "cell_type": "markdown",
   "id": "ddebb2af-d59f-4df8-876b-fda2e8fda333",
   "metadata": {},
   "source": [
    "## Try out an Example Query! \n",
    "\n",
    "Now we can try out an example query against the index.\n",
    "\n",
    "If you want an out of the box query engine, just do `index.as_query_engine()` (similar to our VectorStoreIndex).\n",
    "\n",
    "If you want a retreiver that you can plug into a custom workflow, do `index.as_retriever()`"
   ]
  },
  {
   "cell_type": "code",
   "execution_count": 4,
   "id": "1f7e66d1-ccc7-4d29-86f6-77b9ccef0711",
   "metadata": {
    "tags": []
   },
   "outputs": [],
   "source": [
    "query = \"Tell me about the risk factors for uber\"\n",
    "response = index.as_query_engine().query(query)"
   ]
  },
  {
   "cell_type": "code",
   "execution_count": 5,
   "id": "ffa60e6b-3362-466c-b895-a718d429e762",
   "metadata": {
    "tags": []
   },
   "outputs": [
    {
     "name": "stdout",
     "output_type": "stream",
     "text": [
      "The risk factors for Uber include challenges related to operational factors such as forecasting revenue, managing expenses, attracting and retaining drivers and riders, complying with laws and regulations, responding to macroeconomic changes, maintaining brand reputation, managing growth, and developing new platform features. Additionally, risks include changes in pricing strategies, regulatory scrutiny, potential reclassification of drivers as employees, and evolving and increasingly regulated industry dynamics that could impact business operations, financial condition, and results of operations.\n"
     ]
    }
   ],
   "source": [
    "print(str(response))"
   ]
  },
  {
   "cell_type": "code",
   "execution_count": 6,
   "id": "805f9860-92fa-4994-8278-a4c845c456c7",
   "metadata": {
    "tags": []
   },
   "outputs": [
    {
     "data": {
      "text/plain": [
       "NodeWithScore(node=TextNode(id_='9c71055d-44df-4d99-84e5-d3e0db8564cb', embedding=None, metadata={'file_name': 'lyft_2021.pdf', 'file_path': 'lyft_2021.pdf', 'file_type': 'application/pdf', 'file_size': 1440303, 'llx_platform_pipeline_id': 'edf2f149-b8b9-4b5b-9806-b5d4a182fe86', 'llx_platform_loaded_file_id': 'f877de9c-2087-46c9-9ba7-9e788ec1038e', 'pipeline_id': 'edf2f149-b8b9-4b5b-9806-b5d4a182fe86'}, excluded_embed_metadata_keys=[], excluded_llm_metadata_keys=[], relationships={<NodeRelationship.SOURCE: '1'>: RelatedNodeInfo(node_id='d2ba4de0-71e1-4b0d-8e51-15ae8fe4063a', node_type=<ObjectType.DOCUMENT: '4'>, metadata={}, hash='fecf57192485718939536e0c3afdfc50ff84299a05437a5fbe36505969ec00ea'), <NodeRelationship.PREVIOUS: '2'>: RelatedNodeInfo(node_id='7fe186ba-9718-4204-9c4d-d5b50cbacbda', node_type=<ObjectType.TEXT: '1'>, metadata={'file_name': 'lyft_2021.pdf', 'file_path': 'lyft_2021.pdf', 'file_type': 'application/pdf', 'file_size': 1440303, 'llx_platform_pipeline_id': 'edf2f149-b8b9-4b5b-9806-b5d4a182fe86', 'llx_platform_loaded_file_id': 'f877de9c-2087-46c9-9ba7-9e788ec1038e', 'pipeline_id': 'edf2f149-b8b9-4b5b-9806-b5d4a182fe86'}, hash='cd0bd168aa593715850fa05a25dfb550c13c3432b8efd55d2f51145d33eccfe2'), <NodeRelationship.NEXT: '3'>: RelatedNodeInfo(node_id='825b222a-3462-403c-8743-d36983d883dd', node_type=<ObjectType.TEXT: '1'>, metadata={'file_name': 'lyft_2021.pdf', 'file_path': 'lyft_2021.pdf', 'file_type': 'application/pdf', 'file_size': 1440303, 'llx_platform_pipeline_id': 'edf2f149-b8b9-4b5b-9806-b5d4a182fe86', 'llx_platform_loaded_file_id': 'f877de9c-2087-46c9-9ba7-9e788ec1038e', 'pipeline_id': 'edf2f149-b8b9-4b5b-9806-b5d4a182fe86'}, hash='e97c50be99978136a166a7df30137b634079f10eb2a656341df3b370e7f1bcc7')}, text='For example, inflation has broadly impacted the auto service industry, which has increased our insurance costs. If general economic conditions deteriorate in the United States or in other markets where we operate, discretionary spending may decline and demand for ridesharing may be reduced. An economic downturn resulting in a prolonged recessionary period may have a further adverse effect on our revenue.\\n---\\n Risks Related to Operational **Factors**\\n\\nOur limited operating history and our evolving business make it difficult to evaluate our future prospects and the risks and challenges we may encounter. While we have primarily focused on ridesharing since our ridesharing marketplace launched in 2012, our business continues to evolve. We regularly expand our platform features, offerings and services and change our pricing methodologies. In recent periods, we have also reevaluated and changed our cost structure and focused our business model. Our evolving business, industry and markets make it difficult to evaluate our future prospects and the risks and challenges we may encounter. Risks and challenges we have faced or expect to face include our ability to:\\n\\n- forecast our revenue and budget for and manage our expenses;\\n- attract new qualified drivers and new riders and retain existing qualified drivers and existing riders in a cost-effective manner;\\n- comply with existing and new or modified laws and regulations applicable to our business;\\n- manage our platform and our business assets and expenses in light of the COVID-19 pandemic and related public health measures issued by various jurisdictions, including travel bans, travel restrictions and shelter-in-place orders, as well as maintain demand for and confidence in the safety of our platform during and following the COVID-19 pandemic;\\n- plan for and manage capital expenditures for our current and future offerings, including our network of Light Vehicles or certain vehicles in the Express Drive program and the fleet of vehicles for Lyft Rentals, and manage our supply chain and supplier relationships related to our current and future offerings;\\n- develop, manufacture, source, deploy, maintain and ensure utilization of our assets, including our network of Light Vehicles, Driver Hubs, Driver Centers, Mobile Services, Lyft Auto Care, certain vehicles in the Express Drive program, vehicles for Lyft Rentals and autonomous vehicle technology;\\n- anticipate and respond to macroeconomic changes and changes in the markets in which we operate;\\n- maintain and enhance the value of our reputation and brand;\\n- effectively manage our growth and business operations, including the impacts of the COVID-19 pandemic on our business;\\n- successfully expand our geographic reach;\\n- hire, integrate and retain talented people at all levels of our organization;\\n- successfully develop new platform features, offerings and services to enhance the experience of users; and\\n- right-size our real estate portfolio.\\n\\nIf we fail to address the risks and difficulties that we face, including those associated with the challenges listed above as well as those described elsewhere in this \"**Risk** **Factors**\" section, our business, financial condition and results of operations could be adversely affected. Further, because we have an evolving financial model and operate in a rapidly evolving market, any predictions about our future revenue and expenses may not be as accurate as they would be if we had a static financial model or operated in a more predictable market. We have encountered in the past, and will encounter in the future, risks and uncertainties frequently experienced by growing companies with limited operating histories in rapidly changing industries. If our assumptions regarding these risks and uncertainties, which we use to plan and operate our business, are incorrect or change, or if we do not address these risks successfully, our results of operations could differ materially from our expectations and our business, financial condition and results of operations could be adversely affected.\\n\\nOur financial performance in recent periods may not be indicative of future performance, and we may not be able to achieve or maintain profitability in the future. Prior to COVID-19, we grew rapidly. In 2020, due to COVID-19 and the related government and public health measures, our revenue declined significantly and we have since recovered partially, but our revenue remains below pre-COVID levels and the timeline for a full recovery is uncertain. Accordingly, our recent revenue growth rate and financial performance, including prior to the effects of COVID-19, the decline related to COVID-19 and recent growth rates compared to periods in the midst of the COVID-19 pandemic, should not be considered indicative of our future performance. Further, although we have achieved Adjusted EBITDA profitability in each of the last three quarters, we have incurred net losses each year since our inception and we can provide no assurances that we will achieve or maintain Adjusted EBITDA profitability in the future, on a quarterly or annual basis, or that we will ever achieve profitability on a GAAP basis.\\n---\\n Our expenses and potential risks\\n\\nOur expenses will likely increase in the future as we develop and launch new offerings and platform features, expand in existing and new markets, and continue to invest in our platform and customer engagement, or as a result of the COVID-19 pandemic.', start_char_idx=16851, end_char_idx=22319, text_template='{metadata_str}\\n\\n{content}', metadata_template='{key}: {value}', metadata_seperator='\\n'), score=0.99287856)"
      ]
     },
     "execution_count": 6,
     "metadata": {},
     "output_type": "execute_result"
    }
   ],
   "source": [
    "response.source_nodes[0]"
   ]
  },
  {
   "cell_type": "markdown",
   "id": "0569c88f-95ee-49b6-b45e-3fbc4d1c0dca",
   "metadata": {},
   "source": [
    "Now let's try using a standalone retriever."
   ]
  },
  {
   "cell_type": "code",
   "execution_count": 7,
   "id": "949acc14-d553-4ebd-8dc1-05586437ab54",
   "metadata": {},
   "outputs": [],
   "source": [
    "query = \"Tell me about the risk factors for uber\"\n",
    "nodes = index.as_retriever().retrieve(query)"
   ]
  },
  {
   "cell_type": "code",
   "execution_count": 9,
   "id": "a89bf8a5-dee7-4553-92b8-679d3c801640",
   "metadata": {
    "tags": []
   },
   "outputs": [
    {
     "name": "stdout",
     "output_type": "stream",
     "text": [
      "For example, inflation has broadly impacted the auto service industry, which has increased our insurance costs. If general economic conditions deteriorate in the United States or in other markets where we operate, discretionary spending may decline and demand for ridesharing may be reduced. An economic downturn resulting in a prolonged recessionary period may have a further adverse effect on our revenue.\n",
      "---\n",
      " Risks Related to Operational **Factors**\n",
      "\n",
      "Our limited operating history and our evolving business make it difficult to evaluate our future prospects and the risks and challenges we may encounter. While we have primarily focused on ridesharing since our ridesharing marketplace launched in 2012, our business continues to evolve. We regularly expand our platform features, offerings and services and change our pricing methodologies. In recent periods, we have also reevaluated and changed our cost structure and focused our business model. Our evolving business, industry and markets make it difficult to evaluate our future prospects and the risks and challenges we may encounter. Risks and challenges we have faced or expect to face include our ability to:\n",
      "\n",
      "- forecast our revenue and budget for and manage our expenses;\n",
      "- attract new qualified drivers and new riders and retain existing qualified drivers and existing riders in a cost-effective manner;\n",
      "- comply with existing and new or modified laws and regulations applicable to our business;\n",
      "- manage our platform and our business assets and expenses in light of the COVID-19 pandemic and related public health measures issued by various jurisdictions, including travel bans, travel restrictions and shelter-in-place orders, as well as maintain demand for and confidence in the safety of our platform during and following the COVID-19 pandemic;\n",
      "- plan for and manage capital expenditures for our current and future offerings, including our network of Light Vehicles or certain vehicles in the Express Drive program and the fleet of vehicles for Lyft Rentals, and manage our supply chain and supplier relationships related to our current and future offerings;\n",
      "- develop, manufacture, source, deploy, maintain and ensure utilization of our assets, including our network of Light Vehicles, Driver Hubs, Driver Centers, Mobile Services, Lyft Auto Care, certain vehicles in the Express Drive program, vehicles for Lyft Rentals and autonomous vehicle technology;\n",
      "- anticipate and respond to macroeconomic changes and changes in the markets in which we operate;\n",
      "- maintain and enhance the value of our reputation and brand;\n",
      "- effectively manage our growth and business operations, including the impacts of the COVID-19 pandemic on our business;\n",
      "- successfully expand our geographic reach;\n",
      "- hire, integrate and retain talented people at all levels of our organization;\n",
      "- successfully develop new platform features, offerings and services to enhance the experience of users; and\n",
      "- right-size our real estate portfolio.\n",
      "\n",
      "If we fail to address the risks and difficulties that we face, including those associated with the challenges listed above as well as those described elsewhere in this \"**Risk** **Factors**\" section, our business, financial condition and results of operations could be adversely affected. Further, because we have an evolving financial model and operate in a rapidly evolving market, any predictions about our future revenue and expenses may not be as accurate as they would be if we had a static financial model or operated in a more predictable market. We have encountered in the past, and will encounter in the future, risks and uncertainties frequently experienced by growing companies with limited operating histories in rapidly changing industries. If our assumptions regarding these risks and uncertainties, which we use to plan and operate our business, are incorrect or change, or if we do not address these risks successfully, our results of operations could differ materially from our expectations and our business, financial condition and results of operations could be adversely affected.\n",
      "\n",
      "Our financial performance in recent periods may not be indicative of future performance, and we may not be able to achieve or maintain profitability in the future. Prior to COVID-19, we grew rapidly. In 2020, due to COVID-19 and the related government and public health measures, our revenue declined significantly and we have since recovered partially, but our revenue remains below pre-COVID levels and the timeline for a full recovery is uncertain. Accordingly, our recent revenue growth rate and financial performance, including prior to the effects of COVID-19, the decline related to COVID-19 and recent growth rates compared to periods in the midst of the COVID-19 pandemic, should not be considered indicative of our future performance. Further, although we have achieved Adjusted EBITDA profitability in each of the last three quarters, we have incurred net losses each year since our inception and we can provide no assurances that we will achieve or maintain Adjusted EBITDA profitability in the future, on a quarterly or annual basis, or that we will ever achieve profitability on a GAAP basis.\n",
      "---\n",
      " Our expenses and potential risks\n",
      "\n",
      "Our expenses will likely increase in the future as we develop and launch new offerings and platform features, expand in existing and new markets, and continue to invest in our platform and customer engagement, or as a result of the COVID-19 pandemic.\n"
     ]
    }
   ],
   "source": [
    "print(str(nodes[0].get_content()))"
   ]
  },
  {
   "cell_type": "markdown",
   "id": "d049aa2f-7afb-43ea-b5aa-942b04ad3936",
   "metadata": {},
   "source": [
    "Now let's plug in the retriever into a standard RAG query pipeline (this is basically what `index.as_query_engine()` does under the hood)."
   ]
  },
  {
   "cell_type": "code",
   "execution_count": 13,
   "id": "4f8a2cff-dd96-49ad-bb61-e1628ecdcf44",
   "metadata": {
    "tags": []
   },
   "outputs": [],
   "source": [
    "from llama_index.core.query_pipeline import QueryPipeline as QP, InputComponent\n",
    "from llama_index.core.response_synthesizers import TreeSummarize\n",
    "from llama_index.llms.openai import OpenAI\n",
    "\n",
    "llm = OpenAI(model=\"gpt-3.5-turbo\")\n",
    "summarizer = TreeSummarize(llm=llm)\n",
    "\n",
    "p = QP(verbose=True)\n",
    "p.add_modules(\n",
    "    {\n",
    "        \"input\": InputComponent(),\n",
    "        \"retriever\": index.as_retriever(),\n",
    "        \"summarizer\": summarizer,\n",
    "    }\n",
    ")\n",
    "p.add_link(\"input\", \"retriever\")\n",
    "p.add_link(\"input\", \"summarizer\", dest_key=\"query_str\")\n",
    "p.add_link(\"retriever\", \"summarizer\", dest_key=\"nodes\")"
   ]
  },
  {
   "cell_type": "code",
   "execution_count": 14,
   "id": "0b866328-ee31-4991-afb9-0f153cf90fc5",
   "metadata": {},
   "outputs": [
    {
     "name": "stdout",
     "output_type": "stream",
     "text": [
      "\u001b[1;3;38;2;155;135;227m> Running module input with input: \n",
      "input: what are the main expenditures for Lyft?\n",
      "\n",
      "\u001b[0m\u001b[1;3;38;2;155;135;227m> Running module retriever with input: \n",
      "input: what are the main expenditures for Lyft?\n",
      "\n",
      "\u001b[0m\u001b[1;3;38;2;155;135;227m> Running module summarizer with input: \n",
      "query_str: what are the main expenditures for Lyft?\n",
      "nodes: [NodeWithScore(node=TextNode(id_='b25d667a-2dfb-4d54-92a5-e4a4d71881fd', embedding=None, metadata={'file_name': 'lyft_2021.pdf', 'file_path': 'lyft_2021.pdf', 'file_type': 'application/pdf', 'file_siz...\n",
      "\n",
      "\u001b[0m"
     ]
    }
   ],
   "source": [
    "output = p.run(input=\"what are the main expenditures for Lyft?\")"
   ]
  },
  {
   "cell_type": "code",
   "execution_count": 15,
   "id": "3250aad3-6470-4a6b-afb0-627a67fd8fb9",
   "metadata": {
    "tags": []
   },
   "outputs": [
    {
     "name": "stdout",
     "output_type": "stream",
     "text": [
      "The main expenditures for Lyft include research and development expenses, sales and marketing expenses, general and administrative expenses, interest expenses, and other income (expense), net.\n"
     ]
    }
   ],
   "source": [
    "print(str(output))"
   ]
  },
  {
   "cell_type": "code",
   "execution_count": null,
   "id": "390b9e89-fbe6-4ff8-a13e-d453190ad0a0",
   "metadata": {},
   "outputs": [],
   "source": []
  }
 ],
 "metadata": {
  "kernelspec": {
   "display_name": "llama_index_v3",
   "language": "python",
   "name": "llama_index_v3"
  },
  "language_info": {
   "codemirror_mode": {
    "name": "ipython",
    "version": 3
   },
   "file_extension": ".py",
   "mimetype": "text/x-python",
   "name": "python",
   "nbconvert_exporter": "python",
   "pygments_lexer": "ipython3",
   "version": "3.10.8"
  }
 },
 "nbformat": 4,
 "nbformat_minor": 5
}
