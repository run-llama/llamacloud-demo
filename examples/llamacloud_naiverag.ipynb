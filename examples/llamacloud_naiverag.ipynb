{
 "cells": [
  {
   "cell_type": "markdown",
   "metadata": {},
   "source": [
    "## LlamaCloud vs Naive RAG \n",
    "\n",
    "In this notebook, we will demonstrate how LlamaCloud shines compared to Naive RAG using `Microsoft 2023 10K SEC Filings`\n",
    "\n",
    "Here are the parameters we used to ensure consistency in the comparison.\n",
    "\n",
    "`LlamaCloud:`\n",
    "1. LlamaParse (Accurate mode)\n",
    "2. chunk_size = 1024\n",
    "3. chunk_overlap = 200\n",
    "4. embedding-model - text-embedding-ada-002.\n",
    "5. llm - gpt-3.5-turbo.\n",
    "\n",
    "`Naive RAG:`\n",
    "1. PyPDF\n",
    "2. chunk_size = 1024\n",
    "3. chunk_overlap = 200\n",
    "4. OpenAI text-embedding-ada-002\n",
    "5. llm - gpt-3.5-turbo."
   ]
  },
  {
   "cell_type": "markdown",
   "metadata": {},
   "source": [
    "### Setup"
   ]
  },
  {
   "cell_type": "code",
   "execution_count": null,
   "metadata": {},
   "outputs": [],
   "source": [
    "# %pip install llama-index-indices-managed-llama-cloud\n",
    "# %pip install llama-index"
   ]
  },
  {
   "cell_type": "code",
   "execution_count": 217,
   "metadata": {},
   "outputs": [],
   "source": [
    "import os\n",
    "from IPython.display import Markdown, display\n",
    "\n",
    "os.environ['OPENAI_API_KEY'] = 'sk-...'"
   ]
  },
  {
   "cell_type": "markdown",
   "metadata": {},
   "source": [
    "### Connect to LlamaCloud Index"
   ]
  },
  {
   "cell_type": "code",
   "execution_count": 31,
   "metadata": {},
   "outputs": [],
   "source": [
    "from llama_index.indices.managed.llama_cloud import LlamaCloudIndex\n",
    "\n",
    "llamacloud_index = LlamaCloudIndex(\n",
    "  name=\"MSFT_2023\", \n",
    "  project_name=\"Default\",\n",
    "  organization_id=\"<ORG ID>\",\n",
    "  api_key=\"llx-...\"\n",
    ")"
   ]
  },
  {
   "cell_type": "markdown",
   "metadata": {},
   "source": [
    "### Build Naive RAG"
   ]
  },
  {
   "cell_type": "code",
   "execution_count": 21,
   "metadata": {},
   "outputs": [],
   "source": [
    "from llama_index.core import SimpleDirectoryReader\n",
    "from llama_index.core import Settings, VectorStoreIndex\n",
    "\n",
    "Settings.chunk_size = 1024\n",
    "Settings.chunk_overlap = 200\n",
    "\n",
    "documents = SimpleDirectoryReader(input_files=[\"MSFT_2023_10K_SEC.pdf\"]).load_data()\n",
    "raw_index = VectorStoreIndex.from_documents(documents)"
   ]
  },
  {
   "cell_type": "markdown",
   "metadata": {},
   "source": [
    "### Create Query Engines"
   ]
  },
  {
   "cell_type": "code",
   "execution_count": 129,
   "metadata": {},
   "outputs": [],
   "source": [
    "## LlamaCloud\n",
    "\n",
    "llamacloud_query_engine = llamacloud_index.as_query_engine(\n",
    "  dense_similarity_top_k=5,\n",
    "  sparse_similarity_top_k=5,\n",
    "  alpha=0.5,\n",
    "  enable_reranking=True, \n",
    "  rerank_top_n=2,\n",
    ")\n",
    "\n",
    "## Naive RAG\n",
    "raw_query_engine = raw_index.as_query_engine(similarity_top_k=2)"
   ]
  },
  {
   "cell_type": "markdown",
   "metadata": {},
   "source": [
    "### Queries over text chunks\n",
    "\n",
    "1. Pointed query.\n",
    "2. Comparison queries."
   ]
  },
  {
   "cell_type": "markdown",
   "metadata": {},
   "source": [
    "#### Query-1"
   ]
  },
  {
   "cell_type": "code",
   "execution_count": 241,
   "metadata": {},
   "outputs": [
    {
     "name": "stdout",
     "output_type": "stream",
     "text": [
      "\n",
      "-----QUERY------\n"
     ]
    },
    {
     "data": {
      "text/markdown": [
       "\n",
       "How many hectares of land did Microsoft protect in Belize?\n"
      ],
      "text/plain": [
       "<IPython.core.display.Markdown object>"
      ]
     },
     "metadata": {},
     "output_type": "display_data"
    },
    {
     "name": "stdout",
     "output_type": "stream",
     "text": [
      "\n",
      "-----LlamaCloud------\n"
     ]
    },
    {
     "data": {
      "text/markdown": [
       "Microsoft protected 12,270 acres of land in Belize."
      ],
      "text/plain": [
       "<IPython.core.display.Markdown object>"
      ]
     },
     "metadata": {},
     "output_type": "display_data"
    },
    {
     "name": "stdout",
     "output_type": "stream",
     "text": [
      "\n",
      "-----Naive RAG------\n"
     ]
    },
    {
     "data": {
      "text/markdown": [
       "Microsoft protected 4,963 hectares of land in Belize."
      ],
      "text/plain": [
       "<IPython.core.display.Markdown object>"
      ]
     },
     "metadata": {},
     "output_type": "display_data"
    }
   ],
   "source": [
    "query = \"\"\"\n",
    "How many hectares of land did Microsoft protect in Belize?\n",
    "\"\"\"\n",
    "\n",
    "# Page-6\n",
    "\n",
    "llamacloud_response = llamacloud_query_engine.query(query)\n",
    "raw_response = raw_query_engine.query(query)\n",
    "\n",
    "print(\"\\n-----QUERY------\")\n",
    "display(Markdown(f\"{query}\"))\n",
    "\n",
    "print(\"\\n-----LlamaCloud------\")\n",
    "display(Markdown(f\"{llamacloud_response}\"))\n",
    "\n",
    "print(\"\\n-----Naive RAG------\")\n",
    "display(Markdown(f\"{raw_response}\"))"
   ]
  },
  {
   "cell_type": "code",
   "execution_count": 242,
   "metadata": {},
   "outputs": [
    {
     "name": "stdout",
     "output_type": "stream",
     "text": [
      "\n",
      "-----QUERY------\n"
     ]
    },
    {
     "data": {
      "text/markdown": [
       "\n",
       "How many hectares of land did Microsoft protect in Belize, and how does this compare to the total land they use globally?\n"
      ],
      "text/plain": [
       "<IPython.core.display.Markdown object>"
      ]
     },
     "metadata": {},
     "output_type": "display_data"
    },
    {
     "name": "stdout",
     "output_type": "stream",
     "text": [
      "\n",
      "-----LlamaCloud------\n"
     ]
    },
    {
     "data": {
      "text/markdown": [
       "Microsoft protected 12,270 acres of land in Belize, which is more than the 11,206 acres of land that they use around the world."
      ],
      "text/plain": [
       "<IPython.core.display.Markdown object>"
      ]
     },
     "metadata": {},
     "output_type": "display_data"
    },
    {
     "name": "stdout",
     "output_type": "stream",
     "text": [
      "\n",
      "-----Naive RAG------\n"
     ]
    },
    {
     "data": {
      "text/markdown": [
       "Microsoft protected 4,963 hectares of land in Belize, which is more than the 4,530 hectares of land they use around the world."
      ],
      "text/plain": [
       "<IPython.core.display.Markdown object>"
      ]
     },
     "metadata": {},
     "output_type": "display_data"
    }
   ],
   "source": [
    "query = \"\"\"\n",
    "How many hectares of land did Microsoft protect in Belize, and how does this compare to the total land they use globally?\n",
    "\"\"\"\n",
    "\n",
    "llamacloud_response = llamacloud_query_engine.query(query)\n",
    "raw_response = raw_query_engine.query(query)\n",
    "\n",
    "print(\"\\n-----QUERY------\")\n",
    "display(Markdown(f\"{query}\"))\n",
    "\n",
    "print(\"\\n-----LlamaCloud------\")\n",
    "display(Markdown(f\"{llamacloud_response}\"))\n",
    "\n",
    "print(\"\\n-----Naive RAG------\")\n",
    "display(Markdown(f\"{raw_response}\"))"
   ]
  },
  {
   "cell_type": "markdown",
   "metadata": {},
   "source": [
    "#### Query-2:"
   ]
  },
  {
   "cell_type": "code",
   "execution_count": 243,
   "metadata": {},
   "outputs": [
    {
     "name": "stdout",
     "output_type": "stream",
     "text": [
      "\n",
      "-----LlamaCloud------\n",
      "\n"
     ]
    },
    {
     "data": {
      "text/markdown": [
       "$4.5 billion"
      ],
      "text/plain": [
       "<IPython.core.display.Markdown object>"
      ]
     },
     "metadata": {},
     "output_type": "display_data"
    },
    {
     "name": "stdout",
     "output_type": "stream",
     "text": [
      "\n",
      "-----Naive RAG------\n",
      "\n"
     ]
    },
    {
     "data": {
      "text/markdown": [
       "The long-term accounts receivable, net of allowance for doubtful accounts, as of June 30, 2023, is $66 million."
      ],
      "text/plain": [
       "<IPython.core.display.Markdown object>"
      ]
     },
     "metadata": {},
     "output_type": "display_data"
    }
   ],
   "source": [
    "query = \"\"\"\n",
    "What is the long-term accounts receivable, net of allowance for doubtful accounts, as of June 30, 2023?\n",
    "\"\"\"\n",
    "\n",
    "llamacloud_response = llamacloud_query_engine.query(query)\n",
    "raw_response = raw_query_engine.query(query)\n",
    "print(\"\\n-----LlamaCloud------\\n\")\n",
    "display(Markdown(f\"{llamacloud_response}\"))\n",
    "print(\"\\n-----Naive RAG------\\n\")\n",
    "display(Markdown(f\"{raw_response}\"))"
   ]
  },
  {
   "cell_type": "code",
   "execution_count": 244,
   "metadata": {},
   "outputs": [
    {
     "name": "stdout",
     "output_type": "stream",
     "text": [
      "\n",
      "-----QUERY------\n"
     ]
    },
    {
     "data": {
      "text/markdown": [
       "\n",
       "What is the long-term accounts receivable, net of allowance for doubtful accounts, as of June 30, 2023 and compare it with 2022?\n"
      ],
      "text/plain": [
       "<IPython.core.display.Markdown object>"
      ]
     },
     "metadata": {},
     "output_type": "display_data"
    },
    {
     "name": "stdout",
     "output_type": "stream",
     "text": [
      "\n",
      "-----LlamaCloud------\n"
     ]
    },
    {
     "data": {
      "text/markdown": [
       "$4.5 billion"
      ],
      "text/plain": [
       "<IPython.core.display.Markdown object>"
      ]
     },
     "metadata": {},
     "output_type": "display_data"
    },
    {
     "name": "stdout",
     "output_type": "stream",
     "text": [
      "\n",
      "-----Naive RAG------\n"
     ]
    },
    {
     "data": {
      "text/markdown": [
       "The long-term accounts receivable, net of allowance for doubtful accounts, as of June 30, 2023, is $66 million."
      ],
      "text/plain": [
       "<IPython.core.display.Markdown object>"
      ]
     },
     "metadata": {},
     "output_type": "display_data"
    }
   ],
   "source": [
    "query = \"\"\"\n",
    "What is the long-term accounts receivable, net of allowance for doubtful accounts, as of June 30, 2023 and compare it with 2022?\n",
    "\"\"\"\n",
    "\n",
    "print(\"\\n-----QUERY------\")\n",
    "display(Markdown(f\"{query}\"))\n",
    "\n",
    "print(\"\\n-----LlamaCloud------\")\n",
    "display(Markdown(f\"{llamacloud_response}\"))\n",
    "\n",
    "print(\"\\n-----Naive RAG------\")\n",
    "display(Markdown(f\"{raw_response}\"))"
   ]
  },
  {
   "cell_type": "markdown",
   "metadata": {},
   "source": [
    "#### Query-3:"
   ]
  },
  {
   "cell_type": "code",
   "execution_count": 245,
   "metadata": {},
   "outputs": [
    {
     "name": "stdout",
     "output_type": "stream",
     "text": [
      "\n",
      "-----QUERY------\n"
     ]
    },
    {
     "data": {
      "text/markdown": [
       "\n",
       "How many shares of Microsoft common stock were authorized for future grant under their stock plans as of 2023?\n"
      ],
      "text/plain": [
       "<IPython.core.display.Markdown object>"
      ]
     },
     "metadata": {},
     "output_type": "display_data"
    },
    {
     "name": "stdout",
     "output_type": "stream",
     "text": [
      "\n",
      "-----LlamaCloud------\n"
     ]
    },
    {
     "data": {
      "text/markdown": [
       "As of 2023, an aggregate of 164 million shares of Microsoft common stock were authorized for future grant under their stock plans."
      ],
      "text/plain": [
       "<IPython.core.display.Markdown object>"
      ]
     },
     "metadata": {},
     "output_type": "display_data"
    },
    {
     "name": "stdout",
     "output_type": "stream",
     "text": [
      "\n",
      "-----Naive RAG------\n"
     ]
    },
    {
     "data": {
      "text/markdown": [
       "As of 2023, Microsoft authorized 1.5 billion shares of common stock for future grant under their stock plans."
      ],
      "text/plain": [
       "<IPython.core.display.Markdown object>"
      ]
     },
     "metadata": {},
     "output_type": "display_data"
    }
   ],
   "source": [
    "query = \"\"\"\n",
    "How many shares of Microsoft common stock were authorized for future grant under their stock plans as of 2023?\n",
    "\"\"\"\n",
    "\n",
    "#page-92\n",
    "\n",
    "llamacloud_response = llamacloud_query_engine.query(query)\n",
    "raw_response = raw_query_engine.query(query)\n",
    "\n",
    "print(\"\\n-----QUERY------\")\n",
    "display(Markdown(f\"{query}\"))\n",
    "\n",
    "print(\"\\n-----LlamaCloud------\")\n",
    "display(Markdown(f\"{llamacloud_response}\"))\n",
    "\n",
    "print(\"\\n-----Naive RAG------\")\n",
    "display(Markdown(f\"{raw_response}\"))"
   ]
  },
  {
   "cell_type": "markdown",
   "metadata": {},
   "source": [
    "### Table queries\n",
    "\n",
    "1. Pointed queries.\n",
    "2. Compairson queries."
   ]
  },
  {
   "cell_type": "code",
   "execution_count": 246,
   "metadata": {},
   "outputs": [
    {
     "name": "stdout",
     "output_type": "stream",
     "text": [
      "\n",
      "-----QUERY------\n"
     ]
    },
    {
     "data": {
      "text/markdown": [
       "\n",
       "How much revenue did Microsoft generate from Server products and cloud services in fiscal year 2023 ?\n"
      ],
      "text/plain": [
       "<IPython.core.display.Markdown object>"
      ]
     },
     "metadata": {},
     "output_type": "display_data"
    },
    {
     "name": "stdout",
     "output_type": "stream",
     "text": [
      "\n",
      "-----LlamaCloud------\n"
     ]
    },
    {
     "data": {
      "text/markdown": [
       "$79,970 million"
      ],
      "text/plain": [
       "<IPython.core.display.Markdown object>"
      ]
     },
     "metadata": {},
     "output_type": "display_data"
    },
    {
     "name": "stdout",
     "output_type": "stream",
     "text": [
      "\n",
      "-----Naive RAG------\n"
     ]
    },
    {
     "data": {
      "text/markdown": [
       "Microsoft generated $79.970 billion in revenue from Server products and cloud services in fiscal year 2023."
      ],
      "text/plain": [
       "<IPython.core.display.Markdown object>"
      ]
     },
     "metadata": {},
     "output_type": "display_data"
    }
   ],
   "source": [
    "query = \"\"\"\n",
    "How much revenue did Microsoft generate from Server products and cloud services in fiscal year 2023 ?\n",
    "\"\"\"\n",
    "# 96\n",
    "\n",
    "llamacloud_response = llamacloud_query_engine.query(query)\n",
    "raw_response = raw_query_engine.query(query)\n",
    "\n",
    "print(\"\\n-----QUERY------\")\n",
    "display(Markdown(f\"{query}\"))\n",
    "\n",
    "print(\"\\n-----LlamaCloud------\")\n",
    "display(Markdown(f\"{llamacloud_response}\"))\n",
    "\n",
    "print(\"\\n-----Naive RAG------\")\n",
    "display(Markdown(f\"{raw_response}\"))\n",
    "\n",
    "# Note: The answer might look same but correct on is in millions unliKe billions with Naive RAG."
   ]
  },
  {
   "cell_type": "code",
   "execution_count": 247,
   "metadata": {},
   "outputs": [
    {
     "name": "stdout",
     "output_type": "stream",
     "text": [
      "\n",
      "-----QUERY------\n"
     ]
    },
    {
     "data": {
      "text/markdown": [
       "\n",
       "How much revenue did Microsoft generate from Server products and cloud services in fiscal year 2023 and compare it with 2022, 2021?\n"
      ],
      "text/plain": [
       "<IPython.core.display.Markdown object>"
      ]
     },
     "metadata": {},
     "output_type": "display_data"
    },
    {
     "name": "stdout",
     "output_type": "stream",
     "text": [
      "\n",
      "-----LlamaCloud------\n"
     ]
    },
    {
     "data": {
      "text/markdown": [
       "Microsoft generated $79,970 million in revenue from Server products and cloud services in fiscal year 2023. Comparatively, in 2022, the revenue from Server products and cloud services was $67,350 million, and in 2021, it was $52,589 million."
      ],
      "text/plain": [
       "<IPython.core.display.Markdown object>"
      ]
     },
     "metadata": {},
     "output_type": "display_data"
    },
    {
     "name": "stdout",
     "output_type": "stream",
     "text": [
      "\n",
      "-----Naive RAG------\n"
     ]
    },
    {
     "data": {
      "text/markdown": [
       "Microsoft generated $79.970 billion in revenue from Server products and cloud services in fiscal year 2023. This revenue increased from $67.350 billion in 2022 and $52.589 billion in 2021."
      ],
      "text/plain": [
       "<IPython.core.display.Markdown object>"
      ]
     },
     "metadata": {},
     "output_type": "display_data"
    }
   ],
   "source": [
    "query = \"\"\"\n",
    "How much revenue did Microsoft generate from Server products and cloud services in fiscal year 2023 and compare it with 2022, 2021?\n",
    "\"\"\"\n",
    "# 96\n",
    "\n",
    "llamacloud_response = llamacloud_query_engine.query(query)\n",
    "raw_response = raw_query_engine.query(query)\n",
    "\n",
    "print(\"\\n-----QUERY------\")\n",
    "display(Markdown(f\"{query}\"))\n",
    "\n",
    "print(\"\\n-----LlamaCloud------\")\n",
    "display(Markdown(f\"{llamacloud_response}\"))\n",
    "\n",
    "print(\"\\n-----Naive RAG------\")\n",
    "display(Markdown(f\"{raw_response}\"))"
   ]
  },
  {
   "cell_type": "code",
   "execution_count": 248,
   "metadata": {},
   "outputs": [
    {
     "name": "stdout",
     "output_type": "stream",
     "text": [
      "\n",
      "-----QUERY------\n"
     ]
    },
    {
     "data": {
      "text/markdown": [
       "\n",
       "What is the Common stock repurchased retained earnings by the end of fiscal year 2023?\n"
      ],
      "text/plain": [
       "<IPython.core.display.Markdown object>"
      ]
     },
     "metadata": {},
     "output_type": "display_data"
    },
    {
     "name": "stdout",
     "output_type": "stream",
     "text": [
      "\n",
      "-----LlamaCloud------\n"
     ]
    },
    {
     "data": {
      "text/markdown": [
       "$17,568"
      ],
      "text/plain": [
       "<IPython.core.display.Markdown object>"
      ]
     },
     "metadata": {},
     "output_type": "display_data"
    },
    {
     "name": "stdout",
     "output_type": "stream",
     "text": [
      "\n",
      "-----Naive RAG------\n"
     ]
    },
    {
     "data": {
      "text/markdown": [
       "The Common stock repurchased retained earnings by the end of fiscal year 2023 was $22.3 billion."
      ],
      "text/plain": [
       "<IPython.core.display.Markdown object>"
      ]
     },
     "metadata": {},
     "output_type": "display_data"
    }
   ],
   "source": [
    "query = \"\"\"\n",
    "What is the Common stock repurchased retained earnings by the end of fiscal year 2023?\n",
    "\"\"\"\n",
    "\n",
    "llamacloud_response = llamacloud_query_engine.query(query)\n",
    "raw_response = raw_query_engine.query(query)\n",
    "\n",
    "print(\"\\n-----QUERY------\")\n",
    "display(Markdown(f\"{query}\"))\n",
    "\n",
    "print(\"\\n-----LlamaCloud------\")\n",
    "display(Markdown(f\"{llamacloud_response}\"))\n",
    "\n",
    "print(\"\\n-----Naive RAG------\")\n",
    "display(Markdown(f\"{raw_response}\"))"
   ]
  },
  {
   "cell_type": "code",
   "execution_count": 249,
   "metadata": {},
   "outputs": [
    {
     "name": "stdout",
     "output_type": "stream",
     "text": [
      "\n",
      "-----QUERY------\n"
     ]
    },
    {
     "data": {
      "text/markdown": [
       "\n",
       "What is the Common stock repurchased in retained earnings by the end of fiscal year 2023. Compare it with 2022 and 2021 ?\n"
      ],
      "text/plain": [
       "<IPython.core.display.Markdown object>"
      ]
     },
     "metadata": {},
     "output_type": "display_data"
    },
    {
     "name": "stdout",
     "output_type": "stream",
     "text": [
      "\n",
      "-----LlamaCloud------\n"
     ]
    },
    {
     "data": {
      "text/markdown": [
       "In fiscal year 2023, the Common stock repurchased in retained earnings by the end of the year was $17,568. In comparison, in 2022 it was $26,960, and in 2021 it was $21,879."
      ],
      "text/plain": [
       "<IPython.core.display.Markdown object>"
      ]
     },
     "metadata": {},
     "output_type": "display_data"
    },
    {
     "name": "stdout",
     "output_type": "stream",
     "text": [
      "\n",
      "-----Naive RAG------\n"
     ]
    },
    {
     "data": {
      "text/markdown": [
       "The common stock repurchased in retained earnings by the end of fiscal year 2023 was 7,432 million shares. This is lower than the number of shares repurchased in retained earnings by the end of fiscal year 2022, which was 7,464 million shares, and by the end of fiscal year 2021, which was 7,519 million shares."
      ],
      "text/plain": [
       "<IPython.core.display.Markdown object>"
      ]
     },
     "metadata": {},
     "output_type": "display_data"
    }
   ],
   "source": [
    "query=\"\"\"\n",
    "What is the Common stock repurchased in retained earnings by the end of fiscal year 2023. Compare it with 2022 and 2021 ?\n",
    "\"\"\"\n",
    "\n",
    "# Page - 62\n",
    "\n",
    "llamacloud_response = llamacloud_query_engine.query(query)\n",
    "raw_response = raw_query_engine.query(query)\n",
    "\n",
    "print(\"\\n-----QUERY------\")\n",
    "display(Markdown(f\"{query}\"))\n",
    "\n",
    "print(\"\\n-----LlamaCloud------\")\n",
    "display(Markdown(f\"{llamacloud_response}\"))\n",
    "\n",
    "print(\"\\n-----Naive RAG------\")\n",
    "display(Markdown(f\"{raw_response}\"))"
   ]
  }
 ],
 "metadata": {
  "kernelspec": {
   "display_name": "llamacloud",
   "language": "python",
   "name": "python3"
  },
  "language_info": {
   "codemirror_mode": {
    "name": "ipython",
    "version": 3
   },
   "file_extension": ".py",
   "mimetype": "text/x-python",
   "name": "python",
   "nbconvert_exporter": "python",
   "pygments_lexer": "ipython3",
   "version": "3.12.4"
  }
 },
 "nbformat": 4,
 "nbformat_minor": 2
}
