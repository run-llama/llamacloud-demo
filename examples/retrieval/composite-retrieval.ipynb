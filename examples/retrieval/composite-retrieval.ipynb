{
 "cells": [
  {
   "cell_type": "markdown",
   "id": "13e4cb33-6216-4dc3-a8af-6cfb15d1211d",
   "metadata": {},
   "source": [
    "# Composite Retrieval - Searching over multiple indexes at once\n",
    "\n",
    "On this notebook, we'll be running retrieval over two different indexes, creating a composite retrieval which makes easier to manage multiple different indexes."
   ]
  },
  {
   "cell_type": "code",
   "execution_count": null,
   "id": "6e263fca-abe8-45ee-92fc-bf047759cf5a",
   "metadata": {},
   "outputs": [],
   "source": [
    "%pip install llama-index\n",
    "%pip install llama-index-indices-managed-llama-cloud"
   ]
  },
  {
   "cell_type": "markdown",
   "id": "4b0744fd-ab2e-4d0d-990a-18130c8e3655",
   "metadata": {},
   "source": [
    "## Setup"
   ]
  },
  {
   "cell_type": "code",
   "execution_count": 2,
   "id": "cf3641c9-be9e-47c6-84c6-b7cf59b2697e",
   "metadata": {},
   "outputs": [],
   "source": [
    "# llama-parse is async-first, running the async code in a notebook requires the use of nest_asyncio\n",
    "import nest_asyncio\n",
    "nest_asyncio.apply()"
   ]
  },
  {
   "cell_type": "code",
   "execution_count": 3,
   "id": "bbd91597-b5fd-4e96-a1f5-69c18d44a871",
   "metadata": {},
   "outputs": [],
   "source": [
    "import os\n",
    "# API access to llama-cloud\n",
    "\n",
    "os.environ[\"LLAMA_CLOUD_API_KEY\"] = \"\""
   ]
  },
  {
   "cell_type": "code",
   "execution_count": 4,
   "id": "3c1574b5-ec64-4a8b-ba87-940f5b0f58f0",
   "metadata": {},
   "outputs": [],
   "source": [
    "# Using OpenAI API for embeddings/llms\n",
    "os.environ[\"OPENAI_API_KEY\"] = \"\""
   ]
  },
  {
   "cell_type": "markdown",
   "id": "856a0f3e-b695-4e27-891d-f510afa08efb",
   "metadata": {},
   "source": [
    "## Load Documents into LlamaCloud\n",
    "The first order of business is to download the 5 Apple and Tesla 10Ks and upload them into LlamaCloud.\n",
    "\n",
    "You can easily do this by creating a pipeline and uploading docs via the \"Files\" mode.\n",
    "\n",
    "After this is done, proceed to the next section."
   ]
  },
  {
   "cell_type": "markdown",
   "id": "8aca1b2e-720a-4d29-951f-808603d85094",
   "metadata": {},
   "source": [
    "## Define llama-cloud indexes\n",
    "\n",
    "Now we'll be defining the indexes we'll be adding to our new Retriever"
   ]
  },
  {
   "cell_type": "code",
   "execution_count": 5,
   "id": "8c4b763f-10af-4da4-8e22-dd83eca1aa68",
   "metadata": {},
   "outputs": [],
   "source": [
    "from llama_index.indices.managed.llama_cloud import LlamaCloudIndex\n",
    "import os\n",
    "\n",
    "project_name = \"Default\"\n",
    "organization_id = \"359ed263-e37a-4bf4-a2f1-3b9f89c18a86\"\n",
    "\n",
    "apple_index = LlamaCloudIndex(\n",
    "  name=\"apple_index\",\n",
    "  project_name=project_name,\n",
    "  api_key=os.environ[\"LLAMA_CLOUD_API_KEY\"],\n",
    "  organization_id=organization_id\n",
    ")\n",
    "\n",
    "tesla_index = LlamaCloudIndex(\n",
    "  name=\"tesla_index\",\n",
    "  project_name=\"Default\",\n",
    "  api_key=os.environ[\"LLAMA_CLOUD_API_KEY\"],\n",
    "  organization_id=organization_id\n",
    ")"
   ]
  },
  {
   "cell_type": "markdown",
   "id": "acbc0b6c-fd31-43cc-b249-123d90e6e566",
   "metadata": {},
   "source": [
    "## Creating Retriever\n",
    "\n",
    "A Composite Retriever lets you combine multiple indexes into a single retriever, making it easier to query all of them at once. It is also saved in LlamaCloud, so you can reuse it later without recreating it.\n",
    "\n",
    "Why use a Composite Retriever?\n",
    "- Unified Search: Query multiple indexes at once.\n",
    "- Reusability: Saved in LlamaCloud, so you can use it again later.\n",
    "- Easy to Use: Simple to configure and perfect for projects with multiple indexes"
   ]
  },
  {
   "cell_type": "code",
   "execution_count": 6,
   "id": "a55819f1-243f-4188-a1dd-f59c83082ec1",
   "metadata": {},
   "outputs": [],
   "source": [
    "from llama_index.indices.managed.llama_cloud import LlamaCloudCompositeRetriever\n",
    "from llama_cloud import CompositeRetrievalMode\n",
    "\n",
    "composite_retriever = LlamaCloudCompositeRetriever(\n",
    "    name=\"Apple/Tesla Retriever\",\n",
    "    project_name=project_name,\n",
    "    organization_id=organization_id,\n",
    "    # If a Retriever named \"Apple/Tesla Retriever\" doesn't already exist, one will be created\n",
    "    create_if_not_exists=True,\n",
    "    # CompositeRetrievalMode.FULL will query each index individually and globally rerank results at the end\n",
    "    # CompositeRetrievalMode.ROUTED an agent determines which sub-indices are most relevant to the provided query (based on the sub-index's name & description you've provided)\n",
    "    mode=CompositeRetrievalMode.FULL,\n",
    "    # return the top 5 results from all queried indices\n",
    "    rerank_top_n=5,\n",
    ")"
   ]
  },
  {
   "cell_type": "markdown",
   "id": "c86f9ab6-7065-4f70-a376-cb39732b6f12",
   "metadata": {},
   "source": [
    "Adding indexes"
   ]
  },
  {
   "cell_type": "code",
   "execution_count": 7,
   "id": "4a62bf0c-7f55-4c51-a4bb-13f6aec45d73",
   "metadata": {},
   "outputs": [
    {
     "data": {
      "text/plain": [
       "Retriever(name='Apple/Tesla Retriever', pipelines=[RetrieverPipeline(name='apple_index', description='Information from apple 10K files', pipeline_id='430f37e6-2f01-4b53-bd68-0597eef987b2', preset_retrieval_parameters=PresetRetrievalParams(dense_similarity_top_k=30, dense_similarity_cutoff=0.0, sparse_similarity_top_k=30, enable_reranking=True, rerank_top_n=6, alpha=0.5, search_filters=None, files_top_k=1, retrieval_mode=<RetrievalMode.CHUNKS: 'chunks'>, retrieve_image_nodes=False, class_name='base_component')), RetrieverPipeline(name='tesla_index', description='Information from tesla 10K files', pipeline_id='383feb9d-7b70-4256-825b-df5bf2162217', preset_retrieval_parameters=PresetRetrievalParams(dense_similarity_top_k=30, dense_similarity_cutoff=0.0, sparse_similarity_top_k=30, enable_reranking=True, rerank_top_n=6, alpha=0.5, search_filters=None, files_top_k=1, retrieval_mode=<RetrievalMode.CHUNKS: 'chunks'>, retrieve_image_nodes=False, class_name='base_component'))], id='cae87332-eee5-40dc-a81e-36d53643ab01', created_at=datetime.datetime(2025, 1, 29, 21, 29, 19, 617593, tzinfo=datetime.timezone.utc), updated_at=datetime.datetime(2025, 1, 31, 20, 35, 20, 596208, tzinfo=datetime.timezone.utc), project_id='1c5e77de-71ff-4374-b791-e51969aaedc6')"
      ]
     },
     "execution_count": 7,
     "metadata": {},
     "output_type": "execute_result"
    }
   ],
   "source": [
    "composite_retriever.add_index(\n",
    "    apple_index,\n",
    "    description=\"Information from apple 10K files\",\n",
    ")\n",
    "composite_retriever.add_index(\n",
    "    tesla_index,\n",
    "    description=\"Information from tesla 10K files\",\n",
    ")"
   ]
  },
  {
   "cell_type": "code",
   "execution_count": 8,
   "id": "4e005388-b2fd-4dfb-9dd5-097a2f5e25ad",
   "metadata": {},
   "outputs": [],
   "source": [
    "nodes = composite_retriever.retrieve(\"What are the tiny risks factors for apple 2019\")"
   ]
  },
  {
   "cell_type": "code",
   "execution_count": 9,
   "id": "26e44b0c-2034-4304-9e3f-f5f307d2db6f",
   "metadata": {},
   "outputs": [
    {
     "name": "stdout",
     "output_type": "stream",
     "text": [
      "[NodeWithScore(node=TextNode(id_='5a439349-a87e-491b-a237-27bdae69b7ec', embedding=None, metadata={'file_size': 855181, 'last_modified_at': '2025-01-29T21:15:29', 'file_path': 'apple_2019.pdf', 'file_name': 'apple_2019.pdf', 'external_file_id': 'apple_2019.pdf', 'file_id': '06e59e59-5375-4681-a17c-03a684e6175d', 'pipeline_file_id': 'd8239b91-d688-4528-8de0-9af84799deab', 'pipeline_id': '430f37e6-2f01-4b53-bd68-0597eef987b2', 'page_label': 11, 'start_page_index': 10, 'start_page_label': 11, 'end_page_index': 10, 'end_page_label': 11, 'document_id': '4004d1ff9e7fcd8fd6a06f5279dee81ed5a4ae7f8add7f9b74', 'start_char_idx': 42666, 'end_char_idx': 47959, 'retriever_id': 'cae87332-eee5-40dc-a81e-36d53643ab01', 'retriever_pipeline_name': 'apple_index'}, excluded_embed_metadata_keys=[], excluded_llm_metadata_keys=[], relationships={}, metadata_template='{key}: {value}', metadata_separator='\\n', text='## Item 1A. Risk Factors\\n\\nThe following discussion of risk factors contains forward-looking statements. These risk factors may be important to understanding other statements in this Form 10-K. The following information should be read in conjunction with Part II, Item 7, \"Management\\'s Discussion and Analysis of Financial Condition and Results of Operations\" and the consolidated financial statements and accompanying notes in Part II, Item 8, \"Financial Statements and Supplementary Data\" of this Form 10-K.\\n\\nThe business, financial condition and operating results of the Company can be affected by a number of factors, whether currently known or unknown, including but not limited to those described below, any one or more of which could, directly or indirectly, cause the Company\\'s actual financial condition and operating results to vary materially from past, or from anticipated future, financial condition and operating results. Any of these factors, in whole or in part, could materially and adversely affect the Company\\'s business, financial condition, operating results and stock price.\\n\\nBecause of the following factors, as well as other factors affecting the Company\\'s financial condition and operating results, past financial performance should not be considered to be a reliable indicator of future performance, and investors should not use historical trends to anticipate results or trends in future periods.\\n\\n### Global and regional economic conditions could materially adversely affect the Company\\'s business, results of operations, financial condition and growth.\\n\\nThe Company has international operations with sales outside the U.S. representing a majority of the Company\\'s total net sales. In addition, a majority of the Company\\'s supply chain, and its manufacturing and assembly activities, are located outside the U.S. As a result, the Company\\'s operations and performance depend significantly on global and regional economic conditions.\\n\\nAdverse macroeconomic conditions, including inflation, slower growth or recession, new or increased tariffs, changes to fiscal and monetary policy, tighter credit, higher interest rates, high unemployment and currency fluctuations could materially adversely affect demand for the Company\\'s products and services. In addition, consumer confidence and spending could be adversely affected in response to financial market volatility, negative financial news, conditions in the real estate and mortgage markets, declines in income or asset values, changes to fuel and other energy costs, labor and healthcare costs and other economic factors.\\n\\nIn addition to an adverse impact on demand for the Company\\'s products, uncertainty about, or a decline in, global or regional economic conditions could have a significant impact on the Company\\'s suppliers, contract manufacturers, logistics providers, distributors, cellular network carriers and other channel partners. Potential effects include financial instability; inability to obtain credit to finance operations and purchases of the Company\\'s products; and insolvency.\\n\\nA downturn in the economic environment could also lead to increased credit and collectibility risk on the Company\\'s trade receivables; the failure of derivative counterparties and other financial institutions; limitations on the Company\\'s ability to issue new debt; reduced liquidity; and declines in the fair value of the Company\\'s financial instruments. These and other economic factors could materially adversely affect the Company\\'s business, results of operations, financial condition and growth.\\n\\n### Global markets for the Company\\'s products and services are highly competitive and subject to rapid technological change, and the Company may be unable to compete effectively in these markets.\\n\\nThe Company\\'s products and services are offered in highly competitive global markets characterized by aggressive price competition and resulting downward pressure on gross margins, frequent introduction of new products and services, short product life cycles, evolving industry standards, continual improvement in product price/performance characteristics, rapid adoption of technological advancements by competitors, and price sensitivity on the part of consumers and businesses.\\n\\nThe Company\\'s ability to compete successfully depends heavily on its ability to ensure a continuing and timely introduction of innovative new products, services and technologies to the marketplace. The Company believes it is unique in that it designs and develops nearly the entire solution for its products, including the hardware, operating system, numerous software applications and related services. As a result, the Company must make significant investments in R&D. There can be no assurance that these investments will achieve expected returns, and the Company may not be able to develop and market new products and services successfully.\\n\\nThe Company currently holds a significant number of patents, trademarks and copyrights and has registered, and applied to register, numerous patents, trademarks and copyrights. In contrast, many of the Company\\'s competitors seek to compete primarily through aggressive pricing and very low cost structures, and emulating the Company\\'s products and infringing on its intellectual property. If', mimetype='text/plain', start_char_idx=None, end_char_idx=None, metadata_seperator='\\n', text_template='{metadata_str}\\n\\n{content}'), score=0.9348725), NodeWithScore(node=TextNode(id_='920fcb29-890b-4d58-a6a6-3ddd2e86799a', embedding=None, metadata={'file_size': 855181, 'last_modified_at': '2025-01-29T21:15:29', 'file_path': 'apple_2019.pdf', 'file_name': 'apple_2019.pdf', 'external_file_id': 'apple_2019.pdf', 'file_id': '06e59e59-5375-4681-a17c-03a684e6175d', 'pipeline_file_id': 'd8239b91-d688-4528-8de0-9af84799deab', 'pipeline_id': '430f37e6-2f01-4b53-bd68-0597eef987b2', 'page_label': 27, 'start_page_index': 26, 'start_page_label': 27, 'end_page_index': 26, 'end_page_label': 27, 'document_id': '4004d1ff9e7fcd8fd6a06f5279dee81ed5a4ae7f8add7f9b74', 'start_char_idx': 146956, 'end_char_idx': 151925, 'retriever_id': 'cae87332-eee5-40dc-a81e-36d53643ab01', 'retriever_pipeline_name': 'apple_index'}, excluded_embed_metadata_keys=[], excluded_llm_metadata_keys=[], relationships={}, metadata_template='{key}: {value}', metadata_separator='\\n', text='The Company is exposed to credit risk on its trade accounts receivable, vendor non-trade receivables and prepayments related to long-term supply agreements, and this risk is heightened during periods when economic conditions worsen.\\n\\nThe Company distributes its products through third-party cellular network carriers, wholesalers, retailers and resellers. The Company also sells its products directly to small and mid-sized businesses and education, enterprise and government customers. A substantial majority of the Company\\'s outstanding trade receivables are not covered by collateral, third-party bank support or financing arrangements, or credit insurance. The Company\\'s exposure to credit and collectibility risk on its trade receivables is higher in certain international markets and its ability to mitigate such risks may be limited. The Company also has unsecured vendor non-trade receivables resulting from purchases of components by outsourcing partners and other vendors that manufacture sub-assemblies or assemble final products for the Company. In addition, the Company has made prepayments associated with long-term supply agreements to secure supply of inventory components. As of September 28, 2019, a significant portion of the Company\\'s trade receivables was concentrated within cellular network carriers, and its vendor non-trade receivables and prepayments related to long-term supply agreements were concentrated among a few individual vendors located primarily in Asia. While the Company has procedures to monitor and limit exposure to credit risk on its trade and vendor non-trade receivables, as well as long-term prepayments, there can be no assurance such procedures will effectively limit its credit risk and avoid losses.\\n\\nThe Company could be subject to changes in its tax rates, the adoption of new U.S. or international tax legislation or exposure to additional tax liabilities.\\n\\nThe Company is subject to taxes in the U.S. and numerous foreign jurisdictions, including Ireland, where a number of the Company\\'s subsidiaries are organized. Due to economic and political conditions, tax rates in various jurisdictions may be subject to significant change. The Company\\'s effective tax rates could be affected by changes in the mix of earnings in countries with differing statutory tax rates, changes in the valuation of deferred tax assets and liabilities, or changes in tax laws or their interpretation, including in the U.S. and Ireland.\\n\\nThe Company is also subject to the examination of its tax returns and other tax matters by the U.S. Internal Revenue Service and other tax authorities and governmental bodies. The Company regularly assesses the likelihood of an adverse outcome resulting from these examinations to determine the adequacy of its provision for taxes. There can be no assurance as to the outcome of these examinations. If the Company\\'s effective tax rates were to increase, particularly in the U.S. or Ireland, or if the ultimate determination of the Company\\'s taxes owed is for an amount in excess of amounts previously accrued, the Company\\'s financial condition and operating results could be materially adversely affected.\\n\\n## Item 1B. Unresolved Staff Comments\\n\\nNone.\\n\\n## Item 2. Properties\\n\\nThe Company\\'s headquarters are located in Cupertino, California. As of September 28, 2019, the Company owned or leased facilities and land for corporate functions, R&D, data centers, retail and other purposes at locations throughout the U.S. and in various places outside the U.S. The Company believes its existing facilities and equipment, which are used by all reportable segments, are in good operating condition and are suitable for the conduct of its business.\\n\\n## Item 3. Legal Proceedings\\n\\nThe Company is subject to legal proceedings and claims that have not been fully resolved and that have arisen in the ordinary course of business. Except as described in Part II, Item 8 of this Form 10-K in the Notes to Consolidated Financial Statements in Note 10, \"Commitments and Contingencies\" under the heading \"Contingencies,\" in the opinion of management, there was not at least a reasonable possibility the Company may have incurred a material loss, or a material loss greater than a recorded accrual, concerning loss contingencies for asserted legal and other claims.\\n\\nThe outcome of litigation is inherently uncertain. If one or more legal matters were resolved against the Company in a reporting period for amounts above management\\'s expectations, the Company\\'s financial condition and operating results for that reporting period could be materially adversely affected. Refer to the risk factor \"The Company could be impacted by unfavorable results of legal proceedings, such as being found to have infringed on intellectual property rights\" in Part I, Item 1A of this Form 10-K under the heading \"Risk Factors.\" The Company settled certain matters during the fourth quarter of 2019 that did not individually or in the', mimetype='text/plain', start_char_idx=None, end_char_idx=None, metadata_seperator='\\n', text_template='{metadata_str}\\n\\n{content}'), score=0.85848147), NodeWithScore(node=TextNode(id_='3b49624f-f5d8-4913-b54f-4af98cb2faae', embedding=None, metadata={'file_size': 855181, 'last_modified_at': '2025-01-29T21:15:29', 'file_path': 'apple_2019.pdf', 'file_name': 'apple_2019.pdf', 'external_file_id': 'apple_2019.pdf', 'file_id': '06e59e59-5375-4681-a17c-03a684e6175d', 'pipeline_file_id': 'd8239b91-d688-4528-8de0-9af84799deab', 'pipeline_id': '430f37e6-2f01-4b53-bd68-0597eef987b2', 'page_label': 46, 'start_page_index': 45, 'start_page_label': 46, 'end_page_index': 45, 'end_page_label': 46, 'document_id': '4004d1ff9e7fcd8fd6a06f5279dee81ed5a4ae7f8add7f9b74', 'start_char_idx': 239798, 'end_char_idx': 240397, 'retriever_id': 'cae87332-eee5-40dc-a81e-36d53643ab01', 'retriever_pipeline_name': 'apple_index'}, excluded_embed_metadata_keys=[], excluded_llm_metadata_keys=[], relationships={}, metadata_template='{key}: {value}', metadata_separator='\\n', text=\"## Interest Rate Risk\\n\\nThe Company's exposure to changes in interest rates relates primarily to the Company's investment portfolio and outstanding debt. While the Company is exposed to global interest rate fluctuations, the Company's interest income and expense are most sensitive to fluctuations in U.S. interest rates. Changes in U.S. interest rates affect the interest earned on the Company's cash, cash equivalents and marketable securities and the fair value of those securities, as well as costs associated with hedging and interest paid on the Company's debt.\\n\\nApple Inc. | 2019 Form 10-K | 26\", mimetype='text/plain', start_char_idx=None, end_char_idx=None, metadata_seperator='\\n', text_template='{metadata_str}\\n\\n{content}'), score=0.7634837), NodeWithScore(node=TextNode(id_='646129d5-9b0d-4415-9bed-b4151c140d93', embedding=None, metadata={'file_size': 898408, 'last_modified_at': '2025-01-29T21:15:29', 'file_path': 'apple_2020.pdf', 'file_name': 'apple_2020.pdf', 'external_file_id': 'apple_2020.pdf', 'file_id': '7a028349-b4ca-4e83-810f-a4a4ab586dda', 'pipeline_file_id': 'c25d215d-b43d-43d3-950d-bd097312a6a3', 'pipeline_id': '430f37e6-2f01-4b53-bd68-0597eef987b2', 'page_label': 32, 'start_page_index': 31, 'start_page_label': 32, 'end_page_index': 31, 'end_page_label': 32, 'document_id': 'd6262c2cecb179f203c85442371fe95df2d797ebf5b01c1102', 'start_char_idx': 251028, 'end_char_idx': 255039, 'retriever_id': 'cae87332-eee5-40dc-a81e-36d53643ab01', 'retriever_pipeline_name': 'apple_index'}, excluded_embed_metadata_keys=[], excluded_llm_metadata_keys=[], relationships={}, metadata_template='{key}: {value}', metadata_separator='\\n', text='As of September 26, 2020 and September 28, 2019, the Company had outstanding floating- and fixed-rate notes with varying maturities for an aggregate carrying amount of $107.4 billion and $102.1 billion, respectively. The Company has entered, and in the future may enter, into interest rate swaps to manage interest rate risk on its outstanding term debt. Interest rate swaps allow the Company to effectively convert fixed-rate payments into floating-rate payments or floating-rate payments into fixed-rate payments. Gains and losses on term debt are generally offset by the corresponding losses and gains on the related hedging instrument. A 100 basis point increase in market interest rates would cause interest expense on the Company\\'s debt as of September 26, 2020 and September 28, 2019 to increase by $218 million and $325 million on an annualized basis, respectively.\\n\\n## Foreign Currency Risk\\n\\nIn general, the Company is a net receiver of currencies other than the U.S. dollar. Accordingly, changes in exchange rates, and in particular a strengthening of the U.S. dollar, will negatively affect the Company\\'s net sales and gross margins as expressed in U.S. dollars. There is a risk that the Company will have to adjust local currency pricing due to competitive pressures when there has been significant volatility in foreign currency exchange rates.\\n\\nThe Company may enter into foreign currency forward and option contracts with financial institutions to protect against foreign exchange risks associated with certain existing assets and liabilities, certain firmly committed transactions, forecasted future cash flows and net investments in foreign subsidiaries. In addition, the Company has entered, and in the future may enter, into foreign currency contracts to partially offset the foreign currency exchange gains and losses on its foreign currency–denominated debt issuances. The Company generally hedges portions of its forecasted foreign currency exposure associated with revenue and inventory purchases, typically for up to 12 months. However, the Company may choose not to hedge certain foreign exchange exposures for a variety of reasons including, but not limited to, accounting considerations or the prohibitive economic cost of hedging particular exposures.\\n\\nTo provide an assessment of the foreign currency risk associated with certain of the Company\\'s foreign currency derivative positions, the Company performed a sensitivity analysis using a value-at-risk (\"VAR\") model to assess the potential impact of fluctuations in exchange rates. The VAR model consisted of using a Monte Carlo simulation to generate thousands of random market price paths assuming normal market conditions. The VAR is the maximum expected loss in fair value, for a given confidence interval, to the Company\\'s foreign currency derivative positions due to adverse movements in rates. The VAR model is not intended to represent actual losses but is used as a risk estimation and management tool. Forecasted transactions, firm commitments and assets and liabilities denominated in foreign currencies were excluded from the model. Based on the results of the model, the Company estimates with 95% confidence, a maximum one-day loss in fair value of $551 million as of September 26, 2020, compared to a maximum one-day loss in fair value of $452 million as of September 28, 2019. Because the Company uses foreign currency instruments for hedging purposes, the losses in fair value incurred on those instruments are generally offset by increases in the fair value of the underlying exposures.\\n\\nActual future gains and losses associated with the Company\\'s investment portfolio, debt and derivative positions may differ materially from the sensitivity analyses performed as of September 26, 2020 due to the inherent limitations associated with predicting the timing and amount of changes in interest rates, foreign currency exchange rates and the Company\\'s actual exposures and positions.\\n\\nApple Inc. | 2020 Form 10-K | 29', mimetype='text/plain', start_char_idx=None, end_char_idx=None, metadata_seperator='\\n', text_template='{metadata_str}\\n\\n{content}'), score=0.6775807), NodeWithScore(node=TextNode(id_='fa646f91-c707-415e-94f7-a7b3f51879af', embedding=None, metadata={'file_size': 855181, 'last_modified_at': '2025-01-29T21:15:29', 'file_path': 'apple_2019.pdf', 'file_name': 'apple_2019.pdf', 'external_file_id': 'apple_2019.pdf', 'file_id': '06e59e59-5375-4681-a17c-03a684e6175d', 'pipeline_file_id': 'd8239b91-d688-4528-8de0-9af84799deab', 'pipeline_id': '430f37e6-2f01-4b53-bd68-0597eef987b2', 'page_label': 4, 'start_page_index': 3, 'start_page_label': 4, 'end_page_index': 3, 'end_page_label': 4, 'document_id': '4004d1ff9e7fcd8fd6a06f5279dee81ed5a4ae7f8add7f9b74', 'start_char_idx': 12546, 'end_char_idx': 16081, 'retriever_id': 'cae87332-eee5-40dc-a81e-36d53643ab01', 'retriever_pipeline_name': 'apple_index'}, excluded_embed_metadata_keys=[], excluded_llm_metadata_keys=[], relationships={}, metadata_template='{key}: {value}', metadata_separator='\\n', text='This Annual Report on Form 10-K (\"Form 10-K\") contains forward-looking statements, within the meaning of the Private Securities Litigation Reform Act of 1995, that involve risks and uncertainties. Many of the forward-looking statements are located in Part II, Item 7 of this Form 10-K under the heading \"Management\\'s Discussion and Analysis of Financial Condition and Results of Operations.\" Forward-looking statements provide current expectations of future events based on certain assumptions and include any statement that does not directly relate to any historical or current fact. Forward-looking statements can also be identified by words such as \"future,\" \"anticipates,\" \"believes,\" \"estimates,\" \"expects,\" \"intends,\" \"plans,\" \"predicts,\" \"will,\" \"would,\" \"could,\" \"can,\" \"may,\" and similar terms. Forward-looking statements are not guarantees of future performance and the Company\\'s actual results may differ significantly from the results discussed in the forward-looking statements. Factors that might cause such differences include, but are not limited to, those discussed in Part I, Item 1A of this Form 10-K under the heading \"Risk Factors,\" which are incorporated herein by reference. Unless otherwise stated, all information presented herein is based on the Company\\'s fiscal calendar, and references to particular years, quarters, months or periods refer to the Company\\'s fiscal years ended in September and the associated quarters, months and periods of those fiscal years. Each of the terms the \"Company\" and \"Apple\" as used herein refers collectively to Apple Inc. and its wholly owned subsidiaries, unless otherwise stated. The Company assumes no obligation to revise or update any forward-looking statements for any reason, except as required by law.\\n\\n# PART I\\n\\n## Item 1. Business\\n\\n### Company Background\\n\\nThe Company designs, manufactures and markets smartphones, personal computers, tablets, wearables and accessories, and sells a variety of related services. The Company\\'s fiscal year is the 52- or 53-week period that ends on the last Saturday of September. The Company is a California corporation established in 1977.\\n\\n### Products\\n\\n#### iPhone\\n\\niPhone® is the Company\\'s line of smartphones based on its iOS operating system. In September 2019, the Company introduced three new iPhones: iPhone 11, iPhone 11 Pro and iPhone 11 Pro Max.\\n\\n#### Mac\\n\\nMac® is the Company\\'s line of personal computers based on its macOS® operating system. During 2019, the Company released a new version of MacBook Air® and a new Mac mini®, and introduced an updated Mac Pro®, which is expected to be available in the fall of 2019.\\n\\n#### iPad\\n\\niPad® is the Company\\'s line of multi-purpose tablets. iPad is based on the Company\\'s iPadOS™ operating system, which was introduced during 2019. Also during 2019, the Company released two new versions of iPad Pro®, an iPad Air®, an updated iPad mini® and a new 10.2-inch iPad.\\n\\n#### Wearables, Home and Accessories\\n\\nWearables, Home and Accessories includes AirPods®, Apple TV®, Apple Watch®, Beats® products, HomePod™, iPod touch® and other Apple-branded and third-party accessories. AirPods are the Company\\'s wireless headphones that interact with Siri. In October 2019, the Company introduced AirPods Pro™. Apple Watch is a personal electronic device that combines the watchOS® user interface and other technologies created specifically for a smaller device. In September 2019, the Company introduced Apple Watch Series 5.\\n\\n### Services\\n\\n#### Digital Content Stores and Streaming Services', mimetype='text/plain', start_char_idx=None, end_char_idx=None, metadata_seperator='\\n', text_template='{metadata_str}\\n\\n{content}'), score=0.674265)]\n"
     ]
    }
   ],
   "source": [
    "print(nodes)"
   ]
  },
  {
   "cell_type": "markdown",
   "id": "166e4d0f-e432-4b4b-b06b-996910e44543",
   "metadata": {},
   "source": [
    "## OpenAI Agent Over Composite Retriever"
   ]
  },
  {
   "cell_type": "code",
   "execution_count": 10,
   "id": "9a8c23e8-e3ad-46fc-9dcd-504cbc678519",
   "metadata": {},
   "outputs": [],
   "source": [
    "from llama_index.core.query_engine import RetrieverQueryEngine\n",
    "from llama_index.llms.openai import OpenAI\n",
    "\n",
    "llm = OpenAI(model=\"gpt-4o\")\n",
    "\n",
    "query_engine = RetrieverQueryEngine.from_args(\n",
    "    composite_retriever,\n",
    "    llm=llm\n",
    ")"
   ]
  },
  {
   "cell_type": "code",
   "execution_count": 11,
   "id": "6f8ceed4-e573-4fdf-9669-682ea4a7c038",
   "metadata": {},
   "outputs": [],
   "source": [
    "from llama_index.core.tools import FunctionTool, ToolMetadata, QueryEngineTool\n",
    "\n",
    "tool_appletesla = QueryEngineTool(\n",
    "    query_engine=query_engine,\n",
    "    metadata=ToolMetadata(\n",
    "        name=\"composed_apple_tesla_retriever\",\n",
    "        # specific prompt to\n",
    "        description=\"Useful for information about apple and tesla 10ks\"\n",
    "    ),\n",
    ")"
   ]
  },
  {
   "cell_type": "code",
   "execution_count": 12,
   "id": "38f20251-1983-47a6-a455-c3d4f316cc5d",
   "metadata": {},
   "outputs": [],
   "source": [
    "from llama_index.core.agent import FunctionCallingAgentWorker\n",
    "from llama_index.core.agent import AgentRunner\n",
    "\n",
    "llm_agent = OpenAI(model=\"gpt-4o\", system_prompt=\"You're an agent with access to knowledge base\")\n",
    "\n",
    "agent = FunctionCallingAgentWorker.from_tools(\n",
    "    [tool_appletesla], llm=llm_agent, verbose=True\n",
    ").as_agent()"
   ]
  },
  {
   "cell_type": "code",
   "execution_count": 13,
   "id": "de05b8f5-f1f8-4fad-b12f-fdaa603f03a6",
   "metadata": {},
   "outputs": [
    {
     "name": "stdout",
     "output_type": "stream",
     "text": [
      "Added user message to memory: What's is the Revenue from Apple in 2020\n",
      "=== Calling Function ===\n",
      "Calling function: composed_apple_tesla_retriever with args: {\"input\": \"Apple revenue 2020\"}\n",
      "=== Function Output ===\n",
      "In 2020, Apple's total net sales amounted to $274,515 million.\n",
      "=== LLM Response ===\n",
      "In 2020, Apple's total revenue was $274,515 million.\n",
      "In 2020, Apple's total revenue was $274,515 million.\n"
     ]
    }
   ],
   "source": [
    "response = agent.chat(\"What's is the Revenue from Apple in 2020\")\n",
    "\n",
    "print(str(response))"
   ]
  },
  {
   "cell_type": "code",
   "execution_count": 14,
   "id": "cf7f272e",
   "metadata": {},
   "outputs": [
    {
     "name": "stdout",
     "output_type": "stream",
     "text": [
      "Added user message to memory: What's is the Revenue from Tesla in 2020\n",
      "=== Calling Function ===\n",
      "Calling function: composed_apple_tesla_retriever with args: {\"input\": \"Tesla revenue 2020\"}\n",
      "=== Function Output ===\n",
      "In 2020, Tesla recognized total revenues of $31.54 billion.\n",
      "=== LLM Response ===\n",
      "In 2020, Tesla's total revenue was $31.54 billion.\n"
     ]
    }
   ],
   "source": [
    "response = agent.chat(\"What's is the Revenue from Tesla in 2020\")\n"
   ]
  }
 ],
 "metadata": {
  "kernelspec": {
   "display_name": "Python 3 (ipykernel)",
   "language": "python",
   "name": "python3"
  },
  "language_info": {
   "codemirror_mode": {
    "name": "ipython",
    "version": 3
   },
   "file_extension": ".py",
   "mimetype": "text/x-python",
   "name": "python",
   "nbconvert_exporter": "python",
   "pygments_lexer": "ipython3",
   "version": "3.12.8"
  }
 },
 "nbformat": 4,
 "nbformat_minor": 5
}
