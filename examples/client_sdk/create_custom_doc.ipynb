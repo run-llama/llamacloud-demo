{
 "cells": [
  {
   "cell_type": "markdown",
   "id": "8c1348d3-4c0e-450f-8faf-19503f61b7b2",
   "metadata": {},
   "source": [
    "# LlamaCloud Client SDK: Inserting Custom Documents\n",
    "\n",
    "<a href=\"https://colab.research.google.com/github/run-llama/llamacloud-demo/blob/main/examples/client_sdk/create_custom_doc.ipynb\n",
    "    \" target=\"_parent\"><img src=\"https://colab.research.google.com/assets/colab-badge.svg\" alt=\"Open In Colab\"/></a>\n",
    "\n",
    "This tutorial shows you how to use the lower-level LlamaCloud Client SDK to insert custom documents into a pipeline.\n",
    "\n",
    "We can do this on two levels:\n",
    "\n",
    "- Inserting document text using our `CloudDocumentCreate` object.\n",
    "- Directly uploading files\n",
    "\n",
    "We insert both a parsed financial document (separately parsed through LlamaParse), as well as a toy custom document.\n",
    "\n",
    "We can then retrieve from it using either the lower-level SDK or the higher-level integration."
   ]
  },
  {
   "cell_type": "code",
   "execution_count": 2,
   "id": "e83a35ec-8e6c-475c-827c-20f46c4a3c43",
   "metadata": {},
   "outputs": [],
   "source": [
    "import nest_asyncio\n",
    "nest_asyncio.apply()"
   ]
  },
  {
   "cell_type": "code",
   "execution_count": null,
   "id": "f47019e7-5bf8-49ee-8ab1-1f1ae1ae55e4",
   "metadata": {
    "scrolled": true
   },
   "outputs": [],
   "source": [
    "!pip install llama-index\n",
    "!pip install llama-cloud"
   ]
  },
  {
   "cell_type": "markdown",
   "id": "57082f55-66e0-44e1-8072-2450405c21d1",
   "metadata": {},
   "source": [
    "## Setup\n",
    "\n",
    "Here we setup our environment variables, data, and the client SDK."
   ]
  },
  {
   "cell_type": "code",
   "execution_count": 3,
   "id": "67a907cb-a727-4c12-86c9-ca2c55d73a59",
   "metadata": {},
   "outputs": [],
   "source": [
    "import os\n",
    "\n",
    "os.environ[\"LLAMA_CLOUD_BASE_URL\"] = \"https://api.cloud.llamaindex.ai\""
   ]
  },
  {
   "cell_type": "code",
   "execution_count": null,
   "id": "e150bc97-7b34-4817-b65f-f909f76045d5",
   "metadata": {},
   "outputs": [],
   "source": [
    "os.environ[\"LLAMA_CLOUD_API_KEY\"] = \"<LLAMA_CLOUD_API_KEY>\"\n",
    "os.environ[\"OPENAI_API_KEY\"] = \"<OPENAI_API_KEY>\""
   ]
  },
  {
   "cell_type": "markdown",
   "id": "f72f00a3-cace-4975-bc73-13280d0f5d32",
   "metadata": {},
   "source": [
    "#### Load Data"
   ]
  },
  {
   "cell_type": "code",
   "execution_count": 5,
   "id": "0c42e736-da9e-4ef7-a5a7-3145ef362703",
   "metadata": {},
   "outputs": [
    {
     "name": "stdout",
     "output_type": "stream",
     "text": [
      "--2024-07-03 21:18:33--  https://s2.q4cdn.com/470004039/files/doc_financials/2021/q4/_10-K-2021-(As-Filed).pdf\n",
      "Resolving s2.q4cdn.com (s2.q4cdn.com)... 2a0b:4d07:2::3, 2a0b:4d07:2::1, 2a0b:4d07:2::4, ...\n",
      "Connecting to s2.q4cdn.com (s2.q4cdn.com)|2a0b:4d07:2::3|:443... connected.\n",
      "HTTP request sent, awaiting response... 200 OK\n",
      "Length: 789896 (771K) [application/pdf]\n",
      "Saving to: ‘apple_2021_10k.pdf’\n",
      "\n",
      "apple_2021_10k.pdf  100%[===================>] 771.38K  --.-KB/s    in 0.06s   \n",
      "\n",
      "2024-07-03 21:18:33 (12.3 MB/s) - ‘apple_2021_10k.pdf’ saved [789896/789896]\n",
      "\n"
     ]
    }
   ],
   "source": [
    "!wget \"https://s2.q4cdn.com/470004039/files/doc_financials/2021/q4/_10-K-2021-(As-Filed).pdf\" -O data/apple_2021_10k.pdf"
   ]
  },
  {
   "cell_type": "code",
   "execution_count": 6,
   "id": "89b1b06f-bce5-4f8e-8387-b81a40f0969f",
   "metadata": {},
   "outputs": [
    {
     "name": "stdout",
     "output_type": "stream",
     "text": [
      "Started parsing the file under job_id cac11eca-f879-4906-8163-ce475134f434\n"
     ]
    }
   ],
   "source": [
    "from llama_parse import LlamaParse\n",
    "\n",
    "documents = LlamaParse(result_type=\"markdown\").load_data(\"./apple_2021_10k.pdf\")\n",
    "# set metadata\n",
    "for d in documents:\n",
    "    d.metadata[\"type\"] = \"financial\""
   ]
  },
  {
   "cell_type": "markdown",
   "id": "55afeb53",
   "metadata": {},
   "source": [
    "#### Setup LlamaCloud Client SDK and Framework Client\n",
    "\n",
    "Here we define both the client (giving us access to low-level client operations) as well as the `LlamaCloudIndex` defined through the framework."
   ]
  },
  {
   "cell_type": "code",
   "execution_count": 10,
   "id": "d4c36489",
   "metadata": {},
   "outputs": [],
   "source": [
    "from llama_cloud.client import LlamaCloud\n",
    "\n",
    "client = LlamaCloud(\n",
    "    token=os.environ[\"LLAMA_CLOUD_API_KEY\"],\n",
    "    base_url=os.environ[\"LLAMA_CLOUD_BASE_URL\"]\n",
    ")\n",
    "\n",
    "from llama_index.indices.managed.llama_cloud import LlamaCloudIndex\n",
    "import os\n",
    "\n",
    "index = LlamaCloudIndex(\n",
    "  name=pipeline_name, \n",
    "  project_name=project_name,\n",
    "  api_key=os.getenv(\"LLAMA_CLOUD_API_KEY\")\n",
    ")"
   ]
  },
  {
   "cell_type": "markdown",
   "id": "5d91a633-34c7-4c5b-b6cb-de37e80ace68",
   "metadata": {},
   "source": [
    "#### Setup Index\n",
    "\n",
    "Please setup an empty index. You can either do this through the UI or [programmatically](https://docs.cloud.llamaindex.ai/llamacloud/guides/framework_integration).\n",
    "\n",
    "After you've done so, make sure to note down the pipeline_id, pipeline_name, project_id, and project_name in the variables below. You'll need these later! "
   ]
  },
  {
   "cell_type": "code",
   "execution_count": 12,
   "id": "04e80c0d-d58d-4fce-aa78-9247b9840738",
   "metadata": {},
   "outputs": [],
   "source": [
    "pipeline_id = \"<pipeline_id>\"\n",
    "pipeline_name = \"<pipeline_name>\"\n",
    "project_id = \"<project_id>\"\n",
    "project_name = \"<project_name>\""
   ]
  },
  {
   "cell_type": "markdown",
   "id": "ce9e45c5-4255-4dfa-ae3b-f33aac640df5",
   "metadata": {},
   "source": [
    "## Inserting Documents\n",
    "\n",
    "Now let's create the custom Document objects. We assume that your pipeline has been created in the last section. Copy the pipeline and project ids into the box below.\n",
    "\n",
    "We insert one document containing the parsed document text, and another document as a toy example."
   ]
  },
  {
   "cell_type": "markdown",
   "id": "d3b7171d-eb65-479b-8bab-a38e7f5ef221",
   "metadata": {},
   "source": [
    "#### Inserting Document Objects through the Client SDK"
   ]
  },
  {
   "cell_type": "code",
   "execution_count": 13,
   "id": "adfde1cf-1941-4bf6-ad0b-903ebd298ae0",
   "metadata": {},
   "outputs": [],
   "source": [
    "from llama_index.core.schema import Document\n",
    "\n",
    "all_documents = [\n",
    "    *documents, # LlamaParsed document\n",
    "    Document(\n",
    "        text=\"Jerry likes apples\",\n",
    "        metadata={\"type\": \"test\"},\n",
    "    )\n",
    "]\n",
    "\n",
    "llama_cloud_documents = [d.to_cloud_document() for d in all_documents]\n",
    "\n",
    "upserted_docs = client.pipelines.upsert_batch_pipeline_documents(\n",
    "    pipeline_id, request=llama_cloud_documents\n",
    ")"
   ]
  },
  {
   "cell_type": "markdown",
   "id": "b4a0e171-8834-4a46-aee5-4d7551edac92",
   "metadata": {},
   "source": [
    "#### Inserting Document Objects through the Framework Integration\n",
    "\n",
    "You can also do `index.insert` to directly upload document objects using the types defined by the framework."
   ]
  },
  {
   "cell_type": "code",
   "execution_count": 53,
   "id": "346dde6d-3c6f-4425-8be4-a3d06baca325",
   "metadata": {},
   "outputs": [],
   "source": [
    "# NOTE: the llamaparsed document is already in the right representation\n",
    "from llama_index.core.schema import Document\n",
    "\n",
    "documents_to_upload = [\n",
    "    *documents,\n",
    "    Document(\n",
    "        text=\"Bob likes burgers\",\n",
    "        metadata={\n",
    "            \"type\": \"test\"\n",
    "        }\n",
    "    )\n",
    "]\n",
    "\n",
    "for doc in documents_to_upload:\n",
    "    index.insert(doc)"
   ]
  },
  {
   "cell_type": "markdown",
   "id": "90665a7e-de98-4663-81e7-cf76b6836ff9",
   "metadata": {},
   "source": [
    "#### Inserting Files Directly\n",
    "\n",
    "You can also insert files directly.\n",
    "\n",
    "**NOTE**: To customize metadata follow the \"Document Metadata Management\" tutorial."
   ]
  },
  {
   "cell_type": "code",
   "execution_count": null,
   "id": "b7739251-fd58-4dfb-895c-df48d65bdb25",
   "metadata": {},
   "outputs": [],
   "source": [
    "with open('data/apple_2021_10k.pdf', 'rb') as f:\n",
    "    file = client.files.upload_file(upload_file=f, project_id=project_id)\n",
    "    pipeline_files = client.pipelines.add_files_to_pipeline(pipeline_id, request=[{'file_id': file.id}])"
   ]
  },
  {
   "cell_type": "markdown",
   "id": "ca62a2da-f1a8-486d-8c62-775844369142",
   "metadata": {},
   "source": [
    "#### Validating the Documents\n",
    "\n",
    "After the documents have been inserted, we can validate that they exist in the pipeline."
   ]
  },
  {
   "cell_type": "code",
   "execution_count": null,
   "id": "dd0cfcd8-2e77-4e75-ba5c-7cd629706aba",
   "metadata": {
    "scrolled": true
   },
   "outputs": [],
   "source": [
    "pipeline_docs = client.pipelines.list_pipeline_documents(pipeline_id)\n",
    "docs = [Document.from_cloud_document(d) for d in pipeline_docs]\n",
    "print(len(pipeline_docs))\n",
    "print(docs[0].get_content(metadata_mode=\"all\"))"
   ]
  },
  {
   "cell_type": "markdown",
   "id": "5a951e23-8608-4082-913b-d7567de845c1",
   "metadata": {},
   "source": [
    "#### Deleting the Documents\n",
    "\n",
    "If you want to reset, you can use the client SDK to delete pipeline documents."
   ]
  },
  {
   "cell_type": "code",
   "execution_count": null,
   "id": "c1082187-6218-4d7b-9244-982ba309f532",
   "metadata": {},
   "outputs": [],
   "source": [
    "pipeline_docs = client.pipelines.list_pipeline_documents(pipeline_id)\n",
    "for doc in pipeline_docs:\n",
    "    client.pipelines.delete_pipeline_document(pipeline_id, doc.id)\n",
    "client.pipelines.sync_pipeline(pipeline_id)"
   ]
  },
  {
   "cell_type": "markdown",
   "id": "1b5cf563-d119-40da-977d-9557e41328c7",
   "metadata": {},
   "source": [
    "## Test Retrieval\n",
    "\n",
    "We can test retrieval through both the client SDK as well as the framework integration."
   ]
  },
  {
   "cell_type": "markdown",
   "id": "25d3be9c-d877-482f-9eab-c5daa85a0d99",
   "metadata": {},
   "source": [
    "#### Retrieval Through the Client SDK"
   ]
  },
  {
   "cell_type": "code",
   "execution_count": 46,
   "id": "5d879e25-3ffc-4b90-9858-f9f3f6c83851",
   "metadata": {},
   "outputs": [],
   "source": [
    "# Example 1 - retrieve documents by document_type\n",
    "results = client.pipelines.run_search(\n",
    "    pipeline_id, \n",
    "    query='what does jerry like',  \n",
    "    search_filters={\n",
    "        \"filters\": [\n",
    "          {\n",
    "            \"key\": \"type\",\n",
    "            \"value\": \"test\",\n",
    "            \"operator\": \"==\"\n",
    "          },\n",
    "        ],\n",
    "    }\n",
    ")"
   ]
  },
  {
   "cell_type": "code",
   "execution_count": null,
   "id": "4f8ed7d6-a711-410a-96e5-81825201b02d",
   "metadata": {},
   "outputs": [],
   "source": [
    "print(f\"was returned {len(results.retrieval_nodes)} nodes\")\n",
    "\n",
    "for node in results.retrieval_nodes:\n",
    "    print(node.node.text)\n",
    "    # print(\"document_type\", node.node.extra_info[\"document_type\"])\n",
    "    print(\"------\")\n",
    "\n",
    "print(results)"
   ]
  },
  {
   "cell_type": "markdown",
   "id": "f3279ebb-c9ae-4bbc-922c-8a51cb99f595",
   "metadata": {},
   "source": [
    "we notice that it doesn't retrieve insurance documents even the documents being very similiar"
   ]
  },
  {
   "cell_type": "markdown",
   "id": "7db2a185-2ad8-45b2-9222-80df4e19dc01",
   "metadata": {},
   "source": [
    "#### Retrieval Through the Framework Integration\n",
    "\n",
    "We can also define a retriever through the Python framework, through our `LlamaCloudIndex`."
   ]
  },
  {
   "cell_type": "code",
   "execution_count": 50,
   "id": "23ccb658-6620-49f6-a363-5f608733b2f5",
   "metadata": {},
   "outputs": [
    {
     "name": "stdout",
     "output_type": "stream",
     "text": [
      "-----\n",
      "Summary of cash flows related to investing activities including **purchases** and proceeds from **marketable** and non-**marketable** **securities**, property acquisitions, and other investing activities.,\n",
      "with the following table title:\n",
      "Cash Flows from Investing Activities,\n",
      "with the following columns:\n",
      "- Activity: None\n",
      "- **2020**: None\n",
      "- 2019: None\n",
      "- 2018: None\n",
      "\n",
      "|**Purchases** of **marketable** **securities**| |(109,558)|(114,938)|(39,630)|\n",
      "|---|---|---|---|---|\n",
      "|Proceeds from maturities of **marketable** **securities**| |59,023|69,918|40,102|\n",
      "|Proceeds from sales of **marketable** **securities**| |47,460|50,473|56,988|\n",
      "|Payments for acquisition of property, plant and equipment| |(11,085)|(7,309)|(10,495)|\n",
      "|Payments made in connection with business acquisitions, net| |(33)|(1,524)|(624)|\n",
      "|**Purchases** of non-**marketable** **securities**| |(131)|(210)|(1,001)|\n",
      "|Proceeds from non-**marketable** **securities**| |387|92|1,634|\n",
      "|Other| |(608)|(791)|(1,078)|\n",
      "|Cash generated by/(used in) investing activities| |(14,545)|(4,289)|45,896|\n",
      "\n",
      "-----\n",
      "This table provides a breakdown of cash, cash equivalents, and **marketable** **securities** held by the entity in **2020**, including adjusted cost, unrealized gains, unrealized losses, and fair value. It categorizes the investments into different levels such as money market funds, U.S. Treasury **securities**, agency **securities**, non-U.S. government **securities**, certificates of deposit, commercial paper, corporate debt **securities**, municipal **securities**, and mortgage- and asset-backed **securities**.,\n",
      "with the following table title:\n",
      "Breakdown of Cash, Cash Equivalents, and **Marketable** **Securities** in **2020**,\n",
      "with the following columns:\n",
      "- **2020**: Amounts related to the year **2020**\n",
      "- Cash and Cash Equivalents: Values of cash and cash equivalents\n",
      "- Current **Marketable** **Securities**: Values of current **marketable** **securities**\n",
      "- Non-Current **Marketable** **Securities**: Values of non-current **marketable** **securities**\n",
      "\n",
      "| |**2020**| .1| .2| .3| .4| .5| .6|\n",
      "|---|---|---|---|---|---|---|---|\n",
      "| |Cash and Cash Equivalents|Current **Marketable** **Securities**|Non-Current **Marketable** **Securities**| | | | |\n",
      "|Adjusted Cost|Unrealized Gains|Unrealized Losses|Fair Value|Cash Equivalents|**Marketable** **Securities**| | |\n",
      "|Cash|$17,773|$-|$-|$17,773|$17,773|$-|$-|\n",
      "|Level 1(1): Money market funds|2,171|-|-|2,171|2,171|-|-|\n",
      "|Level 2(2):| | | | | | | |\n",
      "|U.S. Treasury **securities**|28,439|331|-|28,770|8,580|11,972|8,218|\n",
      "|U.S. agency **securities**|8,604|8|-|8,612|2,009|3,078|3,525|\n",
      "|Non-U.S. government **securities**|19,361|275|(186)|19,450|255|3,329|15,866|\n",
      "|Certificates of deposit and time deposits|10,399|-|-|10,399|4,043|6,246|110|\n",
      "|Commercial paper|11,226|-|-|11,226|3,185|8,041|-|\n",
      "|Corporate debt **securities**|76,937|1,834|(175)|78,596|-|19,687|58,909|\n",
      "|Municipal **securities**|1,001|22|-|1,023|-|139|884|\n",
      "|Mortgage- and asset-backed **securities**|13,520|314|(24)|13,810|-|435|13,375|\n",
      "|Subtotal|169,487|2,784|(385)|171,886|18,072|52,927|100,887|\n",
      "|Total(3)|$189,431|$2,784|$(385)|$191,830|$38,016|$52,927|$100,887|\n",
      "\n",
      "-----\n",
      "In **2020**, the Company entered into agreements to sell certain of its **marketable** **securities** with a promise to repurchase the **securities** at a specified time and amount (“Repos”). Due to the Company’s continuing involvement with the **marketable** **securities**, the Company accounted for its Repos as collateralized borrowings. The Company entered into $5.2 billion of Repos during **2020**, all of which had been settled as of September 26, **2020**.\n",
      "---\n",
      " Term Debt\n",
      "\n",
      "As of September 25, 2021, the Company had outstanding floating- and fixed-rate notes with varying maturities for an aggregate principal amount of $118.1 billion (collectively the “Notes”). The Notes are senior unsecured obligations and interest is payable in arrears. The following table provides a summary of the Company’s term debt as of September 25, 2021 and September 26, **2020**:\n",
      "-----\n",
      "(1) Level 1 fair value estimates are based on quoted prices in active markets for identical assets or liabilities.\n",
      "\n",
      "(2) Level 2 fair value estimates are based on observable inputs other than quoted prices in active markets for identical assets and liabilities, quoted prices for identical or similar assets or liabilities in inactive markets, or other inputs that are observable or can be corroborated by observable market data for substantially the full term of the assets or liabilities.\n",
      "\n",
      "(3) As of September 25, 2021 and September 26, **2020**, total **marketable** **securities** included $17.9 billion and $18.6 billion, respectively, that was restricted from general use, related to the State Aid Decision (refer to Note 5, “Income Taxes”) and other agreements.\n",
      "\n",
      "Apple Inc. | 2021 Form 10-K | 38\n",
      "---\n",
      " The Company's **Marketable** Debt **Securities**\n",
      "\n",
      "The Company may sell certain of its **marketable** debt **securities** prior to their stated maturities for various reasons, including managing liquidity, credit risk, duration, and asset allocation. The table below displays the fair value of the Company's non-current **marketable** debt **securities** by contractual maturity as of September 25, 2021 (in millions):\n",
      "-----\n",
      "Apple Inc. | 2021 Form 10-K | 34\n",
      "---\n",
      "The Company applies the treasury stock method to determine the dilutive effect of potentially dilutive **securities**. Potentially dilutive **securities** representing 62 million shares of common stock were excluded from the computation of diluted earnings per share for 2019 because their effect would have been antidilutive.\n",
      "\n",
      "Cash Equivalents and **Marketable** **Securities**\n",
      "\n",
      "All highly liquid investments with maturities of three months or less at the date of purchase are classified as cash equivalents.\n",
      "\n",
      "The Company’s investments in **marketable** debt **securities** have been classified and accounted for as available-for-sale. The Company classifies its **marketable** debt **securities** as either short-term or long-term based on each instrument’s underlying contractual maturity date. Unrealized gains and losses on **marketable** debt **securities** classified as available-for-sale are recognized in other comprehensive income/(loss) (“OCI”).\n",
      "\n",
      "The Company’s investments in **marketable** equity **securities** are classified based on the nature of the **securities** and their availability for use in current operations. The Company’s **marketable** equity **securities** are measured at fair value with gains and losses recognized in other income/(expense), net (“OI&E”).\n",
      "\n",
      "The cost of **securities** sold is determined using the specific identification method.\n",
      "\n",
      "Inventories\n",
      "\n",
      "Inventories are measured using the first-in, first-out method.\n",
      "\n",
      "Property, Plant and Equipment\n",
      "\n",
      "Depreciation on property, plant and equipment is recognized on a straight-line basis over the estimated useful lives of the assets, which for buildings is the lesser of 40 years or the remaining life of the building; between one and five years for machinery and equipment, including product tooling and manufacturing process equipment; and the shorter of lease term or useful life for leasehold improvements. Capitalized costs related to internal-use software are amortized on a straight-line basis over the estimated useful lives of the assets, which range from five to seven years. Depreciation and amortization expense on property and equipment was $9.5 billion, $9.7 billion and $11.3 billion during 2021, **2020** and 2019, respectively.\n",
      "\n",
      "Noncash investing activities involving property, plant and equipment resulted in a net decrease to accounts payable and other current liabilities of $2.9 billion during 2019.\n",
      "\n",
      "Restricted Cash and Restricted **Marketable** **Securities**\n",
      "\n",
      "The Company considers cash and **marketable** **securities** to be restricted when withdrawal or general use is legally restricted. The Company reports restricted cash as other assets in the Consolidated Balance Sheets, and determines current or non-current classification based on the expected duration of the restriction. The Company reports restricted **marketable** **securities** as current or non-current **marketable** **securities** in the Consolidated Balance Sheets based on the classification of the underlying **securities**.\n",
      "\n",
      "Derivative Instruments and Hedging\n",
      "\n",
      "All derivative instruments are recorded in the Consolidated Balance Sheets at fair value. The accounting treatment for derivative gains and losses is based on intended use and hedge designation.\n",
      "\n",
      "Gains and losses arising from amounts that are included in the assessment of cash flow hedge effectiveness are initially deferred in accumulated other comprehensive income/(loss) (“AOCI”) and subsequently reclassified into earnings when the hedged transaction affects earnings, and in the same line item in the Consolidated Statements of Operations. For options designated as cash flow hedges, the Company excludes time value from the assessment of hedge effectiveness and recognizes it on a straight-line basis over the life of the hedge in the Consolidated Statements of Operations line item to which the hedge relates. Changes in the fair value of amounts excluded from the assessment of hedge effectiveness are recognized in OCI.\n",
      "\n",
      "Gains and losses arising from amounts that are included in the assessment of fair value hedge effectiveness are recognized in the Consolidated Statements of Operations line item to which the hedge relates along with offsetting losses and gains related to the change in value of the hedged item. For foreign exchange forward contracts designated as fair value hedges, the Company excludes the forward carry component from the assessment of hedge effectiveness and recognizes it in OI&E on a straight-line basis over the life of the hedge. Changes in the fair value of amounts excluded from the assessment of hedge effectiveness are recognized in OCI.\n",
      "\n",
      "Gains and losses arising from changes in the fair values of derivative instruments that are not designated as accounting hedges are recognized in the Consolidated Statements of Operations line items to which the derivative instruments relate.\n",
      "\n",
      "Apple Inc. | 2021 Form 10-K | 35\n",
      "---\n",
      "The Company presents derivative assets and liabilities at their gross fair values in the Consolidated Balance Sheets. The Company classifies cash flows related to derivative instruments as operating activities in the Consolidated Statements of Cash Flows.\n",
      "\n",
      "Fair Value Measurements\n",
      "\n",
      "The fair values of the Company’s money market funds and certain **marketable** equity **securities** are based on quoted prices in active markets for identical assets.\n"
     ]
    }
   ],
   "source": [
    "retriever = index.as_retriever(rerank_top_n=5)\n",
    "nodes = retriever.retrieve(\"Purchases of marketable securities in 2020\")\n",
    "for n in nodes:\n",
    "    print(\"-----\")\n",
    "    print(n.get_content())"
   ]
  },
  {
   "cell_type": "markdown",
   "id": "ffd2412c-5557-4faa-9ccb-0584bde1e748",
   "metadata": {},
   "source": [
    "#### E2E RAG Pipeline\n",
    "\n",
    "You can just as easily define a RAG setup as well, using an LLM you define."
   ]
  },
  {
   "cell_type": "code",
   "execution_count": 28,
   "id": "6d4ad2fb-f163-461a-b86f-8b786b9b28bf",
   "metadata": {},
   "outputs": [
    {
     "name": "stdout",
     "output_type": "stream",
     "text": [
      "The federal deferred tax amounts for the years 2019 to 2021 are as follows:\n",
      "- 2019: ($2,939)\n",
      "- 2020: ($3,619)\n",
      "- 2021: ($7,176)\n"
     ]
    }
   ],
   "source": [
    "from llama_index.llms.openai import OpenAI\n",
    "\n",
    "llm = OpenAI(model=\"gpt-4o\")\n",
    "query_engine = index.as_query_engine(rerank_top_n=5, llm=llm)\n",
    "response = query_engine.query(\"federal deferred tax in 2019-2021\")\n",
    "print(str(response))"
   ]
  },
  {
   "cell_type": "code",
   "execution_count": 29,
   "id": "5c2f771a-f213-46fd-a23e-37695e0df0c9",
   "metadata": {},
   "outputs": [
    {
     "name": "stdout",
     "output_type": "stream",
     "text": [
      "Jerry likes apples.\n"
     ]
    }
   ],
   "source": [
    "response = query_engine.query(\"What does Jerry like?\")\n",
    "print(str(response))"
   ]
  },
  {
   "cell_type": "code",
   "execution_count": null,
   "id": "5fabe94c-ae69-4c33-a11f-edc7f4015c91",
   "metadata": {},
   "outputs": [],
   "source": []
  }
 ],
 "metadata": {
  "kernelspec": {
   "display_name": "llama_index_v3",
   "language": "python",
   "name": "llama_index_v3"
  },
  "language_info": {
   "codemirror_mode": {
    "name": "ipython",
    "version": 3
   },
   "file_extension": ".py",
   "mimetype": "text/x-python",
   "name": "python",
   "nbconvert_exporter": "python",
   "pygments_lexer": "ipython3",
   "version": "3.10.8"
  }
 },
 "nbformat": 4,
 "nbformat_minor": 5
}
