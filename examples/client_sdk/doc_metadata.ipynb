{
 "cells": [
  {
   "cell_type": "markdown",
   "id": "5b1055c3-6dc5-4620-ab42-8e5838bf16e4",
   "metadata": {},
   "source": [
    "# LlamaCloud Client SDK: Document Metadata Management\n",
    "\n",
    "<a href=\"https://colab.research.google.com/github/run-llama/llamacloud-demo/blob/main/examples/client_sdk/doc_metadata.ipynb\n",
    "    \" target=\"_parent\"><img src=\"https://colab.research.google.com/assets/colab-badge.svg\" alt=\"Open In Colab\"/></a>\n",
    "\n",
    "This tutorial shows you how to update metadata onto a document.\n",
    "\n",
    "**NOTE**: To add new documents with metadata, check out our \"Inserting Custom Documents\" tutorial.\n",
    "\n",
    "You can update metadata in two ways with the low-level client SDK: \n",
    "- Using our `update_pipeline_file` method to update the metadata of an uploaded file.\n",
    "- Using our `upsert_batch_pipeline_documents` method to update the metadata of uploaded documents."
   ]
  },
  {
   "cell_type": "markdown",
   "id": "f586c2a0-95f5-4943-9163-778008a680b0",
   "metadata": {},
   "source": [
    "## Setup\n",
    "\n",
    "Here we setup our environment variables, data, and the client SDK."
   ]
  },
  {
   "cell_type": "code",
   "execution_count": 2,
   "id": "5edc1bde-e217-42d3-8bdc-fd1e8c4b325d",
   "metadata": {},
   "outputs": [],
   "source": [
    "import nest_asyncio\n",
    "nest_asyncio.apply()"
   ]
  },
  {
   "cell_type": "code",
   "execution_count": 3,
   "id": "67a907cb-a727-4c12-86c9-ca2c55d73a59",
   "metadata": {},
   "outputs": [],
   "source": [
    "import os\n",
    "\n",
    "os.environ[\"LLAMA_CLOUD_BASE_URL\"] = \"https://api.cloud.llamaindex.ai\""
   ]
  },
  {
   "cell_type": "code",
   "execution_count": null,
   "id": "e150bc97-7b34-4817-b65f-f909f76045d5",
   "metadata": {},
   "outputs": [],
   "source": [
    "os.environ[\"LLAMA_CLOUD_API_KEY\"] = \"<LLAMA_CLOUD_API_KEY>\"\n",
    "os.environ[\"OPENAI_API_KEY\"] = \"<OPENAI_API_KEY>\""
   ]
  },
  {
   "cell_type": "markdown",
   "id": "3f0f2ff7-e5e5-4452-b7bc-69e0b77827af",
   "metadata": {},
   "source": [
    "#### Load Data"
   ]
  },
  {
   "cell_type": "code",
   "execution_count": 5,
   "id": "0c42e736-da9e-4ef7-a5a7-3145ef362703",
   "metadata": {},
   "outputs": [
    {
     "name": "stdout",
     "output_type": "stream",
     "text": [
      "--2024-07-03 21:18:33--  https://s2.q4cdn.com/470004039/files/doc_financials/2021/q4/_10-K-2021-(As-Filed).pdf\n",
      "Resolving s2.q4cdn.com (s2.q4cdn.com)... 2a0b:4d07:2::3, 2a0b:4d07:2::1, 2a0b:4d07:2::4, ...\n",
      "Connecting to s2.q4cdn.com (s2.q4cdn.com)|2a0b:4d07:2::3|:443... connected.\n",
      "HTTP request sent, awaiting response... 200 OK\n",
      "Length: 789896 (771K) [application/pdf]\n",
      "Saving to: ‘apple_2021_10k.pdf’\n",
      "\n",
      "apple_2021_10k.pdf  100%[===================>] 771.38K  --.-KB/s    in 0.06s   \n",
      "\n",
      "2024-07-03 21:18:33 (12.3 MB/s) - ‘apple_2021_10k.pdf’ saved [789896/789896]\n",
      "\n"
     ]
    }
   ],
   "source": [
    "!wget \"https://s2.q4cdn.com/470004039/files/doc_financials/2021/q4/_10-K-2021-(As-Filed).pdf\" -O data/apple_2021_10k.pdf"
   ]
  },
  {
   "cell_type": "code",
   "execution_count": 4,
   "id": "89b1b06f-bce5-4f8e-8387-b81a40f0969f",
   "metadata": {},
   "outputs": [
    {
     "name": "stdout",
     "output_type": "stream",
     "text": [
      "Error while parsing the file './apple_2021_10k.pdf': [Errno 2] No such file or directory: './apple_2021_10k.pdf'\n"
     ]
    }
   ],
   "source": [
    "from llama_parse import LlamaParse\n",
    "\n",
    "documents = LlamaParse(result_type=\"markdown\").load_data(\"./data/apple_2021_10k.pdf\")"
   ]
  },
  {
   "cell_type": "markdown",
   "id": "08b546bd-b23b-4c3c-bbb2-023dbb2c651a",
   "metadata": {},
   "source": [
    "#### Setup LlamaCloud Client SDK"
   ]
  },
  {
   "cell_type": "code",
   "execution_count": 18,
   "id": "d4c36489",
   "metadata": {},
   "outputs": [],
   "source": [
    "from llama_cloud.client import LlamaCloud\n",
    "\n",
    "client = LlamaCloud(\n",
    "    token=os.environ[\"LLAMA_CLOUD_API_KEY\"],\n",
    "    base_url=os.environ[\"LLAMA_CLOUD_BASE_URL\"]\n",
    ")"
   ]
  },
  {
   "cell_type": "markdown",
   "id": "9932fc54-82c5-4cc1-bd4b-105fd232209b",
   "metadata": {},
   "source": [
    "#### Setup Index\n",
    "\n",
    "Please setup an empty index. You can either do this through the UI or [programmatically](https://docs.cloud.llamaindex.ai/llamacloud/guides/framework_integration).\n",
    "\n",
    "After you've done so, make sure to note down the pipeline_id, pipeline_name, project_id, and project_name in the variables below. You'll need these later! "
   ]
  },
  {
   "cell_type": "code",
   "execution_count": 19,
   "id": "04e80c0d-d58d-4fce-aa78-9247b9840738",
   "metadata": {},
   "outputs": [],
   "source": [
    "pipeline_id = \"<pipeline_id>\"\n",
    "pipeline_name = \"<pipeline_name>\"\n",
    "project_id = \"<project_id>\"\n",
    "project_name = \"<project_name>\""
   ]
  },
  {
   "cell_type": "markdown",
   "id": "5c2d17d9-5ad3-4892-8962-dd3182d397b2",
   "metadata": {},
   "source": [
    "## Updating Metadata in Files\n",
    "\n",
    "\n",
    "can be from manually uploaded files or data source files after ingested"
   ]
  },
  {
   "cell_type": "markdown",
   "id": "a0ab3b6d-ca5f-4c01-a4cb-e715cc6cb1e8",
   "metadata": {},
   "source": [
    "#### Updating Metadata through `update_pipeline_file`"
   ]
  },
  {
   "cell_type": "code",
   "execution_count": 20,
   "id": "27e331ab-8b33-4e27-9d79-3cb8e19718ac",
   "metadata": {},
   "outputs": [],
   "source": [
    "# upload file and add file to pipeline\n",
    "with open('data/apple_2021_10k.pdf', 'rb') as f:\n",
    "    file = client.files.upload_file(upload_file=f, project_id=project_id)\n",
    "    pipeline_files = client.pipelines.add_files_to_pipeline(pipeline_id, request=[{'file_id': file.id}]) "
   ]
  },
  {
   "cell_type": "code",
   "execution_count": null,
   "id": "84e239bf-44fd-4019-b447-e7ffabadea61",
   "metadata": {},
   "outputs": [],
   "source": [
    "# adding metadata\n",
    "pipeline_files = client.pipelines.update_pipeline_file(\n",
    "    pipeline_id=pipeline_id, file_id=file.id, custom_metadata={ \"editor\": \"jerry_liu\" }\n",
    ") "
   ]
  },
  {
   "cell_type": "markdown",
   "id": "837f88ed-122d-4afc-b997-41d2a1b45804",
   "metadata": {},
   "source": [
    "#### Updating Metadata through `upsert_batch_pipeline_documents`"
   ]
  },
  {
   "cell_type": "code",
   "execution_count": 23,
   "id": "fe66ab74-e080-43b3-9684-aa474b949693",
   "metadata": {},
   "outputs": [
    {
     "data": {
      "text/plain": [
       "1"
      ]
     },
     "execution_count": 23,
     "metadata": {},
     "output_type": "execute_result"
    }
   ],
   "source": [
    "pipeline_docs = client.pipelines.list_pipeline_documents(pipeline_id)\n",
    "len(pipeline_docs)"
   ]
  },
  {
   "cell_type": "code",
   "execution_count": 24,
   "id": "034e95a8-e73e-48f4-90b9-a05c2ba96d1c",
   "metadata": {
    "scrolled": true
   },
   "outputs": [
    {
     "data": {
      "text/plain": [
       "{'file_size': '789896',\n",
       " 'last_modified_at': '2024-07-04T06:39:23',\n",
       " 'file_path': 'apple_2021_10k.pdf',\n",
       " 'file_name': 'apple_2021_10k.pdf',\n",
       " 'pipeline_id': 'b4b8a624-cd50-4f54-8d20-a756427d961f'}"
      ]
     },
     "execution_count": 24,
     "metadata": {},
     "output_type": "execute_result"
    }
   ],
   "source": [
    "# inspect the first document\n",
    "pipeline_docs[0].metadata"
   ]
  },
  {
   "cell_type": "code",
   "execution_count": 14,
   "id": "6076e810-154b-4e96-a4db-88b42a182d03",
   "metadata": {},
   "outputs": [],
   "source": [
    "# change the metadata of the document\n",
    "pipeline_docs[0].metadata[\"editor\"] = \"simon_suo\""
   ]
  },
  {
   "cell_type": "code",
   "execution_count": 15,
   "id": "eecdc4ff-178a-4157-962d-90d39bc2ff27",
   "metadata": {},
   "outputs": [
    {
     "data": {
      "text/plain": [
       "{'file_size': '789896',\n",
       " 'last_modified_at': '2024-07-04T06:37:50',\n",
       " 'file_path': 'apple_2021_10k.pdf',\n",
       " 'file_name': 'apple_2021_10k.pdf',\n",
       " 'pipeline_id': 'a2de81e0-6917-4e23-8874-5f5170b1aa79',\n",
       " 'editor': 'simon_suo'}"
      ]
     },
     "execution_count": 15,
     "metadata": {},
     "output_type": "execute_result"
    }
   ],
   "source": [
    "upserted_docs = client.pipelines.upsert_batch_pipeline_documents(pipeline_id, request=[pipeline_docs[0]])\n",
    "upserted_docs[0].metadata"
   ]
  },
  {
   "cell_type": "markdown",
   "id": "b408db36-be44-4ce8-a535-073ebea177f7",
   "metadata": {},
   "source": [
    "## Test Retrieval\n",
    "\n",
    "We test retrieval through the framework integration."
   ]
  },
  {
   "cell_type": "markdown",
   "id": "00ecdb0c-f8d5-4ed6-95a0-acd738c2b0ef",
   "metadata": {},
   "source": [
    "#### Retrieval Through the Framework Integration\n",
    "\n",
    "We can also define a retriever through the Python framework, through our `LlamaCloudIndex`."
   ]
  },
  {
   "cell_type": "code",
   "execution_count": null,
   "id": "23ccb658-6620-49f6-a363-5f608733b2f5",
   "metadata": {},
   "outputs": [],
   "source": [
    "from llama_index.indices.managed.llama_cloud import LlamaCloudIndex\n",
    "import os\n",
    "\n",
    "index = LlamaCloudIndex(\n",
    "  name=pipeline_name, \n",
    "  project_name=project_name,\n",
    "  api_key=os.getenv(\"LLAMA_CLOUD_API_KEY\")\n",
    ")\n",
    "\n",
    "query_engine = index.as_query_engine(rerank_top_n=1)\n",
    "response = query_engine.query(\"Who is the editor of this document.\")\n",
    "print(str(response) + \"\\n-------\\n\\nSources:\\n\\n\")\n",
    "for n in response.source_nodes:\n",
    "    print(n.get_content(metadata_mode=\"all\"))"
   ]
  },
  {
   "cell_type": "code",
   "execution_count": null,
   "id": "b9345c9c-1f7e-447f-b478-9149be73dc79",
   "metadata": {},
   "outputs": [],
   "source": []
  }
 ],
 "metadata": {
  "kernelspec": {
   "display_name": "llama_index_v3",
   "language": "python",
   "name": "llama_index_v3"
  },
  "language_info": {
   "codemirror_mode": {
    "name": "ipython",
    "version": 3
   },
   "file_extension": ".py",
   "mimetype": "text/x-python",
   "name": "python",
   "nbconvert_exporter": "python",
   "pygments_lexer": "ipython3",
   "version": "3.10.8"
  }
 },
 "nbformat": 4,
 "nbformat_minor": 5
}
