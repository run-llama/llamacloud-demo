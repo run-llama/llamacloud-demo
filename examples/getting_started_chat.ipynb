{
 "cells": [
  {
   "cell_type": "markdown",
   "id": "616a781c",
   "metadata": {},
   "source": [
    "<a href=\"https://colab.research.google.com/github/run-llama/llamacloud-demo/blob/main/examples/getting_started_chat.ipynb\" target=\"_parent\"><img src=\"https://colab.research.google.com/assets/colab-badge.svg\" alt=\"Open In Colab\"/></a>"
   ]
  },
  {
   "cell_type": "markdown",
   "id": "18e20fbc-056b-44ac-b1fc-2d34b8e99bcc",
   "metadata": {},
   "source": [
    "# Getting Started: Building a Chat Engine with LlamaCloud"
   ]
  },
  {
   "cell_type": "markdown",
   "id": "b99eea02-429c-40e4-99be-b82a89c8d070",
   "metadata": {},
   "source": [
    "In this notebook, we show you how to build a multi-step chat engine over a LlamaCloud index over your data.\n",
    "\n",
    "Out chat engines allow you to turn a RAG pipeline into a conversational chat interface. During each turn, we maintain conversation history and use that retrieve context and synthesize over the relevant chat history."
   ]
  },
  {
   "cell_type": "markdown",
   "id": "34d34fcc-e247-4d55-ab16-c3d633e2385a",
   "metadata": {},
   "source": [
    "**How the `CondensePlusContextChatEngine` works**\n",
    "* First condense a conversation and latest user message to a standalone question\n",
    "* Then build a context for the standalone question from a retriever,\n",
    "* Then pass the context along with prompt and user message to LLM to generate a response."
   ]
  },
  {
   "cell_type": "markdown",
   "id": "ca364545",
   "metadata": {},
   "source": [
    "If you're opening this Notebook on colab, you will probably need to install LlamaIndex 🦙."
   ]
  },
  {
   "cell_type": "code",
   "execution_count": null,
   "id": "a46eb19f",
   "metadata": {},
   "outputs": [],
   "source": [
    "%pip install llama-index-llms-openai\n",
    "%pip install llama-index\n",
    "%pip install llama-index-indices-llama-cloud"
   ]
  },
  {
   "cell_type": "markdown",
   "id": "1047e67c-b81b-4e12-8a02-6822454a5d49",
   "metadata": {},
   "source": [
    "## Build LlamaCloud Index\n",
    "\n",
    "The LlamaCloud index is built over the 2021 Lyft and Uber 10K documents.\n",
    "\n",
    "To create the index, follow the instructions:\n",
    "1. You can download them here ([Uber 10K](https://www.dropbox.com/s/te0a2w227v27iag/uber_2021.pdf?dl=1), [Lyft 10K](https://www.dropbox.com/s/qctkz6nxhm0y5qe/lyft_2021.pdf?dl=1))\n",
    "2. Follow instructions on `https://cloud.llamaindex.ai/` to signup for an account. Create a pipeline by uploading these documents."
   ]
  },
  {
   "cell_type": "code",
   "execution_count": 18,
   "id": "3aac2202-5346-4fe5-a0b5-cbac64003fbc",
   "metadata": {},
   "outputs": [],
   "source": [
    "from llama_index.indices.managed.llama_cloud import LlamaCloudIndex\n",
    "\n",
    "index = LlamaCloudIndex(\n",
    "  name=\"<index_name>\", \n",
    "  project_name=\"<project_name>\",\n",
    "  api_key=\"llx-\"\n",
    ")"
   ]
  },
  {
   "cell_type": "code",
   "execution_count": 19,
   "id": "7c352324-8112-43f1-ad97-d02e581bf282",
   "metadata": {},
   "outputs": [],
   "source": [
    "retriever = index.as_retriever()"
   ]
  },
  {
   "cell_type": "markdown",
   "id": "b314f279-bf7f-4e67-9f66-ebf783f08d38",
   "metadata": {},
   "source": [
    "## Build Chat Engine"
   ]
  },
  {
   "cell_type": "markdown",
   "id": "40d3d9e4",
   "metadata": {},
   "source": [
    "Define a chat engine wrapper around the defined LlamaCloud index.\n",
    "\n",
    "Since the context retrieved can take up a large amount of the available LLM context, let's ensure we configure a smaller limit to the chat history!"
   ]
  },
  {
   "cell_type": "code",
   "execution_count": 20,
   "id": "164ef191-f86a-4ce1-aa9d-64d61f29dd45",
   "metadata": {},
   "outputs": [],
   "source": [
    "from llama_index.core.memory import ChatMemoryBuffer\n",
    "from llama_index.core.chat_engine import CondensePlusContextChatEngine\n",
    "from llama_index.core import Settings\n",
    "from llama_index.llms.openai import OpenAI\n",
    "\n",
    "\n",
    "llm = OpenAI(model=\"gpt-3.5-turbo\")\n",
    "\n",
    "memory = ChatMemoryBuffer.from_defaults(token_limit=3900)\n",
    "\n",
    "chat_engine = CondensePlusContextChatEngine.from_defaults(\n",
    "    index.as_retriever(),\n",
    "    memory=memory,\n",
    "    llm=llm,\n",
    "    context_prompt=(\n",
    "        \"You are a chatbot, able to have normal interactions, as well as talk\"\n",
    "        \" about financial reports for Uber and Lyft.\"\n",
    "        \"Here are the relevant documents for the context:\\n\"\n",
    "        \"{context_str}\"\n",
    "        \"\\nInstruction: Use the previous chat history, or the context above, to interact and help the user.\"\n",
    "    ),\n",
    "    verbose=False,\n",
    ")"
   ]
  },
  {
   "cell_type": "markdown",
   "id": "63a4259d-89b5-49f8-b158-9eba5353d6f5",
   "metadata": {},
   "source": [
    "Chat with your data"
   ]
  },
  {
   "cell_type": "code",
   "execution_count": 21,
   "id": "825b5bb3-37ff-4886-be2c-264584ca9eab",
   "metadata": {},
   "outputs": [],
   "source": [
    "response = chat_engine.chat(\"What are the Monthly Active Platform Consumers in 2021?\")"
   ]
  },
  {
   "cell_type": "code",
   "execution_count": 22,
   "id": "d8fa4310-4dc5-4787-a073-755d2e0b4887",
   "metadata": {},
   "outputs": [
    {
     "name": "stdout",
     "output_type": "stream",
     "text": [
      "3\n",
      "In 2021, the Monthly Active Platform Consumers (MAPCs) for Uber were 118 million. This represents a 27% increase from the previous year. MAPCs are the number of unique consumers who completed a Mobility or New Mobility ride or received a Delivery order on Uber's platform at least once in a given month.\n"
     ]
    }
   ],
   "source": [
    "print(len(response.source_nodes))\n",
    "print(str(response))"
   ]
  },
  {
   "cell_type": "markdown",
   "id": "67021e64-8665-4338-9fb4-c0f1d6361092",
   "metadata": {},
   "source": [
    "Ask a follow up question"
   ]
  },
  {
   "cell_type": "code",
   "execution_count": 23,
   "id": "f6181319-5d76-48c4-a5d4-23c6e9bc5ccb",
   "metadata": {},
   "outputs": [],
   "source": [
    "response_2 = chat_engine.chat(\"What about 2020?\")"
   ]
  },
  {
   "cell_type": "code",
   "execution_count": 24,
   "id": "95045f5b-7964-4872-bc91-809d9debf1f5",
   "metadata": {},
   "outputs": [
    {
     "name": "stdout",
     "output_type": "stream",
     "text": [
      "In 2020, the Monthly Active Platform Consumers (MAPCs) for Uber were 93 million. This shows a 27% increase to 118 million in 2021. MAPCs are an important metric for Uber as they indicate the adoption of their platform and the frequency of transactions by consumers.\n"
     ]
    }
   ],
   "source": [
    "print(response_2)"
   ]
  },
  {
   "cell_type": "markdown",
   "id": "c2c68de8-af58-4f7e-8759-19fc072873fd",
   "metadata": {},
   "source": [
    "Reset conversation state"
   ]
  },
  {
   "cell_type": "code",
   "execution_count": 25,
   "id": "d13cf082-1a91-43c5-8bad-76fa45be96f9",
   "metadata": {},
   "outputs": [],
   "source": [
    "chat_engine.reset()"
   ]
  },
  {
   "cell_type": "code",
   "execution_count": 26,
   "id": "627de435-d195-4dad-b314-a68e731979a9",
   "metadata": {},
   "outputs": [],
   "source": [
    "response = chat_engine.chat(\"Hello! What do you know?\")"
   ]
  },
  {
   "cell_type": "code",
   "execution_count": 27,
   "id": "75ef9e31-3cdb-4129-92f7-e61be201ea36",
   "metadata": {},
   "outputs": [
    {
     "name": "stdout",
     "output_type": "stream",
     "text": [
      "Hello! I'm here to help you with any questions or information you need. Is there anything specific you would like to know or talk about today?\n"
     ]
    }
   ],
   "source": [
    "print(response)"
   ]
  },
  {
   "cell_type": "markdown",
   "id": "a65ad1a2",
   "metadata": {},
   "source": [
    "## Streaming Support"
   ]
  },
  {
   "cell_type": "code",
   "execution_count": 28,
   "id": "22605caa",
   "metadata": {},
   "outputs": [],
   "source": [
    "chat_engine = CondensePlusContextChatEngine.from_defaults(\n",
    "    index.as_retriever(),\n",
    "    chat_mode=\"condense_plus_context\",\n",
    "    context_prompt=(\n",
    "        \"You are a chatbot, able to have normal interactions, as well as talk\"\n",
    "        \" about financial reports for Uber and Lyft.\"\n",
    "        \"Here are the relevant documents for the context:\\n\"\n",
    "        \"{context_str}\"\n",
    "        \"\\nInstruction: Based on the above documents, provide a detailed answer for the user question below.\"\n",
    "    ),\n",
    ")"
   ]
  },
  {
   "cell_type": "code",
   "execution_count": 29,
   "id": "250abd43",
   "metadata": {},
   "outputs": [
    {
     "name": "stdout",
     "output_type": "stream",
     "text": [
      "Based on the financial report provided for Lyft, here is a breakdown of the assets and liabilities for the company:\n",
      "\n",
      "Assets:\n",
      "1. Receivables: The receivable balance primarily consists of amounts due from Enterprise Users and was $196.2 million, $104.7 million, and $120.0 million as of December 31, 2021, 2020, and 2019, respectively.\n",
      "2. Allowance for Credit Losses: The allowance for credit losses, which reflects the Company's estimate of expected credit losses inherent in the enterprise and trade receivables balance, was $9.3 million, $15.2 million, and $6.2 million as of December 31, 2021, 2020, and 2019, respectively.\n",
      "\n",
      "Liabilities:\n",
      "1. Prepaid Expenses and Other Current Assets: Uncollected fees owed for completed transactions on the Lyft Platform are included in prepaid expenses and other current assets on the consolidated balance sheets.\n",
      "2. Accrued and Other Current Liabilities: The portion of the fare receivable to be remitted to drivers is included in accrued and other current liabilities on the consolidated balance sheets.\n",
      "3. Trade Payables: The Company records an allowance for credit losses for fees owed for completed transactions that may never settle or be collected, which impacts the trade payables.\n",
      "\n",
      "These are some of the key assets and liabilities outlined in the financial report for Lyft."
     ]
    }
   ],
   "source": [
    "response = chat_engine.stream_chat(\"What are the assets/liabilities for Lyft?\")\n",
    "for token in response.response_gen:\n",
    "    print(token, end=\"\")"
   ]
  },
  {
   "cell_type": "code",
   "execution_count": null,
   "id": "f1cd349a-8a34-4bb5-aa8b-c57b9c0d0ddf",
   "metadata": {},
   "outputs": [],
   "source": []
  }
 ],
 "metadata": {
  "kernelspec": {
   "display_name": "Python 3 (ipykernel)",
   "language": "python",
   "name": "python3"
  },
  "language_info": {
   "codemirror_mode": {
    "name": "ipython",
    "version": 3
   },
   "file_extension": ".py",
   "mimetype": "text/x-python",
   "name": "python",
   "nbconvert_exporter": "python",
   "pygments_lexer": "ipython3",
   "version": "3.10.8"
  }
 },
 "nbformat": 4,
 "nbformat_minor": 5
}
