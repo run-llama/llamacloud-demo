{
 "cells": [
  {
   "cell_type": "markdown",
   "id": "03d9d807-02bc-447c-8890-787aac4c2b74",
   "metadata": {
    "tags": []
   },
   "source": [
    "# Getting Started with LlamaCloud (Tesla 10K)\n",
    "\n",
    "<a href=\"https://colab.research.google.com/github/run-llama/llamacloud-demo/blob/main/examples/getting_started_tesla.ipynb\" target=\"_parent\"><img src=\"https://colab.research.google.com/assets/colab-badge.svg\" alt=\"Open In Colab\"/></a>\n",
    "\n",
    "This notebook shows you how to get started with LlamaCloud by building a simple RAG pipeline over the 2023 Tesla 10K filing, and then querying it."
   ]
  },
  {
   "cell_type": "markdown",
   "id": "c578d22f-53d0-471a-bc1d-bd9b428a3d03",
   "metadata": {},
   "source": [
    "## Build RAG Pipeline from LlamaCloud Index\n",
    "\n",
    "The LlamaCloud index is built over the 2023 Tesla 10K filing.\n",
    "\n",
    "To create the index, follow the instructions:\n",
    "1. You can download the Tesla 10K here: https://ir.tesla.com/_flysystem/s3/sec/000162828024002390/tsla-20231231-gen.pdf\n",
    "2. Follow instructions on `https://cloud.llamaindex.ai/` to signup for an account. Create a pipeline by uploading this document."
   ]
  },
  {
   "cell_type": "code",
   "execution_count": null,
   "id": "1500b200-f7c6-428c-ab7e-07902b3faa4e",
   "metadata": {},
   "outputs": [],
   "source": [
    "!pip install llama-index-indices-llama-cloud"
   ]
  },
  {
   "cell_type": "code",
   "execution_count": 3,
   "id": "281ce14d-1bb9-43f3-a91c-15f83fb89d40",
   "metadata": {
    "tags": []
   },
   "outputs": [],
   "source": [
    "from llama_index.indices.managed.llama_cloud import LlamaCloudIndex\n",
    "\n",
    "index = LlamaCloudIndex(\n",
    "  name=\"<index_name>\", \n",
    "  project_name=\"<project_name>\",\n",
    "  api_key=\"llx-\"\n",
    ")"
   ]
  },
  {
   "cell_type": "markdown",
   "id": "ddebb2af-d59f-4df8-876b-fda2e8fda333",
   "metadata": {},
   "source": [
    "## Try out an Example Query! \n",
    "\n",
    "Now we can try out an example query against the index.\n",
    "\n",
    "If you want an out of the box query engine, just do `index.as_query_engine()` (similar to our VectorStoreIndex).\n",
    "\n",
    "If you want a retriever that you can plug into a custom workflow, do `index.as_retriever()`"
   ]
  },
  {
   "cell_type": "code",
   "execution_count": 4,
   "id": "1f7e66d1-ccc7-4d29-86f6-77b9ccef0711",
   "metadata": {
    "tags": []
   },
   "outputs": [],
   "source": [
    "# query = \"Tell me about the total cost of revenues in 2022\"\n",
    "# query = \"Tell me about the R&D operating expenses in 2023\"\n",
    "# query = \"Tell me revenues from energy generation and storage leasing in 2023\"\n",
    "query = \"Tell me the solar energy systems in service in 2023 and 2022\" \n",
    "nodes = index.as_retriever().retrieve(query)"
   ]
  },
  {
   "cell_type": "code",
   "execution_count": 5,
   "id": "ffa60e6b-3362-466c-b895-a718d429e762",
   "metadata": {
    "tags": []
   },
   "outputs": [
    {
     "name": "stdout",
     "output_type": "stream",
     "text": [
      "5\n"
     ]
    }
   ],
   "source": [
    "print(len(nodes))"
   ]
  },
  {
   "cell_type": "markdown",
   "id": "28860fcd-b433-45de-aea2-6a0d6b8c295c",
   "metadata": {},
   "source": [
    "We see that the top-retrieved node corresponds to an extracted table. We automatically extract a table summary and format the table in clean Markdown."
   ]
  },
  {
   "cell_type": "code",
   "execution_count": 6,
   "id": "805f9860-92fa-4994-8278-a4c845c456c7",
   "metadata": {
    "tags": []
   },
   "outputs": [
    {
     "name": "stdout",
     "output_type": "stream",
     "text": [
      "table_df: {' ': {0: 'Solar energy systems in service', 1: 'Initial direct costs related to customer solar energy system lease acquisition costs', 2: 'Total', 3: 'Less: accumulated depreciation and amortization (1)', 4: 'Solar energy systems under construction', 5: 'Solar energy systems pending interconnection', 6: 'Solar energy systems, net (2)'}, 'December 31, 2023': {0: '$6,755', 1: '$104', 2: '$6,859', 3: '($1,643)', 4: '1', 5: '12', 6: '$5,229'}, 'December 31, 2022': {0: '$6,785', 1: '$104', 2: '$6,889', 3: '($1,418)', 4: '2', 5: '16', 6: '$5,489'}}\n",
      "table_summary: Summary: The table provides information on solar energy systems, including those in service, under construction, pending interconnection, and the net value after depreciation and amortization.,\n",
      "with the following table title:\n",
      "Solar Energy Systems Overview,\n",
      "with the following columns:\n",
      "- December 31, 2023: None\n",
      "- December 31, 2022: None\n",
      "\n",
      "file_name: tesla_2023 (2).pdf\n",
      "file_path: tesla_2023 (2).pdf\n",
      "file_type: application/pdf\n",
      "file_size: 984581\n",
      "llx_platform_pipeline_id: 205bb92d-2932-4034-b354-68ec83635762\n",
      "llx_platform_loaded_file_id: 2b7e68a0-3e8d-40da-9185-f9a4bbbaa513\n",
      "pipeline_id: 205bb92d-2932-4034-b354-68ec83635762\n",
      "\n",
      "Summary: The table provides information on **solar** **energy** **systems**, including those in **service**, under construction, pending interconnection, and the net value after depreciation and amortization.,\n",
      "with the following table title:\n",
      "**Solar** **Energy** **Systems** Overview,\n",
      "with the following columns:\n",
      "- December 31, **2023**: None\n",
      "- December 31, **2022**: None\n",
      "\n",
      "| |December 31, **2023**|December 31, **2022**|\n",
      "|---|---|---|\n",
      "|**Solar** **energy** **systems** in **service**|$6,755|$6,785|\n",
      "|Initial direct costs related to customer **solar** **energy** system lease acquisition costs|$104|$104|\n",
      "|Total|$6,859|$6,889|\n",
      "|Less: accumulated depreciation and amortization (1)|($1,643)|($1,418)|\n",
      "|**Solar** **energy** **systems** under construction|1|2|\n",
      "|**Solar** **energy** **systems** pending interconnection|12|16|\n",
      "|**Solar** **energy** **systems**, net (2)|$5,229|$5,489|\n"
     ]
    }
   ],
   "source": [
    "print(nodes[0].get_content(metadata_mode=\"all\"))"
   ]
  },
  {
   "cell_type": "markdown",
   "id": "0569c88f-95ee-49b6-b45e-3fbc4d1c0dca",
   "metadata": {},
   "source": [
    "Now let's try plugging this into a query engine."
   ]
  },
  {
   "cell_type": "code",
   "execution_count": 7,
   "id": "390b9e89-fbe6-4ff8-a13e-d453190ad0a0",
   "metadata": {},
   "outputs": [],
   "source": [
    "response = index.as_query_engine().query(query)"
   ]
  },
  {
   "cell_type": "code",
   "execution_count": 8,
   "id": "e3233279-8730-4f30-8f95-9a7a31ac8675",
   "metadata": {
    "tags": []
   },
   "outputs": [
    {
     "name": "stdout",
     "output_type": "stream",
     "text": [
      "The solar energy systems in service in 2023 were $6,755, and in 2022, they were $6,785.\n"
     ]
    }
   ],
   "source": [
    "print(str(response))"
   ]
  },
  {
   "cell_type": "code",
   "execution_count": null,
   "id": "30b97e63-aa44-4c8a-9212-09be990dba32",
   "metadata": {},
   "outputs": [],
   "source": []
  }
 ],
 "metadata": {
  "kernelspec": {
   "display_name": "llama_index_v3",
   "language": "python",
   "name": "llama_index_v3"
  },
  "language_info": {
   "codemirror_mode": {
    "name": "ipython",
    "version": 3
   },
   "file_extension": ".py",
   "mimetype": "text/x-python",
   "name": "python",
   "nbconvert_exporter": "python",
   "pygments_lexer": "ipython3",
   "version": "3.10.8"
  }
 },
 "nbformat": 4,
 "nbformat_minor": 5
}
