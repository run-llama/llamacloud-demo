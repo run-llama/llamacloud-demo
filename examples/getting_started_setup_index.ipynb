{
 "cells": [
  {
   "cell_type": "markdown",
   "id": "99cea58c-48bc-4af6-8358-df9695659983",
   "metadata": {},
   "source": [
    "# Getting Started: Building Agents over LlamaCloud RAG Pipelines\n",
    "\n",
    "<a href=\"https://colab.research.google.com/github/run-llama/llamacloud-demo/blob/main/examples/getting_started_agent.ipynb\" target=\"_parent\"><img src=\"https://colab.research.google.com/assets/colab-badge.svg\" alt=\"Open In Colab\"/></a>\n",
    "\n",
    "In this notebook we show you how to build a function calling agent (powered by OpenAI) over RAG pipelines built with LlamaCloud.\n",
    "\n",
    "Adding an agentic layer to RAG allows you to build in a layer of query planning and state management that allows you to ask multi-part complex questions over existing RAG pipelines and get back answers in a conversational manner.\n"
   ]
  },
  {
   "cell_type": "markdown",
   "id": "54b7bc2e-606f-411a-9490-fcfab9236dfc",
   "metadata": {},
   "source": [
    "## Initial Setup "
   ]
  },
  {
   "cell_type": "markdown",
   "id": "23e80e5b-aaee-4f23-b338-7ae62b08141f",
   "metadata": {},
   "source": [
    "Let's start by importing some simple building blocks.  \n",
    "\n",
    "The main thing we need is:\n",
    "1. the OpenAI API (using our own `llama_index` LLM class)\n",
    "2. a place to keep conversation history \n",
    "3. a definition for tools that our agent can use."
   ]
  },
  {
   "cell_type": "markdown",
   "id": "41101795",
   "metadata": {},
   "source": [
    "If you're opening this Notebook on colab, you will probably need to install LlamaIndex 🦙.\n"
   ]
  },
  {
   "cell_type": "code",
   "execution_count": 3,
   "id": "4985c578",
   "metadata": {},
   "outputs": [
    {
     "name": "stdout",
     "output_type": "stream",
     "text": [
      "Requirement already satisfied: llama-index-indices-managed-llama-cloud in /Users/emanuel/Desktop/programming/llamacloud-demo/.venv/lib/python3.12/site-packages (0.9.2)\n",
      "Requirement already satisfied: deprecated==1.2.18 in /Users/emanuel/Desktop/programming/llamacloud-demo/.venv/lib/python3.12/site-packages (from llama-index-indices-managed-llama-cloud) (1.2.18)\n",
      "Requirement already satisfied: llama-cloud==0.1.35 in /Users/emanuel/Desktop/programming/llamacloud-demo/.venv/lib/python3.12/site-packages (from llama-index-indices-managed-llama-cloud) (0.1.35)\n",
      "Requirement already satisfied: llama-index-core<0.14,>=0.13.0 in /Users/emanuel/Desktop/programming/llamacloud-demo/.venv/lib/python3.12/site-packages (from llama-index-indices-managed-llama-cloud) (0.13.2)\n",
      "Requirement already satisfied: wrapt<2,>=1.10 in /Users/emanuel/Desktop/programming/llamacloud-demo/.venv/lib/python3.12/site-packages (from deprecated==1.2.18->llama-index-indices-managed-llama-cloud) (1.16.0)\n",
      "Requirement already satisfied: certifi>=2024.7.4 in /Users/emanuel/Desktop/programming/llamacloud-demo/.venv/lib/python3.12/site-packages (from llama-cloud==0.1.35->llama-index-indices-managed-llama-cloud) (2024.8.30)\n",
      "Requirement already satisfied: httpx>=0.20.0 in /Users/emanuel/Desktop/programming/llamacloud-demo/.venv/lib/python3.12/site-packages (from llama-cloud==0.1.35->llama-index-indices-managed-llama-cloud) (0.27.2)\n",
      "Requirement already satisfied: pydantic>=1.10 in /Users/emanuel/Desktop/programming/llamacloud-demo/.venv/lib/python3.12/site-packages (from llama-cloud==0.1.35->llama-index-indices-managed-llama-cloud) (2.11.7)\n",
      "Requirement already satisfied: aiohttp<4,>=3.8.6 in /Users/emanuel/Desktop/programming/llamacloud-demo/.venv/lib/python3.12/site-packages (from llama-index-core<0.14,>=0.13.0->llama-index-indices-managed-llama-cloud) (3.10.5)\n",
      "Requirement already satisfied: aiosqlite in /Users/emanuel/Desktop/programming/llamacloud-demo/.venv/lib/python3.12/site-packages (from llama-index-core<0.14,>=0.13.0->llama-index-indices-managed-llama-cloud) (0.21.0)\n",
      "Requirement already satisfied: banks<3,>=2.2.0 in /Users/emanuel/Desktop/programming/llamacloud-demo/.venv/lib/python3.12/site-packages (from llama-index-core<0.14,>=0.13.0->llama-index-indices-managed-llama-cloud) (2.2.0)\n",
      "Requirement already satisfied: dataclasses-json in /Users/emanuel/Desktop/programming/llamacloud-demo/.venv/lib/python3.12/site-packages (from llama-index-core<0.14,>=0.13.0->llama-index-indices-managed-llama-cloud) (0.6.7)\n",
      "Requirement already satisfied: dirtyjson<2,>=1.0.8 in /Users/emanuel/Desktop/programming/llamacloud-demo/.venv/lib/python3.12/site-packages (from llama-index-core<0.14,>=0.13.0->llama-index-indices-managed-llama-cloud) (1.0.8)\n",
      "Requirement already satisfied: filetype<2,>=1.2.0 in /Users/emanuel/Desktop/programming/llamacloud-demo/.venv/lib/python3.12/site-packages (from llama-index-core<0.14,>=0.13.0->llama-index-indices-managed-llama-cloud) (1.2.0)\n",
      "Requirement already satisfied: fsspec>=2023.5.0 in /Users/emanuel/Desktop/programming/llamacloud-demo/.venv/lib/python3.12/site-packages (from llama-index-core<0.14,>=0.13.0->llama-index-indices-managed-llama-cloud) (2024.6.1)\n",
      "Requirement already satisfied: llama-index-workflows<2,>=1.0.1 in /Users/emanuel/Desktop/programming/llamacloud-demo/.venv/lib/python3.12/site-packages (from llama-index-core<0.14,>=0.13.0->llama-index-indices-managed-llama-cloud) (1.3.0)\n",
      "Requirement already satisfied: nest-asyncio<2,>=1.5.8 in /Users/emanuel/Desktop/programming/llamacloud-demo/.venv/lib/python3.12/site-packages (from llama-index-core<0.14,>=0.13.0->llama-index-indices-managed-llama-cloud) (1.6.0)\n",
      "Requirement already satisfied: networkx>=3.0 in /Users/emanuel/Desktop/programming/llamacloud-demo/.venv/lib/python3.12/site-packages (from llama-index-core<0.14,>=0.13.0->llama-index-indices-managed-llama-cloud) (3.3)\n",
      "Requirement already satisfied: nltk>3.8.1 in /Users/emanuel/Desktop/programming/llamacloud-demo/.venv/lib/python3.12/site-packages (from llama-index-core<0.14,>=0.13.0->llama-index-indices-managed-llama-cloud) (3.9.1)\n",
      "Requirement already satisfied: numpy in /Users/emanuel/Desktop/programming/llamacloud-demo/.venv/lib/python3.12/site-packages (from llama-index-core<0.14,>=0.13.0->llama-index-indices-managed-llama-cloud) (1.26.4)\n",
      "Requirement already satisfied: pillow>=9.0.0 in /Users/emanuel/Desktop/programming/llamacloud-demo/.venv/lib/python3.12/site-packages (from llama-index-core<0.14,>=0.13.0->llama-index-indices-managed-llama-cloud) (10.4.0)\n",
      "Requirement already satisfied: platformdirs in /Users/emanuel/Desktop/programming/llamacloud-demo/.venv/lib/python3.12/site-packages (from llama-index-core<0.14,>=0.13.0->llama-index-indices-managed-llama-cloud) (4.2.2)\n",
      "Requirement already satisfied: pyyaml>=6.0.1 in /Users/emanuel/Desktop/programming/llamacloud-demo/.venv/lib/python3.12/site-packages (from llama-index-core<0.14,>=0.13.0->llama-index-indices-managed-llama-cloud) (6.0.2)\n",
      "Requirement already satisfied: requests>=2.31.0 in /Users/emanuel/Desktop/programming/llamacloud-demo/.venv/lib/python3.12/site-packages (from llama-index-core<0.14,>=0.13.0->llama-index-indices-managed-llama-cloud) (2.32.3)\n",
      "Requirement already satisfied: setuptools>=80.9.0 in /Users/emanuel/Desktop/programming/llamacloud-demo/.venv/lib/python3.12/site-packages (from llama-index-core<0.14,>=0.13.0->llama-index-indices-managed-llama-cloud) (80.9.0)\n",
      "Requirement already satisfied: sqlalchemy>=1.4.49 in /Users/emanuel/Desktop/programming/llamacloud-demo/.venv/lib/python3.12/site-packages (from sqlalchemy[asyncio]>=1.4.49->llama-index-core<0.14,>=0.13.0->llama-index-indices-managed-llama-cloud) (2.0.33)\n",
      "Requirement already satisfied: tenacity!=8.4.0,<10.0.0,>=8.2.0 in /Users/emanuel/Desktop/programming/llamacloud-demo/.venv/lib/python3.12/site-packages (from llama-index-core<0.14,>=0.13.0->llama-index-indices-managed-llama-cloud) (8.5.0)\n",
      "Requirement already satisfied: tiktoken>=0.7.0 in /Users/emanuel/Desktop/programming/llamacloud-demo/.venv/lib/python3.12/site-packages (from llama-index-core<0.14,>=0.13.0->llama-index-indices-managed-llama-cloud) (0.7.0)\n",
      "Requirement already satisfied: tqdm<5,>=4.66.1 in /Users/emanuel/Desktop/programming/llamacloud-demo/.venv/lib/python3.12/site-packages (from llama-index-core<0.14,>=0.13.0->llama-index-indices-managed-llama-cloud) (4.66.5)\n",
      "Requirement already satisfied: typing-extensions>=4.5.0 in /Users/emanuel/Desktop/programming/llamacloud-demo/.venv/lib/python3.12/site-packages (from llama-index-core<0.14,>=0.13.0->llama-index-indices-managed-llama-cloud) (4.12.2)\n",
      "Requirement already satisfied: typing-inspect>=0.8.0 in /Users/emanuel/Desktop/programming/llamacloud-demo/.venv/lib/python3.12/site-packages (from llama-index-core<0.14,>=0.13.0->llama-index-indices-managed-llama-cloud) (0.9.0)\n",
      "Requirement already satisfied: aiohappyeyeballs>=2.3.0 in /Users/emanuel/Desktop/programming/llamacloud-demo/.venv/lib/python3.12/site-packages (from aiohttp<4,>=3.8.6->llama-index-core<0.14,>=0.13.0->llama-index-indices-managed-llama-cloud) (2.4.0)\n",
      "Requirement already satisfied: aiosignal>=1.1.2 in /Users/emanuel/Desktop/programming/llamacloud-demo/.venv/lib/python3.12/site-packages (from aiohttp<4,>=3.8.6->llama-index-core<0.14,>=0.13.0->llama-index-indices-managed-llama-cloud) (1.3.1)\n",
      "Requirement already satisfied: attrs>=17.3.0 in /Users/emanuel/Desktop/programming/llamacloud-demo/.venv/lib/python3.12/site-packages (from aiohttp<4,>=3.8.6->llama-index-core<0.14,>=0.13.0->llama-index-indices-managed-llama-cloud) (24.2.0)\n",
      "Requirement already satisfied: frozenlist>=1.1.1 in /Users/emanuel/Desktop/programming/llamacloud-demo/.venv/lib/python3.12/site-packages (from aiohttp<4,>=3.8.6->llama-index-core<0.14,>=0.13.0->llama-index-indices-managed-llama-cloud) (1.4.1)\n",
      "Requirement already satisfied: multidict<7.0,>=4.5 in /Users/emanuel/Desktop/programming/llamacloud-demo/.venv/lib/python3.12/site-packages (from aiohttp<4,>=3.8.6->llama-index-core<0.14,>=0.13.0->llama-index-indices-managed-llama-cloud) (6.0.5)\n",
      "Requirement already satisfied: yarl<2.0,>=1.0 in /Users/emanuel/Desktop/programming/llamacloud-demo/.venv/lib/python3.12/site-packages (from aiohttp<4,>=3.8.6->llama-index-core<0.14,>=0.13.0->llama-index-indices-managed-llama-cloud) (1.9.8)\n",
      "Requirement already satisfied: griffe in /Users/emanuel/Desktop/programming/llamacloud-demo/.venv/lib/python3.12/site-packages (from banks<3,>=2.2.0->llama-index-core<0.14,>=0.13.0->llama-index-indices-managed-llama-cloud) (1.7.3)\n",
      "Requirement already satisfied: jinja2 in /Users/emanuel/Desktop/programming/llamacloud-demo/.venv/lib/python3.12/site-packages (from banks<3,>=2.2.0->llama-index-core<0.14,>=0.13.0->llama-index-indices-managed-llama-cloud) (3.1.4)\n",
      "Requirement already satisfied: anyio in /Users/emanuel/Desktop/programming/llamacloud-demo/.venv/lib/python3.12/site-packages (from httpx>=0.20.0->llama-cloud==0.1.35->llama-index-indices-managed-llama-cloud) (4.4.0)\n",
      "Requirement already satisfied: httpcore==1.* in /Users/emanuel/Desktop/programming/llamacloud-demo/.venv/lib/python3.12/site-packages (from httpx>=0.20.0->llama-cloud==0.1.35->llama-index-indices-managed-llama-cloud) (1.0.5)\n",
      "Requirement already satisfied: idna in /Users/emanuel/Desktop/programming/llamacloud-demo/.venv/lib/python3.12/site-packages (from httpx>=0.20.0->llama-cloud==0.1.35->llama-index-indices-managed-llama-cloud) (3.8)\n",
      "Requirement already satisfied: sniffio in /Users/emanuel/Desktop/programming/llamacloud-demo/.venv/lib/python3.12/site-packages (from httpx>=0.20.0->llama-cloud==0.1.35->llama-index-indices-managed-llama-cloud) (1.3.1)\n",
      "Requirement already satisfied: h11<0.15,>=0.13 in /Users/emanuel/Desktop/programming/llamacloud-demo/.venv/lib/python3.12/site-packages (from httpcore==1.*->httpx>=0.20.0->llama-cloud==0.1.35->llama-index-indices-managed-llama-cloud) (0.14.0)\n",
      "Requirement already satisfied: llama-index-instrumentation>=0.1.0 in /Users/emanuel/Desktop/programming/llamacloud-demo/.venv/lib/python3.12/site-packages (from llama-index-workflows<2,>=1.0.1->llama-index-core<0.14,>=0.13.0->llama-index-indices-managed-llama-cloud) (0.4.0)\n",
      "Requirement already satisfied: click in /Users/emanuel/Desktop/programming/llamacloud-demo/.venv/lib/python3.12/site-packages (from nltk>3.8.1->llama-index-core<0.14,>=0.13.0->llama-index-indices-managed-llama-cloud) (8.1.7)\n",
      "Requirement already satisfied: joblib in /Users/emanuel/Desktop/programming/llamacloud-demo/.venv/lib/python3.12/site-packages (from nltk>3.8.1->llama-index-core<0.14,>=0.13.0->llama-index-indices-managed-llama-cloud) (1.4.2)\n",
      "Requirement already satisfied: regex>=2021.8.3 in /Users/emanuel/Desktop/programming/llamacloud-demo/.venv/lib/python3.12/site-packages (from nltk>3.8.1->llama-index-core<0.14,>=0.13.0->llama-index-indices-managed-llama-cloud) (2024.7.24)\n",
      "Requirement already satisfied: annotated-types>=0.6.0 in /Users/emanuel/Desktop/programming/llamacloud-demo/.venv/lib/python3.12/site-packages (from pydantic>=1.10->llama-cloud==0.1.35->llama-index-indices-managed-llama-cloud) (0.7.0)\n",
      "Requirement already satisfied: pydantic-core==2.33.2 in /Users/emanuel/Desktop/programming/llamacloud-demo/.venv/lib/python3.12/site-packages (from pydantic>=1.10->llama-cloud==0.1.35->llama-index-indices-managed-llama-cloud) (2.33.2)\n",
      "Requirement already satisfied: typing-inspection>=0.4.0 in /Users/emanuel/Desktop/programming/llamacloud-demo/.venv/lib/python3.12/site-packages (from pydantic>=1.10->llama-cloud==0.1.35->llama-index-indices-managed-llama-cloud) (0.4.1)\n",
      "Requirement already satisfied: charset-normalizer<4,>=2 in /Users/emanuel/Desktop/programming/llamacloud-demo/.venv/lib/python3.12/site-packages (from requests>=2.31.0->llama-index-core<0.14,>=0.13.0->llama-index-indices-managed-llama-cloud) (3.3.2)\n",
      "Requirement already satisfied: urllib3<3,>=1.21.1 in /Users/emanuel/Desktop/programming/llamacloud-demo/.venv/lib/python3.12/site-packages (from requests>=2.31.0->llama-index-core<0.14,>=0.13.0->llama-index-indices-managed-llama-cloud) (2.2.2)\n",
      "Requirement already satisfied: greenlet!=0.4.17 in /Users/emanuel/Desktop/programming/llamacloud-demo/.venv/lib/python3.12/site-packages (from sqlalchemy[asyncio]>=1.4.49->llama-index-core<0.14,>=0.13.0->llama-index-indices-managed-llama-cloud) (3.0.3)\n",
      "Requirement already satisfied: mypy-extensions>=0.3.0 in /Users/emanuel/Desktop/programming/llamacloud-demo/.venv/lib/python3.12/site-packages (from typing-inspect>=0.8.0->llama-index-core<0.14,>=0.13.0->llama-index-indices-managed-llama-cloud) (1.0.0)\n",
      "Requirement already satisfied: marshmallow<4.0.0,>=3.18.0 in /Users/emanuel/Desktop/programming/llamacloud-demo/.venv/lib/python3.12/site-packages (from dataclasses-json->llama-index-core<0.14,>=0.13.0->llama-index-indices-managed-llama-cloud) (3.22.0)\n",
      "Requirement already satisfied: packaging>=17.0 in /Users/emanuel/Desktop/programming/llamacloud-demo/.venv/lib/python3.12/site-packages (from marshmallow<4.0.0,>=3.18.0->dataclasses-json->llama-index-core<0.14,>=0.13.0->llama-index-indices-managed-llama-cloud) (24.1)\n",
      "Requirement already satisfied: colorama>=0.4 in /Users/emanuel/Desktop/programming/llamacloud-demo/.venv/lib/python3.12/site-packages (from griffe->banks<3,>=2.2.0->llama-index-core<0.14,>=0.13.0->llama-index-indices-managed-llama-cloud) (0.4.6)\n",
      "Requirement already satisfied: MarkupSafe>=2.0 in /Users/emanuel/Desktop/programming/llamacloud-demo/.venv/lib/python3.12/site-packages (from jinja2->banks<3,>=2.2.0->llama-index-core<0.14,>=0.13.0->llama-index-indices-managed-llama-cloud) (2.1.5)\n",
      "\n",
      "\u001b[1m[\u001b[0m\u001b[34;49mnotice\u001b[0m\u001b[1;39;49m]\u001b[0m\u001b[39;49m A new release of pip is available: \u001b[0m\u001b[31;49m24.0\u001b[0m\u001b[39;49m -> \u001b[0m\u001b[32;49m25.2\u001b[0m\n",
      "\u001b[1m[\u001b[0m\u001b[34;49mnotice\u001b[0m\u001b[1;39;49m]\u001b[0m\u001b[39;49m To update, run: \u001b[0m\u001b[32;49mpip install --upgrade pip\u001b[0m\n",
      "Note: you may need to restart the kernel to use updated packages.\n",
      "Requirement already satisfied: llama-index in /Users/emanuel/Desktop/programming/llamacloud-demo/.venv/lib/python3.12/site-packages (0.13.2)\n",
      "Requirement already satisfied: llama-index-cli<0.6,>=0.5.0 in /Users/emanuel/Desktop/programming/llamacloud-demo/.venv/lib/python3.12/site-packages (from llama-index) (0.5.0)\n",
      "Requirement already satisfied: llama-index-core<0.14,>=0.13.2 in /Users/emanuel/Desktop/programming/llamacloud-demo/.venv/lib/python3.12/site-packages (from llama-index) (0.13.2)\n",
      "Requirement already satisfied: llama-index-embeddings-openai<0.6,>=0.5.0 in /Users/emanuel/Desktop/programming/llamacloud-demo/.venv/lib/python3.12/site-packages (from llama-index) (0.5.0)\n",
      "Requirement already satisfied: llama-index-indices-managed-llama-cloud>=0.4.0 in /Users/emanuel/Desktop/programming/llamacloud-demo/.venv/lib/python3.12/site-packages (from llama-index) (0.9.2)\n",
      "Requirement already satisfied: llama-index-llms-openai<0.6,>=0.5.0 in /Users/emanuel/Desktop/programming/llamacloud-demo/.venv/lib/python3.12/site-packages (from llama-index) (0.5.4)\n",
      "Requirement already satisfied: llama-index-readers-file<0.6,>=0.5.0 in /Users/emanuel/Desktop/programming/llamacloud-demo/.venv/lib/python3.12/site-packages (from llama-index) (0.5.2)\n",
      "Requirement already satisfied: llama-index-readers-llama-parse>=0.4.0 in /Users/emanuel/Desktop/programming/llamacloud-demo/.venv/lib/python3.12/site-packages (from llama-index) (0.5.0)\n",
      "Requirement already satisfied: nltk>3.8.1 in /Users/emanuel/Desktop/programming/llamacloud-demo/.venv/lib/python3.12/site-packages (from llama-index) (3.9.1)\n",
      "Requirement already satisfied: aiohttp<4,>=3.8.6 in /Users/emanuel/Desktop/programming/llamacloud-demo/.venv/lib/python3.12/site-packages (from llama-index-core<0.14,>=0.13.2->llama-index) (3.10.5)\n",
      "Requirement already satisfied: aiosqlite in /Users/emanuel/Desktop/programming/llamacloud-demo/.venv/lib/python3.12/site-packages (from llama-index-core<0.14,>=0.13.2->llama-index) (0.21.0)\n",
      "Requirement already satisfied: banks<3,>=2.2.0 in /Users/emanuel/Desktop/programming/llamacloud-demo/.venv/lib/python3.12/site-packages (from llama-index-core<0.14,>=0.13.2->llama-index) (2.2.0)\n",
      "Requirement already satisfied: dataclasses-json in /Users/emanuel/Desktop/programming/llamacloud-demo/.venv/lib/python3.12/site-packages (from llama-index-core<0.14,>=0.13.2->llama-index) (0.6.7)\n",
      "Requirement already satisfied: deprecated>=1.2.9.3 in /Users/emanuel/Desktop/programming/llamacloud-demo/.venv/lib/python3.12/site-packages (from llama-index-core<0.14,>=0.13.2->llama-index) (1.2.18)\n",
      "Requirement already satisfied: dirtyjson<2,>=1.0.8 in /Users/emanuel/Desktop/programming/llamacloud-demo/.venv/lib/python3.12/site-packages (from llama-index-core<0.14,>=0.13.2->llama-index) (1.0.8)\n",
      "Requirement already satisfied: filetype<2,>=1.2.0 in /Users/emanuel/Desktop/programming/llamacloud-demo/.venv/lib/python3.12/site-packages (from llama-index-core<0.14,>=0.13.2->llama-index) (1.2.0)\n",
      "Requirement already satisfied: fsspec>=2023.5.0 in /Users/emanuel/Desktop/programming/llamacloud-demo/.venv/lib/python3.12/site-packages (from llama-index-core<0.14,>=0.13.2->llama-index) (2024.6.1)\n",
      "Requirement already satisfied: httpx in /Users/emanuel/Desktop/programming/llamacloud-demo/.venv/lib/python3.12/site-packages (from llama-index-core<0.14,>=0.13.2->llama-index) (0.27.2)\n",
      "Requirement already satisfied: llama-index-workflows<2,>=1.0.1 in /Users/emanuel/Desktop/programming/llamacloud-demo/.venv/lib/python3.12/site-packages (from llama-index-core<0.14,>=0.13.2->llama-index) (1.3.0)\n",
      "Requirement already satisfied: nest-asyncio<2,>=1.5.8 in /Users/emanuel/Desktop/programming/llamacloud-demo/.venv/lib/python3.12/site-packages (from llama-index-core<0.14,>=0.13.2->llama-index) (1.6.0)\n",
      "Requirement already satisfied: networkx>=3.0 in /Users/emanuel/Desktop/programming/llamacloud-demo/.venv/lib/python3.12/site-packages (from llama-index-core<0.14,>=0.13.2->llama-index) (3.3)\n",
      "Requirement already satisfied: numpy in /Users/emanuel/Desktop/programming/llamacloud-demo/.venv/lib/python3.12/site-packages (from llama-index-core<0.14,>=0.13.2->llama-index) (1.26.4)\n",
      "Requirement already satisfied: pillow>=9.0.0 in /Users/emanuel/Desktop/programming/llamacloud-demo/.venv/lib/python3.12/site-packages (from llama-index-core<0.14,>=0.13.2->llama-index) (10.4.0)\n",
      "Requirement already satisfied: platformdirs in /Users/emanuel/Desktop/programming/llamacloud-demo/.venv/lib/python3.12/site-packages (from llama-index-core<0.14,>=0.13.2->llama-index) (4.2.2)\n",
      "Requirement already satisfied: pydantic>=2.8.0 in /Users/emanuel/Desktop/programming/llamacloud-demo/.venv/lib/python3.12/site-packages (from llama-index-core<0.14,>=0.13.2->llama-index) (2.11.7)\n",
      "Requirement already satisfied: pyyaml>=6.0.1 in /Users/emanuel/Desktop/programming/llamacloud-demo/.venv/lib/python3.12/site-packages (from llama-index-core<0.14,>=0.13.2->llama-index) (6.0.2)\n",
      "Requirement already satisfied: requests>=2.31.0 in /Users/emanuel/Desktop/programming/llamacloud-demo/.venv/lib/python3.12/site-packages (from llama-index-core<0.14,>=0.13.2->llama-index) (2.32.3)\n",
      "Requirement already satisfied: setuptools>=80.9.0 in /Users/emanuel/Desktop/programming/llamacloud-demo/.venv/lib/python3.12/site-packages (from llama-index-core<0.14,>=0.13.2->llama-index) (80.9.0)\n",
      "Requirement already satisfied: sqlalchemy>=1.4.49 in /Users/emanuel/Desktop/programming/llamacloud-demo/.venv/lib/python3.12/site-packages (from sqlalchemy[asyncio]>=1.4.49->llama-index-core<0.14,>=0.13.2->llama-index) (2.0.33)\n",
      "Requirement already satisfied: tenacity!=8.4.0,<10.0.0,>=8.2.0 in /Users/emanuel/Desktop/programming/llamacloud-demo/.venv/lib/python3.12/site-packages (from llama-index-core<0.14,>=0.13.2->llama-index) (8.5.0)\n",
      "Requirement already satisfied: tiktoken>=0.7.0 in /Users/emanuel/Desktop/programming/llamacloud-demo/.venv/lib/python3.12/site-packages (from llama-index-core<0.14,>=0.13.2->llama-index) (0.7.0)\n",
      "Requirement already satisfied: tqdm<5,>=4.66.1 in /Users/emanuel/Desktop/programming/llamacloud-demo/.venv/lib/python3.12/site-packages (from llama-index-core<0.14,>=0.13.2->llama-index) (4.66.5)\n",
      "Requirement already satisfied: typing-extensions>=4.5.0 in /Users/emanuel/Desktop/programming/llamacloud-demo/.venv/lib/python3.12/site-packages (from llama-index-core<0.14,>=0.13.2->llama-index) (4.12.2)\n",
      "Requirement already satisfied: typing-inspect>=0.8.0 in /Users/emanuel/Desktop/programming/llamacloud-demo/.venv/lib/python3.12/site-packages (from llama-index-core<0.14,>=0.13.2->llama-index) (0.9.0)\n",
      "Requirement already satisfied: wrapt in /Users/emanuel/Desktop/programming/llamacloud-demo/.venv/lib/python3.12/site-packages (from llama-index-core<0.14,>=0.13.2->llama-index) (1.16.0)\n",
      "Requirement already satisfied: openai>=1.1.0 in /Users/emanuel/Desktop/programming/llamacloud-demo/.venv/lib/python3.12/site-packages (from llama-index-embeddings-openai<0.6,>=0.5.0->llama-index) (1.100.0)\n",
      "Requirement already satisfied: llama-cloud==0.1.35 in /Users/emanuel/Desktop/programming/llamacloud-demo/.venv/lib/python3.12/site-packages (from llama-index-indices-managed-llama-cloud>=0.4.0->llama-index) (0.1.35)\n",
      "Requirement already satisfied: certifi>=2024.7.4 in /Users/emanuel/Desktop/programming/llamacloud-demo/.venv/lib/python3.12/site-packages (from llama-cloud==0.1.35->llama-index-indices-managed-llama-cloud>=0.4.0->llama-index) (2024.8.30)\n",
      "Requirement already satisfied: beautifulsoup4<5,>=4.12.3 in /Users/emanuel/Desktop/programming/llamacloud-demo/.venv/lib/python3.12/site-packages (from llama-index-readers-file<0.6,>=0.5.0->llama-index) (4.12.3)\n",
      "Requirement already satisfied: defusedxml>=0.7.1 in /Users/emanuel/Desktop/programming/llamacloud-demo/.venv/lib/python3.12/site-packages (from llama-index-readers-file<0.6,>=0.5.0->llama-index) (0.7.1)\n",
      "Requirement already satisfied: pandas<2.3.0 in /Users/emanuel/Desktop/programming/llamacloud-demo/.venv/lib/python3.12/site-packages (from llama-index-readers-file<0.6,>=0.5.0->llama-index) (2.2.2)\n",
      "Requirement already satisfied: pypdf<7,>=5.1.0 in /Users/emanuel/Desktop/programming/llamacloud-demo/.venv/lib/python3.12/site-packages (from llama-index-readers-file<0.6,>=0.5.0->llama-index) (6.0.0)\n",
      "Requirement already satisfied: striprtf<0.0.27,>=0.0.26 in /Users/emanuel/Desktop/programming/llamacloud-demo/.venv/lib/python3.12/site-packages (from llama-index-readers-file<0.6,>=0.5.0->llama-index) (0.0.26)\n",
      "Requirement already satisfied: llama-parse>=0.5.0 in /Users/emanuel/Desktop/programming/llamacloud-demo/.venv/lib/python3.12/site-packages (from llama-index-readers-llama-parse>=0.4.0->llama-index) (0.5.1)\n",
      "Requirement already satisfied: click in /Users/emanuel/Desktop/programming/llamacloud-demo/.venv/lib/python3.12/site-packages (from nltk>3.8.1->llama-index) (8.1.7)\n",
      "Requirement already satisfied: joblib in /Users/emanuel/Desktop/programming/llamacloud-demo/.venv/lib/python3.12/site-packages (from nltk>3.8.1->llama-index) (1.4.2)\n",
      "Requirement already satisfied: regex>=2021.8.3 in /Users/emanuel/Desktop/programming/llamacloud-demo/.venv/lib/python3.12/site-packages (from nltk>3.8.1->llama-index) (2024.7.24)\n",
      "Requirement already satisfied: aiohappyeyeballs>=2.3.0 in /Users/emanuel/Desktop/programming/llamacloud-demo/.venv/lib/python3.12/site-packages (from aiohttp<4,>=3.8.6->llama-index-core<0.14,>=0.13.2->llama-index) (2.4.0)\n",
      "Requirement already satisfied: aiosignal>=1.1.2 in /Users/emanuel/Desktop/programming/llamacloud-demo/.venv/lib/python3.12/site-packages (from aiohttp<4,>=3.8.6->llama-index-core<0.14,>=0.13.2->llama-index) (1.3.1)\n",
      "Requirement already satisfied: attrs>=17.3.0 in /Users/emanuel/Desktop/programming/llamacloud-demo/.venv/lib/python3.12/site-packages (from aiohttp<4,>=3.8.6->llama-index-core<0.14,>=0.13.2->llama-index) (24.2.0)\n",
      "Requirement already satisfied: frozenlist>=1.1.1 in /Users/emanuel/Desktop/programming/llamacloud-demo/.venv/lib/python3.12/site-packages (from aiohttp<4,>=3.8.6->llama-index-core<0.14,>=0.13.2->llama-index) (1.4.1)\n",
      "Requirement already satisfied: multidict<7.0,>=4.5 in /Users/emanuel/Desktop/programming/llamacloud-demo/.venv/lib/python3.12/site-packages (from aiohttp<4,>=3.8.6->llama-index-core<0.14,>=0.13.2->llama-index) (6.0.5)\n",
      "Requirement already satisfied: yarl<2.0,>=1.0 in /Users/emanuel/Desktop/programming/llamacloud-demo/.venv/lib/python3.12/site-packages (from aiohttp<4,>=3.8.6->llama-index-core<0.14,>=0.13.2->llama-index) (1.9.8)\n",
      "Requirement already satisfied: griffe in /Users/emanuel/Desktop/programming/llamacloud-demo/.venv/lib/python3.12/site-packages (from banks<3,>=2.2.0->llama-index-core<0.14,>=0.13.2->llama-index) (1.7.3)\n",
      "Requirement already satisfied: jinja2 in /Users/emanuel/Desktop/programming/llamacloud-demo/.venv/lib/python3.12/site-packages (from banks<3,>=2.2.0->llama-index-core<0.14,>=0.13.2->llama-index) (3.1.4)\n",
      "Requirement already satisfied: soupsieve>1.2 in /Users/emanuel/Desktop/programming/llamacloud-demo/.venv/lib/python3.12/site-packages (from beautifulsoup4<5,>=4.12.3->llama-index-readers-file<0.6,>=0.5.0->llama-index) (2.6)\n",
      "Requirement already satisfied: anyio in /Users/emanuel/Desktop/programming/llamacloud-demo/.venv/lib/python3.12/site-packages (from httpx->llama-index-core<0.14,>=0.13.2->llama-index) (4.4.0)\n",
      "Requirement already satisfied: httpcore==1.* in /Users/emanuel/Desktop/programming/llamacloud-demo/.venv/lib/python3.12/site-packages (from httpx->llama-index-core<0.14,>=0.13.2->llama-index) (1.0.5)\n",
      "Requirement already satisfied: idna in /Users/emanuel/Desktop/programming/llamacloud-demo/.venv/lib/python3.12/site-packages (from httpx->llama-index-core<0.14,>=0.13.2->llama-index) (3.8)\n",
      "Requirement already satisfied: sniffio in /Users/emanuel/Desktop/programming/llamacloud-demo/.venv/lib/python3.12/site-packages (from httpx->llama-index-core<0.14,>=0.13.2->llama-index) (1.3.1)\n",
      "Requirement already satisfied: h11<0.15,>=0.13 in /Users/emanuel/Desktop/programming/llamacloud-demo/.venv/lib/python3.12/site-packages (from httpcore==1.*->httpx->llama-index-core<0.14,>=0.13.2->llama-index) (0.14.0)\n",
      "Requirement already satisfied: llama-index-instrumentation>=0.1.0 in /Users/emanuel/Desktop/programming/llamacloud-demo/.venv/lib/python3.12/site-packages (from llama-index-workflows<2,>=1.0.1->llama-index-core<0.14,>=0.13.2->llama-index) (0.4.0)\n",
      "Requirement already satisfied: distro<2,>=1.7.0 in /Users/emanuel/Desktop/programming/llamacloud-demo/.venv/lib/python3.12/site-packages (from openai>=1.1.0->llama-index-embeddings-openai<0.6,>=0.5.0->llama-index) (1.9.0)\n",
      "Requirement already satisfied: jiter<1,>=0.4.0 in /Users/emanuel/Desktop/programming/llamacloud-demo/.venv/lib/python3.12/site-packages (from openai>=1.1.0->llama-index-embeddings-openai<0.6,>=0.5.0->llama-index) (0.5.0)\n",
      "Requirement already satisfied: python-dateutil>=2.8.2 in /Users/emanuel/Desktop/programming/llamacloud-demo/.venv/lib/python3.12/site-packages (from pandas<2.3.0->llama-index-readers-file<0.6,>=0.5.0->llama-index) (2.9.0.post0)\n",
      "Requirement already satisfied: pytz>=2020.1 in /Users/emanuel/Desktop/programming/llamacloud-demo/.venv/lib/python3.12/site-packages (from pandas<2.3.0->llama-index-readers-file<0.6,>=0.5.0->llama-index) (2024.1)\n",
      "Requirement already satisfied: tzdata>=2022.7 in /Users/emanuel/Desktop/programming/llamacloud-demo/.venv/lib/python3.12/site-packages (from pandas<2.3.0->llama-index-readers-file<0.6,>=0.5.0->llama-index) (2024.1)\n",
      "Requirement already satisfied: annotated-types>=0.6.0 in /Users/emanuel/Desktop/programming/llamacloud-demo/.venv/lib/python3.12/site-packages (from pydantic>=2.8.0->llama-index-core<0.14,>=0.13.2->llama-index) (0.7.0)\n",
      "Requirement already satisfied: pydantic-core==2.33.2 in /Users/emanuel/Desktop/programming/llamacloud-demo/.venv/lib/python3.12/site-packages (from pydantic>=2.8.0->llama-index-core<0.14,>=0.13.2->llama-index) (2.33.2)\n",
      "Requirement already satisfied: typing-inspection>=0.4.0 in /Users/emanuel/Desktop/programming/llamacloud-demo/.venv/lib/python3.12/site-packages (from pydantic>=2.8.0->llama-index-core<0.14,>=0.13.2->llama-index) (0.4.1)\n",
      "Requirement already satisfied: charset-normalizer<4,>=2 in /Users/emanuel/Desktop/programming/llamacloud-demo/.venv/lib/python3.12/site-packages (from requests>=2.31.0->llama-index-core<0.14,>=0.13.2->llama-index) (3.3.2)\n",
      "Requirement already satisfied: urllib3<3,>=1.21.1 in /Users/emanuel/Desktop/programming/llamacloud-demo/.venv/lib/python3.12/site-packages (from requests>=2.31.0->llama-index-core<0.14,>=0.13.2->llama-index) (2.2.2)\n",
      "Requirement already satisfied: greenlet!=0.4.17 in /Users/emanuel/Desktop/programming/llamacloud-demo/.venv/lib/python3.12/site-packages (from sqlalchemy[asyncio]>=1.4.49->llama-index-core<0.14,>=0.13.2->llama-index) (3.0.3)\n",
      "Requirement already satisfied: mypy-extensions>=0.3.0 in /Users/emanuel/Desktop/programming/llamacloud-demo/.venv/lib/python3.12/site-packages (from typing-inspect>=0.8.0->llama-index-core<0.14,>=0.13.2->llama-index) (1.0.0)\n",
      "Requirement already satisfied: marshmallow<4.0.0,>=3.18.0 in /Users/emanuel/Desktop/programming/llamacloud-demo/.venv/lib/python3.12/site-packages (from dataclasses-json->llama-index-core<0.14,>=0.13.2->llama-index) (3.22.0)\n",
      "Requirement already satisfied: packaging>=17.0 in /Users/emanuel/Desktop/programming/llamacloud-demo/.venv/lib/python3.12/site-packages (from marshmallow<4.0.0,>=3.18.0->dataclasses-json->llama-index-core<0.14,>=0.13.2->llama-index) (24.1)\n",
      "Requirement already satisfied: six>=1.5 in /Users/emanuel/Desktop/programming/llamacloud-demo/.venv/lib/python3.12/site-packages (from python-dateutil>=2.8.2->pandas<2.3.0->llama-index-readers-file<0.6,>=0.5.0->llama-index) (1.16.0)\n",
      "Requirement already satisfied: colorama>=0.4 in /Users/emanuel/Desktop/programming/llamacloud-demo/.venv/lib/python3.12/site-packages (from griffe->banks<3,>=2.2.0->llama-index-core<0.14,>=0.13.2->llama-index) (0.4.6)\n",
      "Requirement already satisfied: MarkupSafe>=2.0 in /Users/emanuel/Desktop/programming/llamacloud-demo/.venv/lib/python3.12/site-packages (from jinja2->banks<3,>=2.2.0->llama-index-core<0.14,>=0.13.2->llama-index) (2.1.5)\n",
      "\n",
      "\u001b[1m[\u001b[0m\u001b[34;49mnotice\u001b[0m\u001b[1;39;49m]\u001b[0m\u001b[39;49m A new release of pip is available: \u001b[0m\u001b[31;49m24.0\u001b[0m\u001b[39;49m -> \u001b[0m\u001b[32;49m25.2\u001b[0m\n",
      "\u001b[1m[\u001b[0m\u001b[34;49mnotice\u001b[0m\u001b[1;39;49m]\u001b[0m\u001b[39;49m To update, run: \u001b[0m\u001b[32;49mpip install --upgrade pip\u001b[0m\n",
      "Note: you may need to restart the kernel to use updated packages.\n",
      "Requirement already satisfied: llama-index-core in /Users/emanuel/Desktop/programming/llamacloud-demo/.venv/lib/python3.12/site-packages (0.13.2)\n",
      "Requirement already satisfied: aiohttp<4,>=3.8.6 in /Users/emanuel/Desktop/programming/llamacloud-demo/.venv/lib/python3.12/site-packages (from llama-index-core) (3.10.5)\n",
      "Requirement already satisfied: aiosqlite in /Users/emanuel/Desktop/programming/llamacloud-demo/.venv/lib/python3.12/site-packages (from llama-index-core) (0.21.0)\n",
      "Requirement already satisfied: banks<3,>=2.2.0 in /Users/emanuel/Desktop/programming/llamacloud-demo/.venv/lib/python3.12/site-packages (from llama-index-core) (2.2.0)\n",
      "Requirement already satisfied: dataclasses-json in /Users/emanuel/Desktop/programming/llamacloud-demo/.venv/lib/python3.12/site-packages (from llama-index-core) (0.6.7)\n",
      "Requirement already satisfied: deprecated>=1.2.9.3 in /Users/emanuel/Desktop/programming/llamacloud-demo/.venv/lib/python3.12/site-packages (from llama-index-core) (1.2.18)\n",
      "Requirement already satisfied: dirtyjson<2,>=1.0.8 in /Users/emanuel/Desktop/programming/llamacloud-demo/.venv/lib/python3.12/site-packages (from llama-index-core) (1.0.8)\n",
      "Requirement already satisfied: filetype<2,>=1.2.0 in /Users/emanuel/Desktop/programming/llamacloud-demo/.venv/lib/python3.12/site-packages (from llama-index-core) (1.2.0)\n",
      "Requirement already satisfied: fsspec>=2023.5.0 in /Users/emanuel/Desktop/programming/llamacloud-demo/.venv/lib/python3.12/site-packages (from llama-index-core) (2024.6.1)\n",
      "Requirement already satisfied: httpx in /Users/emanuel/Desktop/programming/llamacloud-demo/.venv/lib/python3.12/site-packages (from llama-index-core) (0.27.2)\n",
      "Requirement already satisfied: llama-index-workflows<2,>=1.0.1 in /Users/emanuel/Desktop/programming/llamacloud-demo/.venv/lib/python3.12/site-packages (from llama-index-core) (1.3.0)\n",
      "Requirement already satisfied: nest-asyncio<2,>=1.5.8 in /Users/emanuel/Desktop/programming/llamacloud-demo/.venv/lib/python3.12/site-packages (from llama-index-core) (1.6.0)\n",
      "Requirement already satisfied: networkx>=3.0 in /Users/emanuel/Desktop/programming/llamacloud-demo/.venv/lib/python3.12/site-packages (from llama-index-core) (3.3)\n",
      "Requirement already satisfied: nltk>3.8.1 in /Users/emanuel/Desktop/programming/llamacloud-demo/.venv/lib/python3.12/site-packages (from llama-index-core) (3.9.1)\n",
      "Requirement already satisfied: numpy in /Users/emanuel/Desktop/programming/llamacloud-demo/.venv/lib/python3.12/site-packages (from llama-index-core) (1.26.4)\n",
      "Requirement already satisfied: pillow>=9.0.0 in /Users/emanuel/Desktop/programming/llamacloud-demo/.venv/lib/python3.12/site-packages (from llama-index-core) (10.4.0)\n",
      "Requirement already satisfied: platformdirs in /Users/emanuel/Desktop/programming/llamacloud-demo/.venv/lib/python3.12/site-packages (from llama-index-core) (4.2.2)\n",
      "Requirement already satisfied: pydantic>=2.8.0 in /Users/emanuel/Desktop/programming/llamacloud-demo/.venv/lib/python3.12/site-packages (from llama-index-core) (2.11.7)\n",
      "Requirement already satisfied: pyyaml>=6.0.1 in /Users/emanuel/Desktop/programming/llamacloud-demo/.venv/lib/python3.12/site-packages (from llama-index-core) (6.0.2)\n",
      "Requirement already satisfied: requests>=2.31.0 in /Users/emanuel/Desktop/programming/llamacloud-demo/.venv/lib/python3.12/site-packages (from llama-index-core) (2.32.3)\n",
      "Requirement already satisfied: setuptools>=80.9.0 in /Users/emanuel/Desktop/programming/llamacloud-demo/.venv/lib/python3.12/site-packages (from llama-index-core) (80.9.0)\n",
      "Requirement already satisfied: sqlalchemy>=1.4.49 in /Users/emanuel/Desktop/programming/llamacloud-demo/.venv/lib/python3.12/site-packages (from sqlalchemy[asyncio]>=1.4.49->llama-index-core) (2.0.33)\n",
      "Requirement already satisfied: tenacity!=8.4.0,<10.0.0,>=8.2.0 in /Users/emanuel/Desktop/programming/llamacloud-demo/.venv/lib/python3.12/site-packages (from llama-index-core) (8.5.0)\n",
      "Requirement already satisfied: tiktoken>=0.7.0 in /Users/emanuel/Desktop/programming/llamacloud-demo/.venv/lib/python3.12/site-packages (from llama-index-core) (0.7.0)\n",
      "Requirement already satisfied: tqdm<5,>=4.66.1 in /Users/emanuel/Desktop/programming/llamacloud-demo/.venv/lib/python3.12/site-packages (from llama-index-core) (4.66.5)\n",
      "Requirement already satisfied: typing-extensions>=4.5.0 in /Users/emanuel/Desktop/programming/llamacloud-demo/.venv/lib/python3.12/site-packages (from llama-index-core) (4.12.2)\n",
      "Requirement already satisfied: typing-inspect>=0.8.0 in /Users/emanuel/Desktop/programming/llamacloud-demo/.venv/lib/python3.12/site-packages (from llama-index-core) (0.9.0)\n",
      "Requirement already satisfied: wrapt in /Users/emanuel/Desktop/programming/llamacloud-demo/.venv/lib/python3.12/site-packages (from llama-index-core) (1.16.0)\n",
      "Requirement already satisfied: aiohappyeyeballs>=2.3.0 in /Users/emanuel/Desktop/programming/llamacloud-demo/.venv/lib/python3.12/site-packages (from aiohttp<4,>=3.8.6->llama-index-core) (2.4.0)\n",
      "Requirement already satisfied: aiosignal>=1.1.2 in /Users/emanuel/Desktop/programming/llamacloud-demo/.venv/lib/python3.12/site-packages (from aiohttp<4,>=3.8.6->llama-index-core) (1.3.1)\n",
      "Requirement already satisfied: attrs>=17.3.0 in /Users/emanuel/Desktop/programming/llamacloud-demo/.venv/lib/python3.12/site-packages (from aiohttp<4,>=3.8.6->llama-index-core) (24.2.0)\n",
      "Requirement already satisfied: frozenlist>=1.1.1 in /Users/emanuel/Desktop/programming/llamacloud-demo/.venv/lib/python3.12/site-packages (from aiohttp<4,>=3.8.6->llama-index-core) (1.4.1)\n",
      "Requirement already satisfied: multidict<7.0,>=4.5 in /Users/emanuel/Desktop/programming/llamacloud-demo/.venv/lib/python3.12/site-packages (from aiohttp<4,>=3.8.6->llama-index-core) (6.0.5)\n",
      "Requirement already satisfied: yarl<2.0,>=1.0 in /Users/emanuel/Desktop/programming/llamacloud-demo/.venv/lib/python3.12/site-packages (from aiohttp<4,>=3.8.6->llama-index-core) (1.9.8)\n",
      "Requirement already satisfied: griffe in /Users/emanuel/Desktop/programming/llamacloud-demo/.venv/lib/python3.12/site-packages (from banks<3,>=2.2.0->llama-index-core) (1.7.3)\n",
      "Requirement already satisfied: jinja2 in /Users/emanuel/Desktop/programming/llamacloud-demo/.venv/lib/python3.12/site-packages (from banks<3,>=2.2.0->llama-index-core) (3.1.4)\n",
      "Requirement already satisfied: llama-index-instrumentation>=0.1.0 in /Users/emanuel/Desktop/programming/llamacloud-demo/.venv/lib/python3.12/site-packages (from llama-index-workflows<2,>=1.0.1->llama-index-core) (0.4.0)\n",
      "Requirement already satisfied: click in /Users/emanuel/Desktop/programming/llamacloud-demo/.venv/lib/python3.12/site-packages (from nltk>3.8.1->llama-index-core) (8.1.7)\n",
      "Requirement already satisfied: joblib in /Users/emanuel/Desktop/programming/llamacloud-demo/.venv/lib/python3.12/site-packages (from nltk>3.8.1->llama-index-core) (1.4.2)\n",
      "Requirement already satisfied: regex>=2021.8.3 in /Users/emanuel/Desktop/programming/llamacloud-demo/.venv/lib/python3.12/site-packages (from nltk>3.8.1->llama-index-core) (2024.7.24)\n",
      "Requirement already satisfied: annotated-types>=0.6.0 in /Users/emanuel/Desktop/programming/llamacloud-demo/.venv/lib/python3.12/site-packages (from pydantic>=2.8.0->llama-index-core) (0.7.0)\n",
      "Requirement already satisfied: pydantic-core==2.33.2 in /Users/emanuel/Desktop/programming/llamacloud-demo/.venv/lib/python3.12/site-packages (from pydantic>=2.8.0->llama-index-core) (2.33.2)\n",
      "Requirement already satisfied: typing-inspection>=0.4.0 in /Users/emanuel/Desktop/programming/llamacloud-demo/.venv/lib/python3.12/site-packages (from pydantic>=2.8.0->llama-index-core) (0.4.1)\n",
      "Requirement already satisfied: charset-normalizer<4,>=2 in /Users/emanuel/Desktop/programming/llamacloud-demo/.venv/lib/python3.12/site-packages (from requests>=2.31.0->llama-index-core) (3.3.2)\n",
      "Requirement already satisfied: idna<4,>=2.5 in /Users/emanuel/Desktop/programming/llamacloud-demo/.venv/lib/python3.12/site-packages (from requests>=2.31.0->llama-index-core) (3.8)\n",
      "Requirement already satisfied: urllib3<3,>=1.21.1 in /Users/emanuel/Desktop/programming/llamacloud-demo/.venv/lib/python3.12/site-packages (from requests>=2.31.0->llama-index-core) (2.2.2)\n",
      "Requirement already satisfied: certifi>=2017.4.17 in /Users/emanuel/Desktop/programming/llamacloud-demo/.venv/lib/python3.12/site-packages (from requests>=2.31.0->llama-index-core) (2024.8.30)\n",
      "Requirement already satisfied: greenlet!=0.4.17 in /Users/emanuel/Desktop/programming/llamacloud-demo/.venv/lib/python3.12/site-packages (from sqlalchemy[asyncio]>=1.4.49->llama-index-core) (3.0.3)\n",
      "Requirement already satisfied: mypy-extensions>=0.3.0 in /Users/emanuel/Desktop/programming/llamacloud-demo/.venv/lib/python3.12/site-packages (from typing-inspect>=0.8.0->llama-index-core) (1.0.0)\n",
      "Requirement already satisfied: marshmallow<4.0.0,>=3.18.0 in /Users/emanuel/Desktop/programming/llamacloud-demo/.venv/lib/python3.12/site-packages (from dataclasses-json->llama-index-core) (3.22.0)\n",
      "Requirement already satisfied: anyio in /Users/emanuel/Desktop/programming/llamacloud-demo/.venv/lib/python3.12/site-packages (from httpx->llama-index-core) (4.4.0)\n",
      "Requirement already satisfied: httpcore==1.* in /Users/emanuel/Desktop/programming/llamacloud-demo/.venv/lib/python3.12/site-packages (from httpx->llama-index-core) (1.0.5)\n",
      "Requirement already satisfied: sniffio in /Users/emanuel/Desktop/programming/llamacloud-demo/.venv/lib/python3.12/site-packages (from httpx->llama-index-core) (1.3.1)\n",
      "Requirement already satisfied: h11<0.15,>=0.13 in /Users/emanuel/Desktop/programming/llamacloud-demo/.venv/lib/python3.12/site-packages (from httpcore==1.*->httpx->llama-index-core) (0.14.0)\n",
      "Requirement already satisfied: packaging>=17.0 in /Users/emanuel/Desktop/programming/llamacloud-demo/.venv/lib/python3.12/site-packages (from marshmallow<4.0.0,>=3.18.0->dataclasses-json->llama-index-core) (24.1)\n",
      "Requirement already satisfied: colorama>=0.4 in /Users/emanuel/Desktop/programming/llamacloud-demo/.venv/lib/python3.12/site-packages (from griffe->banks<3,>=2.2.0->llama-index-core) (0.4.6)\n",
      "Requirement already satisfied: MarkupSafe>=2.0 in /Users/emanuel/Desktop/programming/llamacloud-demo/.venv/lib/python3.12/site-packages (from jinja2->banks<3,>=2.2.0->llama-index-core) (2.1.5)\n",
      "\n",
      "\u001b[1m[\u001b[0m\u001b[34;49mnotice\u001b[0m\u001b[1;39;49m]\u001b[0m\u001b[39;49m A new release of pip is available: \u001b[0m\u001b[31;49m24.0\u001b[0m\u001b[39;49m -> \u001b[0m\u001b[32;49m25.2\u001b[0m\n",
      "\u001b[1m[\u001b[0m\u001b[34;49mnotice\u001b[0m\u001b[1;39;49m]\u001b[0m\u001b[39;49m To update, run: \u001b[0m\u001b[32;49mpip install --upgrade pip\u001b[0m\n",
      "Note: you may need to restart the kernel to use updated packages.\n"
     ]
    }
   ],
   "source": [
    "%pip install -U llama-index-indices-managed-llama-cloud\n",
    "%pip install -U llama-index\n",
    "%pip install -U llama-index-core"
   ]
  },
  {
   "cell_type": "code",
   "execution_count": 4,
   "id": "9d47283b-025e-4874-88ed-76245b22f82e",
   "metadata": {},
   "outputs": [],
   "source": [
    "import nest_asyncio\n",
    "nest_asyncio.apply()\n",
    "\n",
    "from IPython.display import Markdown, display"
   ]
  },
  {
   "cell_type": "markdown",
   "id": "eeac7d4c-58fd-42a5-9da9-c258375c61a0",
   "metadata": {},
   "source": [
    "Make sure your OPENAI_API_KEY is set. Otherwise explicitly specify the `api_key` parameter."
   ]
  },
  {
   "cell_type": "code",
   "execution_count": 5,
   "id": "4becf171-6632-42e5-bdec-918a00934696",
   "metadata": {},
   "outputs": [],
   "source": [
    "from llama_index.llms.openai import OpenAI\n",
    "import os\n",
    "\n",
    "os.environ[\"OPENAI_API_KEY\"] = \"<openai_api_key>\"\n",
    "\n",
    "llm = OpenAI(model=\"gpt-4.1\")"
   ]
  },
  {
   "cell_type": "markdown",
   "id": "51dff7d4-07cf-472f-bb35-e231c5874f1b",
   "metadata": {},
   "source": [
    "## Build Two LlamaCloud Indexes\n",
    "\n",
    "Our data sources are the 2021 Lyft and Uber 10K documents.\n",
    "\n",
    "In contrast to the other getting started examples, in this notebook we will build **two** RAG pipelines: one for Uber and one for Lyft. This is for the sake of example; we can plug in both RAG pipelines as tools for the agent to reason over.\n",
    "\n",
    "To create each index, follow the instructions:"
   ]
  },
  {
   "cell_type": "code",
   "execution_count": 24,
   "id": "76db1bd4-6910-4223-b9c2-503688ffdfd8",
   "metadata": {},
   "outputs": [],
   "source": [
    "from llama_cloud import (\n",
    "    LlamaParseParameters,\n",
    ")\n",
    "\n",
    "# Transformation auto config\n",
    "transform_config = {\n",
    "    'mode': 'auto',\n",
    "    'config': {\n",
    "        'chunk_size': 1024, # editable\n",
    "        'chunk_overlap': 20 # editable\n",
    "    }\n",
    "}\n",
    "\n",
    "## LLamaParse Parameters\n",
    "llama_parse_parameters = LlamaParseParameters(\n",
    "    premium_mode=True\n",
    ")"
   ]
  },
  {
   "cell_type": "code",
   "execution_count": 25,
   "id": "3aac2202-5346-4fe5-a0b5-cbac64003fbc",
   "metadata": {},
   "outputs": [],
   "source": [
    "from llama_index.indices.managed.llama_cloud import LlamaCloudIndex\n",
    "\n",
    "# Uber Index\n",
    "index_uber = LlamaCloudIndex.create_index(\n",
    "  name=\"<index_uber>\", \n",
    "  project_name=\"<project_name>\",\n",
    "  api_key=\"<api_key>\",\n",
    "  organization_id=\"<organization_id>\",\n",
    "  transform_config=transform_config,\n",
    "  llama_parse_parameters=llama_parse_parameters\n",
    ")\n",
    "\n",
    "# Lyft index\n",
    "index_lyft = LlamaCloudIndex.create_index(\n",
    "  name=\"<index_lyft>\", \n",
    "  project_name=\"<project_name>\",\n",
    "  api_key=\"<api_key>\",\n",
    "  organization_id=\"<organization_id>\",\n",
    "  transform_config=transform_config,\n",
    "  llama_parse_parameters=llama_parse_parameters\n",
    ")"
   ]
  },
  {
   "cell_type": "code",
   "execution_count": 26,
   "id": "0142447a-8c1a-4706-a392-60cf3b06df80",
   "metadata": {},
   "outputs": [
    {
     "name": "stdout",
     "output_type": "stream",
     "text": [
      "Uploaded file 0db37c97-84c7-444e-a7a4-6e682f557be3 with ID 0db37c97-84c7-444e-a7a4-6e682f557be3\n",
      "Loading file\n",
      "File ingestion finished for 0db37c97-84c7-444e-a7a4-6e682f557be3\n",
      "Done!\n",
      "Syncing pipeline ed985a02-9897-4b4b-a8aa-2516ec959dc2\n",
      "Done!\n",
      "Uploaded file e77ff085-0300-459f-87d5-595b5fb03994 with ID e77ff085-0300-459f-87d5-595b5fb03994\n",
      "Loading file\n",
      "File ingestion finished for e77ff085-0300-459f-87d5-595b5fb03994\n",
      "Done!\n",
      "Syncing pipeline efbb70c5-2d18-4afb-92e1-5ec7edd885c9\n",
      "Done!\n"
     ]
    },
    {
     "data": {
      "text/plain": [
       "'e77ff085-0300-459f-87d5-595b5fb03994'"
      ]
     },
     "execution_count": 26,
     "metadata": {},
     "output_type": "execute_result"
    }
   ],
   "source": [
    "index_uber.upload_file_from_url(\n",
    "    file_name=\"uber_2021.pdf\",\n",
    "    url=\"https://www.dropbox.com/s/te0a2w227v27iag/uber_2021.pdf?dl=1\",\n",
    "    verbose=True\n",
    ")\n",
    "\n",
    "index_lyft.upload_file_from_url(\n",
    "    file_name=\"lyft_2021.pdf\",\n",
    "    url=\"https://www.dropbox.com/s/qctkz6nxhm0y5qe/lyft_2021.pdf?dl=1\",\n",
    "    verbose=True\n",
    ")\n",
    "\n",
    "# You can also use\n",
    "# file_id = index.upload_file(temp_file_path, verbose=True)\n",
    "# assert file_id is not None"
   ]
  },
  {
   "cell_type": "markdown",
   "id": "a747e287-16e0-4ca6-8580-3d2e1a0b6e6c",
   "metadata": {},
   "source": [
    "For each index, get a query engine from the index, which gives us an out-of-the-box RAG pipeline."
   ]
  },
  {
   "cell_type": "code",
   "execution_count": 27,
   "id": "7c352324-8112-43f1-ad97-d02e581bf282",
   "metadata": {},
   "outputs": [],
   "source": [
    "query_engine_uber = index_uber.as_query_engine(llm=llm)\n",
    "query_engine_lyft = index_lyft.as_query_engine(llm=llm)"
   ]
  },
  {
   "cell_type": "markdown",
   "id": "cabfdf01-8d63-43ff-b06e-a3059ede2ddf",
   "metadata": {},
   "source": [
    "## OpenAI Agent over LlamaCloud RAG Pipelines\n",
    "\n",
    "We convert both query engines to tools and pass it to a function calling OpenAI agent."
   ]
  },
  {
   "cell_type": "code",
   "execution_count": 28,
   "id": "48c0cf98-3f10-4599-8437-d88dc89cefad",
   "metadata": {},
   "outputs": [],
   "source": [
    "from llama_index.core.tools import QueryEngineTool, ToolMetadata\n",
    "\n",
    "tool_uber = QueryEngineTool(\n",
    "    query_engine=query_engine_uber,\n",
    "    metadata=ToolMetadata(\n",
    "        name=\"uber_10k\",\n",
    "        description=(\n",
    "            \"Provides information about Uber financials for year 2021. \"\n",
    "            \"Use a detailed plain text question as input to the tool.\"\n",
    "        ),\n",
    "    ),\n",
    ")\n",
    "tool_lyft = QueryEngineTool(\n",
    "    query_engine=query_engine_lyft,\n",
    "    metadata=ToolMetadata(\n",
    "        name=\"lyft_10k\",\n",
    "        description=(\n",
    "            \"Provides information about Lyft financials for year 2021. \"\n",
    "            \"Use a detailed plain text question as input to the tool.\"\n",
    "        ),\n",
    "    ),\n",
    ")"
   ]
  },
  {
   "cell_type": "code",
   "execution_count": 29,
   "id": "ebfdaf80-e5e1-4c60-b556-20558da3d5e3",
   "metadata": {},
   "outputs": [],
   "source": [
    "from llama_index.core.agent.workflow import FunctionAgent\n",
    "\n",
    "agent = FunctionAgent(\n",
    "    tools=[tool_uber, tool_lyft],\n",
    "    llm=llm,\n",
    "    system_prompt=\"You are a helpful assistant that can answer questions about Uber and Lyft.\",\n",
    "    verbose=True,\n",
    ")"
   ]
  },
  {
   "cell_type": "code",
   "execution_count": 30,
   "id": "58c53f2a-0a3f-4abe-b8b6-97a974ec7546",
   "metadata": {},
   "outputs": [
    {
     "name": "stdout",
     "output_type": "stream",
     "text": [
      "Running step init_run\n",
      "Step init_run produced event AgentInput\n",
      "Running step setup_agent\n",
      "Step setup_agent produced event AgentSetup\n",
      "Running step run_agent_step\n",
      "Step run_agent_step produced event AgentOutput\n",
      "Running step parse_agent_output\n",
      "Step parse_agent_output produced no event\n",
      "Running step call_tool\n",
      "Running step call_tool\n",
      "Step call_tool produced event ToolCallResult\n",
      "Running step aggregate_tool_results\n",
      "Step aggregate_tool_results produced no event\n",
      "Step call_tool produced event ToolCallResult\n",
      "Running step aggregate_tool_results\n",
      "Step aggregate_tool_results produced event AgentInput\n",
      "Running step setup_agent\n",
      "Step setup_agent produced event AgentSetup\n",
      "Running step run_agent_step\n",
      "Step run_agent_step produced event AgentOutput\n",
      "Running step parse_agent_output\n",
      "Step parse_agent_output produced event StopEvent\n"
     ]
    }
   ],
   "source": [
    "response = await agent.run(user_msg=\"Tell me both the tailwinds for Uber and Lyft?\")"
   ]
  },
  {
   "cell_type": "code",
   "execution_count": 31,
   "id": "cb682e18-2538-4da7-9bed-5c585d971735",
   "metadata": {},
   "outputs": [
    {
     "data": {
      "text/markdown": [
       "Here are the main tailwinds for both Uber and Lyft in 2021:\n",
       "\n",
       "Uber Tailwinds:\n",
       "1. Significant Growth in Gross Bookings and Revenue: Gross Bookings rose by 56% and revenue by 57%, driven by both Delivery and Mobility segments.\n",
       "2. Expansion of Delivery Business: Delivery Gross Bookings grew by 66%, fueled by increased demand for food delivery and expansion into new markets.\n",
       "3. Recovery in Mobility Segment: Mobility Gross Bookings increased by 36% as pandemic restrictions eased and travel resumed.\n",
       "4. Strategic Acquisitions: Key acquisitions (Transplace, Drizly, Cornershop) expanded Uber’s offerings in freight, alcohol, and grocery delivery.\n",
       "5. Platform Synergies and Membership Programs: Launch of Uber One and growth in membership programs led to higher user engagement.\n",
       "6. Operational and Technological Strengths: Proprietary technology and a large network enabled efficiency and rapid scaling.\n",
       "7. Improved Financial Performance: Net loss decreased by 93% and Adjusted EBITDA improved, reflecting better cost management.\n",
       "\n",
       "Lyft Tailwinds:\n",
       "1. Recovery from the COVID-19 Pandemic: Demand rebounded as vaccines rolled out and communities reopened, with a 36% revenue increase and 49.2% more Active Riders in Q4 2021.\n",
       "2. Increased Revenue per Active Rider: All-time high revenue per rider, driven by more frequent rides and a shift to higher-value rides like airport trips.\n",
       "3. Strategic Investments and Innovation: Continued investment in R&D, acquisitions, and expansion of multimodal offerings (bikes, scooters, rentals).\n",
       "4. Brand Strength and Social Responsibility: Focus on values, environmental goals (100% EVs by 2030), and social responsibility fostered loyalty.\n",
       "5. Financial Strength: Ended 2021 with $2.3 billion in cash and investments, providing strong liquidity.\n",
       "6. Profitability Milestone: Achieved first annual Adjusted EBITDA profitability.\n",
       "\n",
       "Both companies benefited from the recovery in travel demand, strategic investments, and operational improvements, positioning them for continued growth."
      ],
      "text/plain": [
       "<IPython.core.display.Markdown object>"
      ]
     },
     "metadata": {},
     "output_type": "display_data"
    }
   ],
   "source": [
    "display(Markdown(f\"{response}\"))"
   ]
  },
  {
   "cell_type": "code",
   "execution_count": 32,
   "id": "1b3b5915",
   "metadata": {},
   "outputs": [
    {
     "name": "stdout",
     "output_type": "stream",
     "text": [
      "Running step init_run\n",
      "Step init_run produced event AgentInput\n",
      "Running step setup_agent\n",
      "Step setup_agent produced event AgentSetup\n",
      "Running step run_agent_step\n",
      "Step run_agent_step produced event AgentOutput\n",
      "Running step parse_agent_output\n",
      "Step parse_agent_output produced no event\n",
      "Running step call_tool\n",
      "Step call_tool produced event ToolCallResult\n",
      "Running step aggregate_tool_results\n",
      "Step aggregate_tool_results produced event AgentInput\n",
      "Running step setup_agent\n",
      "Step setup_agent produced event AgentSetup\n",
      "Running step run_agent_step\n",
      "Step run_agent_step produced event AgentOutput\n",
      "Running step parse_agent_output\n",
      "Step parse_agent_output produced event StopEvent\n"
     ]
    }
   ],
   "source": [
    "response = await agent.run(user_msg=\"What are the investments made by Uber?\")"
   ]
  },
  {
   "cell_type": "code",
   "execution_count": 33,
   "id": "305abd8d",
   "metadata": {},
   "outputs": [
    {
     "data": {
      "text/markdown": [
       "In 2021, Uber made several significant investments across different categories:\n",
       "\n",
       "1. Acquisitions:\n",
       "   - Transplace: Uber acquired 100% of Transplace, a major logistics and transportation management provider, to expand its Uber Freight business.\n",
       "   - Cornershop: Uber completed the acquisition of the remaining ownership interest in Cornershop, a grocery delivery platform.\n",
       "   - Drizly: Uber acquired Drizly, an on-demand alcohol marketplace, to enhance its Delivery business.\n",
       "\n",
       "2. Equity Investments and Related Transactions:\n",
       "   - Moove: Uber invested in Moove, a vehicle fleet operator in Spain, acquiring a 30% minority interest and providing a term loan, with potential for further investment.\n",
       "   - Aurora: Uber received equity in Aurora Innovation, Inc. after selling its ATG (autonomous driving) business to Aurora. Uber’s holdings became publicly traded after Aurora’s SPAC merger.\n",
       "   - Didi: Uber’s investment in Didi became a marketable equity security after Didi’s IPO.\n",
       "   - Zomato: Uber’s investment in Zomato became a marketable equity security after Zomato’s IPO in India.\n",
       "\n",
       "3. Other Financial Investments:\n",
       "   - Uber invested in marketable securities ($1.1 billion), non-marketable equity securities ($982 million), and notes receivable ($297 million).\n",
       "\n",
       "4. Divestitures and Related Investments:\n",
       "   - Aurora: Uber sold its ATG business to Aurora and received equity as part of the deal.\n",
       "   - Yandex: Uber sold portions of its interests in MLU B.V. and Yandex Self Driving Group B.V., as well as certain delivery businesses, to Yandex.\n",
       "\n",
       "These investments reflect Uber’s strategy to expand its core businesses, invest in technology and mobility companies, and manage a portfolio of financial assets."
      ],
      "text/plain": [
       "<IPython.core.display.Markdown object>"
      ]
     },
     "metadata": {},
     "output_type": "display_data"
    }
   ],
   "source": [
    "display(Markdown(f\"{response}\"))"
   ]
  },
  {
   "cell_type": "code",
   "execution_count": 34,
   "id": "d45fd026",
   "metadata": {},
   "outputs": [
    {
     "name": "stdout",
     "output_type": "stream",
     "text": [
      "Running step init_run\n",
      "Step init_run produced event AgentInput\n",
      "Running step setup_agent\n",
      "Step setup_agent produced event AgentSetup\n",
      "Running step run_agent_step\n",
      "Step run_agent_step produced event AgentOutput\n",
      "Running step parse_agent_output\n",
      "Step parse_agent_output produced no event\n",
      "Running step call_tool\n",
      "Running step call_tool\n",
      "Step call_tool produced event ToolCallResult\n",
      "Running step aggregate_tool_results\n",
      "Step aggregate_tool_results produced no event\n",
      "Step call_tool produced event ToolCallResult\n",
      "Running step aggregate_tool_results\n",
      "Step aggregate_tool_results produced event AgentInput\n",
      "Running step setup_agent\n",
      "Step setup_agent produced event AgentSetup\n",
      "Running step run_agent_step\n",
      "Step run_agent_step produced event AgentOutput\n",
      "Running step parse_agent_output\n",
      "Step parse_agent_output produced event StopEvent\n"
     ]
    }
   ],
   "source": [
    "response = await agent.run(user_msg=\"Compare the investments made by Uber and lyft?\")"
   ]
  },
  {
   "cell_type": "code",
   "execution_count": 35,
   "id": "69a165e2",
   "metadata": {},
   "outputs": [
    {
     "data": {
      "text/markdown": [
       "Here’s a comparison of the investments made by Uber and Lyft in 2021:\n",
       "\n",
       "Uber\n",
       "\n",
       "- Acquisitions:\n",
       "  - Acquired the remaining 45% of Cornershop Cayman (grocery delivery).\n",
       "  - Acquired Drizly (on-demand alcohol marketplace) to expand its Delivery business.\n",
       "  - Acquired Transplace (logistics and freight management) to grow Uber Freight.\n",
       "\n",
       "- Capital Expenditures:\n",
       "  - Spent $298 million on property and equipment.\n",
       "\n",
       "- Strategic Investments:\n",
       "  - Invested $1.1 billion in marketable securities and $982 million in non-marketable equity securities.\n",
       "  - Made $297 million in purchases of notes receivable.\n",
       "  - Sold equity interests in several companies (e.g., MLU B.V., Yandex Self Driving Group, Yandex.Eats, Yandex.Lavka, Yandex.Delivery).\n",
       "  - Recognized gains from investments in companies like Grab, Aurora, and Zomato, but also had losses (notably on Didi).\n",
       "\n",
       "- Focus: Uber’s investments were aimed at expanding its core businesses (mobility, delivery, and freight), enhancing logistics, and making substantial financial investments in both public and private companies.\n",
       "\n",
       "Lyft\n",
       "\n",
       "- Acquisitions and Strategic Initiatives:\n",
       "  - Invested heavily in research and development and completed multiple strategic acquisitions to enhance its platform.\n",
       "  - Focused on expanding its bikeshare programs, committing $100 million in New York (with $87.1 million invested by end of 2021) and significant investments in Chicago’s Divvy program ($23.1 million in payments and $23.5 million in investments by end of 2021).\n",
       "  - Expanded its network of shared bikes and scooters (“Light Vehicles”).\n",
       "  - Invested in third-party self-driving technology through Lyft Autonomous.\n",
       "\n",
       "- Capital Expenditures:\n",
       "  - Made focused capital expenditures to support bikeshare, mobility, and technology initiatives.\n",
       "  - Maintained future purchase commitments totaling $120.3 million as of December 31, 2021.\n",
       "\n",
       "- Environmental and Regulatory Investments:\n",
       "  - Invested in compliance with environmental goals (e.g., 100% electric vehicles by 2030).\n",
       "  - Planned further investments to meet regulatory requirements like the California Clean Miles Standard.\n",
       "\n",
       "- Focus: Lyft’s investments centered on expanding its mobility network (especially bikeshare and scooters), advancing autonomous vehicle technology, and meeting environmental and regulatory commitments.\n",
       "\n",
       "Summary\n",
       "\n",
       "- Uber’s investments were broader, including major acquisitions in delivery and logistics, significant financial investments, and capital expenditures.\n",
       "- Lyft’s investments were more focused on mobility innovation (bikeshare, scooters, autonomous vehicles), environmental goals, and regulatory compliance, with substantial capital directed toward bikeshare infrastructure.\n",
       "\n",
       "If you need more details on any specific investment or area, let me know!"
      ],
      "text/plain": [
       "<IPython.core.display.Markdown object>"
      ]
     },
     "metadata": {},
     "output_type": "display_data"
    }
   ],
   "source": [
    "display(Markdown(f\"{response}\"))"
   ]
  }
 ],
 "metadata": {
  "kernelspec": {
   "display_name": "Python 3 (ipykernel)",
   "language": "python",
   "name": "python3"
  },
  "language_info": {
   "codemirror_mode": {
    "name": "ipython",
    "version": 3
   },
   "file_extension": ".py",
   "mimetype": "text/x-python",
   "name": "python",
   "nbconvert_exporter": "python",
   "pygments_lexer": "ipython3",
   "version": "3.12.8"
  }
 },
 "nbformat": 4,
 "nbformat_minor": 5
}
